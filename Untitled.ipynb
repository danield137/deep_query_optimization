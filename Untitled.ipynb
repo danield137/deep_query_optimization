{
 "cells": [
  {
   "cell_type": "code",
   "execution_count": 16,
   "metadata": {},
   "outputs": [],
   "source": [
    "from dqo.db.postgres import Postgres\n",
    "from dqo.db.tests.fake_client import FakeClient\n",
    "from dqo.query_lab.query_executor import QueryExecutor\n"
   ]
  },
  {
   "cell_type": "code",
   "execution_count": null,
   "metadata": {},
   "outputs": [],
   "source": []
  },
  {
   "cell_type": "code",
   "execution_count": 5,
   "metadata": {},
   "outputs": [
    {
     "name": "stderr",
     "output_type": "stream",
     "text": [
      "2020-02-22 21:54:24,521 | dqo.db.postgres | INFO | set query limit to 300s\n"
     ]
    }
   ],
   "source": [
    "dbc = Postgres(\n",
    "            \"postgresql://dadubovs-postgres2.postgres.database.azure.com:5432/stats\",\n",
    "            user=\"dadubovs@dadubovs-postgres2\",\n",
    "            password=\"Dd150589!\"\n",
    "        )\n",
    "\n",
    "    "
   ]
  },
  {
   "cell_type": "code",
   "execution_count": null,
   "metadata": {},
   "outputs": [],
   "source": [
    "query_executor = FileQueryExecutor(shuffle=True, limit=100000, db_client=dbc, queries_path='./datasets/stats/queries/', existing_path=\"\")\n",
    "query_executor.execute()\n",
    "    "
   ]
  },
  {
   "cell_type": "code",
   "execution_count": 12,
   "metadata": {},
   "outputs": [
    {
     "data": {
      "text/plain": [
       "'/home/dadubovs/projects/deep_query_optimization/dqo'"
      ]
     },
     "execution_count": 12,
     "metadata": {},
     "output_type": "execute_result"
    }
   ],
   "source": [
    "import os\n",
    "os.getcwd()"
   ]
  },
  {
   "cell_type": "code",
   "execution_count": null,
   "metadata": {},
   "outputs": [],
   "source": [
    "%tensorboard --logdir lightning_logs"
   ]
  },
  {
   "cell_type": "code",
   "execution_count": null,
   "metadata": {},
   "outputs": [],
   "source": []
  }
 ],
 "metadata": {
  "kernelspec": {
   "display_name": "dqo",
   "language": "python",
   "name": "dqo"
  },
  "language_info": {
   "codemirror_mode": {
    "name": "ipython",
    "version": 3
   },
   "file_extension": ".py",
   "mimetype": "text/x-python",
   "name": "python",
   "nbconvert_exporter": "python",
   "pygments_lexer": "ipython3",
   "version": "3.7.7"
  }
 },
 "nbformat": 4,
 "nbformat_minor": 4
}
