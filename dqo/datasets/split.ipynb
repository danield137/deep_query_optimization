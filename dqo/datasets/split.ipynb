{
 "cells": [
  {
   "cell_type": "code",
   "execution_count": 1,
   "metadata": {},
   "outputs": [],
   "source": [
    "import sys\n",
    "# TODO: clean this up\n",
    "sys.path.insert(0, \"/Users/danieldubovski/projects/deep_query_optimization/\")\n",
    "# sys.path"
   ]
  },
  {
   "cell_type": "code",
   "execution_count": 2,
   "metadata": {},
   "outputs": [],
   "source": [
    "from dqo.datasets import QueriesDataset\n",
    "import pandas as pd\n",
    "import numpy as np\n",
    "from matplotlib import pyplot as plt\n",
    "from sklearn.model_selection import train_test_split"
   ]
  },
  {
   "cell_type": "code",
   "execution_count": 60,
   "metadata": {},
   "outputs": [],
   "source": [
    "ds = QueriesDataset(\"tpcds:exec_time_aug\")"
   ]
  },
  {
   "cell_type": "code",
   "execution_count": 61,
   "metadata": {},
   "outputs": [],
   "source": [
    "db = ds.schema()"
   ]
  },
  {
   "cell_type": "code",
   "execution_count": 62,
   "metadata": {},
   "outputs": [
    {
     "name": "stderr",
     "output_type": "stream",
     "text": [
      "2021-02-08 11:51:11,771 | dqo.datasets | INFO | Reading data from /Users/danieldubovski/projects/deep_query_optimization/dqo/datasets/tpcds/execution/exec_time_aug/runtimes/part_00.csv [1/1]\n",
      "2021-02-08 11:51:13,215 | dqo.datasets | INFO | Loaded 51316 rows from /Users/danieldubovski/projects/deep_query_optimization/dqo/datasets/tpcds/execution/exec_time_aug/runtimes/part_00.csv [1/1]\n"
     ]
    }
   ],
   "source": [
    "df = ds.load()"
   ]
  },
  {
   "cell_type": "code",
   "execution_count": 63,
   "metadata": {},
   "outputs": [
    {
     "data": {
      "text/plain": [
       "count    51316.000000\n",
       "mean        50.306313\n",
       "std         71.488683\n",
       "min          0.100144\n",
       "25%          3.910634\n",
       "50%         11.888031\n",
       "75%         68.178618\n",
       "max        492.811580\n",
       "Name: runtime, dtype: float64"
      ]
     },
     "execution_count": 63,
     "metadata": {},
     "output_type": "execute_result"
    }
   ],
   "source": [
    "df.runtime.describe()"
   ]
  },
  {
   "cell_type": "markdown",
   "metadata": {},
   "source": [
    "----"
   ]
  },
  {
   "cell_type": "code",
   "execution_count": 64,
   "metadata": {},
   "outputs": [
    {
     "data": {
      "text/plain": [
       "(51316, 51316)"
      ]
     },
     "execution_count": 64,
     "metadata": {},
     "output_type": "execute_result"
    }
   ],
   "source": [
    "df = df.query('runtime > 0.01 and runtime < 500').copy()\n",
    "len(ds.df), len(df)"
   ]
  },
  {
   "cell_type": "markdown",
   "metadata": {},
   "source": [
    "# SAVE"
   ]
  },
  {
   "cell_type": "code",
   "execution_count": 65,
   "metadata": {},
   "outputs": [],
   "source": [
    "ds.df = df\n",
    "ds.save(split=True)"
   ]
  },
  {
   "cell_type": "markdown",
   "metadata": {},
   "source": [
    "# Eval Splits"
   ]
  },
  {
   "cell_type": "code",
   "execution_count": null,
   "metadata": {},
   "outputs": [],
   "source": [
    "for n in ['tpch','tpch_alt','tpch_alt_val', 'tpcd', 'tpcds', 'imdb']:\n",
    "    print(n)\n",
    "    ds = QueriesDataset(f\"{n}:extended\")\n",
    "    train_df, test_df = ds.load_splits()\n",
    "    \n",
    "    print(len(train_df), len(test_df))\n",
    "    train_df['bucket'] = train_df.runtime.apply(np.log2).apply(np.round).apply(int)\n",
    "    test_df['bucket'] = test_df.runtime.apply(np.log2).apply(np.round).apply(int)\n",
    "    print(train_df.groupby('bucket').count(), test_df.groupby('bucket').count())\n",
    "    \n",
    "    "
   ]
  },
  {
   "cell_type": "code",
   "execution_count": null,
   "metadata": {},
   "outputs": [],
   "source": []
  }
 ],
 "metadata": {
  "kernelspec": {
   "display_name": "py37",
   "language": "python",
   "name": "py37"
  },
  "language_info": {
   "codemirror_mode": {
    "name": "ipython",
    "version": 3
   },
   "file_extension": ".py",
   "mimetype": "text/x-python",
   "name": "python",
   "nbconvert_exporter": "python",
   "pygments_lexer": "ipython3",
   "version": "3.7.7"
  }
 },
 "nbformat": 4,
 "nbformat_minor": 4
}
