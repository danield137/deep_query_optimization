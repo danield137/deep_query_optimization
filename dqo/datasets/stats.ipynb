{
 "cells": [
  {
   "cell_type": "code",
   "execution_count": 1,
   "metadata": {},
   "outputs": [],
   "source": [
    "import sys\n",
    "# TODO: clean this up\n",
    "sys.path.insert(0, \"/Users/danieldubovski/projects/deep_query_optimization/\")"
   ]
  },
  {
   "cell_type": "code",
   "execution_count": 2,
   "metadata": {},
   "outputs": [],
   "source": [
    "from dqo.datasets import QueriesDataset\n",
    "import pandas as pd\n",
    "import numpy as np\n",
    "from matplotlib import pyplot as plt\n",
    "from tqdm.auto import tqdm\n",
    "from dqo.relational import SQLParser\n",
    "import scipy.stats\n",
    "from collections import Counter"
   ]
  },
  {
   "cell_type": "code",
   "execution_count": 3,
   "metadata": {},
   "outputs": [],
   "source": [
    "ds_imdb = QueriesDataset(\"imdb:optimized\")\n",
    "ds_tpch = QueriesDataset(\"tpch:optimized\")\n",
    "ds_tpcds = QueriesDataset(\"tpcds:optimized\")\n",
    "ds_tpcd = QueriesDataset(\"tpcd:optimized\")"
   ]
  },
  {
   "cell_type": "code",
   "execution_count": 4,
   "metadata": {},
   "outputs": [
    {
     "name": "stderr",
     "output_type": "stream",
     "text": [
      "2021-01-25 13:09:18,510 | dqo.datasets | INFO | Reading data from /Users/danieldubovski/projects/deep_query_optimization/dqo/datasets/imdb/execution/optimized/runtimes/data_part_00.csv [1/1]\n",
      "2021-01-25 13:09:19,359 | dqo.datasets | INFO | Loaded 27512 rows from /Users/danieldubovski/projects/deep_query_optimization/dqo/datasets/imdb/execution/optimized/runtimes/data_part_00.csv [1/1]\n",
      "2021-01-25 13:09:19,362 | dqo.datasets | INFO | Reading data from /Users/danieldubovski/projects/deep_query_optimization/dqo/datasets/tpch/execution/optimized/runtimes/data_part_00.csv [1/1]\n",
      "2021-01-25 13:09:19,793 | dqo.datasets | INFO | Loaded 22729 rows from /Users/danieldubovski/projects/deep_query_optimization/dqo/datasets/tpch/execution/optimized/runtimes/data_part_00.csv [1/1]\n",
      "2021-01-25 13:09:19,795 | dqo.datasets | INFO | Reading data from /Users/danieldubovski/projects/deep_query_optimization/dqo/datasets/tpcds/execution/optimized/runtimes/data_part_00.csv [1/1]\n",
      "2021-01-25 13:09:20,309 | dqo.datasets | INFO | Loaded 14676 rows from /Users/danieldubovski/projects/deep_query_optimization/dqo/datasets/tpcds/execution/optimized/runtimes/data_part_00.csv [1/1]\n",
      "2021-01-25 13:09:20,311 | dqo.datasets | INFO | Reading data from /Users/danieldubovski/projects/deep_query_optimization/dqo/datasets/tpcd/execution/optimized/runtimes/data_part_00.csv [1/1]\n",
      "2021-01-25 13:09:20,946 | dqo.datasets | INFO | Loaded 23635 rows from /Users/danieldubovski/projects/deep_query_optimization/dqo/datasets/tpcd/execution/optimized/runtimes/data_part_00.csv [1/1]\n"
     ]
    }
   ],
   "source": [
    "df_imdb = ds_imdb.load()\n",
    "df_tpch = ds_tpch.load()\n",
    "df_tpcds = ds_tpcds.load()\n",
    "df_tpcd = ds_tpcd.load()"
   ]
  },
  {
   "cell_type": "code",
   "execution_count": 5,
   "metadata": {},
   "outputs": [
    {
     "data": {
      "text/plain": [
       "(count    27512.000000\n",
       " mean         3.110239\n",
       " std         14.658474\n",
       " min          0.100008\n",
       " 25%          0.620929\n",
       " 50%          1.083305\n",
       " 75%          1.848192\n",
       " max        328.635661\n",
       " Name: runtime, dtype: float64,\n",
       "             runtime\n",
       " count  22729.000000\n",
       " mean       8.111727\n",
       " std       24.242878\n",
       " min        0.100030\n",
       " 25%        0.405670\n",
       " 50%        0.612942\n",
       " 75%        2.452900\n",
       " max      427.112079,\n",
       "             runtime\n",
       " count  14676.000000\n",
       " mean      16.747197\n",
       " std       37.118778\n",
       " min        0.100144\n",
       " 25%        2.802534\n",
       " 50%        5.948664\n",
       " 75%       13.322825\n",
       " max      492.811580,\n",
       "             runtime\n",
       " count  23635.000000\n",
       " mean       8.435864\n",
       " std       28.895102\n",
       " min        0.100063\n",
       " 25%        0.311521\n",
       " 50%        0.507593\n",
       " 75%        2.761433\n",
       " max      489.971649)"
      ]
     },
     "execution_count": 5,
     "metadata": {},
     "output_type": "execute_result"
    }
   ],
   "source": [
    "df_imdb.runtime.describe(), df_tpch.describe(), df_tpcds.describe(), df_tpcd.describe()"
   ]
  },
  {
   "cell_type": "code",
   "execution_count": 6,
   "metadata": {},
   "outputs": [
    {
     "data": {
      "image/png": "[encoded data removed]",
      "text/plain": [
       "<Figure size 432x288 with 4 Axes>"
      ]
     },
     "metadata": {
      "needs_background": "light"
     },
     "output_type": "display_data"
    }
   ],
   "source": [
    "df_imdb['bucket'] = df_imdb.runtime.apply(np.log2).apply(np.round).apply(int)\n",
    "df_tpch['bucket'] = df_tpch.runtime.apply(np.log2).apply(np.round).apply(int)\n",
    "df_tpcd['bucket'] = df_tpcd.runtime.apply(np.log2).apply(np.round).apply(int)\n",
    "df_tpcds['bucket'] = df_tpcds.runtime.apply(np.log2).apply(np.round).apply(int)\n",
    "\n",
    "\n",
    "fig, ax = plt.subplots(2,2)\n",
    "\n",
    "ax[0][0].title.set_text('imdb')\n",
    "ax[0][0].hist(df_imdb['bucket'])\n",
    "\n",
    "ax[0][1].title.set_text('tpch')\n",
    "ax[0][1].hist(df_tpch['bucket'])\n",
    "\n",
    "ax[1][0].title.set_text('tpcd')\n",
    "ax[1][0].hist(df_tpcd['bucket'])\n",
    "\n",
    "ax[1][1].title.set_text('tpcds')\n",
    "ax[1][1].hist(df_tpcds['bucket'])\n",
    "fig.tight_layout()\n"
   ]
  },
  {
   "cell_type": "markdown",
   "metadata": {},
   "source": [
    "## Tree Data"
   ]
  },
  {
   "cell_type": "code",
   "execution_count": 7,
   "metadata": {},
   "outputs": [],
   "source": [
    "def tree_density(n, h):\n",
    "    return (n - h)/(2 ** (h + 1) - h - 1)\n",
    "\n",
    "def calc_query_stat(_df):\n",
    "    query_stats_df = pd.DataFrame()\n",
    "    for index, row in tqdm(_df.iterrows(), total=_df.shape[0]):\n",
    "        query = row['query'].strip()\n",
    "\n",
    "        try:\n",
    "            rel_tree = SQLParser.to_relational_tree(query)\n",
    "\n",
    "            copied = row.copy()\n",
    "            copied['tree'] = rel_tree\n",
    "            copied['nodes'] = len(rel_tree)\n",
    "            copied['relations'] = len(rel_tree.relations)\n",
    "            copied['projections'] = len(rel_tree.get_projections())\n",
    "            copied['selections'] = len(rel_tree.get_selections(include_joins=False))\n",
    "            copied['joins'] = len(rel_tree.get_joins())\n",
    "            copied['depth'] = rel_tree.depth()\n",
    "            copied['density'] = tree_density(copied['nodes'], copied['depth'])\n",
    "            query_stats_df = query_stats_df.append(copied)\n",
    "        except Exception as e:\n",
    "            print(e)\n",
    "            break\n",
    "        \n",
    "    return query_stats_df"
   ]
  },
  {
   "cell_type": "code",
   "execution_count": 8,
   "metadata": {},
   "outputs": [
    {
     "data": {
      "application/vnd.jupyter.widget-view+json": {
       "model_id": "d3901c89e1484129bb8e94e8d18e3d6a",
       "version_major": 2,
       "version_minor": 0
      },
      "text/plain": [
       "HBox(children=(HTML(value=''), FloatProgress(value=0.0, max=27512.0), HTML(value='')))"
      ]
     },
     "metadata": {},
     "output_type": "display_data"
    },
    {
     "name": "stdout",
     "output_type": "stream",
     "text": [
      "\n"
     ]
    }
   ],
   "source": [
    "imdb_query_stats = calc_query_stat(df_imdb)"
   ]
  },
  {
   "cell_type": "code",
   "execution_count": 9,
   "metadata": {},
   "outputs": [
    {
     "data": {
      "application/vnd.jupyter.widget-view+json": {
       "model_id": "9168ae5f6cd44c66bba7f80a790c5743",
       "version_major": 2,
       "version_minor": 0
      },
      "text/plain": [
       "HBox(children=(HTML(value=''), FloatProgress(value=0.0, max=22729.0), HTML(value='')))"
      ]
     },
     "metadata": {},
     "output_type": "display_data"
    },
    {
     "name": "stdout",
     "output_type": "stream",
     "text": [
      "\n"
     ]
    }
   ],
   "source": [
    "tpch_query_stats = calc_query_stat(df_tpch)"
   ]
  },
  {
   "cell_type": "code",
   "execution_count": 10,
   "metadata": {},
   "outputs": [
    {
     "data": {
      "application/vnd.jupyter.widget-view+json": {
       "model_id": "e5db83d4d2c84e1786e650d66bca19ec",
       "version_major": 2,
       "version_minor": 0
      },
      "text/plain": [
       "HBox(children=(HTML(value=''), FloatProgress(value=0.0, max=14676.0), HTML(value='')))"
      ]
     },
     "metadata": {},
     "output_type": "display_data"
    },
    {
     "name": "stdout",
     "output_type": "stream",
     "text": [
      "\n"
     ]
    }
   ],
   "source": [
    "tpcds_query_stats = calc_query_stat(df_tpcds)"
   ]
  },
  {
   "cell_type": "code",
   "execution_count": 11,
   "metadata": {},
   "outputs": [
    {
     "data": {
      "application/vnd.jupyter.widget-view+json": {
       "model_id": "6175459852ca4adcaf94890b5881bbc0",
       "version_major": 2,
       "version_minor": 0
      },
      "text/plain": [
       "HBox(children=(HTML(value=''), FloatProgress(value=0.0, max=23635.0), HTML(value='')))"
      ]
     },
     "metadata": {},
     "output_type": "display_data"
    },
    {
     "name": "stdout",
     "output_type": "stream",
     "text": [
      "\n"
     ]
    }
   ],
   "source": [
    "tpcd_query_stats = calc_query_stat(df_tpcd)"
   ]
  },
  {
   "cell_type": "markdown",
   "metadata": {},
   "source": [
    "# Relationalimdb_schema = ds_imdb.schema()"
   ]
  },
  {
   "cell_type": "code",
   "execution_count": null,
   "metadata": {},
   "outputs": [],
   "source": [
    "imdb_schema = ds_imdb.schema()"
   ]
  },
  {
   "cell_type": "code",
   "execution_count": 51,
   "metadata": {},
   "outputs": [
    {
     "data": {
      "application/vnd.jupyter.widget-view+json": {
       "model_id": "f9e426d109314c21a469e6a873459bb7",
       "version_major": 2,
       "version_minor": 0
      },
      "text/plain": [
       "HBox(children=(HTML(value=''), FloatProgress(value=0.0, max=27512.0), HTML(value='')))"
      ]
     },
     "metadata": {},
     "output_type": "display_data"
    },
    {
     "name": "stdout",
     "output_type": "stream",
     "text": [
      "\n"
     ]
    }
   ],
   "source": [
    "for i,r in tqdm(imdb_query_stats.iterrows(), total=len(imdb_query_stats)):\n",
    "    numbers = False\n",
    "    strings = False\n",
    "    for n in r['tree'].nodes():\n",
    "        t = str(type(n).__name__)\n",
    "        if t in ['JoinNode','SelectionNode']:\n",
    "            for operand in n.operands:\n",
    "                if type(operand).__name__ == 'RelationColumn':\n",
    "                    col = imdb_schema[operand.relation.name][operand.column]\n",
    "                    if col.data_type.value in ['number','float']:\n",
    "                        numbers = True\n",
    "                    elif col.data_type.value == 'string':\n",
    "                        strings = True\n",
    "    imdb_query_stats.loc[i, 'only_strings'] = strings and not numbers\n",
    "    imdb_query_stats.loc[i, 'only_numbers'] = numbers and not strings\n",
    "    imdb_query_stats.loc[i, 'mixed'] = numbers and strings"
   ]
  },
  {
   "cell_type": "code",
   "execution_count": 56,
   "metadata": {},
   "outputs": [],
   "source": [
    "only_strings = imdb_query_stats.query('only_strings == True')\n",
    "only_numbers = imdb_query_stats.query('only_numbers == True')"
   ]
  },
  {
   "cell_type": "code",
   "execution_count": 59,
   "metadata": {},
   "outputs": [
    {
     "data": {
      "text/plain": [
       "<AxesSubplot:>"
      ]
     },
     "execution_count": 59,
     "metadata": {},
     "output_type": "execute_result"
    },
    {
     "data": {
      "image/png": "[encoded data removed]",
      "text/plain": [
       "<Figure size 432x288 with 1 Axes>"
      ]
     },
     "metadata": {
      "needs_background": "light"
     },
     "output_type": "display_data"
    }
   ],
   "source": [
    "only_strings.runtime.apply(np.log2).apply(np.round).apply(int).hist()"
   ]
  },
  {
   "cell_type": "code",
   "execution_count": 61,
   "metadata": {},
   "outputs": [],
   "source": [
    "ds = QueriesDataset('imdb:only_strings')\n",
    "ds.df = only_strings\n",
    "ds.save(schema=imdb_schema)"
   ]
  },
  {
   "cell_type": "code",
   "execution_count": 60,
   "metadata": {},
   "outputs": [
    {
     "data": {
      "text/plain": [
       "<AxesSubplot:>"
      ]
     },
     "execution_count": 60,
     "metadata": {},
     "output_type": "execute_result"
    },
    {
     "data": {
      "image/png": "[encoded data removed]",
      "text/plain": [
       "<Figure size 432x288 with 1 Axes>"
      ]
     },
     "metadata": {
      "needs_background": "light"
     },
     "output_type": "display_data"
    }
   ],
   "source": [
    "only_numbers.runtime.apply(np.log2).apply(np.round).apply(int).hist()"
   ]
  },
  {
   "cell_type": "code",
   "execution_count": 62,
   "metadata": {},
   "outputs": [],
   "source": [
    "ds = QueriesDataset('imdb:only_numbers')\n",
    "ds.df = only_numbers\n",
    "ds.save(schema=imdb_schema)"
   ]
  },
  {
   "cell_type": "markdown",
   "metadata": {},
   "source": [
    "# TPCD"
   ]
  },
  {
   "cell_type": "code",
   "execution_count": 65,
   "metadata": {},
   "outputs": [],
   "source": [
    "tpcd_schema = ds_tpcd.schema()"
   ]
  },
  {
   "cell_type": "code",
   "execution_count": 66,
   "metadata": {},
   "outputs": [
    {
     "data": {
      "application/vnd.jupyter.widget-view+json": {
       "model_id": "e151bd16d1604616a57349cef85183e5",
       "version_major": 2,
       "version_minor": 0
      },
      "text/plain": [
       "HBox(children=(HTML(value=''), FloatProgress(value=0.0, max=23635.0), HTML(value='')))"
      ]
     },
     "metadata": {},
     "output_type": "display_data"
    },
    {
     "name": "stdout",
     "output_type": "stream",
     "text": [
      "\n"
     ]
    }
   ],
   "source": [
    "for i,r in tqdm(tpcd_query_stats.iterrows(), total=len(tpcd_query_stats)):\n",
    "    numbers = False\n",
    "    strings = False\n",
    "    for n in r['tree'].nodes():\n",
    "        t = str(type(n).__name__)\n",
    "        if t in ['JoinNode','SelectionNode']:\n",
    "            for operand in n.operands:\n",
    "                if type(operand).__name__ == 'RelationColumn':\n",
    "                    col = tpcd_schema[operand.relation.name][operand.column]\n",
    "                    if col.data_type.value in ['number','float']:\n",
    "                        numbers = True\n",
    "                    elif col.data_type.value == 'string':\n",
    "                        strings = True\n",
    "    tpcd_query_stats.loc[i, 'only_strings'] = strings and not numbers\n",
    "    tpcd_query_stats.loc[i, 'only_numbers'] = numbers and not strings\n",
    "    tpcd_query_stats.loc[i, 'mixed'] = numbers and strings"
   ]
  },
  {
   "cell_type": "code",
   "execution_count": 67,
   "metadata": {},
   "outputs": [],
   "source": [
    "tpcd_only_strings = tpcd_query_stats.query('only_strings == True')\n",
    "tpcd_only_numbers = tpcd_query_stats.query('only_numbers == True')"
   ]
  },
  {
   "cell_type": "code",
   "execution_count": 68,
   "metadata": {},
   "outputs": [
    {
     "data": {
      "text/plain": [
       "<AxesSubplot:>"
      ]
     },
     "execution_count": 68,
     "metadata": {},
     "output_type": "execute_result"
    },
    {
     "data": {
      "image/png": "[encoded data removed]",
      "text/plain": [
       "<Figure size 432x288 with 1 Axes>"
      ]
     },
     "metadata": {
      "needs_background": "light"
     },
     "output_type": "display_data"
    }
   ],
   "source": [
    "tpcd_only_strings.runtime.apply(np.log2).apply(np.round).apply(int).hist()"
   ]
  },
  {
   "cell_type": "code",
   "execution_count": 69,
   "metadata": {},
   "outputs": [
    {
     "data": {
      "text/plain": [
       "<AxesSubplot:>"
      ]
     },
     "execution_count": 69,
     "metadata": {},
     "output_type": "execute_result"
    },
    {
     "data": {
      "image/png": "[encoded data removed]",
      "text/plain": [
       "<Figure size 432x288 with 1 Axes>"
      ]
     },
     "metadata": {
      "needs_background": "light"
     },
     "output_type": "display_data"
    }
   ],
   "source": [
    "tpcd_only_numbers.runtime.apply(np.log2).apply(np.round).apply(int).hist()"
   ]
  },
  {
   "cell_type": "code",
   "execution_count": 70,
   "metadata": {},
   "outputs": [],
   "source": [
    "ds = QueriesDataset('tpcd:only_strings')\n",
    "ds.df = tpcd_only_strings\n",
    "ds.save(schema=tpcd_schema)\n",
    "ds = QueriesDataset('tpcd:only_numbers')\n",
    "ds.df = tpcd_only_numbers\n",
    "ds.save(schema=tpcd_schema)"
   ]
  },
  {
   "cell_type": "markdown",
   "metadata": {},
   "source": [
    "# DEPTH & NODES"
   ]
  },
  {
   "cell_type": "code",
   "execution_count": 17,
   "metadata": {},
   "outputs": [
    {
     "data": {
      "text/plain": [
       "(count    27512.000000\n",
       " mean        50.469613\n",
       " std         32.094459\n",
       " min          1.000000\n",
       " 25%         20.000000\n",
       " 50%         47.000000\n",
       " 75%         78.000000\n",
       " max        117.000000\n",
       " Name: depth, dtype: float64,\n",
       " count    22729.000000\n",
       " mean        38.931893\n",
       " std         32.005278\n",
       " min          1.000000\n",
       " 25%         12.000000\n",
       " 50%         28.000000\n",
       " 75%         60.000000\n",
       " max        116.000000\n",
       " Name: depth, dtype: float64,\n",
       " count    14676.000000\n",
       " mean        39.059349\n",
       " std         26.090765\n",
       " min          1.000000\n",
       " 25%         18.000000\n",
       " 50%         31.000000\n",
       " 75%         56.000000\n",
       " max        124.000000\n",
       " Name: depth, dtype: float64,\n",
       " count    23635.000000\n",
       " mean        40.912968\n",
       " std         31.007642\n",
       " min          1.000000\n",
       " 25%         14.000000\n",
       " 50%         34.000000\n",
       " 75%         60.000000\n",
       " max        116.000000\n",
       " Name: depth, dtype: float64)"
      ]
     },
     "execution_count": 17,
     "metadata": {},
     "output_type": "execute_result"
    }
   ],
   "source": [
    "imdb_query_stats.depth.describe(), tpch_query_stats.depth.describe(), tpcds_query_stats.depth.describe(), tpcd_query_stats.depth.describe()"
   ]
  },
  {
   "cell_type": "code",
   "execution_count": 36,
   "metadata": {},
   "outputs": [
    {
     "data": {
      "text/plain": [
       "5075"
      ]
     },
     "execution_count": 36,
     "metadata": {},
     "output_type": "execute_result"
    }
   ],
   "source": [
    "len(tpcd_query_stats.query('nodes < 125'))"
   ]
  },
  {
   "cell_type": "code",
   "execution_count": 37,
   "metadata": {},
   "outputs": [],
   "source": [
    "# import os\n",
    "# ds_tpcd.df.to_csv(os.path.join(ds_tpcd.input_path, 'part_00.csv'), header=False, index=False, columns=['query', 'runtime'])"
   ]
  },
  {
   "cell_type": "code",
   "execution_count": 38,
   "metadata": {},
   "outputs": [
    {
     "data": {
      "text/plain": [
       "array([[<AxesSubplot:title={'center':'bucket'}>,\n",
       "        <AxesSubplot:title={'center':'density'}>,\n",
       "        <AxesSubplot:title={'center':'depth'}>],\n",
       "       [<AxesSubplot:title={'center':'joins'}>,\n",
       "        <AxesSubplot:title={'center':'nodes'}>,\n",
       "        <AxesSubplot:title={'center':'projections'}>],\n",
       "       [<AxesSubplot:title={'center':'relations'}>,\n",
       "        <AxesSubplot:title={'center':'runtime'}>,\n",
       "        <AxesSubplot:title={'center':'selections'}>]], dtype=object)"
      ]
     },
     "execution_count": 38,
     "metadata": {},
     "output_type": "execute_result"
    },
    {
     "data": {
      "image/png": "[encoded data removed]",
      "text/plain": [
       "<Figure size 432x288 with 9 Axes>"
      ]
     },
     "metadata": {
      "needs_background": "light"
     },
     "output_type": "display_data"
    }
   ],
   "source": [
    "imdb_query_stats.hist()"
   ]
  },
  {
   "cell_type": "code",
   "execution_count": 39,
   "metadata": {},
   "outputs": [
    {
     "data": {
      "text/plain": [
       "array([[<AxesSubplot:title={'center':'bucket'}>,\n",
       "        <AxesSubplot:title={'center':'density'}>,\n",
       "        <AxesSubplot:title={'center':'depth'}>],\n",
       "       [<AxesSubplot:title={'center':'joins'}>,\n",
       "        <AxesSubplot:title={'center':'nodes'}>,\n",
       "        <AxesSubplot:title={'center':'projections'}>],\n",
       "       [<AxesSubplot:title={'center':'relations'}>,\n",
       "        <AxesSubplot:title={'center':'runtime'}>,\n",
       "        <AxesSubplot:title={'center':'selections'}>]], dtype=object)"
      ]
     },
     "execution_count": 39,
     "metadata": {},
     "output_type": "execute_result"
    },
    {
     "data": {
      "image/png": "[encoded data removed]",
      "text/plain": [
       "<Figure size 432x288 with 9 Axes>"
      ]
     },
     "metadata": {
      "needs_background": "light"
     },
     "output_type": "display_data"
    }
   ],
   "source": [
    "tpch_query_stats.hist()"
   ]
  },
  {
   "cell_type": "code",
   "execution_count": 40,
   "metadata": {},
   "outputs": [
    {
     "data": {
      "text/plain": [
       "array([[<AxesSubplot:title={'center':'bucket'}>,\n",
       "        <AxesSubplot:title={'center':'density'}>,\n",
       "        <AxesSubplot:title={'center':'depth'}>],\n",
       "       [<AxesSubplot:title={'center':'joins'}>,\n",
       "        <AxesSubplot:title={'center':'nodes'}>,\n",
       "        <AxesSubplot:title={'center':'projections'}>],\n",
       "       [<AxesSubplot:title={'center':'relations'}>,\n",
       "        <AxesSubplot:title={'center':'runtime'}>,\n",
       "        <AxesSubplot:title={'center':'selections'}>]], dtype=object)"
      ]
     },
     "execution_count": 40,
     "metadata": {},
     "output_type": "execute_result"
    },
    {
     "data": {
      "image/png": "[encoded data removed]",
      "text/plain": [
       "<Figure size 432x288 with 9 Axes>"
      ]
     },
     "metadata": {
      "needs_background": "light"
     },
     "output_type": "display_data"
    }
   ],
   "source": [
    "tpcds_query_stats.hist()"
   ]
  },
  {
   "cell_type": "code",
   "execution_count": 41,
   "metadata": {},
   "outputs": [
    {
     "data": {
      "text/plain": [
       "array([[<AxesSubplot:title={'center':'bucket'}>,\n",
       "        <AxesSubplot:title={'center':'density'}>,\n",
       "        <AxesSubplot:title={'center':'depth'}>],\n",
       "       [<AxesSubplot:title={'center':'joins'}>,\n",
       "        <AxesSubplot:title={'center':'nodes'}>,\n",
       "        <AxesSubplot:title={'center':'projections'}>],\n",
       "       [<AxesSubplot:title={'center':'relations'}>,\n",
       "        <AxesSubplot:title={'center':'runtime'}>,\n",
       "        <AxesSubplot:title={'center':'selections'}>]], dtype=object)"
      ]
     },
     "execution_count": 41,
     "metadata": {},
     "output_type": "execute_result"
    },
    {
     "data": {
      "image/png": "[encoded data removed]",
      "text/plain": [
       "<Figure size 432x288 with 9 Axes>"
      ]
     },
     "metadata": {
      "needs_background": "light"
     },
     "output_type": "display_data"
    }
   ],
   "source": [
    "tpcd_query_stats.hist()"
   ]
  },
  {
   "cell_type": "markdown",
   "metadata": {},
   "source": [
    "## Density"
   ]
  },
  {
   "cell_type": "code",
   "execution_count": 43,
   "metadata": {},
   "outputs": [
    {
     "data": {
      "text/plain": [
       "<AxesSubplot:title={'center':'tpcd'}>"
      ]
     },
     "execution_count": 43,
     "metadata": {},
     "output_type": "execute_result"
    },
    {
     "data": {
      "image/png": "[encoded data removed]",
      "text/plain": [
       "<Figure size 432x288 with 4 Axes>"
      ]
     },
     "metadata": {
      "needs_background": "light"
     },
     "output_type": "display_data"
    }
   ],
   "source": [
    "fig, axes = plt.subplots(1, 4)\n",
    "bins = [-250,-200,-150,-100, -50, 0]\n",
    "\n",
    "fig.suptitle(\"density\")\n",
    "axes[0].title.set_text('imdb')\n",
    "axes[1].title.set_text('tpch')\n",
    "axes[2].title.set_text('tpcds')\n",
    "axes[3].title.set_text('tpcd')\n",
    "\n",
    "\n",
    "imdb_query_stats.density.apply(np.log2).hist(bins=bins,ax=axes[0])\n",
    "tpch_query_stats.density.apply(np.log2).hist(bins=bins, ax=axes[1])\n",
    "tpcds_query_stats.density.apply(np.log2).hist(bins=bins, ax=axes[2])\n",
    "tpcd_query_stats.density.apply(np.log2).hist(bins=bins, ax=axes[3])"
   ]
  },
  {
   "cell_type": "markdown",
   "metadata": {},
   "source": [
    "## Depth"
   ]
  },
  {
   "cell_type": "code",
   "execution_count": 44,
   "metadata": {},
   "outputs": [
    {
     "data": {
      "text/plain": [
       "<AxesSubplot:title={'center':'tpcd'}>"
      ]
     },
     "execution_count": 44,
     "metadata": {},
     "output_type": "execute_result"
    },
    {
     "data": {
      "image/png": "[encoded data removed]",
      "text/plain": [
       "<Figure size 432x288 with 4 Axes>"
      ]
     },
     "metadata": {
      "needs_background": "light"
     },
     "output_type": "display_data"
    }
   ],
   "source": [
    "fig, axes = plt.subplots(1, 4)\n",
    "bins = [0, 50, 100, 150, 200]\n",
    "\n",
    "fig.suptitle(\"depth\")\n",
    "axes[0].title.set_text('imdb')\n",
    "axes[1].title.set_text('tpch')\n",
    "axes[2].title.set_text('tpcds')\n",
    "axes[3].title.set_text('tpcd')\n",
    "\n",
    "imdb_query_stats.depth.hist(bins=bins,ax=axes[0])\n",
    "tpch_query_stats.depth.hist(bins=bins, ax=axes[1])\n",
    "tpcds_query_stats.depth.hist(bins=bins, ax=axes[2])\n",
    "tpcd_query_stats.depth.hist(bins=bins, ax=axes[3])"
   ]
  },
  {
   "cell_type": "markdown",
   "metadata": {},
   "source": [
    "## Nodes\n"
   ]
  },
  {
   "cell_type": "code",
   "execution_count": 46,
   "metadata": {},
   "outputs": [
    {
     "data": {
      "text/plain": [
       "<AxesSubplot:title={'center':'tpcd'}>"
      ]
     },
     "execution_count": 46,
     "metadata": {},
     "output_type": "execute_result"
    },
    {
     "data": {
      "image/png": "[encoded data removed]",
      "text/plain": [
       "<Figure size 432x288 with 4 Axes>"
      ]
     },
     "metadata": {
      "needs_background": "light"
     },
     "output_type": "display_data"
    }
   ],
   "source": [
    "fig, axes = plt.subplots(1, 4)\n",
    "bins = [0, 20, 40, 60, 80, 100, 120]\n",
    "\n",
    "fig.suptitle(\"nodes\")\n",
    "axes[0].title.set_text('imdb')\n",
    "axes[1].title.set_text('tpch')\n",
    "axes[2].title.set_text('tpcds')\n",
    "axes[3].title.set_text('tpcd')\n",
    "\n",
    "imdb_query_stats.nodes.hist(bins=bins,ax=axes[0])\n",
    "tpch_query_stats.nodes.hist(bins=bins, ax=axes[1])\n",
    "tpcds_query_stats.nodes.hist(bins=bins, ax=axes[2])\n",
    "tpcd_query_stats.nodes.hist(bins=bins, ax=axes[3])"
   ]
  },
  {
   "cell_type": "markdown",
   "metadata": {},
   "source": [
    "---"
   ]
  },
  {
   "cell_type": "markdown",
   "metadata": {},
   "source": [
    "# Dataset Stats"
   ]
  },
  {
   "cell_type": "code",
   "execution_count": 71,
   "metadata": {},
   "outputs": [],
   "source": [
    "imdb_schema = ds_imdb.schema()\n",
    "tpch_schema = ds_tpch.schema()\n",
    "tpcds_schema = ds_tpcds.schema()\n",
    "tpcd_schema = ds_tpcs.schema()"
   ]
  },
  {
   "cell_type": "code",
   "execution_count": 138,
   "metadata": {},
   "outputs": [
    {
     "name": "stdout",
     "output_type": "stream",
     "text": [
      "imdb: \n",
      "\n",
      "{'cols_per_table': (array([8, 6, 3, 2, 2]),\n",
      "                    array([ 2.,  4.,  6.,  8., 10., 12.])),\n",
      " 'columns': 108,\n",
      " 'distincts': DescribeResult(nobs=108, minmax=(0.0, 1.0), mean=0.4143007662470856, variance=0.2074871588778503, skewness=0.3766570715988044, kurtosis=-1.7483771943052444),\n",
      " 'dtypes': [('DataType.NUMBER', '54.63%', 59),\n",
      "            ('DataType.STRING', '45.37%', 49)],\n",
      " 'nulls': DescribeResult(nobs=108, minmax=(0.0, 1.0), mean=0.19641912711343756, variance=0.12737557397561525, skewness=1.5327831580385185, kurtosis=0.6401177469580346),\n",
      " 'rows': (array([5, 1, 1, 6, 8]),\n",
      "          array([0.60205999, 1.99349604, 3.38493209, 4.77636814, 6.16780419,\n",
      "       7.55924024])),\n",
      " 'table_size': (array([6, 0, 1, 6, 8]),\n",
      "                array([0.90308999, 2.40333965, 3.90358931, 5.40383897, 6.90408862,\n",
      "       8.40433828])),\n",
      " 'tables': 21}\n",
      "\n",
      "tpch: \n",
      "\n",
      "{'cols_per_table': (array([3, 2, 2, 0, 1]),\n",
      "                    array([ 3. ,  5.6,  8.2, 10.8, 13.4, 16. ])),\n",
      " 'columns': 61,\n",
      " 'distincts': DescribeResult(nobs=61, minmax=(4.5211441478649234e-07, 1.0), mean=0.42496627631600975, variance=0.22097731565310086, skewness=0.35011577808030864, kurtosis=-1.8034580748060471),\n",
      " 'dtypes': [('DataType.NUMBER', '32.79%', 20),\n",
      "            ('DataType.STRING', '47.54%', 29),\n",
      "            ('DataType.FLOAT', '13.11%', 8),\n",
      "            ('DataType.TIME', '6.56%', 4)],\n",
      " 'nulls': DescribeResult(nobs=61, minmax=(0.0, 0.0), mean=0.0, variance=0.0, skewness=0.0, kurtosis=-3.0),\n",
      " 'rows': (array([2, 0, 1, 2, 3]),\n",
      "          array([0.69897   , 1.88833233, 3.07769466, 4.26705699, 5.45641931,\n",
      "       6.64578164])),\n",
      " 'table_size': (array([2, 0, 1, 2, 3]),\n",
      "                array([1.17609126, 2.51085333, 3.84561541, 5.18037748, 6.51513955,\n",
      "       7.84990162])),\n",
      " 'tables': 8}\n",
      "\n",
      "tpcds: \n",
      "\n",
      "{'cols_per_table': (array([7, 4, 3, 5, 5]),\n",
      "                    array([ 3. ,  9.2, 15.4, 21.6, 27.8, 34. ])),\n",
      " 'columns': 425,\n",
      " 'distincts': DescribeResult(nobs=425, minmax=(0.0, 1.0), mean=0.29583259551013413, variance=0.12007663747868011, skewness=0.9152223639198206, kurtosis=-0.6155131253247768),\n",
      " 'dtypes': [('DataType.NUMBER', '44.24%', 188),\n",
      "            ('DataType.STRING', '34.35%', 146),\n",
      "            ('DataType.FLOAT', '18.82%', 80),\n",
      "            ('DataType.TIME', '2.59%', 11)],\n",
      " 'nulls': DescribeResult(nobs=425, minmax=(0.0, 1.0), mean=0.02963484734449726, variance=0.011003336341396682, skewness=6.46622982559804, kurtosis=46.51403629181248),\n",
      " 'rows': (array([8, 1, 3, 7, 5]),\n",
      "          array([0.69897   , 1.97314661, 3.24732321, 4.52149981, 5.79567642,\n",
      "       7.06985302])),\n",
      " 'table_size': (array([8, 1, 2, 7, 6]),\n",
      "                array([1.77815125, 2.98675725, 4.19536325, 5.40396924, 6.61257524,\n",
      "       7.82118124])),\n",
      " 'tables': 24}\n"
     ]
    }
   ],
   "source": [
    "def describe_schema(s):\n",
    "    stats = {}\n",
    "    \n",
    "    stats['tables'] = len(s.tables)\n",
    "    stats['columns'] = len(s.columns)\n",
    "    \n",
    "    dtypes = []\n",
    "    rows = []\n",
    "    distincts = []\n",
    "    nulls = []\n",
    "    cols_per_table = []\n",
    "    table_size = []\n",
    "    \n",
    "    for t in s.tables:\n",
    "        cols_per_table.append(len(t.columns))\n",
    "        for i, col in enumerate(t.columns):\n",
    "            if i == 0:\n",
    "                rows.append(col.stats.total)\n",
    "                table_size.append(col.stats.total * len(t.columns))\n",
    "            \n",
    "            distincts.append(col.stats.distinct / col.stats.total)\n",
    "            nulls.append(col.stats.nulls / col.stats.total)\n",
    "            dtypes.append(str(col.data_type))\n",
    "    c = Counter(dtypes)\n",
    "    stats['dtypes'] = [(v, f'{c[v] / len(dtypes) * 100.0:.2f}%', c[v]) for v in c]\n",
    "    stats['rows'] = np.histogram(np.log10(np.array(rows)), bins=5)\n",
    "    stats['distincts'] = scipy.stats.describe(np.array(distincts))\n",
    "    stats['nulls'] = scipy.stats.describe(np.array(nulls))\n",
    "    stats['cols_per_table'] = np.histogram((np.array(cols_per_table)), bins=5)\n",
    "    stats['table_size'] = np.histogram(np.log10(np.array(table_size)), bins=5)\n",
    "    \n",
    "    return stats\n",
    "from pprint import pprint\n",
    "print('imdb: \\n')\n",
    "pprint(describe_schema(imdb_schema))\n",
    "print('')\n",
    "print('tpch: \\n')\n",
    "pprint(describe_schema(tpch_schema))\n",
    "print('')\n",
    "print('tpcds: \\n')\n",
    "pprint(describe_schema(tpcds_schema))"
   ]
  },
  {
   "cell_type": "markdown",
   "metadata": {},
   "source": [
    "## Relational Data"
   ]
  },
  {
   "cell_type": "code",
   "execution_count": null,
   "metadata": {},
   "outputs": [],
   "source": [
    "def describe_relational(_df):\n",
    "    stats = {}\n",
    "    \n",
    "    stats['tables'] = len(s.tables)\n",
    "    stats['columns'] = len(s.columns)\n",
    "    \n",
    "    dtypes = []\n",
    "    rows = []\n",
    "    distincts = []\n",
    "    nulls = []\n",
    "    cols_per_table = []\n",
    "    table_size = []\n",
    "    \n",
    "    for t in s.tables:\n",
    "        cols_per_table.append(len(t.columns))\n",
    "        for i, col in enumerate(t.columns):\n",
    "            if i == 0:\n",
    "                rows.append(col.stats.total)\n",
    "                table_size.append(col.stats.total * len(t.columns))\n",
    "            \n",
    "            distincts.append(col.stats.distinct / col.stats.total)\n",
    "            nulls.append(col.stats.nulls / col.stats.total)\n",
    "            dtypes.append(str(col.data_type))\n",
    "    c = Counter(dtypes)\n",
    "    stats['dtypes'] = [(v, f'{c[v] / len(dtypes) * 100.0:.2f}%', c[v]) for v in c]\n",
    "    stats['rows'] = np.histogram(np.log10(np.array(rows)), bins=5)\n",
    "    stats['distincts'] = scipy.stats.describe(np.array(distincts))\n",
    "    stats['nulls'] = scipy.stats.describe(np.array(nulls))\n",
    "    stats['cols_per_table'] = np.histogram((np.array(cols_per_table)), bins=5)\n",
    "    stats['table_size'] = np.histogram(np.log10(np.array(table_size)), bins=5)\n",
    "    \n",
    "    return stats\n",
    "from pprint import pprint\n",
    "print('imdb: \\n')\n",
    "pprint(describe_schema(imdb_df))\n",
    "print('')\n",
    "print('tpch: \\n')\n",
    "pprint(describe_schema(tpch_df))\n",
    "print('')\n",
    "print('tpcds: \\n')\n",
    "pprint(describe_schema(tpcds_df))"
   ]
  }
 ],
 "metadata": {
  "kernelspec": {
   "display_name": "py37",
   "language": "python",
   "name": "py37"
  },
  "language_info": {
   "codemirror_mode": {
    "name": "ipython",
    "version": 3
   },
   "file_extension": ".py",
   "mimetype": "text/x-python",
   "name": "python",
   "nbconvert_exporter": "python",
   "pygments_lexer": "ipython3",
   "version": "3.7.7"
  }
 },
 "nbformat": 4,
 "nbformat_minor": 4
}
