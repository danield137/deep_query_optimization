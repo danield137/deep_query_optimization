{
 "cells": [
  {
   "cell_type": "code",
   "execution_count": 79,
   "metadata": {},
   "outputs": [],
   "source": [
    "import pandas as pd\n",
    "import numpy as np\n",
    "from matplotlib import pyplot as plt\n",
    "import os"
   ]
  },
  {
   "cell_type": "code",
   "execution_count": 80,
   "metadata": {},
   "outputs": [],
   "source": [
    "base_path = '/Users/danieldubovski/projects/deep_query_optimization/dqo/runtimes/'"
   ]
  },
  {
   "cell_type": "code",
   "execution_count": 81,
   "metadata": {},
   "outputs": [
    {
     "data": {
      "text/plain": [
       "['dqo-m.cocra5h3f2sc.us-east-1.rds.amazonaws.com_imdb_1593866765.csv',\n",
       " 'dqo-m.cocra5h3f2sc.us-east-1.rds.amazonaws.com_imdb_1593879096.csv',\n",
       " 'dqo-m.cocra5h3f2sc.us-east-1.rds.amazonaws.com_imdb_1593884371.csv',\n",
       " 'dqo-m.cocra5h3f2sc.us-east-1.rds.amazonaws.com_imdb_1594014835.csv',\n",
       " 'localhost_imdb_1593788648.csv']"
      ]
     },
     "execution_count": 81,
     "metadata": {},
     "output_type": "execute_result"
    }
   ],
   "source": [
    "sorted(os.listdir(base_path))"
   ]
  },
  {
   "cell_type": "code",
   "execution_count": 82,
   "metadata": {},
   "outputs": [],
   "source": [
    "dfs = [pd.read_csv(base_path+f,names=['query', 'runtime']) for f in os.listdir(base_path) if f.startswith('dqo-m')]"
   ]
  },
  {
   "cell_type": "code",
   "execution_count": 83,
   "metadata": {},
   "outputs": [
    {
     "name": "stdout",
     "output_type": "stream",
     "text": [
      "       query runtime\n",
      "count      0       0\n",
      "unique     0       0\n",
      "top      NaN     NaN\n",
      "freq     NaN     NaN\n",
      "           runtime\n",
      "count   190.000000\n",
      "mean     30.204641\n",
      "std     128.866282\n",
      "min       0.148406\n",
      "25%       0.258484\n",
      "50%       1.360130\n",
      "75%       9.362045\n",
      "max    1169.769179\n",
      "          runtime\n",
      "count  296.000000\n",
      "mean    10.574875\n",
      "std     32.258350\n",
      "min      0.149302\n",
      "25%      0.217545\n",
      "50%      0.525990\n",
      "75%      4.614027\n",
      "max    307.306035\n",
      "          runtime\n",
      "count  511.000000\n",
      "mean     7.966495\n",
      "std     29.051137\n",
      "min      0.164324\n",
      "25%      0.195229\n",
      "50%      0.532255\n",
      "75%      2.417576\n",
      "max    446.011068\n"
     ]
    }
   ],
   "source": [
    "for df in dfs:\n",
    "    print(df.describe())"
   ]
  },
  {
   "cell_type": "code",
   "execution_count": 84,
   "metadata": {},
   "outputs": [
    {
     "data": {
      "image/png": "[encoded data removed]",
      "text/plain": [
       "<Figure size 432x288 with 1 Axes>"
      ]
     },
     "metadata": {
      "needs_background": "light"
     },
     "output_type": "display_data"
    }
   ],
   "source": [
    "for df in dfs:\n",
    "    plt.hist(df['runtime'].apply(np.log2).apply(lambda x: min(x, 7)).apply(lambda x: max(x, 0)))"
   ]
  },
  {
   "cell_type": "code",
   "execution_count": 100,
   "metadata": {},
   "outputs": [
    {
     "data": {
      "image/png": "[encoded data removed]",
      "text/plain": [
       "<Figure size 432x288 with 1 Axes>"
      ]
     },
     "metadata": {
      "needs_background": "light"
     },
     "output_type": "display_data"
    }
   ],
   "source": [
    "for df in dfs:\n",
    "    if len(df) > 1:\n",
    "        plt.plot(df['runtime'].groupby(by=df.index // 50).mean())"
   ]
  },
  {
   "cell_type": "code",
   "execution_count": null,
   "metadata": {},
   "outputs": [],
   "source": []
  }
 ],
 "metadata": {
  "kernelspec": {
   "display_name": "Python 3",
   "language": "python",
   "name": "python3"
  },
  "language_info": {
   "codemirror_mode": {
    "name": "ipython",
    "version": 3
   },
   "file_extension": ".py",
   "mimetype": "text/x-python",
   "name": "python",
   "nbconvert_exporter": "python",
   "pygments_lexer": "ipython3",
   "version": "3.7.7"
  }
 },
 "nbformat": 4,
 "nbformat_minor": 4
}
