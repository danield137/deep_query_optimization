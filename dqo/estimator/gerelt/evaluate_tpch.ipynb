{
 "cells": [
  {
   "cell_type": "code",
   "execution_count": 1,
   "metadata": {},
   "outputs": [],
   "source": [
    "root_path = \"/Users/danieldubovski/projects/deep_query_optimization\"\n",
    "\n",
    "import sys\n",
    "import os\n",
    "sys.path.insert(0, root_path)"
   ]
  },
  {
   "cell_type": "code",
   "execution_count": 2,
   "metadata": {},
   "outputs": [
    {
     "name": "stdout",
     "output_type": "stream",
     "text": [
      "module://ipykernel.pylab.backend_inline\n"
     ]
    },
    {
     "name": "stderr",
     "output_type": "stream",
     "text": [
      "/usr/local/anaconda3/envs/py37/lib/python3.7/site-packages/ipykernel_launcher.py:10: FutureWarning: The Panel class is removed from pandas. Accessing it from the top-level namespace will also be removed in the next version\n",
      "  # Remove the CWD from sys.path while we load stuff.\n"
     ]
    }
   ],
   "source": [
    "# import tkinter\n",
    "# import matplotlib\n",
    "# matplotlib.use('TkAgg')\n",
    "import matplotlib as mpl\n",
    "\n",
    "plt_backend = mpl.get_backend()\n",
    "print(plt_backend)\n",
    "from matplotlib import pyplot as plt\n",
    "import pandas as pd\n",
    "from pandas import Panel\n",
    "import numpy as np\n",
    "import pytorch_lightning as pl\n",
    "import torch\n",
    "from importlib import reload \n",
    "from tqdm.auto import tqdm\n",
    "from collections import Counter\n",
    "import sklearn\n",
    "import seaborn as sns\n",
    "from sklearn import metrics as skm\n",
    "import json\n",
    "from dqo.estimator import evaluate as ge\n",
    "from dqo.estimator.gerelt.v20 import evaluate as ge20\n",
    "from dqo.estimator.gerelt import  v1, v2, v3, v4, v7, v8,v10,v11, v12, v13,v14, v20\n",
    "from dqo import datasets\n",
    "\n",
    "mpl.use(plt_backend)"
   ]
  },
  {
   "cell_type": "code",
   "execution_count": 3,
   "metadata": {},
   "outputs": [
    {
     "data": {
      "text/plain": [
       "<module 'dqo.estimator.gerelt.v2' from '/Users/danieldubovski/projects/deep_query_optimization/dqo/estimator/gerelt/v2/__init__.py'>"
      ]
     },
     "execution_count": 3,
     "metadata": {},
     "output_type": "execute_result"
    }
   ],
   "source": [
    "import importlib\n",
    "\n",
    "importlib.reload(datasets)\n",
    "importlib.reload(ge)\n",
    "importlib.reload(v1)\n",
    "importlib.reload(v2)\n"
   ]
  },
  {
   "cell_type": "markdown",
   "metadata": {},
   "source": [
    "# TPCH"
   ]
  },
  {
   "cell_type": "code",
   "execution_count": 3,
   "metadata": {},
   "outputs": [
    {
     "name": "stderr",
     "output_type": "stream",
     "text": [
      "/usr/local/anaconda3/envs/py37/lib/python3.7/site-packages/torch/nn/modules/rnn.py:60: UserWarning: dropout option adds dropout after all but last recurrent layer, so non-zero dropout expects num_layers greater than 1, but got dropout=0.1 and num_layers=1\n",
      "  \"num_layers={}\".format(dropout, num_layers))\n",
      "  0%|          | 0/135 [00:00<?, ?it/s]"
     ]
    },
    {
     "name": "stdout",
     "output_type": "stream",
     "text": [
      "0\n"
     ]
    },
    {
     "name": "stderr",
     "output_type": "stream",
     "text": [
      "100%|██████████| 135/135 [00:27<00:00,  4.85it/s]\n",
      "/usr/local/anaconda3/envs/py37/lib/python3.7/site-packages/numpy/core/fromnumeric.py:3373: RuntimeWarning: Mean of empty slice.\n",
      "  out=out, **kwargs)\n",
      "/usr/local/anaconda3/envs/py37/lib/python3.7/site-packages/numpy/core/_methods.py:170: RuntimeWarning: invalid value encountered in double_scalars\n",
      "  ret = ret.dtype.type(ret / rcount)\n",
      "/usr/local/anaconda3/envs/py37/lib/python3.7/site-packages/sklearn/metrics/_classification.py:1814: UserWarning: y_pred contains classes not in y_true\n",
      "  warnings.warn('y_pred contains classes not in y_true')\n"
     ]
    },
    {
     "name": "stdout",
     "output_type": "stream",
     "text": [
      "df: tpcd v: dqo.estimator.gerelt.v20, ::  {\"accuracy\": 0.17777777777777778, \"balanced accuracy\": 0.07539682539682536, \"kappa\": 0.10054021608643449, \"recall\": 0.12847222222222224, \"f1 macro\": 0.11190169817927172, \"f1 weighted\": 0.15359352629940864, \"mae\": 27.0470658371764, \"mean_rounded_two_sided_error\": [[0.0, 2.246358296497002], [0.0, 2.5365294916746306], [-0.44410113827726505, 2.310461492750134], [-0.3322713094510471, 1.2038075521396034], [-0.7133832284633874, 3.101001997522667], [-1.647768618077984, 1.7502848760865521], [-1.6412520676770734, 0.7038801447923522], [-2.5604770736814793, 0.71919785171012], [-1.0446471266376098, 0.3982958001076476], [-2.324374486327251, 0.0], [-3.550800270543307, 0.054958364141675986], [-3.8122354756374293, 0.7256587169431921], [-3.4404160396494063, 0.0], [-6.46768088135411, 0.0], [-8.440002865122613, 0.0]], \"bucket_errors\": [[0, 1, 0, 1, 0, 0, 0, 0, 0], [0, 0, 1, 0, 0, 0, 0, 0, 0], [2, 2, 1, 1, 2, 0, 0, 0, 0], [5, 0, 1, 0, 1, 0, 0, 0, 0], [0, 0, 0, 1, 0, 0, 0, 0, 0], [2, 0, 0, 0, 1, 0, 0, 0, 0], [2, 1, 0, 0, 0, 0, 0, 0, 0], [2, 1, 0, 0, 0, 0, 0, 0, 0], [3, 0, 0, 0, 0, 0, 0, 0, 0], [0, 0, 0, 0, 0, 0, 0, 0, 0], [1, 0, 0, 0, 0, 0, 0, 0, 0], [2, 0, 0, 0, 0, 0, 0, 0, 0], [0, 0, 0, 0, 0, 0, 0, 0, 0], [0, 0, 0, 0, 0, 0, 0, 0, 0], [0, 0, 0, 0, 0, 0, 0, 0, 0]], \"bucket_accuracy\": [0.0, 0.0, 0.18181818181818182, 0.29411764705882354, 0.29411764705882354, 0.0, 0.14285714285714285, 0.2, 0.29411764705882354, 0.0, 0.07692307692307693, 0.07692307692307693, 0.0, 0.0, 0.0], \"values\": [-5, -4, -3, -2, -1, 0, 1, 2, 3, 4, 5, 6, 7, 8, 9]}\n"
     ]
    },
    {
     "name": "stderr",
     "output_type": "stream",
     "text": [
      "  0%|          | 0/652 [00:00<?, ?it/s]"
     ]
    },
    {
     "name": "stdout",
     "output_type": "stream",
     "text": [
      "0\n"
     ]
    },
    {
     "name": "stderr",
     "output_type": "stream",
     "text": [
      " 15%|█▌        | 100/652 [00:26<02:27,  3.75it/s]"
     ]
    },
    {
     "name": "stdout",
     "output_type": "stream",
     "text": [
      "100\n"
     ]
    },
    {
     "name": "stderr",
     "output_type": "stream",
     "text": [
      " 30%|██▉       | 193/652 [00:50<02:10,  3.51it/s]"
     ]
    },
    {
     "name": "stdout",
     "output_type": "stream",
     "text": [
      "200\n"
     ]
    },
    {
     "name": "stderr",
     "output_type": "stream",
     "text": [
      " 41%|████      | 267/652 [01:05<01:28,  4.34it/s]"
     ]
    },
    {
     "name": "stdout",
     "output_type": "stream",
     "text": [
      "300\n"
     ]
    },
    {
     "name": "stderr",
     "output_type": "stream",
     "text": [
      " 64%|██████▎   | 415/652 [01:26<00:23, 10.11it/s]"
     ]
    },
    {
     "name": "stdout",
     "output_type": "stream",
     "text": [
      "700\n"
     ]
    },
    {
     "name": "stderr",
     "output_type": "stream",
     "text": [
      "100%|██████████| 652/652 [01:55<00:00,  5.62it/s]\n"
     ]
    },
    {
     "name": "stdout",
     "output_type": "stream",
     "text": [
      "df: tpch v: dqo.estimator.gerelt.v20, ::  {\"accuracy\": 0.6426380368098159, \"balanced accuracy\": 0.5493922743922743, \"kappa\": 0.6095557525990465, \"recall\": 0.54321824009324, \"f1 macro\": 0.5456572459260508, \"f1 weighted\": 0.6400119492522194, \"mae\": 3.4274274402640086, \"mean_rounded_two_sided_error\": [[0.0, 1.1826408718593364], [-0.30891913709043806, 0.4684034782481401], [-0.4549687226784229, 1.1652308375296818], [-0.2239132395930832, 0.6024956097078981], [-0.18254331321792022, 0.23725402915860302], [-0.29560090092473706, 0.1806906452925298], [-0.7123668105588176, 0.8357084567685132], [-0.66357831062577, 0.35508957037394656], [-1.0026433302361677, 0.3149666305384485], [-0.8454250100540853, 0.15729509610741382], [-0.5468229430362929, 0.10169020245683179], [-0.5433444996951733, 0.2537652272002208], [-0.3017605897035654, 0.33113768379343816], [-2.2191925167637496, 0.036686873196941625], [-0.17341213437711853, 0.04853547115547707]], \"bucket_errors\": [[1, 1, 0, 0, 0, 0, 0, 0, 0], [2, 0, 0, 0, 0, 0, 0, 0, 0], [7, 2, 0, 0, 0, 0, 1, 0, 0], [25, 1, 1, 0, 1, 0, 0, 0, 0], [40, 0, 0, 0, 1, 0, 0, 0, 0], [22, 0, 0, 0, 0, 0, 0, 0, 0], [17, 1, 1, 2, 0, 0, 0, 0, 0], [20, 0, 0, 1, 0, 0, 0, 0, 0], [24, 0, 1, 0, 0, 0, 0, 0, 0], [14, 0, 0, 0, 0, 0, 0, 0, 0], [27, 0, 0, 0, 0, 0, 0, 0, 0], [14, 0, 0, 0, 0, 0, 0, 0, 0], [6, 0, 0, 0, 0, 0, 0, 0, 0], [41, 0, 0, 0, 0, 0, 0, 0, 0], [12, 0, 0, 0, 0, 0, 0, 0, 0]], \"bucket_accuracy\": [0.0, 0.2, 0.2857142857142857, 0.35, 0.4594594594594595, 0.38144329896907214, 0.3103448275862069, 0.3617021276595745, 0.375, 0.3617021276595745, 0.44954128440366975, 0.3037974683544304, 0.45454545454545453, 0.45454545454545453, 0.4827586206896552], \"values\": [-7, -5, -4, -3, -2, -1, 0, 1, 2, 3, 4, 5, 6, 7, 8]}\n"
     ]
    },
    {
     "name": "stderr",
     "output_type": "stream",
     "text": [
      "  0%|          | 0/320 [00:00<?, ?it/s]"
     ]
    },
    {
     "name": "stdout",
     "output_type": "stream",
     "text": [
      "0\n"
     ]
    },
    {
     "name": "stderr",
     "output_type": "stream",
     "text": [
      " 31%|███▏      | 100/320 [00:44<01:42,  2.14it/s]"
     ]
    },
    {
     "name": "stdout",
     "output_type": "stream",
     "text": [
      "100\n"
     ]
    },
    {
     "name": "stderr",
     "output_type": "stream",
     "text": [
      " 49%|████▉     | 157/320 [01:08<01:27,  1.86it/s]"
     ]
    },
    {
     "name": "stdout",
     "output_type": "stream",
     "text": [
      "200\n"
     ]
    },
    {
     "name": "stderr",
     "output_type": "stream",
     "text": [
      " 57%|█████▋    | 183/320 [01:19<01:00,  2.28it/s]"
     ]
    },
    {
     "name": "stdout",
     "output_type": "stream",
     "text": [
      "9 NestedLoopOp() 'income_band'\n"
     ]
    },
    {
     "name": "stderr",
     "output_type": "stream",
     "text": [
      " 60%|█████▉    | 191/320 [01:23<01:22,  1.56it/s]"
     ]
    },
    {
     "name": "stdout",
     "output_type": "stream",
     "text": [
      "300\n"
     ]
    },
    {
     "name": "stderr",
     "output_type": "stream",
     "text": [
      " 68%|██████▊   | 216/320 [01:32<00:29,  3.52it/s]"
     ]
    },
    {
     "name": "stdout",
     "output_type": "stream",
     "text": [
      "500\n"
     ]
    },
    {
     "name": "stderr",
     "output_type": "stream",
     "text": [
      " 75%|███████▌  | 240/320 [01:42<00:37,  2.14it/s]"
     ]
    },
    {
     "name": "stdout",
     "output_type": "stream",
     "text": [
      "900\n"
     ]
    },
    {
     "name": "stderr",
     "output_type": "stream",
     "text": [
      " 88%|████████▊ | 281/320 [01:56<00:09,  3.94it/s]"
     ]
    },
    {
     "name": "stdout",
     "output_type": "stream",
     "text": [
      "13 NestedLoopOp() 'customer'\n",
      "16 NestedLoopOp() 'promotion'\n"
     ]
    },
    {
     "name": "stderr",
     "output_type": "stream",
     "text": [
      "100%|██████████| 320/320 [02:05<00:00,  2.56it/s]\n"
     ]
    },
    {
     "name": "stdout",
     "output_type": "stream",
     "text": [
      "df: tpcds v: dqo.estimator.gerelt.v20, ::  {\"accuracy\": 0.0375, \"balanced accuracy\": -0.01199776785714286, \"kappa\": -0.038566912539515386, \"recall\": 0.047531512605042014, \"f1 macro\": 0.033213751835381625, \"f1 weighted\": 0.023061810175897885, \"mae\": 20.817718083463905, \"mean_rounded_two_sided_error\": [[0.0, 2.574831420650398], [0.0, 3.3451238298804693], [0.0, 2.995268311524435], [-0.8171128693662606, 1.1939152057356857], [-0.9890230263220047, 0.7138317354788444], [-1.5108609202727536, 1.5010518286174457], [-1.6262030554368485, 1.4342056862931827], [-2.2901991426088335, 2.5134643179734537], [-2.845250062711359, 1.519582642953902], [-3.5942195511578037, 0.0], [-4.731137892896504, 0.0], [-5.538238187667703, 0.0], [-6.835218567092364, 0.0], [-8.014733233150693, 0.0], [-11.815918091556714, 0.0], [-10.433764840148902, 0.0], [-7.932277873038425, 0.0]], \"bucket_errors\": [[0, 1, 0, 1, 0, 0, 0, 0, 0], [1, 0, 1, 1, 0, 1, 0, 0, 0], [1, 2, 0, 0, 0, 0, 0, 1, 0], [2, 3, 1, 0, 0, 0, 0, 0, 0], [2, 0, 0, 0, 0, 0, 0, 0, 0], [3, 0, 1, 1, 0, 0, 0, 0, 0], [1, 2, 1, 0, 0, 0, 0, 0, 0], [1, 1, 1, 0, 0, 1, 0, 0, 0], [0, 1, 0, 0, 0, 0, 0, 0, 0], [0, 0, 0, 0, 0, 0, 0, 0, 0], [0, 0, 0, 0, 0, 0, 0, 0, 0], [0, 0, 0, 0, 0, 0, 0, 0, 0], [0, 0, 0, 0, 0, 0, 0, 0, 0], [0, 0, 0, 0, 0, 0, 0, 0, 0], [0, 0, 0, 0, 0, 0, 0, 0, 0], [0, 0, 0, 0, 0, 0, 0, 0, 0], [0, 0, 0, 0, 0, 0, 0, 0, 0]], \"bucket_accuracy\": [0.0, 0.2, 0.0, 0.1111111111111111, 0.17647058823529413, 0.08571428571428572, 0.08571428571428572, 0.030303030303030304, 0.0, 0.0, 0.0, 0.0, 0.0, 0.0, 0.0, 0.0, 0.0], \"values\": [-7, -6, -5, -4, -3, -2, -1, 0, 1, 2, 3, 4, 5, 6, 7, 8, 9]}\n"
     ]
    }
   ],
   "source": [
    "from collections import defaultdict\n",
    "metas = [\n",
    "    (v20,  os.path.join(os.getcwd(), 'v20/logs/tpch/version_3/checkpoints/epoch=26-step=473795.ckpt')),\n",
    "]\n",
    "\n",
    "r = defaultdict(dict)\n",
    "for meta in metas:\n",
    "    version, checkpoint = meta\n",
    "    for ds_name in ['tpcd', 'tpch', 'tpcds']:\n",
    "        ds = datasets.ExtendedQueriesDataset(f'{ds_name}:extended')\n",
    "\n",
    "        estimater = ge20.QueryEstimater(\n",
    "            checkpoint, \n",
    "            dataset=ds, \n",
    "            encoder=version.encoder, \n",
    "            model_cls=version.model.GereltRegressor\n",
    "        )\n",
    "\n",
    "        results = estimater.evaluate()\n",
    "        r[str(version.__name__)][ds_name] = results\n",
    "        print(f'df: {ds_name} v: {str(version.__name__)}, :: ', json.dumps(ge.evaluate_metrics(results)))"
   ]
  },
  {
   "cell_type": "code",
   "execution_count": 6,
   "metadata": {},
   "outputs": [
    {
     "data": {
      "text/plain": [
       "1"
      ]
     },
     "execution_count": 6,
     "metadata": {},
     "output_type": "execute_result"
    }
   ],
   "source": []
  },
  {
   "cell_type": "code",
   "execution_count": 4,
   "metadata": {},
   "outputs": [
    {
     "data": {
      "image/png": "[encoded data removed]",
      "text/plain": [
       "<Figure size 432x288 with 2 Axes>"
      ]
     },
     "metadata": {
      "needs_background": "light"
     },
     "output_type": "display_data"
    },
    {
     "name": "stdout",
     "output_type": "stream",
     "text": [
      "              precision    recall  f1-score   support\n",
      "\n",
      "          -7       0.00      0.00      0.00         2\n",
      "          -6       0.33      0.25      0.29         4\n",
      "          -5       0.00      0.00      0.00         4\n",
      "          -4       0.04      0.12      0.06         8\n",
      "          -3       0.04      0.21      0.07        14\n",
      "          -2       0.03      0.09      0.04        32\n",
      "          -1       0.05      0.09      0.06        32\n",
      "           0       0.06      0.03      0.04        32\n",
      "           1       0.00      0.00      0.00        32\n",
      "           2       0.00      0.00      0.00        32\n",
      "           3       0.00      0.00      0.00        32\n",
      "           4       0.00      0.00      0.00        32\n",
      "           5       0.00      0.00      0.00        32\n",
      "           6       0.00      0.00      0.00        10\n",
      "           7       0.00      0.00      0.00        14\n",
      "           8       0.00      0.00      0.00         6\n",
      "           9       0.00      0.00      0.00         2\n",
      "\n",
      "    accuracy                           0.04       320\n",
      "   macro avg       0.03      0.05      0.03       320\n",
      "weighted avg       0.02      0.04      0.02       320\n",
      "\n",
      "           abs_err                err_ratio             \n",
      "              mean      median         mean       median\n",
      "bucket                                                  \n",
      "-7        0.066950    0.066950     0.211996     0.211996\n",
      "-6        0.399602    0.151783     0.201535     0.103255\n",
      "-5        1.171963    0.063203     0.290773     0.279427\n",
      "-4        0.074868    0.049452     0.835377     0.588304\n",
      "-3        0.069554    0.073529     1.942102     1.625446\n",
      "-2        0.334968    0.170213     3.008109     2.235548\n",
      "-1        0.393876    0.343597     3.256480     2.801392\n",
      " 0        2.246330    0.930590     5.824959     4.141119\n",
      " 1        1.735247    1.676309     8.832403     6.900884\n",
      " 2        3.037238    2.959622    18.147323    10.675681\n",
      " 3        7.283571    7.014038    46.954156    23.767801\n",
      " 4       16.240257   14.088480    68.426081    45.686494\n",
      " 5       27.572492   26.441691   264.250545    77.118060\n",
      " 6       57.023732   49.124895   338.428912   228.068077\n",
      " 7      149.911732  158.682405  4724.847321  5490.228393\n",
      " 8      197.672711  200.885924  2004.267112  1940.727225\n",
      " 9      457.815873  457.815873   368.421607   368.421607\n"
     ]
    },
    {
     "data": {
      "image/png": "[encoded data removed]",
      "text/plain": [
       "<Figure size 432x288 with 1 Axes>"
      ]
     },
     "metadata": {
      "needs_background": "light"
     },
     "output_type": "display_data"
    }
   ],
   "source": [
    "ge.display_results(results)"
   ]
  },
  {
   "cell_type": "code",
   "execution_count": 13,
   "metadata": {},
   "outputs": [
    {
     "data": {
      "image/png": "[encoded data removed]",
      "text/plain": [
       "<Figure size 432x288 with 2 Axes>"
      ]
     },
     "metadata": {
      "needs_background": "light"
     },
     "output_type": "display_data"
    },
    {
     "name": "stdout",
     "output_type": "stream",
     "text": [
      "              precision    recall  f1-score   support\n",
      "\n",
      "          -3       0.85      0.74      0.79        38\n",
      "          -2       0.75      0.47      0.58        38\n",
      "          -1       0.59      0.79      0.67        38\n",
      "           0       0.48      0.68      0.57        38\n",
      "           1       0.63      0.45      0.52        38\n",
      "           2       0.51      0.61      0.55        38\n",
      "           3       0.48      0.53      0.50        38\n",
      "           4       0.64      0.76      0.70        38\n",
      "           5       0.69      0.58      0.63        38\n",
      "           6       0.78      0.66      0.71        38\n",
      "           7       0.74      0.82      0.78        38\n",
      "           8       0.97      0.76      0.85        38\n",
      "           9       0.00      0.00      0.00         1\n",
      "\n",
      "    accuracy                           0.65       457\n",
      "   macro avg       0.62      0.60      0.60       457\n",
      "weighted avg       0.67      0.65      0.65       457\n",
      "\n",
      "2\n",
      "           abs_err             err_ratio          \n",
      "              mean      median      mean    median\n",
      "bucket                                            \n",
      "-3        0.985698    0.018063  0.786965  0.870779\n",
      "-2        0.597897    0.063492  0.744089  0.842869\n",
      "-1        0.314425    0.070891  0.967777  0.922330\n",
      " 0        0.509921    0.101371  1.034023  1.024657\n",
      " 1        0.587358    0.306016  1.201463  1.017797\n",
      " 2        0.715703    0.441511  1.152331  0.962043\n",
      " 3        3.281427    1.774312  3.242191  1.113346\n",
      " 4        2.793302    1.749615  1.483730  1.101344\n",
      " 5        5.614000    3.976582  1.502069  1.119048\n",
      " 6       17.757384    9.918119  3.096278  1.096613\n",
      " 7       17.617547    8.018031  1.405519  1.067888\n",
      " 8       26.826836   22.719138  1.143981  1.108807\n",
      " 9      373.314137  373.314137  7.939190  7.939190\n"
     ]
    },
    {
     "data": {
      "image/png": "[encoded data removed]",
      "text/plain": [
       "<Figure size 432x288 with 1 Axes>"
      ]
     },
     "metadata": {
      "needs_background": "light"
     },
     "output_type": "display_data"
    }
   ],
   "source": [
    "ge.display_results(v3_results)"
   ]
  },
  {
   "cell_type": "code",
   "execution_count": 14,
   "metadata": {},
   "outputs": [
    {
     "data": {
      "image/png": "[encoded data removed]",
      "text/plain": [
       "<Figure size 432x288 with 2 Axes>"
      ]
     },
     "metadata": {
      "needs_background": "light"
     },
     "output_type": "display_data"
    },
    {
     "name": "stdout",
     "output_type": "stream",
     "text": [
      "              precision    recall  f1-score   support\n",
      "\n",
      "          -3       0.86      0.63      0.73        38\n",
      "          -2       0.55      0.63      0.59        38\n",
      "          -1       0.46      0.63      0.53        38\n",
      "           0       0.38      0.29      0.33        38\n",
      "           1       0.66      0.76      0.71        38\n",
      "           2       0.55      0.47      0.51        38\n",
      "           3       0.53      0.61      0.57        38\n",
      "           4       0.63      0.84      0.72        38\n",
      "           5       0.81      0.66      0.72        38\n",
      "           6       0.59      0.34      0.43        38\n",
      "           7       0.56      0.66      0.60        38\n",
      "           8       0.94      0.87      0.90        38\n",
      "           9       0.00      0.00      0.00         1\n",
      "\n",
      "    accuracy                           0.61       457\n",
      "   macro avg       0.58      0.57      0.56       457\n",
      "weighted avg       0.62      0.61      0.61       457\n",
      "\n",
      "2\n",
      "           abs_err             err_ratio          \n",
      "              mean      median      mean    median\n",
      "bucket                                            \n",
      "-3        0.140631    0.024446  0.816293  0.878298\n",
      "-2        0.380425    0.027367  0.856196  0.968349\n",
      "-1        0.686052    0.108573  1.049379  0.948641\n",
      " 0        0.871765    0.179240  1.308479  1.149096\n",
      " 1        0.499231    0.219860  1.392939  0.972706\n",
      " 2        1.469688    0.600739  1.228237  0.961701\n",
      " 3        3.537320    1.655283  3.088722  1.054590\n",
      " 4        2.848374    1.574805  1.261677  0.953070\n",
      " 5        6.633548    4.096928  1.225070  1.022619\n",
      " 6       23.204503   18.523206  2.506352  0.935068\n",
      " 7       28.053651   15.932404  7.706910  0.983166\n",
      " 8       40.667898   36.145017  2.498877  1.185592\n",
      " 9      312.827454  312.827454  3.737266  3.737266\n"
     ]
    },
    {
     "data": {
      "image/png": "[encoded data removed]",
      "text/plain": [
       "<Figure size 432x288 with 1 Axes>"
      ]
     },
     "metadata": {
      "needs_background": "light"
     },
     "output_type": "display_data"
    }
   ],
   "source": [
    "ge.display_results(v4_results)"
   ]
  },
  {
   "cell_type": "code",
   "execution_count": 15,
   "metadata": {},
   "outputs": [
    {
     "data": {
      "image/png": "[encoded data removed]",
      "text/plain": [
       "<Figure size 432x288 with 2 Axes>"
      ]
     },
     "metadata": {
      "needs_background": "light"
     },
     "output_type": "display_data"
    },
    {
     "name": "stdout",
     "output_type": "stream",
     "text": [
      "              precision    recall  f1-score   support\n",
      "\n",
      "          -3       0.97      0.74      0.84        38\n",
      "          -2       0.70      0.74      0.72        38\n",
      "          -1       0.64      0.76      0.70        38\n",
      "           0       0.73      0.79      0.76        38\n",
      "           1       0.72      0.89      0.80        38\n",
      "           2       0.78      0.74      0.76        38\n",
      "           3       0.59      0.58      0.59        38\n",
      "           4       0.79      0.79      0.79        38\n",
      "           5       0.82      0.82      0.82        38\n",
      "           6       0.93      0.74      0.82        38\n",
      "           7       0.92      0.95      0.94        38\n",
      "           8       0.97      0.95      0.96        38\n",
      "           9       0.00      0.00      0.00         1\n",
      "\n",
      "    accuracy                           0.79       457\n",
      "   macro avg       0.74      0.73      0.73       457\n",
      "weighted avg       0.80      0.79      0.79       457\n",
      "\n",
      "2\n",
      "           abs_err             err_ratio          \n",
      "              mean      median      mean    median\n",
      "bucket                                            \n",
      "-3        0.364760    0.009095  0.826048  0.943831\n",
      "-2        0.259651    0.022234  0.847228  0.942543\n",
      "-1        0.363203    0.043371  1.046382  0.994061\n",
      " 0        0.302619    0.090011  1.121933  0.936872\n",
      " 1        0.426321    0.117720  1.264856  1.031757\n",
      " 2        0.548757    0.262168  1.262379  1.055691\n",
      " 3        2.472801    0.997364  2.879224  1.062282\n",
      " 4        1.818764    0.805987  1.153552  1.004978\n",
      " 5        4.849510    2.607478  1.554828  0.982610\n",
      " 6       13.303459    4.835027  2.144706  1.003722\n",
      " 7       12.411472    5.722257  1.260772  1.000175\n",
      " 8       12.560888    5.198603  1.131935  0.999298\n",
      " 9      202.805603  202.805603  1.904145  1.904145\n"
     ]
    },
    {
     "data": {
      "image/png": "[encoded data removed]",
      "text/plain": [
       "<Figure size 432x288 with 1 Axes>"
      ]
     },
     "metadata": {
      "needs_background": "light"
     },
     "output_type": "display_data"
    }
   ],
   "source": [
    "ge.display_results(v7_results)"
   ]
  },
  {
   "cell_type": "markdown",
   "metadata": {},
   "source": [
    "# Trained on TPCH, Inference on IMDB"
   ]
  },
  {
   "cell_type": "code",
   "execution_count": 21,
   "metadata": {},
   "outputs": [
    {
     "name": "stderr",
     "output_type": "stream",
     "text": [
      "2021-01-31 12:41:52,213 | dqo.datasets | INFO | Reading data from /Users/danieldubovski/projects/deep_query_optimization/dqo/datasets/imdb/execution/optimized/runtimes/data_part_00.csv [1/1]\n",
      "2021-01-31 12:41:53,988 | dqo.datasets | INFO | Loaded 27512 rows from /Users/danieldubovski/projects/deep_query_optimization/dqo/datasets/imdb/execution/optimized/runtimes/data_part_00.csv [1/1]\n"
     ]
    }
   ],
   "source": [
    "imdb = datasets.QueriesDataset('imdb:optimized')\n",
    "imdb_sample = imdb.sample(n=500, strategy='bucketed')"
   ]
  },
  {
   "cell_type": "code",
   "execution_count": 22,
   "metadata": {},
   "outputs": [],
   "source": [
    "v2_estimater = ge.QueryEstimater(\n",
    "    os.path.join(os.getcwd(), 'v2/logs/tpch/version_0/checkpoints/epoch=48-step=881537.ckpt'), \n",
    "    dataset=imdb, \n",
    "    encoder=v2.encoder, \n",
    "    model_cls=v2.model.GereltRegressor\n",
    ")\n",
    "v3_estimater = ge.QueryEstimater(\n",
    "    os.path.join(os.getcwd(), 'v3/logs/tpch/version_0/checkpoints/epoch=68-step=1254626.ckpt'), \n",
    "    dataset=imdb, \n",
    "    encoder=v3.encoder, \n",
    "    model_cls=v3.model.GereltRegressor\n",
    ")\n",
    "v4_estimater = ge.QueryEstimater(\n",
    "    os.path.join(os.getcwd(), 'v4/logs/tpch/version_0/checkpoints/epoch=48-step=890966.ckpt'), \n",
    "    dataset=imdb, \n",
    "    encoder=v4.encoder, \n",
    "    model_cls=v4.model.GereltRegressor\n",
    ")\n",
    "v7_estimater = ge.QueryEstimater(\n",
    "    os.path.join(os.getcwd(), 'v7/logs/tpch/version_2/checkpoints/epoch=108-step=1981946.ckpt'), \n",
    "    dataset=imdb, \n",
    "    encoder=v7.encoder, \n",
    "    model_cls=v7.model.GereltRegressor\n",
    ")"
   ]
  },
  {
   "cell_type": "code",
   "execution_count": 23,
   "metadata": {},
   "outputs": [
    {
     "name": "stderr",
     "output_type": "stream",
     "text": [
      "100%|██████████| 492/492 [05:33<00:00,  1.47it/s]\n",
      "  0%|          | 0/492 [00:00<?, ?it/s]"
     ]
    },
    {
     "name": "stdout",
     "output_type": "stream",
     "text": [
      "{\"accuracy\": 0.05894308943089431, \"balanced accuracy\": -0.026607538802660757, \"kappa\": -0.026607538802660757, \"recall\": 0.058943089430894303, \"mae\": 3.6422764227642275, \"f1 macro\": 0.045383863873635, \"f1 weighted\": 0.045383863873635}\n"
     ]
    },
    {
     "name": "stderr",
     "output_type": "stream",
     "text": [
      "100%|██████████| 492/492 [02:04<00:00,  3.95it/s]\n",
      "  0%|          | 0/492 [00:00<?, ?it/s]"
     ]
    },
    {
     "name": "stdout",
     "output_type": "stream",
     "text": [
      "{\"accuracy\": 0.08130081300813008, \"balanced accuracy\": -0.0022172949002217265, \"kappa\": -0.0022172949002217113, \"recall\": 0.08130081300813008, \"mae\": 3.959349593495935, \"f1 macro\": 0.05473213047410397, \"f1 weighted\": 0.054732130474103975}\n"
     ]
    },
    {
     "name": "stderr",
     "output_type": "stream",
     "text": [
      "100%|██████████| 492/492 [04:21<00:00,  1.88it/s]\n",
      "  0%|          | 0/492 [00:00<?, ?it/s]"
     ]
    },
    {
     "name": "stdout",
     "output_type": "stream",
     "text": [
      "{\"accuracy\": 0.0975609756097561, \"balanced accuracy\": 0.015521064301552132, \"kappa\": 0.015521064301552201, \"recall\": 0.09756097560975611, \"mae\": 3.5142276422764227, \"f1 macro\": 0.06948125707905299, \"f1 weighted\": 0.06948125707905299}\n"
     ]
    },
    {
     "name": "stderr",
     "output_type": "stream",
     "text": [
      "100%|██████████| 492/492 [01:37<00:00,  5.06it/s]"
     ]
    },
    {
     "name": "stdout",
     "output_type": "stream",
     "text": [
      "{\"accuracy\": 0.06707317073170732, \"balanced accuracy\": -0.017738359201773825, \"kappa\": -0.017738359201774134, \"recall\": 0.06707317073170732, \"mae\": 3.7378048780487805, \"f1 macro\": 0.04780480004620846, \"f1 weighted\": 0.047804800046208476}\n"
     ]
    },
    {
     "name": "stderr",
     "output_type": "stream",
     "text": [
      "\n"
     ]
    }
   ],
   "source": [
    "v2_results = v2_estimater.evaluate(df=imdb_sample)\n",
    "print(json.dumps(ge.evaluate_metrics(v2_results)))\n",
    "v3_results = v3_estimater.evaluate(df=imdb_sample)\n",
    "print(json.dumps(ge.evaluate_metrics(v3_results)))\n",
    "v4_results = v4_estimater.evaluate(df=imdb_sample)\n",
    "print(json.dumps(ge.evaluate_metrics(v4_results)))\n",
    "v7_results = v7_estimater.evaluate(df=imdb_sample)\n",
    "print(json.dumps(ge.evaluate_metrics(v7_results)))"
   ]
  },
  {
   "cell_type": "markdown",
   "metadata": {},
   "source": [
    "## NUMBERS VS STRINGS"
   ]
  },
  {
   "cell_type": "code",
   "execution_count": 16,
   "metadata": {},
   "outputs": [
    {
     "name": "stderr",
     "output_type": "stream",
     "text": [
      "2021-01-25 15:50:05,965 | dqo.datasets | INFO | Reading data from /Users/danieldubovski/projects/deep_query_optimization/dqo/datasets/imdb/execution/only_strings/runtimes/data_part_00.csv [1/1]\n",
      "2021-01-25 15:50:05,970 | dqo.datasets | INFO | Loaded 47 rows from /Users/danieldubovski/projects/deep_query_optimization/dqo/datasets/imdb/execution/only_strings/runtimes/data_part_00.csv [1/1]\n",
      "100%|██████████| 47/47 [00:02<00:00, 20.69it/s]\n"
     ]
    },
    {
     "data": {
      "text/plain": [
       "'{\"accuracy\": 0.7659574468085106, \"balanced accuracy\": 0.785813492063492, \"kappa\": 0.7227882037533513, \"recall\": 0.8096119929453263, \"mae\": 0.23404255319148937, \"f1 macro\": 0.7920926205239931, \"f1 weighted\": 0.7689874094755195}'"
      ]
     },
     "execution_count": 16,
     "metadata": {},
     "output_type": "execute_result"
    }
   ],
   "source": [
    "qe = ge.QueryEstimater(\n",
    "    os.path.join(os.getcwd(), 'v2/logs/three_opt_default_adam/version_1/checkpoints/epoch=60.ckpt'), \n",
    "    dataset=imdb, \n",
    "    encoder=v2.encoder, \n",
    "    model_cls=v2.model.GereltRegressor\n",
    ")\n",
    "r = qe.evaluate(df=datasets.QueriesDataset('imdb:only_strings').load())\n",
    "json.dumps(ge.evaluate_metrics(r))"
   ]
  },
  {
   "cell_type": "code",
   "execution_count": 17,
   "metadata": {},
   "outputs": [
    {
     "name": "stderr",
     "output_type": "stream",
     "text": [
      "2021-01-25 15:50:22,596 | dqo.datasets | INFO | Reading data from /Users/danieldubovski/projects/deep_query_optimization/dqo/datasets/imdb/execution/only_numbers/runtimes/data_part_00.csv [1/1]\n",
      "2021-01-25 15:50:22,601 | dqo.datasets | INFO | Loaded 124 rows from /Users/danieldubovski/projects/deep_query_optimization/dqo/datasets/imdb/execution/only_numbers/runtimes/data_part_00.csv [1/1]\n",
      "100%|██████████| 124/124 [00:07<00:00, 16.15it/s]\n",
      "/usr/local/anaconda3/envs/py37/lib/python3.7/site-packages/sklearn/metrics/_classification.py:1814: UserWarning: y_pred contains classes not in y_true\n",
      "  warnings.warn('y_pred contains classes not in y_true')\n"
     ]
    },
    {
     "data": {
      "text/plain": [
       "'{\"accuracy\": 0.6854838709677419, \"balanced accuracy\": 0.5517496392496393, \"kappa\": 0.6316551146317313, \"recall\": 0.5413997113997114, \"mae\": 0.3870967741935484, \"f1 macro\": 0.5584700352153182, \"f1 weighted\": 0.6928782798457175}'"
      ]
     },
     "execution_count": 17,
     "metadata": {},
     "output_type": "execute_result"
    }
   ],
   "source": [
    "qe = ge.QueryEstimater(\n",
    "    os.path.join(os.getcwd(), 'v2/logs/three_opt_default_adam/version_1/checkpoints/epoch=60.ckpt'), \n",
    "    dataset=imdb, \n",
    "    encoder=v2.encoder, \n",
    "    model_cls=v2.model.GereltRegressor\n",
    ")\n",
    "r = qe.evaluate(df=datasets.QueriesDataset('imdb:only_numbers').load())\n",
    "json.dumps(ge.evaluate_metrics(r))"
   ]
  },
  {
   "cell_type": "markdown",
   "metadata": {},
   "source": [
    "## RANDOM QUERIES"
   ]
  },
  {
   "cell_type": "code",
   "execution_count": 17,
   "metadata": {},
   "outputs": [
    {
     "data": {
      "text/plain": [
       "0.3487551234163082"
      ]
     },
     "execution_count": 17,
     "metadata": {},
     "output_type": "execute_result"
    }
   ],
   "source": [
    "v1_results.predict_query('select MIN(id) from aka_title')"
   ]
  },
  {
   "cell_type": "code",
   "execution_count": 60,
   "metadata": {},
   "outputs": [
    {
     "data": {
      "text/plain": [
       "11.159208242646764"
      ]
     },
     "execution_count": 60,
     "metadata": {},
     "output_type": "execute_result"
    }
   ],
   "source": [
    "v1_results.predict_query('select MIN(id) from aka_title, cast_info where aka_title.movie_id = cast_info.movie_id and cast_info.note like \"%a%\"')"
   ]
  },
  {
   "cell_type": "code",
   "execution_count": 61,
   "metadata": {},
   "outputs": [
    {
     "data": {
      "text/plain": [
       "26.097686612759194"
      ]
     },
     "execution_count": 61,
     "metadata": {},
     "output_type": "execute_result"
    }
   ],
   "source": [
    "v1_results.predict_query('select MIN(id) from aka_title, cast_info where aka_title.movie_id = cast_info.movie_id and aka_title.movie_id > 10')"
   ]
  },
  {
   "cell_type": "code",
   "execution_count": 62,
   "metadata": {},
   "outputs": [
    {
     "data": {
      "text/plain": [
       "98.77698618825976"
      ]
     },
     "execution_count": 62,
     "metadata": {},
     "output_type": "execute_result"
    }
   ],
   "source": [
    "v1_results.predict_query('select MIN(id) from aka_title, cast_info where aka_title.movie_id = cast_info.movie_id')"
   ]
  },
  {
   "cell_type": "code",
   "execution_count": 63,
   "metadata": {},
   "outputs": [
    {
     "data": {
      "text/plain": [
       "2.9044822055115933"
      ]
     },
     "execution_count": 63,
     "metadata": {},
     "output_type": "execute_result"
    }
   ],
   "source": [
    "v1_results.predict_query('select MIN(id) from cast_info')"
   ]
  },
  {
   "cell_type": "markdown",
   "metadata": {},
   "source": [
    "# overfitting"
   ]
  },
  {
   "cell_type": "code",
   "execution_count": 43,
   "metadata": {},
   "outputs": [],
   "source": [
    "import re\n",
    "\n",
    "epoch_num_regex = re.compile(\"epoch=(\\d.*)-\")"
   ]
  },
  {
   "cell_type": "code",
   "execution_count": 49,
   "metadata": {},
   "outputs": [
    {
     "data": {
      "text/plain": [
       "'20'"
      ]
     },
     "execution_count": 49,
     "metadata": {},
     "output_type": "execute_result"
    }
   ],
   "source": [
    "epoch_num_regex.search(cps[1])[1]"
   ]
  },
  {
   "cell_type": "code",
   "execution_count": 53,
   "metadata": {},
   "outputs": [
    {
     "data": {
      "application/vnd.jupyter.widget-view+json": {
       "model_id": "758f6a2268c94f929bdcb31476605b40",
       "version_major": 2,
       "version_minor": 0
      },
      "text/plain": [
       "HBox(children=(HTML(value=''), FloatProgress(value=0.0, max=19.0), HTML(value='')))"
      ]
     },
     "metadata": {},
     "output_type": "display_data"
    },
    {
     "name": "stderr",
     "output_type": "stream",
     "text": [
      "100%|██████████| 492/492 [01:42<00:00,  4.79it/s]\n",
      "  0%|          | 0/492 [00:00<?, ?it/s]"
     ]
    },
    {
     "name": "stdout",
     "output_type": "stream",
     "text": [
      "0 {\"accuracy\": 0.06097560975609756, \"balanced accuracy\": -0.024390243902439015, \"kappa\": -0.024390243902439046, \"recall\": 0.06097560975609757, \"mae\": 3.6422764227642275, \"f1 macro\": 0.02112067752736277, \"f1 weighted\": 0.021120677527362762}\n"
     ]
    },
    {
     "name": "stderr",
     "output_type": "stream",
     "text": [
      "100%|██████████| 492/492 [01:47<00:00,  4.57it/s]\n",
      "  0%|          | 0/492 [00:00<?, ?it/s]"
     ]
    },
    {
     "name": "stdout",
     "output_type": "stream",
     "text": [
      "10 {\"accuracy\": 0.08739837398373984, \"balanced accuracy\": 0.0044345898004434685, \"kappa\": 0.0044345898004433115, \"recall\": 0.08739837398373984, \"mae\": 3.733739837398374, \"f1 macro\": 0.04769932710999294, \"f1 weighted\": 0.04769932710999293}\n"
     ]
    },
    {
     "name": "stderr",
     "output_type": "stream",
     "text": [
      "100%|██████████| 492/492 [01:42<00:00,  4.78it/s]\n",
      "  0%|          | 0/492 [00:00<?, ?it/s]"
     ]
    },
    {
     "name": "stdout",
     "output_type": "stream",
     "text": [
      "20 {\"accuracy\": 0.09959349593495935, \"balanced accuracy\": 0.017738359201773843, \"kappa\": 0.0177383592017738, \"recall\": 0.09959349593495935, \"mae\": 3.855691056910569, \"f1 macro\": 0.07210574265724541, \"f1 weighted\": 0.07210574265724541}\n"
     ]
    },
    {
     "name": "stderr",
     "output_type": "stream",
     "text": [
      "100%|██████████| 492/492 [01:32<00:00,  5.29it/s]\n",
      "  0%|          | 0/492 [00:00<?, ?it/s]"
     ]
    },
    {
     "name": "stdout",
     "output_type": "stream",
     "text": [
      "30 {\"accuracy\": 0.06910569105691057, \"balanced accuracy\": -0.0155210643015521, \"kappa\": -0.015521064301552201, \"recall\": 0.06910569105691057, \"mae\": 3.8922764227642275, \"f1 macro\": 0.056205571614686665, \"f1 weighted\": 0.056205571614686665}\n"
     ]
    },
    {
     "name": "stderr",
     "output_type": "stream",
     "text": [
      "100%|██████████| 492/492 [01:37<00:00,  5.05it/s]\n",
      "  0%|          | 0/492 [00:00<?, ?it/s]"
     ]
    },
    {
     "name": "stdout",
     "output_type": "stream",
     "text": [
      "40 {\"accuracy\": 0.08130081300813008, \"balanced accuracy\": -0.0022172949002217113, \"kappa\": -0.0022172949002219333, \"recall\": 0.0813008130081301, \"mae\": 3.8963414634146343, \"f1 macro\": 0.05440317578015907, \"f1 weighted\": 0.05440317578015906}\n"
     ]
    },
    {
     "name": "stderr",
     "output_type": "stream",
     "text": [
      "100%|██████████| 492/492 [01:42<00:00,  4.82it/s]\n",
      "  0%|          | 0/492 [00:00<?, ?it/s]"
     ]
    },
    {
     "name": "stdout",
     "output_type": "stream",
     "text": [
      "50 {\"accuracy\": 0.04878048780487805, \"balanced accuracy\": -0.03769401330376939, \"kappa\": -0.037694013303769314, \"recall\": 0.04878048780487806, \"mae\": 3.908536585365854, \"f1 macro\": 0.03365239684153922, \"f1 weighted\": 0.033652396841539214}\n"
     ]
    },
    {
     "name": "stderr",
     "output_type": "stream",
     "text": [
      "100%|██████████| 492/492 [01:47<00:00,  4.59it/s]\n",
      "  0%|          | 0/492 [00:00<?, ?it/s]"
     ]
    },
    {
     "name": "stdout",
     "output_type": "stream",
     "text": [
      "60 {\"accuracy\": 0.07317073170731707, \"balanced accuracy\": -0.011086474501108633, \"kappa\": -0.011086474501108556, \"recall\": 0.07317073170731708, \"mae\": 3.7134146341463414, \"f1 macro\": 0.05306781211170167, \"f1 weighted\": 0.05306781211170167}\n"
     ]
    },
    {
     "name": "stderr",
     "output_type": "stream",
     "text": [
      "100%|██████████| 492/492 [01:43<00:00,  4.76it/s]\n",
      "  0%|          | 0/492 [00:00<?, ?it/s]"
     ]
    },
    {
     "name": "stdout",
     "output_type": "stream",
     "text": [
      "70 {\"accuracy\": 0.06504065040650407, \"balanced accuracy\": -0.019955654101995554, \"kappa\": -0.019955654101995846, \"recall\": 0.06504065040650407, \"mae\": 3.741869918699187, \"f1 macro\": 0.04551140029438382, \"f1 weighted\": 0.04551140029438382}\n"
     ]
    },
    {
     "name": "stderr",
     "output_type": "stream",
     "text": [
      "100%|██████████| 492/492 [01:55<00:00,  4.27it/s]\n",
      "  0%|          | 0/492 [00:00<?, ?it/s]"
     ]
    },
    {
     "name": "stdout",
     "output_type": "stream",
     "text": [
      "80 {\"accuracy\": 0.052845528455284556, \"balanced accuracy\": -0.033259423503325926, \"kappa\": -0.03325942350332589, \"recall\": 0.05284552845528456, \"mae\": 4.123983739837398, \"f1 macro\": 0.0347589530158957, \"f1 weighted\": 0.034758953015895704}\n"
     ]
    },
    {
     "name": "stderr",
     "output_type": "stream",
     "text": [
      "100%|██████████| 492/492 [01:50<00:00,  4.45it/s]\n",
      "  0%|          | 0/492 [00:00<?, ?it/s]"
     ]
    },
    {
     "name": "stdout",
     "output_type": "stream",
     "text": [
      "90 {\"accuracy\": 0.07113821138211382, \"balanced accuracy\": -0.01330376940133036, \"kappa\": -0.013303769401330268, \"recall\": 0.07113821138211383, \"mae\": 3.7357723577235773, \"f1 macro\": 0.055375077480058564, \"f1 weighted\": 0.055375077480058564}\n"
     ]
    },
    {
     "name": "stderr",
     "output_type": "stream",
     "text": [
      "100%|██████████| 492/492 [01:49<00:00,  4.51it/s]\n",
      "  0%|          | 0/492 [00:00<?, ?it/s]"
     ]
    },
    {
     "name": "stdout",
     "output_type": "stream",
     "text": [
      "100 {\"accuracy\": 0.09552845528455285, \"balanced accuracy\": 0.013303769401330389, \"kappa\": 0.013303769401330268, \"recall\": 0.09552845528455285, \"mae\": 3.6321138211382116, \"f1 macro\": 0.062056506947238584, \"f1 weighted\": 0.0620565069472386}\n"
     ]
    },
    {
     "name": "stderr",
     "output_type": "stream",
     "text": [
      "100%|██████████| 492/492 [01:58<00:00,  4.16it/s]\n",
      "  0%|          | 0/492 [00:00<?, ?it/s]"
     ]
    },
    {
     "name": "stdout",
     "output_type": "stream",
     "text": [
      "101 {\"accuracy\": 0.09146341463414634, \"balanced accuracy\": 0.008869179600886937, \"kappa\": 0.008869179600886956, \"recall\": 0.09146341463414635, \"mae\": 3.5528455284552845, \"f1 macro\": 0.0637629113112753, \"f1 weighted\": 0.06376291131127529}\n"
     ]
    },
    {
     "name": "stderr",
     "output_type": "stream",
     "text": [
      "100%|██████████| 492/492 [01:46<00:00,  4.61it/s]\n",
      "  0%|          | 0/492 [00:00<?, ?it/s]"
     ]
    },
    {
     "name": "stdout",
     "output_type": "stream",
     "text": [
      "102 {\"accuracy\": 0.07317073170731707, \"balanced accuracy\": -0.011086474501108648, \"kappa\": -0.011086474501108556, \"recall\": 0.07317073170731707, \"mae\": 3.821138211382114, \"f1 macro\": 0.048619503696094434, \"f1 weighted\": 0.048619503696094434}\n"
     ]
    },
    {
     "name": "stderr",
     "output_type": "stream",
     "text": [
      "100%|██████████| 492/492 [01:53<00:00,  4.34it/s]\n",
      "  0%|          | 0/492 [00:00<?, ?it/s]"
     ]
    },
    {
     "name": "stdout",
     "output_type": "stream",
     "text": [
      "103 {\"accuracy\": 0.07113821138211382, \"balanced accuracy\": -0.013303769401330373, \"kappa\": -0.01330376940133049, \"recall\": 0.07113821138211382, \"mae\": 3.6910569105691056, \"f1 macro\": 0.04493720640162449, \"f1 weighted\": 0.04493720640162449}\n"
     ]
    },
    {
     "name": "stderr",
     "output_type": "stream",
     "text": [
      "100%|██████████| 492/492 [01:51<00:00,  4.43it/s]\n",
      "  0%|          | 0/492 [00:00<?, ?it/s]"
     ]
    },
    {
     "name": "stdout",
     "output_type": "stream",
     "text": [
      "104 {\"accuracy\": 0.08739837398373984, \"balanced accuracy\": 0.0044345898004434685, \"kappa\": 0.004434589800443534, \"recall\": 0.08739837398373984, \"mae\": 3.7357723577235773, \"f1 macro\": 0.055131432743714126, \"f1 weighted\": 0.055131432743714126}\n"
     ]
    },
    {
     "name": "stderr",
     "output_type": "stream",
     "text": [
      "100%|██████████| 492/492 [01:42<00:00,  4.79it/s]\n",
      "  0%|          | 0/492 [00:00<?, ?it/s]"
     ]
    },
    {
     "name": "stdout",
     "output_type": "stream",
     "text": [
      "105 {\"accuracy\": 0.06300813008130081, \"balanced accuracy\": -0.022172949002217297, \"kappa\": -0.022172949002217335, \"recall\": 0.06300813008130081, \"mae\": 3.6321138211382116, \"f1 macro\": 0.040975973255072594, \"f1 weighted\": 0.040975973255072594}\n"
     ]
    },
    {
     "name": "stderr",
     "output_type": "stream",
     "text": [
      "100%|██████████| 492/492 [01:57<00:00,  4.20it/s]\n",
      "  0%|          | 0/492 [00:00<?, ?it/s]"
     ]
    },
    {
     "name": "stdout",
     "output_type": "stream",
     "text": [
      "106 {\"accuracy\": 0.07926829268292683, \"balanced accuracy\": -0.004434589800443453, \"kappa\": -0.0044345898004434225, \"recall\": 0.07926829268292683, \"mae\": 3.709349593495935, \"f1 macro\": 0.052094276479794976, \"f1 weighted\": 0.052094276479794976}\n"
     ]
    },
    {
     "name": "stderr",
     "output_type": "stream",
     "text": [
      "100%|██████████| 492/492 [01:47<00:00,  4.59it/s]\n",
      "  0%|          | 0/492 [00:00<?, ?it/s]"
     ]
    },
    {
     "name": "stdout",
     "output_type": "stream",
     "text": [
      "107 {\"accuracy\": 0.06097560975609756, \"balanced accuracy\": -0.024390243902439022, \"kappa\": -0.024390243902439046, \"recall\": 0.06097560975609756, \"mae\": 3.83739837398374, \"f1 macro\": 0.03831690631122563, \"f1 weighted\": 0.038316906311225626}\n"
     ]
    },
    {
     "name": "stderr",
     "output_type": "stream",
     "text": [
      "100%|██████████| 492/492 [01:54<00:00,  4.31it/s]\n"
     ]
    },
    {
     "name": "stdout",
     "output_type": "stream",
     "text": [
      "108 {\"accuracy\": 0.06707317073170732, \"balanced accuracy\": -0.017738359201773825, \"kappa\": -0.017738359201774134, \"recall\": 0.06707317073170732, \"mae\": 3.7378048780487805, \"f1 macro\": 0.04780480004620846, \"f1 weighted\": 0.047804800046208476}\n",
      "\n"
     ]
    }
   ],
   "source": [
    "cp_path = os.path.join(os.getcwd(), 'v7/logs/tpch/version_2/checkpoints/')\n",
    "cps = [os.path.join(cp_path, f) for f in os.listdir(cp_path)]\n",
    "cps = sorted(cps, key= lambda s: int(epoch_num_regex.search(s)[1]))\n",
    "\n",
    "v = v7\n",
    "for cp in tqdm(cps):\n",
    "    qe = ge.QueryEstimater(cp, dataset=imdb, encoder=v.encoder, model_cls=v.model.GereltRegressor)\n",
    "    r = qe.evaluate(df=imdb_sample)\n",
    "    print(int(epoch_num_regex.search(cp)[1]), json.dumps(ge.evaluate_metrics(r)))"
   ]
  },
  {
   "cell_type": "code",
   "execution_count": null,
   "metadata": {},
   "outputs": [],
   "source": []
  },
  {
   "cell_type": "code",
   "execution_count": null,
   "metadata": {},
   "outputs": [],
   "source": [
    "cp_path = os.path.join(os.getcwd(), 'v4/logs/tpch/version_0/checkpoints/')\n",
    "cps = [os.path.join(cp_path, f) for f in os.listdir(cp_path)]\n",
    "cps = sorted(cps, key= lambda s: int(epoch_num_regex.search(s)[1]))\n",
    "v = v4\n",
    "for cp in tqdm(cps):\n",
    "    qe = ge.QueryEstimater(cp, dataset=imdb, encoder=v.encoder, model_cls=v.model.GereltRegressor)\n",
    "    r = qe.evaluate(df=imdb_sample)\n",
    "    print(int(epoch_num_regex.search(cp)[1]), json.dumps(ge.evaluate_metrics(r)))"
   ]
  },
  {
   "cell_type": "code",
   "execution_count": null,
   "metadata": {},
   "outputs": [],
   "source": []
  }
 ],
 "metadata": {
  "kernelspec": {
   "display_name": "py37",
   "language": "python",
   "name": "py37"
  },
  "language_info": {
   "codemirror_mode": {
    "name": "ipython",
    "version": 3
   },
   "file_extension": ".py",
   "mimetype": "text/x-python",
   "name": "python",
   "nbconvert_exporter": "python",
   "pygments_lexer": "ipython3",
   "version": "3.7.7"
  }
 },
 "nbformat": 4,
 "nbformat_minor": 4
}
