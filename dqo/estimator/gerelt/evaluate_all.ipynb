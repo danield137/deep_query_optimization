{
 "cells": [
  {
   "cell_type": "code",
   "execution_count": 2,
   "metadata": {},
   "outputs": [
    {
     "name": "stdout",
     "output_type": "stream",
     "text": [
      "module://ipykernel.pylab.backend_inline\n"
     ]
    },
    {
     "name": "stderr",
     "output_type": "stream",
     "text": [
      "/usr/local/anaconda3/envs/py37/lib/python3.7/site-packages/ipykernel_launcher.py:13: FutureWarning: The Panel class is removed from pandas. Accessing it from the top-level namespace will also be removed in the next version\n",
      "  del sys.path[0]\n"
     ]
    }
   ],
   "source": [
    "root_path = \"/Users/danieldubovski/projects/deep_query_optimization\"\n",
    "\n",
    "import sys\n",
    "import os\n",
    "sys.path.insert(0, root_path)\n",
    "\n",
    "import matplotlib as mpl\n",
    "\n",
    "plt_backend = mpl.get_backend()\n",
    "print(plt_backend)\n",
    "from matplotlib import pyplot as plt\n",
    "import pandas as pd\n",
    "from pandas import Panel\n",
    "import numpy as np\n",
    "import pytorch_lightning as pl\n",
    "import torch\n",
    "from importlib import reload \n",
    "from tqdm.auto import tqdm\n",
    "from collections import Counter\n",
    "import sklearn\n",
    "import seaborn as sns\n",
    "from sklearn import metrics as skm\n",
    "import json\n",
    "from dqo.estimator import evaluate as ge\n",
    "from dqo.estimator.gerelt import v1, v2, v3, v4, v7, v8, v9,v10, v11, v12, v13, v14, v15, v16\n",
    "from dqo import datasets\n",
    "\n",
    "mpl.use(plt_backend)"
   ]
  },
  {
   "cell_type": "code",
   "execution_count": 2,
   "metadata": {},
   "outputs": [
    {
     "data": {
      "text/plain": [
       "<module 'dqo.estimator.gerelt.evaluate' from '/Users/danieldubovski/projects/deep_query_optimization/dqo/estimator/gerelt/evaluate.py'>"
      ]
     },
     "execution_count": 2,
     "metadata": {},
     "output_type": "execute_result"
    }
   ],
   "source": [
    "import importlib \n",
    "importlib.reload(ge)"
   ]
  },
  {
   "cell_type": "markdown",
   "metadata": {},
   "source": [
    "# Trained on tpch"
   ]
  },
  {
   "cell_type": "code",
   "execution_count": null,
   "metadata": {},
   "outputs": [],
   "source": [
    "summary_df, results_df = ge.compare_versions(versions=[v2, v3, v11, v12, v13, v14, v15, v16], trained_on=['tpch','all'], test_on=['tpcd', 'tpch', 'imdb','tpcds'])"
   ]
  },
  {
   "cell_type": "code",
   "execution_count": null,
   "metadata": {},
   "outputs": [],
   "source": [
    "summary_df.groupby(['trained_on', 'version']).aggregate(['mean', 'max'])"
   ]
  },
  {
   "cell_type": "code",
   "execution_count": null,
   "metadata": {},
   "outputs": [],
   "source": [
    "_, _=ge.compare_versions(versions=[v2, v3, v11, v12, v13, v14, v15, v16], trained_on='tpch_alt', test_on=['tpcd', 'tpch', 'imdb','tpcds'])"
   ]
  },
  {
   "cell_type": "code",
   "execution_count": null,
   "metadata": {},
   "outputs": [],
   "source": [
    "_, _=ge.compare_versions(versions=[v2, v3, v11, v12, v13, v14, v15, v16], trained_on='aug', test_on=['tpcd', 'tpch', 'imdb','tpcds'])"
   ]
  },
  {
   "cell_type": "markdown",
   "metadata": {},
   "source": [
    "---"
   ]
  },
  {
   "cell_type": "markdown",
   "metadata": {},
   "source": [
    "# Trained on ALL"
   ]
  },
  {
   "cell_type": "code",
   "execution_count": 14,
   "metadata": {},
   "outputs": [
    {
     "name": "stdout",
     "output_type": "stream",
     "text": [
      "[Errno 2] No such file or directory: '/Users/danieldubovski/projects/deep_query_optimization/dqo/estimator/gerelt/v2/logs/aug'\n",
      "[Errno 2] No such file or directory: '/Users/danieldubovski/projects/deep_query_optimization/dqo/estimator/gerelt/v2/logs/aug'\n",
      "[Errno 2] No such file or directory: '/Users/danieldubovski/projects/deep_query_optimization/dqo/estimator/gerelt/v2/logs/aug'\n",
      "[Errno 2] No such file or directory: '/Users/danieldubovski/projects/deep_query_optimization/dqo/estimator/gerelt/v2/logs/aug'\n",
      "[Errno 2] No such file or directory: '/Users/danieldubovski/projects/deep_query_optimization/dqo/estimator/gerelt/v7/logs/aug'\n",
      "[Errno 2] No such file or directory: '/Users/danieldubovski/projects/deep_query_optimization/dqo/estimator/gerelt/v7/logs/aug'\n",
      "[Errno 2] No such file or directory: '/Users/danieldubovski/projects/deep_query_optimization/dqo/estimator/gerelt/v7/logs/aug'\n",
      "[Errno 2] No such file or directory: '/Users/danieldubovski/projects/deep_query_optimization/dqo/estimator/gerelt/v7/logs/aug'\n"
     ]
    },
    {
     "name": "stderr",
     "output_type": "stream",
     "text": [
      "100%|██████████| 343/343 [01:34<00:00,  3.62it/s]\n"
     ]
    },
    {
     "name": "stdout",
     "output_type": "stream",
     "text": [
      "df: tpcd, v: dqo.estimator.gerelt.v14, cp: /Users/danieldubovski/projects/deep_query_optimization/dqo/estimator/gerelt/v14/logs/aug/version_0/checkpoints/epoch=24-step=3797249.ckpt ::  {\"accuracy\": 0.15743440233236153, \"balanced accuracy\": 0.05729166666666667, \"kappa\": 0.07154899499840772, \"recall\": 0.12980769230769232, \"mae\": 2.122448979591837, \"f1 macro\": 0.09990916692527384, \"f1 weighted\": 0.12117263393852454}\n"
     ]
    },
    {
     "name": "stderr",
     "output_type": "stream",
     "text": [
      "100%|██████████| 270/270 [01:00<00:00,  4.48it/s]\n"
     ]
    },
    {
     "name": "stdout",
     "output_type": "stream",
     "text": [
      "df: tpch, v: dqo.estimator.gerelt.v14, cp: /Users/danieldubovski/projects/deep_query_optimization/dqo/estimator/gerelt/v14/logs/aug/version_0/checkpoints/epoch=24-step=3797249.ckpt ::  {\"accuracy\": 0.5851851851851851, \"balanced accuracy\": 0.5530303030303031, \"kappa\": 0.5452084461288575, \"recall\": 0.5902777777777779, \"mae\": 0.7851851851851852, \"f1 macro\": 0.6011674344954248, \"f1 weighted\": 0.5879119301284531}\n"
     ]
    },
    {
     "name": "stderr",
     "output_type": "stream",
     "text": [
      "100%|██████████| 167/167 [00:59<00:00,  2.80it/s]\n"
     ]
    },
    {
     "name": "stdout",
     "output_type": "stream",
     "text": [
      "df: imdb, v: dqo.estimator.gerelt.v14, cp: /Users/danieldubovski/projects/deep_query_optimization/dqo/estimator/gerelt/v14/logs/aug/version_0/checkpoints/epoch=24-step=3797249.ckpt ::  {\"accuracy\": 0.4550898203592814, \"balanced accuracy\": 0.41010101010101013, \"kappa\": 0.3995416650203484, \"recall\": 0.45925925925925926, \"mae\": 1.2574850299401197, \"f1 macro\": 0.4575933516163237, \"f1 weighted\": 0.4365328485706052}\n"
     ]
    },
    {
     "name": "stderr",
     "output_type": "stream",
     "text": [
      "100%|██████████| 636/636 [04:31<00:00,  2.34it/s]\n"
     ]
    },
    {
     "name": "stdout",
     "output_type": "stream",
     "text": [
      "df: tpcds, v: dqo.estimator.gerelt.v14, cp: /Users/danieldubovski/projects/deep_query_optimization/dqo/estimator/gerelt/v14/logs/aug/version_0/checkpoints/epoch=24-step=3797249.ckpt ::  {\"accuracy\": 0.5864779874213837, \"balanced accuracy\": 0.4828786761064204, \"kappa\": 0.5374328001592885, \"recall\": 0.5259721197642186, \"mae\": 0.6698113207547169, \"f1 macro\": 0.5400269098722543, \"f1 weighted\": 0.5748613580379122}\n",
      "[Errno 2] No such file or directory: '/Users/danieldubovski/projects/deep_query_optimization/dqo/estimator/gerelt/v15/logs/aug'\n",
      "[Errno 2] No such file or directory: '/Users/danieldubovski/projects/deep_query_optimization/dqo/estimator/gerelt/v15/logs/aug'\n",
      "[Errno 2] No such file or directory: '/Users/danieldubovski/projects/deep_query_optimization/dqo/estimator/gerelt/v15/logs/aug'\n",
      "[Errno 2] No such file or directory: '/Users/danieldubovski/projects/deep_query_optimization/dqo/estimator/gerelt/v15/logs/aug'\n"
     ]
    },
    {
     "name": "stderr",
     "output_type": "stream",
     "text": [
      "100%|██████████| 343/343 [00:21<00:00, 16.24it/s]\n"
     ]
    },
    {
     "name": "stdout",
     "output_type": "stream",
     "text": [
      "df: tpcd, v: dqo.estimator.gerelt.v16, cp: /Users/danieldubovski/projects/deep_query_optimization/dqo/estimator/gerelt/v16/logs/aug/version_0/checkpoints/epoch=39-step=6075599.ckpt ::  {\"accuracy\": 0.17784256559766765, \"balanced accuracy\": 0.07847222222222221, \"kappa\": 0.09504607755999428, \"recall\": 0.14935897435897436, \"mae\": 2.011661807580175, \"f1 macro\": 0.12182651478886916, \"f1 weighted\": 0.1439420928410416}\n"
     ]
    },
    {
     "name": "stderr",
     "output_type": "stream",
     "text": [
      "100%|██████████| 270/270 [00:14<00:00, 18.47it/s]\n"
     ]
    },
    {
     "name": "stdout",
     "output_type": "stream",
     "text": [
      "df: tpch, v: dqo.estimator.gerelt.v16, cp: /Users/danieldubovski/projects/deep_query_optimization/dqo/estimator/gerelt/v16/logs/aug/version_0/checkpoints/epoch=39-step=6075599.ckpt ::  {\"accuracy\": 0.5555555555555556, \"balanced accuracy\": 0.5113636363636365, \"kappa\": 0.512591389114541, \"recall\": 0.5520833333333334, \"mae\": 0.7444444444444445, \"f1 macro\": 0.5621223760639463, \"f1 weighted\": 0.5551527566904316}\n"
     ]
    },
    {
     "name": "stderr",
     "output_type": "stream",
     "text": [
      "100%|██████████| 167/167 [00:18<00:00,  9.13it/s]\n"
     ]
    },
    {
     "name": "stdout",
     "output_type": "stream",
     "text": [
      "df: imdb, v: dqo.estimator.gerelt.v16, cp: /Users/danieldubovski/projects/deep_query_optimization/dqo/estimator/gerelt/v16/logs/aug/version_0/checkpoints/epoch=39-step=6075599.ckpt ::  {\"accuracy\": 0.41317365269461076, \"balanced accuracy\": 0.3362373737373738, \"kappa\": 0.352866745749308, \"recall\": 0.39155092592592594, \"mae\": 1.377245508982036, \"f1 macro\": 0.38553740299326617, \"f1 weighted\": 0.4008321607688103}\n"
     ]
    },
    {
     "name": "stderr",
     "output_type": "stream",
     "text": [
      "100%|██████████| 636/636 [01:12<00:00,  8.74it/s]\n"
     ]
    },
    {
     "name": "stdout",
     "output_type": "stream",
     "text": [
      "df: tpcds, v: dqo.estimator.gerelt.v16, cp: /Users/danieldubovski/projects/deep_query_optimization/dqo/estimator/gerelt/v16/logs/aug/version_0/checkpoints/epoch=39-step=6075599.ckpt ::  {\"accuracy\": 0.559748427672956, \"balanced accuracy\": 0.4510336441852644, \"kappa\": 0.5079806706692047, \"recall\": 0.496780840503159, \"mae\": 0.690251572327044, \"f1 macro\": 0.5052011894050725, \"f1 weighted\": 0.548639994451742}\n",
      "[Errno 2] No such file or directory: '/Users/danieldubovski/projects/deep_query_optimization/dqo/estimator/gerelt/v2/logs/all'\n",
      "[Errno 2] No such file or directory: '/Users/danieldubovski/projects/deep_query_optimization/dqo/estimator/gerelt/v2/logs/all'\n",
      "[Errno 2] No such file or directory: '/Users/danieldubovski/projects/deep_query_optimization/dqo/estimator/gerelt/v2/logs/all'\n",
      "[Errno 2] No such file or directory: '/Users/danieldubovski/projects/deep_query_optimization/dqo/estimator/gerelt/v2/logs/all'\n"
     ]
    },
    {
     "name": "stderr",
     "output_type": "stream",
     "text": [
      "100%|██████████| 343/343 [00:19<00:00, 17.49it/s]\n"
     ]
    },
    {
     "name": "stdout",
     "output_type": "stream",
     "text": [
      "df: tpcd, v: dqo.estimator.gerelt.v7, cp: /Users/danieldubovski/projects/deep_query_optimization/dqo/estimator/gerelt/v7/logs/all/version_1/checkpoints/epoch=56-step=4285554.ckpt ::  {\"accuracy\": 0.1749271137026239, \"balanced accuracy\": 0.07291666666666664, \"kappa\": 0.090032154340836, \"recall\": 0.14423076923076922, \"mae\": 2.381924198250729, \"f1 macro\": 0.11450795710583693, \"f1 weighted\": 0.13887845526538822}\n"
     ]
    },
    {
     "name": "stderr",
     "output_type": "stream",
     "text": [
      "100%|██████████| 270/270 [00:14<00:00, 18.60it/s]\n"
     ]
    },
    {
     "name": "stdout",
     "output_type": "stream",
     "text": [
      "df: tpch, v: dqo.estimator.gerelt.v7, cp: /Users/danieldubovski/projects/deep_query_optimization/dqo/estimator/gerelt/v7/logs/all/version_1/checkpoints/epoch=56-step=4285554.ckpt ::  {\"accuracy\": 0.23703703703703705, \"balanced accuracy\": 0.15151515151515152, \"kappa\": 0.1630552546045504, \"recall\": 0.2222222222222222, \"mae\": 1.7962962962962963, \"f1 macro\": 0.2083096484828099, \"f1 weighted\": 0.22219695838166387}\n"
     ]
    },
    {
     "name": "stderr",
     "output_type": "stream",
     "text": [
      "100%|██████████| 167/167 [00:17<00:00,  9.61it/s]\n"
     ]
    },
    {
     "name": "stdout",
     "output_type": "stream",
     "text": [
      "df: imdb, v: dqo.estimator.gerelt.v7, cp: /Users/danieldubovski/projects/deep_query_optimization/dqo/estimator/gerelt/v7/logs/all/version_1/checkpoints/epoch=56-step=4285554.ckpt ::  {\"accuracy\": 0.1437125748502994, \"balanced accuracy\": 0.04545454545454546, \"kappa\": 0.052980132450331174, \"recall\": 0.125, \"mae\": 2.7784431137724552, \"f1 macro\": 0.09502816776486006, \"f1 weighted\": 0.10925394138235409}\n"
     ]
    },
    {
     "name": "stderr",
     "output_type": "stream",
     "text": [
      "100%|██████████| 636/636 [01:07<00:00,  9.38it/s]\n"
     ]
    },
    {
     "name": "stdout",
     "output_type": "stream",
     "text": [
      "df: tpcds, v: dqo.estimator.gerelt.v7, cp: /Users/danieldubovski/projects/deep_query_optimization/dqo/estimator/gerelt/v7/logs/all/version_1/checkpoints/epoch=56-step=4285554.ckpt ::  {\"accuracy\": 0.2720125786163522, \"balanced accuracy\": 0.15869803172803837, \"kappa\": 0.18305678164299732, \"recall\": 0.22880652908403518, \"mae\": 1.5141509433962264, \"f1 macro\": 0.2211104773693121, \"f1 weighted\": 0.24967841395242343}\n"
     ]
    },
    {
     "name": "stderr",
     "output_type": "stream",
     "text": [
      "100%|██████████| 343/343 [01:43<00:00,  3.30it/s]\n"
     ]
    },
    {
     "name": "stdout",
     "output_type": "stream",
     "text": [
      "df: tpcd, v: dqo.estimator.gerelt.v14, cp: /Users/danieldubovski/projects/deep_query_optimization/dqo/estimator/gerelt/v14/logs/all/version_0/checkpoints/epoch=49-step=3782549.ckpt ::  {\"accuracy\": 0.13411078717201166, \"balanced accuracy\": 0.042361111111111106, \"kappa\": 0.045776428932726376, \"recall\": 0.11602564102564103, \"mae\": 2.4723032069970845, \"f1 macro\": 0.08236372457433053, \"f1 weighted\": 0.08998049394437756}\n"
     ]
    },
    {
     "name": "stderr",
     "output_type": "stream",
     "text": [
      "100%|██████████| 270/270 [01:05<00:00,  4.12it/s]\n"
     ]
    },
    {
     "name": "stdout",
     "output_type": "stream",
     "text": [
      "df: tpch, v: dqo.estimator.gerelt.v14, cp: /Users/danieldubovski/projects/deep_query_optimization/dqo/estimator/gerelt/v14/logs/all/version_0/checkpoints/epoch=49-step=3782549.ckpt ::  {\"accuracy\": 0.5888888888888889, \"balanced accuracy\": 0.5454545454545455, \"kappa\": 0.5491470349309504, \"recall\": 0.5833333333333334, \"mae\": 0.8148148148148148, \"f1 macro\": 0.5884417730241802, \"f1 weighted\": 0.583226780114681}\n"
     ]
    },
    {
     "name": "stderr",
     "output_type": "stream",
     "text": [
      "100%|██████████| 167/167 [01:04<00:00,  2.57it/s]\n"
     ]
    },
    {
     "name": "stdout",
     "output_type": "stream",
     "text": [
      "df: imdb, v: dqo.estimator.gerelt.v14, cp: /Users/danieldubovski/projects/deep_query_optimization/dqo/estimator/gerelt/v14/logs/all/version_0/checkpoints/epoch=49-step=3782549.ckpt ::  {\"accuracy\": 0.4550898203592814, \"balanced accuracy\": 0.376010101010101, \"kappa\": 0.39942301612393305, \"recall\": 0.42800925925925926, \"mae\": 1.3832335329341316, \"f1 macro\": 0.39927512589671804, \"f1 weighted\": 0.4212652716326112}\n"
     ]
    },
    {
     "name": "stderr",
     "output_type": "stream",
     "text": [
      "100%|██████████| 636/636 [05:48<00:00,  1.82it/s]\n"
     ]
    },
    {
     "name": "stdout",
     "output_type": "stream",
     "text": [
      "df: tpcds, v: dqo.estimator.gerelt.v14, cp: /Users/danieldubovski/projects/deep_query_optimization/dqo/estimator/gerelt/v14/logs/all/version_0/checkpoints/epoch=49-step=3782549.ckpt ::  {\"accuracy\": 0.559748427672956, \"balanced accuracy\": 0.4371327177206708, \"kappa\": 0.5072604922967947, \"recall\": 0.4840383245772815, \"mae\": 0.7547169811320755, \"f1 macro\": 0.4910402199929416, \"f1 weighted\": 0.5468047316817063}\n"
     ]
    },
    {
     "name": "stderr",
     "output_type": "stream",
     "text": [
      "100%|██████████| 343/343 [02:14<00:00,  2.55it/s]\n"
     ]
    },
    {
     "name": "stdout",
     "output_type": "stream",
     "text": [
      "df: tpcd, v: dqo.estimator.gerelt.v15, cp: /Users/danieldubovski/projects/deep_query_optimization/dqo/estimator/gerelt/v15/logs/all/version_0/checkpoints/epoch=79-step=6052079.ckpt ::  {\"accuracy\": 0.1457725947521866, \"balanced accuracy\": 0.04982638888888887, \"kappa\": 0.058178001443204286, \"recall\": 0.12291666666666666, \"mae\": 2.19533527696793, \"f1 macro\": 0.09751553023449448, \"f1 weighted\": 0.11243866057594666}\n"
     ]
    },
    {
     "name": "stderr",
     "output_type": "stream",
     "text": [
      "100%|██████████| 270/270 [01:19<00:00,  3.41it/s]\n"
     ]
    },
    {
     "name": "stdout",
     "output_type": "stream",
     "text": [
      "df: tpch, v: dqo.estimator.gerelt.v15, cp: /Users/danieldubovski/projects/deep_query_optimization/dqo/estimator/gerelt/v15/logs/all/version_0/checkpoints/epoch=79-step=6052079.ckpt ::  {\"accuracy\": 0.5814814814814815, \"balanced accuracy\": 0.5265151515151515, \"kappa\": 0.5408992416034669, \"recall\": 0.5659722222222222, \"mae\": 0.7148148148148148, \"f1 macro\": 0.5700895684450911, \"f1 weighted\": 0.5747622063414304}\n"
     ]
    },
    {
     "name": "stderr",
     "output_type": "stream",
     "text": [
      "100%|██████████| 167/167 [00:59<00:00,  2.83it/s]\n"
     ]
    },
    {
     "name": "stdout",
     "output_type": "stream",
     "text": [
      "df: imdb, v: dqo.estimator.gerelt.v15, cp: /Users/danieldubovski/projects/deep_query_optimization/dqo/estimator/gerelt/v15/logs/all/version_0/checkpoints/epoch=79-step=6052079.ckpt ::  {\"accuracy\": 0.4491017964071856, \"balanced accuracy\": 0.37133838383838386, \"kappa\": 0.3926792631828603, \"recall\": 0.4237268518518518, \"mae\": 1.4431137724550898, \"f1 macro\": 0.4141100574597347, \"f1 weighted\": 0.43019439739881676}\n"
     ]
    },
    {
     "name": "stderr",
     "output_type": "stream",
     "text": [
      "100%|██████████| 636/636 [04:11<00:00,  2.53it/s]\n"
     ]
    },
    {
     "name": "stdout",
     "output_type": "stream",
     "text": [
      "df: tpcds, v: dqo.estimator.gerelt.v15, cp: /Users/danieldubovski/projects/deep_query_optimization/dqo/estimator/gerelt/v15/logs/all/version_0/checkpoints/epoch=79-step=6052079.ckpt ::  {\"accuracy\": 0.5974842767295597, \"balanced accuracy\": 0.48682555986986864, \"kappa\": 0.5505238312145431, \"recall\": 0.5295900965473795, \"mae\": 0.6336477987421384, \"f1 macro\": 0.5435893168237224, \"f1 weighted\": 0.5926163622325719}\n"
     ]
    },
    {
     "name": "stderr",
     "output_type": "stream",
     "text": [
      "100%|██████████| 343/343 [00:19<00:00, 17.60it/s]\n"
     ]
    },
    {
     "name": "stdout",
     "output_type": "stream",
     "text": [
      "df: tpcd, v: dqo.estimator.gerelt.v16, cp: /Users/danieldubovski/projects/deep_query_optimization/dqo/estimator/gerelt/v16/logs/all/version_0/checkpoints/epoch=99-step=7565099.ckpt ::  {\"accuracy\": 0.14285714285714285, \"balanced accuracy\": 0.047222222222222214, \"kappa\": 0.055264612473182706, \"recall\": 0.12051282051282051, \"mae\": 2.3381924198250728, \"f1 macro\": 0.09240597796265812, \"f1 weighted\": 0.10685543191911152}\n"
     ]
    },
    {
     "name": "stderr",
     "output_type": "stream",
     "text": [
      "100%|██████████| 270/270 [00:14<00:00, 18.19it/s]\n"
     ]
    },
    {
     "name": "stdout",
     "output_type": "stream",
     "text": [
      "df: tpch, v: dqo.estimator.gerelt.v16, cp: /Users/danieldubovski/projects/deep_query_optimization/dqo/estimator/gerelt/v16/logs/all/version_0/checkpoints/epoch=99-step=7565099.ckpt ::  {\"accuracy\": 0.5814814814814815, \"balanced accuracy\": 0.5492424242424242, \"kappa\": 0.5411478072550081, \"recall\": 0.5868055555555556, \"mae\": 0.762962962962963, \"f1 macro\": 0.5912409662021648, \"f1 weighted\": 0.5773236972823091}\n"
     ]
    },
    {
     "name": "stderr",
     "output_type": "stream",
     "text": [
      "100%|██████████| 167/167 [00:17<00:00,  9.40it/s]\n"
     ]
    },
    {
     "name": "stdout",
     "output_type": "stream",
     "text": [
      "df: imdb, v: dqo.estimator.gerelt.v16, cp: /Users/danieldubovski/projects/deep_query_optimization/dqo/estimator/gerelt/v16/logs/all/version_0/checkpoints/epoch=99-step=7565099.ckpt ::  {\"accuracy\": 0.40718562874251496, \"balanced accuracy\": 0.3261363636363637, \"kappa\": 0.34595300261096606, \"recall\": 0.3822916666666667, \"mae\": 1.5389221556886228, \"f1 macro\": 0.3656817880858949, \"f1 weighted\": 0.38638738195314987}\n"
     ]
    },
    {
     "name": "stderr",
     "output_type": "stream",
     "text": [
      "100%|██████████| 636/636 [01:09<00:00,  9.14it/s]\n"
     ]
    },
    {
     "name": "stdout",
     "output_type": "stream",
     "text": [
      "df: tpcds, v: dqo.estimator.gerelt.v16, cp: /Users/danieldubovski/projects/deep_query_optimization/dqo/estimator/gerelt/v16/logs/all/version_0/checkpoints/epoch=99-step=7565099.ckpt ::  {\"accuracy\": 0.5849056603773585, \"balanced accuracy\": 0.47708910047204506, \"kappa\": 0.5368446604619858, \"recall\": 0.5206650087660413, \"mae\": 0.6776729559748428, \"f1 macro\": 0.5298233718075107, \"f1 weighted\": 0.5781619924020133}\n"
     ]
    },
    {
     "name": "stderr",
     "output_type": "stream",
     "text": [
      "100%|██████████| 343/343 [01:18<00:00,  4.35it/s]\n"
     ]
    },
    {
     "name": "stdout",
     "output_type": "stream",
     "text": [
      "df: tpcd, v: dqo.estimator.gerelt.v2, cp: /Users/danieldubovski/projects/deep_query_optimization/dqo/estimator/gerelt/v2/logs/tpch/version_0/checkpoints/epoch=48-step=881537.ckpt ::  {\"accuracy\": 0.119533527696793, \"balanced accuracy\": 0.02343749999999999, \"kappa\": 0.029557527098303504, \"recall\": 0.0985576923076923, \"mae\": 2.6443148688046647, \"f1 macro\": 0.05830901981404928, \"f1 weighted\": 0.0707188112030452}\n"
     ]
    },
    {
     "name": "stderr",
     "output_type": "stream",
     "text": [
      "100%|██████████| 270/270 [00:53<00:00,  5.02it/s]\n"
     ]
    },
    {
     "name": "stdout",
     "output_type": "stream",
     "text": [
      "df: tpch, v: dqo.estimator.gerelt.v2, cp: /Users/danieldubovski/projects/deep_query_optimization/dqo/estimator/gerelt/v2/logs/tpch/version_0/checkpoints/epoch=48-step=881537.ckpt ::  {\"accuracy\": 0.16666666666666666, \"balanced accuracy\": 0.07954545454545459, \"kappa\": 0.08586132177681471, \"recall\": 0.15625000000000003, \"mae\": 2.3777777777777778, \"f1 macro\": 0.12348905895434865, \"f1 weighted\": 0.13172166288463857}\n"
     ]
    },
    {
     "name": "stderr",
     "output_type": "stream",
     "text": [
      "100%|██████████| 167/167 [00:52<00:00,  3.16it/s]\n"
     ]
    },
    {
     "name": "stdout",
     "output_type": "stream",
     "text": [
      "df: imdb, v: dqo.estimator.gerelt.v2, cp: /Users/danieldubovski/projects/deep_query_optimization/dqo/estimator/gerelt/v2/logs/tpch/version_0/checkpoints/epoch=48-step=881537.ckpt ::  {\"accuracy\": 0.0718562874251497, \"balanced accuracy\": -0.022727272727272724, \"kappa\": -0.026490066225165476, \"recall\": 0.0625, \"mae\": 3.1497005988023954, \"f1 macro\": 0.04132881222664505, \"f1 weighted\": 0.047515760164765566}\n"
     ]
    },
    {
     "name": "stderr",
     "output_type": "stream",
     "text": [
      "100%|██████████| 636/636 [03:30<00:00,  3.02it/s]\n"
     ]
    },
    {
     "name": "stdout",
     "output_type": "stream",
     "text": [
      "df: tpcds, v: dqo.estimator.gerelt.v2, cp: /Users/danieldubovski/projects/deep_query_optimization/dqo/estimator/gerelt/v2/logs/tpch/version_0/checkpoints/epoch=48-step=881537.ckpt ::  {\"accuracy\": 0.07547169811320754, \"balanced accuracy\": -0.011985840656395014, \"kappa\": -0.021318432824815048, \"recall\": 0.0723463127316379, \"mae\": 3.3647798742138364, \"f1 macro\": 0.061918103126928324, \"f1 weighted\": 0.06701420018873014}\n"
     ]
    },
    {
     "name": "stderr",
     "output_type": "stream",
     "text": [
      "100%|██████████| 343/343 [00:17<00:00, 19.47it/s]\n"
     ]
    },
    {
     "name": "stdout",
     "output_type": "stream",
     "text": [
      "df: tpcd, v: dqo.estimator.gerelt.v7, cp: /Users/danieldubovski/projects/deep_query_optimization/dqo/estimator/gerelt/v7/logs/tpch/version_2/checkpoints/epoch=108-step=1981946.ckpt ::  {\"accuracy\": 0.13994169096209913, \"balanced accuracy\": 0.041666666666666664, \"kappa\": 0.05212226812429166, \"recall\": 0.11538461538461539, \"mae\": 2.3527696793002915, \"f1 macro\": 0.07812799641206357, \"f1 weighted\": 0.09475582072133656}\n"
     ]
    },
    {
     "name": "stderr",
     "output_type": "stream",
     "text": [
      "100%|██████████| 270/270 [00:13<00:00, 20.24it/s]\n"
     ]
    },
    {
     "name": "stdout",
     "output_type": "stream",
     "text": [
      "df: tpch, v: dqo.estimator.gerelt.v7, cp: /Users/danieldubovski/projects/deep_query_optimization/dqo/estimator/gerelt/v7/logs/tpch/version_2/checkpoints/epoch=108-step=1981946.ckpt ::  {\"accuracy\": 0.26296296296296295, \"balanced accuracy\": 0.18939393939393945, \"kappa\": 0.19127607694391768, \"recall\": 0.2569444444444445, \"mae\": 2.0407407407407407, \"f1 macro\": 0.22484066464249394, \"f1 weighted\": 0.2207824232377078}\n"
     ]
    },
    {
     "name": "stderr",
     "output_type": "stream",
     "text": [
      "100%|██████████| 167/167 [00:16<00:00, 10.22it/s]\n"
     ]
    },
    {
     "name": "stdout",
     "output_type": "stream",
     "text": [
      "df: imdb, v: dqo.estimator.gerelt.v7, cp: /Users/danieldubovski/projects/deep_query_optimization/dqo/estimator/gerelt/v7/logs/tpch/version_2/checkpoints/epoch=108-step=1981946.ckpt ::  {\"accuracy\": 0.1317365269461078, \"balanced accuracy\": 0.034090909090909095, \"kappa\": 0.039735099337748214, \"recall\": 0.11458333333333333, \"mae\": 3.1377245508982035, \"f1 macro\": 0.07398089344840687, \"f1 weighted\": 0.08505587749756958}\n"
     ]
    },
    {
     "name": "stderr",
     "output_type": "stream",
     "text": [
      "100%|██████████| 636/636 [01:04<00:00,  9.91it/s]\n"
     ]
    },
    {
     "name": "stdout",
     "output_type": "stream",
     "text": [
      "df: tpcds, v: dqo.estimator.gerelt.v7, cp: /Users/danieldubovski/projects/deep_query_optimization/dqo/estimator/gerelt/v7/logs/tpch/version_2/checkpoints/epoch=108-step=1981946.ckpt ::  {\"accuracy\": 0.09748427672955975, \"balanced accuracy\": 0.03968524155650457, \"kappa\": 0.02670363655753427, \"recall\": 0.11971147142679585, \"mae\": 3.6761006289308176, \"f1 macro\": 0.07404707706831372, \"f1 weighted\": 0.07653405030931237}\n"
     ]
    },
    {
     "name": "stderr",
     "output_type": "stream",
     "text": [
      "100%|██████████| 343/343 [01:36<00:00,  3.56it/s]\n"
     ]
    },
    {
     "name": "stdout",
     "output_type": "stream",
     "text": [
      "df: tpcd, v: dqo.estimator.gerelt.v14, cp: /Users/danieldubovski/projects/deep_query_optimization/dqo/estimator/gerelt/v14/logs/tpch/version_2/checkpoints/epoch=49-step=818199.ckpt ::  {\"accuracy\": 0.1749271137026239, \"balanced accuracy\": 0.07291666666666664, \"kappa\": 0.09046699898804378, \"recall\": 0.14423076923076922, \"mae\": 2.192419825072886, \"f1 macro\": 0.11971557171187555, \"f1 weighted\": 0.14519439601207063}\n"
     ]
    },
    {
     "name": "stderr",
     "output_type": "stream",
     "text": [
      "100%|██████████| 270/270 [01:03<00:00,  4.25it/s]\n"
     ]
    },
    {
     "name": "stdout",
     "output_type": "stream",
     "text": [
      "df: tpch, v: dqo.estimator.gerelt.v14, cp: /Users/danieldubovski/projects/deep_query_optimization/dqo/estimator/gerelt/v14/logs/tpch/version_2/checkpoints/epoch=49-step=818199.ckpt ::  {\"accuracy\": 0.5962962962962963, \"balanced accuracy\": 0.553030303030303, \"kappa\": 0.5572705117790415, \"recall\": 0.5902777777777778, \"mae\": 0.7333333333333333, \"f1 macro\": 0.5998989495550179, \"f1 weighted\": 0.5954477684142413}\n"
     ]
    },
    {
     "name": "stderr",
     "output_type": "stream",
     "text": [
      "100%|██████████| 167/167 [01:02<00:00,  2.69it/s]\n"
     ]
    },
    {
     "name": "stdout",
     "output_type": "stream",
     "text": [
      "df: imdb, v: dqo.estimator.gerelt.v14, cp: /Users/danieldubovski/projects/deep_query_optimization/dqo/estimator/gerelt/v14/logs/tpch/version_2/checkpoints/epoch=49-step=818199.ckpt ::  {\"accuracy\": 0.11976047904191617, \"balanced accuracy\": 0.02272727272727274, \"kappa\": 0.027685361216730042, \"recall\": 0.10416666666666667, \"mae\": 3.029940119760479, \"f1 macro\": 0.07686555515236371, \"f1 weighted\": 0.08837237478595109}\n"
     ]
    },
    {
     "name": "stderr",
     "output_type": "stream",
     "text": [
      "100%|██████████| 636/636 [04:23<00:00,  2.42it/s]\n",
      "/usr/local/anaconda3/envs/py37/lib/python3.7/site-packages/sklearn/metrics/_classification.py:1814: UserWarning: y_pred contains classes not in y_true\n",
      "  warnings.warn('y_pred contains classes not in y_true')\n"
     ]
    },
    {
     "name": "stdout",
     "output_type": "stream",
     "text": [
      "df: tpcds, v: dqo.estimator.gerelt.v14, cp: /Users/danieldubovski/projects/deep_query_optimization/dqo/estimator/gerelt/v14/logs/tpch/version_2/checkpoints/epoch=49-step=818199.ckpt ::  {\"accuracy\": 0.08490566037735849, \"balanced accuracy\": 0.004389793420575141, \"kappa\": 0.002839393759799136, \"recall\": 0.08063751750971743, \"mae\": 3.5723270440251573, \"f1 macro\": 0.052038112257609896, \"f1 weighted\": 0.06353201354884543}\n"
     ]
    },
    {
     "name": "stderr",
     "output_type": "stream",
     "text": [
      "100%|██████████| 343/343 [01:31<00:00,  3.74it/s]\n"
     ]
    },
    {
     "name": "stdout",
     "output_type": "stream",
     "text": [
      "df: tpcd, v: dqo.estimator.gerelt.v15, cp: /Users/danieldubovski/projects/deep_query_optimization/dqo/estimator/gerelt/v15/logs/tpch/version_1/checkpoints/epoch=149-step=2454599.ckpt ::  {\"accuracy\": 0.1924198250728863, \"balanced accuracy\": 0.09149305555555552, \"kappa\": 0.11045885646340659, \"recall\": 0.1613782051282051, \"mae\": 2.1370262390670556, \"f1 macro\": 0.14330240055862015, \"f1 weighted\": 0.1694913637400022}\n"
     ]
    },
    {
     "name": "stderr",
     "output_type": "stream",
     "text": [
      "100%|██████████| 270/270 [00:59<00:00,  4.54it/s]\n"
     ]
    },
    {
     "name": "stdout",
     "output_type": "stream",
     "text": [
      "df: tpch, v: dqo.estimator.gerelt.v15, cp: /Users/danieldubovski/projects/deep_query_optimization/dqo/estimator/gerelt/v15/logs/tpch/version_1/checkpoints/epoch=149-step=2454599.ckpt ::  {\"accuracy\": 0.6407407407407407, \"balanced accuracy\": 0.5984848484848484, \"kappa\": 0.6060113728675873, \"recall\": 0.6319444444444444, \"mae\": 0.6444444444444445, \"f1 macro\": 0.64337019531757, \"f1 weighted\": 0.6418170972276301}\n"
     ]
    },
    {
     "name": "stderr",
     "output_type": "stream",
     "text": [
      "100%|██████████| 167/167 [00:58<00:00,  2.84it/s]\n"
     ]
    },
    {
     "name": "stdout",
     "output_type": "stream",
     "text": [
      "df: imdb, v: dqo.estimator.gerelt.v15, cp: /Users/danieldubovski/projects/deep_query_optimization/dqo/estimator/gerelt/v15/logs/tpch/version_1/checkpoints/epoch=149-step=2454599.ckpt ::  {\"accuracy\": 0.11377245508982035, \"balanced accuracy\": 0.017045454545454548, \"kappa\": 0.019867549668874163, \"recall\": 0.09895833333333333, \"mae\": 2.856287425149701, \"f1 macro\": 0.07914490527393754, \"f1 weighted\": 0.09099294498560483}\n"
     ]
    },
    {
     "name": "stderr",
     "output_type": "stream",
     "text": [
      "100%|██████████| 636/636 [04:10<00:00,  2.53it/s]\n"
     ]
    },
    {
     "name": "stdout",
     "output_type": "stream",
     "text": [
      "df: tpcds, v: dqo.estimator.gerelt.v15, cp: /Users/danieldubovski/projects/deep_query_optimization/dqo/estimator/gerelt/v15/logs/tpch/version_1/checkpoints/epoch=149-step=2454599.ckpt ::  {\"accuracy\": 0.11477987421383648, \"balanced accuracy\": 0.024522025795370446, \"kappa\": 0.015520479059038306, \"recall\": 0.10581185697908957, \"mae\": 2.6745283018867925, \"f1 macro\": 0.07302878693521593, \"f1 weighted\": 0.08246436596904629}\n"
     ]
    },
    {
     "name": "stderr",
     "output_type": "stream",
     "text": [
      "100%|██████████| 343/343 [00:19<00:00, 17.21it/s]\n"
     ]
    },
    {
     "name": "stdout",
     "output_type": "stream",
     "text": [
      "df: tpcd, v: dqo.estimator.gerelt.v16, cp: /Users/danieldubovski/projects/deep_query_optimization/dqo/estimator/gerelt/v16/logs/tpch/version_0/checkpoints/epoch=99-step=1636399.ckpt ::  {\"accuracy\": 0.15743440233236153, \"balanced accuracy\": 0.05729166666666667, \"kappa\": 0.07162725357059219, \"recall\": 0.12980769230769232, \"mae\": 2.1690962099125364, \"f1 macro\": 0.10838546880654967, \"f1 weighted\": 0.13145293009773953}\n"
     ]
    },
    {
     "name": "stderr",
     "output_type": "stream",
     "text": [
      "100%|██████████| 270/270 [00:14<00:00, 18.87it/s]\n"
     ]
    },
    {
     "name": "stdout",
     "output_type": "stream",
     "text": [
      "df: tpch, v: dqo.estimator.gerelt.v16, cp: /Users/danieldubovski/projects/deep_query_optimization/dqo/estimator/gerelt/v16/logs/tpch/version_0/checkpoints/epoch=99-step=1636399.ckpt ::  {\"accuracy\": 0.6851851851851852, \"balanced accuracy\": 0.6553030303030303, \"kappa\": 0.6548456957227937, \"recall\": 0.6840277777777778, \"mae\": 0.5481481481481482, \"f1 macro\": 0.69063313996199, \"f1 weighted\": 0.683342015959456}\n"
     ]
    },
    {
     "name": "stderr",
     "output_type": "stream",
     "text": [
      "100%|██████████| 167/167 [00:17<00:00,  9.55it/s]\n"
     ]
    },
    {
     "name": "stdout",
     "output_type": "stream",
     "text": [
      "df: imdb, v: dqo.estimator.gerelt.v16, cp: /Users/danieldubovski/projects/deep_query_optimization/dqo/estimator/gerelt/v16/logs/tpch/version_0/checkpoints/epoch=99-step=1636399.ckpt ::  {\"accuracy\": 0.08982035928143713, \"balanced accuracy\": -0.005681818181818177, \"kappa\": -0.0066225165562914245, \"recall\": 0.078125, \"mae\": 3.287425149700599, \"f1 macro\": 0.07127114911126131, \"f1 weighted\": 0.08194048281055193}\n"
     ]
    },
    {
     "name": "stderr",
     "output_type": "stream",
     "text": [
      "100%|██████████| 636/636 [01:07<00:00,  9.43it/s]\n"
     ]
    },
    {
     "name": "stdout",
     "output_type": "stream",
     "text": [
      "df: tpcds, v: dqo.estimator.gerelt.v16, cp: /Users/danieldubovski/projects/deep_query_optimization/dqo/estimator/gerelt/v16/logs/tpch/version_0/checkpoints/epoch=99-step=1636399.ckpt ::  {\"accuracy\": 0.08647798742138364, \"balanced accuracy\": 0.012903406477629553, \"kappa\": 0.0010543219088091638, \"recall\": 0.09516145593782709, \"mae\": 3.279874213836478, \"f1 macro\": 0.06281399858877582, \"f1 weighted\": 0.06837825960490303}\n"
     ]
    }
   ],
   "source": [
    "asummary_df, aresults_df = ge.compare_versions(versions=[v2, v7, v14, v15, v16], trained_on=['aug','all','tpch'], test_on=['tpcd', 'tpch', 'imdb', 'tpcds'])"
   ]
  },
  {
   "cell_type": "code",
   "execution_count": 9,
   "metadata": {},
   "outputs": [],
   "source": [
    "pd.set_option('display.max_rows', 63)\n"
   ]
  },
  {
   "cell_type": "code",
   "execution_count": 11,
   "metadata": {},
   "outputs": [
    {
     "data": {
      "text/html": [
       "<div>\n",
       "<style scoped>\n",
       "    .dataframe tbody tr th:only-of-type {\n",
       "        vertical-align: middle;\n",
       "    }\n",
       "\n",
       "    .dataframe tbody tr th {\n",
       "        vertical-align: top;\n",
       "    }\n",
       "\n",
       "    .dataframe thead tr th {\n",
       "        text-align: left;\n",
       "    }\n",
       "\n",
       "    .dataframe thead tr:last-of-type th {\n",
       "        text-align: right;\n",
       "    }\n",
       "</style>\n",
       "<table border=\"1\" class=\"dataframe\">\n",
       "  <thead>\n",
       "    <tr>\n",
       "      <th></th>\n",
       "      <th></th>\n",
       "      <th colspan=\"2\" halign=\"left\">accuracy</th>\n",
       "      <th colspan=\"2\" halign=\"left\">balanced accuracy</th>\n",
       "      <th colspan=\"2\" halign=\"left\">recall</th>\n",
       "      <th colspan=\"2\" halign=\"left\">f1 weighted</th>\n",
       "      <th colspan=\"2\" halign=\"left\">mae</th>\n",
       "    </tr>\n",
       "    <tr>\n",
       "      <th></th>\n",
       "      <th></th>\n",
       "      <th>mean</th>\n",
       "      <th>median</th>\n",
       "      <th>mean</th>\n",
       "      <th>median</th>\n",
       "      <th>mean</th>\n",
       "      <th>median</th>\n",
       "      <th>mean</th>\n",
       "      <th>median</th>\n",
       "      <th>mean</th>\n",
       "      <th>median</th>\n",
       "    </tr>\n",
       "    <tr>\n",
       "      <th>trained_on</th>\n",
       "      <th>version</th>\n",
       "      <th></th>\n",
       "      <th></th>\n",
       "      <th></th>\n",
       "      <th></th>\n",
       "      <th></th>\n",
       "      <th></th>\n",
       "      <th></th>\n",
       "      <th></th>\n",
       "      <th></th>\n",
       "      <th></th>\n",
       "    </tr>\n",
       "  </thead>\n",
       "  <tbody>\n",
       "    <tr>\n",
       "      <th rowspan=\"7\" valign=\"top\">all</th>\n",
       "      <th>v10</th>\n",
       "      <td>0.190112</td>\n",
       "      <td>0.149701</td>\n",
       "      <td>0.096196</td>\n",
       "      <td>0.051136</td>\n",
       "      <td>0.169471</td>\n",
       "      <td>0.130208</td>\n",
       "      <td>0.155948</td>\n",
       "      <td>0.110131</td>\n",
       "      <td>2.602648</td>\n",
       "      <td>2.542274</td>\n",
       "    </tr>\n",
       "    <tr>\n",
       "      <th>v13</th>\n",
       "      <td>0.000000</td>\n",
       "      <td>0.000000</td>\n",
       "      <td>0.000000</td>\n",
       "      <td>0.000000</td>\n",
       "      <td>0.000000</td>\n",
       "      <td>0.000000</td>\n",
       "      <td>0.000000</td>\n",
       "      <td>0.000000</td>\n",
       "      <td>0.000000</td>\n",
       "      <td>0.000000</td>\n",
       "    </tr>\n",
       "    <tr>\n",
       "      <th>v14</th>\n",
       "      <td>0.375362</td>\n",
       "      <td>0.401198</td>\n",
       "      <td>0.306308</td>\n",
       "      <td>0.320455</td>\n",
       "      <td>0.362108</td>\n",
       "      <td>0.377083</td>\n",
       "      <td>0.349214</td>\n",
       "      <td>0.364872</td>\n",
       "      <td>1.580415</td>\n",
       "      <td>1.682635</td>\n",
       "    </tr>\n",
       "    <tr>\n",
       "      <th>v15</th>\n",
       "      <td>0.373024</td>\n",
       "      <td>0.395210</td>\n",
       "      <td>0.300011</td>\n",
       "      <td>0.319192</td>\n",
       "      <td>0.356363</td>\n",
       "      <td>0.375926</td>\n",
       "      <td>0.351563</td>\n",
       "      <td>0.362222</td>\n",
       "      <td>1.509923</td>\n",
       "      <td>1.520958</td>\n",
       "    </tr>\n",
       "    <tr>\n",
       "      <th>v16</th>\n",
       "      <td>0.385132</td>\n",
       "      <td>0.437126</td>\n",
       "      <td>0.309785</td>\n",
       "      <td>0.354545</td>\n",
       "      <td>0.365278</td>\n",
       "      <td>0.408333</td>\n",
       "      <td>0.364212</td>\n",
       "      <td>0.416666</td>\n",
       "      <td>1.493271</td>\n",
       "      <td>1.461078</td>\n",
       "    </tr>\n",
       "    <tr>\n",
       "      <th>v2</th>\n",
       "      <td>0.000000</td>\n",
       "      <td>0.000000</td>\n",
       "      <td>0.000000</td>\n",
       "      <td>0.000000</td>\n",
       "      <td>0.000000</td>\n",
       "      <td>0.000000</td>\n",
       "      <td>0.000000</td>\n",
       "      <td>0.000000</td>\n",
       "      <td>0.000000</td>\n",
       "      <td>0.000000</td>\n",
       "    </tr>\n",
       "    <tr>\n",
       "      <th>v7</th>\n",
       "      <td>0.185226</td>\n",
       "      <td>0.174927</td>\n",
       "      <td>0.089962</td>\n",
       "      <td>0.072917</td>\n",
       "      <td>0.163818</td>\n",
       "      <td>0.144231</td>\n",
       "      <td>0.156776</td>\n",
       "      <td>0.138878</td>\n",
       "      <td>2.318888</td>\n",
       "      <td>2.381924</td>\n",
       "    </tr>\n",
       "    <tr>\n",
       "      <th rowspan=\"7\" valign=\"top\">aug</th>\n",
       "      <th>v10</th>\n",
       "      <td>0.000000</td>\n",
       "      <td>0.000000</td>\n",
       "      <td>0.000000</td>\n",
       "      <td>0.000000</td>\n",
       "      <td>0.000000</td>\n",
       "      <td>0.000000</td>\n",
       "      <td>0.000000</td>\n",
       "      <td>0.000000</td>\n",
       "      <td>0.000000</td>\n",
       "      <td>0.000000</td>\n",
       "    </tr>\n",
       "    <tr>\n",
       "      <th>v13</th>\n",
       "      <td>0.000000</td>\n",
       "      <td>0.000000</td>\n",
       "      <td>0.000000</td>\n",
       "      <td>0.000000</td>\n",
       "      <td>0.000000</td>\n",
       "      <td>0.000000</td>\n",
       "      <td>0.000000</td>\n",
       "      <td>0.000000</td>\n",
       "      <td>0.000000</td>\n",
       "      <td>0.000000</td>\n",
       "    </tr>\n",
       "    <tr>\n",
       "      <th>v14</th>\n",
       "      <td>0.296802</td>\n",
       "      <td>0.287425</td>\n",
       "      <td>0.223238</td>\n",
       "      <td>0.202273</td>\n",
       "      <td>0.286004</td>\n",
       "      <td>0.268750</td>\n",
       "      <td>0.265853</td>\n",
       "      <td>0.249924</td>\n",
       "      <td>1.544832</td>\n",
       "      <td>1.682635</td>\n",
       "    </tr>\n",
       "    <tr>\n",
       "      <th>v15</th>\n",
       "      <td>0.000000</td>\n",
       "      <td>0.000000</td>\n",
       "      <td>0.000000</td>\n",
       "      <td>0.000000</td>\n",
       "      <td>0.000000</td>\n",
       "      <td>0.000000</td>\n",
       "      <td>0.000000</td>\n",
       "      <td>0.000000</td>\n",
       "      <td>0.000000</td>\n",
       "      <td>0.000000</td>\n",
       "    </tr>\n",
       "    <tr>\n",
       "      <th>v16</th>\n",
       "      <td>0.349465</td>\n",
       "      <td>0.347305</td>\n",
       "      <td>0.277599</td>\n",
       "      <td>0.273737</td>\n",
       "      <td>0.335797</td>\n",
       "      <td>0.334259</td>\n",
       "      <td>0.331092</td>\n",
       "      <td>0.333732</td>\n",
       "      <td>1.439061</td>\n",
       "      <td>1.514970</td>\n",
       "    </tr>\n",
       "    <tr>\n",
       "      <th>v2</th>\n",
       "      <td>0.000000</td>\n",
       "      <td>0.000000</td>\n",
       "      <td>0.000000</td>\n",
       "      <td>0.000000</td>\n",
       "      <td>0.000000</td>\n",
       "      <td>0.000000</td>\n",
       "      <td>0.000000</td>\n",
       "      <td>0.000000</td>\n",
       "      <td>0.000000</td>\n",
       "      <td>0.000000</td>\n",
       "    </tr>\n",
       "    <tr>\n",
       "      <th>v7</th>\n",
       "      <td>0.000000</td>\n",
       "      <td>0.000000</td>\n",
       "      <td>0.000000</td>\n",
       "      <td>0.000000</td>\n",
       "      <td>0.000000</td>\n",
       "      <td>0.000000</td>\n",
       "      <td>0.000000</td>\n",
       "      <td>0.000000</td>\n",
       "      <td>0.000000</td>\n",
       "      <td>0.000000</td>\n",
       "    </tr>\n",
       "    <tr>\n",
       "      <th rowspan=\"7\" valign=\"top\">tpch</th>\n",
       "      <th>v10</th>\n",
       "      <td>0.190928</td>\n",
       "      <td>0.151603</td>\n",
       "      <td>0.101326</td>\n",
       "      <td>0.052083</td>\n",
       "      <td>0.174190</td>\n",
       "      <td>0.125000</td>\n",
       "      <td>0.175145</td>\n",
       "      <td>0.118014</td>\n",
       "      <td>2.494675</td>\n",
       "      <td>2.571429</td>\n",
       "    </tr>\n",
       "    <tr>\n",
       "      <th>v13</th>\n",
       "      <td>0.318927</td>\n",
       "      <td>0.186589</td>\n",
       "      <td>0.238989</td>\n",
       "      <td>0.086285</td>\n",
       "      <td>0.300454</td>\n",
       "      <td>0.156571</td>\n",
       "      <td>0.299971</td>\n",
       "      <td>0.150609</td>\n",
       "      <td>1.872451</td>\n",
       "      <td>2.206997</td>\n",
       "    </tr>\n",
       "    <tr>\n",
       "      <th>v14</th>\n",
       "      <td>0.296995</td>\n",
       "      <td>0.174927</td>\n",
       "      <td>0.216225</td>\n",
       "      <td>0.072917</td>\n",
       "      <td>0.279558</td>\n",
       "      <td>0.144231</td>\n",
       "      <td>0.276338</td>\n",
       "      <td>0.145194</td>\n",
       "      <td>1.985231</td>\n",
       "      <td>2.192420</td>\n",
       "    </tr>\n",
       "    <tr>\n",
       "      <th>v15</th>\n",
       "      <td>0.315644</td>\n",
       "      <td>0.192420</td>\n",
       "      <td>0.235674</td>\n",
       "      <td>0.091493</td>\n",
       "      <td>0.297427</td>\n",
       "      <td>0.161378</td>\n",
       "      <td>0.300767</td>\n",
       "      <td>0.169491</td>\n",
       "      <td>1.879253</td>\n",
       "      <td>2.137026</td>\n",
       "    </tr>\n",
       "    <tr>\n",
       "      <th>v16</th>\n",
       "      <td>0.310813</td>\n",
       "      <td>0.157434</td>\n",
       "      <td>0.235638</td>\n",
       "      <td>0.057292</td>\n",
       "      <td>0.297320</td>\n",
       "      <td>0.129808</td>\n",
       "      <td>0.298912</td>\n",
       "      <td>0.131453</td>\n",
       "      <td>2.001557</td>\n",
       "      <td>2.169096</td>\n",
       "    </tr>\n",
       "    <tr>\n",
       "      <th>v2</th>\n",
       "      <td>0.119352</td>\n",
       "      <td>0.119534</td>\n",
       "      <td>0.026752</td>\n",
       "      <td>0.023437</td>\n",
       "      <td>0.105769</td>\n",
       "      <td>0.098558</td>\n",
       "      <td>0.083319</td>\n",
       "      <td>0.070719</td>\n",
       "      <td>2.723931</td>\n",
       "      <td>2.644315</td>\n",
       "    </tr>\n",
       "    <tr>\n",
       "      <th>v7</th>\n",
       "      <td>0.178214</td>\n",
       "      <td>0.139942</td>\n",
       "      <td>0.088384</td>\n",
       "      <td>0.041667</td>\n",
       "      <td>0.162304</td>\n",
       "      <td>0.115385</td>\n",
       "      <td>0.133531</td>\n",
       "      <td>0.094756</td>\n",
       "      <td>2.510412</td>\n",
       "      <td>2.352770</td>\n",
       "    </tr>\n",
       "  </tbody>\n",
       "</table>\n",
       "</div>"
      ],
      "text/plain": [
       "                    accuracy           balanced accuracy              recall  \\\n",
       "                        mean    median              mean    median      mean   \n",
       "trained_on version                                                             \n",
       "all        v10      0.190112  0.149701          0.096196  0.051136  0.169471   \n",
       "           v13      0.000000  0.000000          0.000000  0.000000  0.000000   \n",
       "           v14      0.375362  0.401198          0.306308  0.320455  0.362108   \n",
       "           v15      0.373024  0.395210          0.300011  0.319192  0.356363   \n",
       "           v16      0.385132  0.437126          0.309785  0.354545  0.365278   \n",
       "           v2       0.000000  0.000000          0.000000  0.000000  0.000000   \n",
       "           v7       0.185226  0.174927          0.089962  0.072917  0.163818   \n",
       "aug        v10      0.000000  0.000000          0.000000  0.000000  0.000000   \n",
       "           v13      0.000000  0.000000          0.000000  0.000000  0.000000   \n",
       "           v14      0.296802  0.287425          0.223238  0.202273  0.286004   \n",
       "           v15      0.000000  0.000000          0.000000  0.000000  0.000000   \n",
       "           v16      0.349465  0.347305          0.277599  0.273737  0.335797   \n",
       "           v2       0.000000  0.000000          0.000000  0.000000  0.000000   \n",
       "           v7       0.000000  0.000000          0.000000  0.000000  0.000000   \n",
       "tpch       v10      0.190928  0.151603          0.101326  0.052083  0.174190   \n",
       "           v13      0.318927  0.186589          0.238989  0.086285  0.300454   \n",
       "           v14      0.296995  0.174927          0.216225  0.072917  0.279558   \n",
       "           v15      0.315644  0.192420          0.235674  0.091493  0.297427   \n",
       "           v16      0.310813  0.157434          0.235638  0.057292  0.297320   \n",
       "           v2       0.119352  0.119534          0.026752  0.023437  0.105769   \n",
       "           v7       0.178214  0.139942          0.088384  0.041667  0.162304   \n",
       "\n",
       "                             f1 weighted                 mae            \n",
       "                      median        mean    median      mean    median  \n",
       "trained_on version                                                      \n",
       "all        v10      0.130208    0.155948  0.110131  2.602648  2.542274  \n",
       "           v13      0.000000    0.000000  0.000000  0.000000  0.000000  \n",
       "           v14      0.377083    0.349214  0.364872  1.580415  1.682635  \n",
       "           v15      0.375926    0.351563  0.362222  1.509923  1.520958  \n",
       "           v16      0.408333    0.364212  0.416666  1.493271  1.461078  \n",
       "           v2       0.000000    0.000000  0.000000  0.000000  0.000000  \n",
       "           v7       0.144231    0.156776  0.138878  2.318888  2.381924  \n",
       "aug        v10      0.000000    0.000000  0.000000  0.000000  0.000000  \n",
       "           v13      0.000000    0.000000  0.000000  0.000000  0.000000  \n",
       "           v14      0.268750    0.265853  0.249924  1.544832  1.682635  \n",
       "           v15      0.000000    0.000000  0.000000  0.000000  0.000000  \n",
       "           v16      0.334259    0.331092  0.333732  1.439061  1.514970  \n",
       "           v2       0.000000    0.000000  0.000000  0.000000  0.000000  \n",
       "           v7       0.000000    0.000000  0.000000  0.000000  0.000000  \n",
       "tpch       v10      0.125000    0.175145  0.118014  2.494675  2.571429  \n",
       "           v13      0.156571    0.299971  0.150609  1.872451  2.206997  \n",
       "           v14      0.144231    0.276338  0.145194  1.985231  2.192420  \n",
       "           v15      0.161378    0.300767  0.169491  1.879253  2.137026  \n",
       "           v16      0.129808    0.298912  0.131453  2.001557  2.169096  \n",
       "           v2       0.098558    0.083319  0.070719  2.723931  2.644315  \n",
       "           v7       0.115385    0.133531  0.094756  2.510412  2.352770  "
      ]
     },
     "execution_count": 11,
     "metadata": {},
     "output_type": "execute_result"
    }
   ],
   "source": [
    "asummary_df.groupby(['trained_on', 'version']).aggregate(['mean', 'median']).head(63)"
   ]
  },
  {
   "cell_type": "code",
   "execution_count": 16,
   "metadata": {},
   "outputs": [],
   "source": [
    "asummary_df.to_csv('all_summary_13_02_21.csv', index=False)"
   ]
  },
  {
   "cell_type": "code",
   "execution_count": null,
   "metadata": {},
   "outputs": [],
   "source": [
    "fig, (ax, ax2, ax3) = plt.subplots(ncols=3, sharey=True)\n",
    "\n",
    "asummary_df.query('trained_on == \"tpch\"').pivot(index='tested_on', columns='version', values='accuracy').plot(ax=ax)\n",
    "asummary_df.query('trained_on == \"all\"').pivot(index='tested_on', columns='version', values='accuracy').plot(ax=ax2)\n",
    "asummary_df.query('trained_on == \"aug\"').pivot(index='tested_on', columns='version', values='accuracy').plot(ax=ax3)\n",
    "\n",
    "\n",
    "plt.show()"
   ]
  },
  {
   "cell_type": "markdown",
   "metadata": {},
   "source": [
    "## stratified"
   ]
  },
  {
   "cell_type": "code",
   "execution_count": 15,
   "metadata": {},
   "outputs": [
    {
     "name": "stdout",
     "output_type": "stream",
     "text": [
      "[Errno 2] No such file or directory: '/Users/danieldubovski/projects/deep_query_optimization/dqo/estimator/gerelt/v2/logs/aug'\n",
      "[Errno 2] No such file or directory: '/Users/danieldubovski/projects/deep_query_optimization/dqo/estimator/gerelt/v2/logs/aug'\n",
      "[Errno 2] No such file or directory: '/Users/danieldubovski/projects/deep_query_optimization/dqo/estimator/gerelt/v2/logs/aug'\n",
      "[Errno 2] No such file or directory: '/Users/danieldubovski/projects/deep_query_optimization/dqo/estimator/gerelt/v2/logs/aug'\n",
      "[Errno 2] No such file or directory: '/Users/danieldubovski/projects/deep_query_optimization/dqo/estimator/gerelt/v7/logs/aug'\n",
      "[Errno 2] No such file or directory: '/Users/danieldubovski/projects/deep_query_optimization/dqo/estimator/gerelt/v7/logs/aug'\n",
      "[Errno 2] No such file or directory: '/Users/danieldubovski/projects/deep_query_optimization/dqo/estimator/gerelt/v7/logs/aug'\n",
      "[Errno 2] No such file or directory: '/Users/danieldubovski/projects/deep_query_optimization/dqo/estimator/gerelt/v7/logs/aug'\n"
     ]
    },
    {
     "name": "stderr",
     "output_type": "stream",
     "text": [
      " 86%|████████▌ | 430/500 [03:03<00:08,  8.26it/s]/usr/local/anaconda3/envs/py37/lib/python3.7/site-packages/numpy/core/fromnumeric.py:3622: RuntimeWarning: Degrees of freedom <= 0 for slice\n",
      "  **kwargs)\n",
      "/usr/local/anaconda3/envs/py37/lib/python3.7/site-packages/numpy/core/_methods.py:227: RuntimeWarning: invalid value encountered in double_scalars\n",
      "  ret = ret.dtype.type(ret / rcount)\n",
      "100%|██████████| 500/500 [03:12<00:00,  2.60it/s]\n"
     ]
    },
    {
     "name": "stdout",
     "output_type": "stream",
     "text": [
      "df: tpcd, v: dqo.estimator.gerelt.v14, cp: /Users/danieldubovski/projects/deep_query_optimization/dqo/estimator/gerelt/v14/logs/aug/version_0/checkpoints/epoch=24-step=3797249.ckpt ::  {\"accuracy\": 0.282, \"balanced accuracy\": 0.08090748507360676, \"kappa\": 0.12902975370223013, \"recall\": 0.15749852798413952, \"mae\": 1.542, \"f1 macro\": 0.13970971536552315, \"f1 weighted\": 0.23298332858777895}\n"
     ]
    },
    {
     "name": "stderr",
     "output_type": "stream",
     "text": [
      " 85%|████████▌ | 427/500 [03:08<00:13,  5.46it/s]/usr/local/anaconda3/envs/py37/lib/python3.7/site-packages/numpy/core/fromnumeric.py:3622: RuntimeWarning: Degrees of freedom <= 0 for slice\n",
      "  **kwargs)\n",
      "/usr/local/anaconda3/envs/py37/lib/python3.7/site-packages/numpy/core/_methods.py:227: RuntimeWarning: invalid value encountered in double_scalars\n",
      "  ret = ret.dtype.type(ret / rcount)\n",
      "100%|██████████| 500/500 [03:15<00:00,  2.55it/s]\n"
     ]
    },
    {
     "name": "stdout",
     "output_type": "stream",
     "text": [
      "df: tpch, v: dqo.estimator.gerelt.v14, cp: /Users/danieldubovski/projects/deep_query_optimization/dqo/estimator/gerelt/v14/logs/aug/version_0/checkpoints/epoch=24-step=3797249.ckpt ::  {\"accuracy\": 0.584, \"balanced accuracy\": 0.4275606401717501, \"kappa\": 0.47616289319263605, \"recall\": 0.47526392015743757, \"mae\": 0.698, \"f1 macro\": 0.4773184236776106, \"f1 weighted\": 0.5854181347978018}\n"
     ]
    },
    {
     "name": "stderr",
     "output_type": "stream",
     "text": [
      "100%|██████████| 500/500 [04:20<00:00,  1.92it/s]\n"
     ]
    },
    {
     "name": "stdout",
     "output_type": "stream",
     "text": [
      "df: imdb, v: dqo.estimator.gerelt.v14, cp: /Users/danieldubovski/projects/deep_query_optimization/dqo/estimator/gerelt/v14/logs/aug/version_0/checkpoints/epoch=24-step=3797249.ckpt ::  {\"accuracy\": 0.64, \"balanced accuracy\": 0.37524702678101646, \"kappa\": 0.535495858171402, \"recall\": 0.42730977454926505, \"mae\": 0.566, \"f1 macro\": 0.4385890923649384, \"f1 weighted\": 0.6289563470822064}\n"
     ]
    },
    {
     "name": "stderr",
     "output_type": "stream",
     "text": [
      "  4%|▍         | 22/501 [00:05<01:50,  4.33it/s]/usr/local/anaconda3/envs/py37/lib/python3.7/site-packages/numpy/core/fromnumeric.py:3622: RuntimeWarning: Degrees of freedom <= 0 for slice\n",
      "  **kwargs)\n",
      "/usr/local/anaconda3/envs/py37/lib/python3.7/site-packages/numpy/core/_methods.py:227: RuntimeWarning: invalid value encountered in double_scalars\n",
      "  ret = ret.dtype.type(ret / rcount)\n",
      "100%|██████████| 501/501 [03:50<00:00,  2.17it/s]\n",
      "/usr/local/anaconda3/envs/py37/lib/python3.7/site-packages/torch/nn/modules/rnn.py:60: UserWarning: dropout option adds dropout after all but last recurrent layer, so non-zero dropout expects num_layers greater than 1, but got dropout=0.1 and num_layers=1\n",
      "  \"num_layers={}\".format(dropout, num_layers))\n"
     ]
    },
    {
     "name": "stdout",
     "output_type": "stream",
     "text": [
      "df: tpcds, v: dqo.estimator.gerelt.v14, cp: /Users/danieldubovski/projects/deep_query_optimization/dqo/estimator/gerelt/v14/logs/aug/version_0/checkpoints/epoch=24-step=3797249.ckpt ::  {\"accuracy\": 0.6367265469061876, \"balanced accuracy\": 0.43249342948250186, \"kappa\": 0.5636180904522613, \"recall\": 0.4797856436922933, \"mae\": 0.5289421157684631, \"f1 macro\": 0.5074750429241782, \"f1 weighted\": 0.6256484097935796}\n",
      "[Errno 2] No such file or directory: '/Users/danieldubovski/projects/deep_query_optimization/dqo/estimator/gerelt/v15/logs/aug'\n",
      "[Errno 2] No such file or directory: '/Users/danieldubovski/projects/deep_query_optimization/dqo/estimator/gerelt/v15/logs/aug'\n",
      "[Errno 2] No such file or directory: '/Users/danieldubovski/projects/deep_query_optimization/dqo/estimator/gerelt/v15/logs/aug'\n",
      "[Errno 2] No such file or directory: '/Users/danieldubovski/projects/deep_query_optimization/dqo/estimator/gerelt/v15/logs/aug'\n"
     ]
    },
    {
     "name": "stderr",
     "output_type": "stream",
     "text": [
      " 86%|████████▌ | 428/500 [00:31<00:02, 27.02it/s]/usr/local/anaconda3/envs/py37/lib/python3.7/site-packages/numpy/core/fromnumeric.py:3622: RuntimeWarning: Degrees of freedom <= 0 for slice\n",
      "  **kwargs)\n",
      "/usr/local/anaconda3/envs/py37/lib/python3.7/site-packages/numpy/core/_methods.py:227: RuntimeWarning: invalid value encountered in double_scalars\n",
      "  ret = ret.dtype.type(ret / rcount)\n",
      "100%|██████████| 500/500 [00:34<00:00, 14.29it/s]\n",
      "/usr/local/anaconda3/envs/py37/lib/python3.7/site-packages/torch/nn/modules/rnn.py:60: UserWarning: dropout option adds dropout after all but last recurrent layer, so non-zero dropout expects num_layers greater than 1, but got dropout=0.1 and num_layers=1\n",
      "  \"num_layers={}\".format(dropout, num_layers))\n"
     ]
    },
    {
     "name": "stdout",
     "output_type": "stream",
     "text": [
      "df: tpcd, v: dqo.estimator.gerelt.v16, cp: /Users/danieldubovski/projects/deep_query_optimization/dqo/estimator/gerelt/v16/logs/aug/version_0/checkpoints/epoch=39-step=6075599.ckpt ::  {\"accuracy\": 0.278, \"balanced accuracy\": 0.05656582825647572, \"kappa\": 0.1150659410697652, \"recall\": 0.1291376876213622, \"mae\": 1.482, \"f1 macro\": 0.12007570184848662, \"f1 weighted\": 0.2266190528124243}\n"
     ]
    },
    {
     "name": "stderr",
     "output_type": "stream",
     "text": [
      " 79%|███████▉  | 397/500 [00:29<00:04, 21.44it/s]/usr/local/anaconda3/envs/py37/lib/python3.7/site-packages/numpy/core/fromnumeric.py:3622: RuntimeWarning: Degrees of freedom <= 0 for slice\n",
      "  **kwargs)\n",
      "/usr/local/anaconda3/envs/py37/lib/python3.7/site-packages/numpy/core/_methods.py:227: RuntimeWarning: invalid value encountered in double_scalars\n",
      "  ret = ret.dtype.type(ret / rcount)\n",
      "100%|██████████| 500/500 [00:33<00:00, 14.93it/s]\n",
      "/usr/local/anaconda3/envs/py37/lib/python3.7/site-packages/torch/nn/modules/rnn.py:60: UserWarning: dropout option adds dropout after all but last recurrent layer, so non-zero dropout expects num_layers greater than 1, but got dropout=0.1 and num_layers=1\n",
      "  \"num_layers={}\".format(dropout, num_layers))\n"
     ]
    },
    {
     "name": "stdout",
     "output_type": "stream",
     "text": [
      "df: tpch, v: dqo.estimator.gerelt.v16, cp: /Users/danieldubovski/projects/deep_query_optimization/dqo/estimator/gerelt/v16/logs/aug/version_0/checkpoints/epoch=39-step=6075599.ckpt ::  {\"accuracy\": 0.666, \"balanced accuracy\": 0.5818433576828727, \"kappa\": 0.5735182952989969, \"recall\": 0.6166897445426333, \"mae\": 0.53, \"f1 macro\": 0.6361542042807588, \"f1 weighted\": 0.660885964594043}\n"
     ]
    },
    {
     "name": "stderr",
     "output_type": "stream",
     "text": [
      "100%|██████████| 500/500 [01:00<00:00,  8.22it/s]\n",
      "/usr/local/anaconda3/envs/py37/lib/python3.7/site-packages/torch/nn/modules/rnn.py:60: UserWarning: dropout option adds dropout after all but last recurrent layer, so non-zero dropout expects num_layers greater than 1, but got dropout=0.1 and num_layers=1\n",
      "  \"num_layers={}\".format(dropout, num_layers))\n"
     ]
    },
    {
     "name": "stdout",
     "output_type": "stream",
     "text": [
      "df: imdb, v: dqo.estimator.gerelt.v16, cp: /Users/danieldubovski/projects/deep_query_optimization/dqo/estimator/gerelt/v16/logs/aug/version_0/checkpoints/epoch=39-step=6075599.ckpt ::  {\"accuracy\": 0.586, \"balanced accuracy\": 0.33659627422741023, \"kappa\": 0.45751589452222086, \"recall\": 0.3918799180417927, \"mae\": 0.626, \"f1 macro\": 0.41538481576047737, \"f1 weighted\": 0.5690460452313242}\n"
     ]
    },
    {
     "name": "stderr",
     "output_type": "stream",
     "text": [
      "  6%|▌         | 30/501 [00:02<00:35, 13.45it/s]/usr/local/anaconda3/envs/py37/lib/python3.7/site-packages/numpy/core/fromnumeric.py:3622: RuntimeWarning: Degrees of freedom <= 0 for slice\n",
      "  **kwargs)\n",
      "/usr/local/anaconda3/envs/py37/lib/python3.7/site-packages/numpy/core/_methods.py:227: RuntimeWarning: invalid value encountered in double_scalars\n",
      "  ret = ret.dtype.type(ret / rcount)\n",
      "100%|██████████| 501/501 [00:57<00:00,  8.76it/s]\n"
     ]
    },
    {
     "name": "stdout",
     "output_type": "stream",
     "text": [
      "df: tpcds, v: dqo.estimator.gerelt.v16, cp: /Users/danieldubovski/projects/deep_query_optimization/dqo/estimator/gerelt/v16/logs/aug/version_0/checkpoints/epoch=39-step=6075599.ckpt ::  {\"accuracy\": 0.6167664670658682, \"balanced accuracy\": 0.4239149461713983, \"kappa\": 0.5394184314983552, \"recall\": 0.4719220339904484, \"mae\": 0.5449101796407185, \"f1 macro\": 0.4964957389738716, \"f1 weighted\": 0.6085290647991718}\n",
      "[Errno 2] No such file or directory: '/Users/danieldubovski/projects/deep_query_optimization/dqo/estimator/gerelt/v2/logs/all'\n",
      "[Errno 2] No such file or directory: '/Users/danieldubovski/projects/deep_query_optimization/dqo/estimator/gerelt/v2/logs/all'\n",
      "[Errno 2] No such file or directory: '/Users/danieldubovski/projects/deep_query_optimization/dqo/estimator/gerelt/v2/logs/all'\n",
      "[Errno 2] No such file or directory: '/Users/danieldubovski/projects/deep_query_optimization/dqo/estimator/gerelt/v2/logs/all'\n"
     ]
    },
    {
     "name": "stderr",
     "output_type": "stream",
     "text": [
      " 82%|████████▏ | 409/500 [00:26<00:03, 24.63it/s]/usr/local/anaconda3/envs/py37/lib/python3.7/site-packages/numpy/core/fromnumeric.py:3622: RuntimeWarning: Degrees of freedom <= 0 for slice\n",
      "  **kwargs)\n",
      "/usr/local/anaconda3/envs/py37/lib/python3.7/site-packages/numpy/core/_methods.py:227: RuntimeWarning: invalid value encountered in double_scalars\n",
      "  ret = ret.dtype.type(ret / rcount)\n",
      "100%|██████████| 500/500 [00:29<00:00, 16.76it/s]\n"
     ]
    },
    {
     "name": "stdout",
     "output_type": "stream",
     "text": [
      "df: tpcd, v: dqo.estimator.gerelt.v7, cp: /Users/danieldubovski/projects/deep_query_optimization/dqo/estimator/gerelt/v7/logs/all/version_1/checkpoints/epoch=56-step=4285554.ckpt ::  {\"accuracy\": 0.324, \"balanced accuracy\": 0.09459359839346763, \"kappa\": 0.1655433596508119, \"recall\": 0.17004413186067865, \"mae\": 1.502, \"f1 macro\": 0.16944948714147112, \"f1 weighted\": 0.2730219401510658}\n"
     ]
    },
    {
     "name": "stderr",
     "output_type": "stream",
     "text": [
      " 78%|███████▊  | 392/500 [00:25<00:05, 20.35it/s]/usr/local/anaconda3/envs/py37/lib/python3.7/site-packages/numpy/core/fromnumeric.py:3622: RuntimeWarning: Degrees of freedom <= 0 for slice\n",
      "  **kwargs)\n",
      "/usr/local/anaconda3/envs/py37/lib/python3.7/site-packages/numpy/core/_methods.py:227: RuntimeWarning: invalid value encountered in double_scalars\n",
      "  ret = ret.dtype.type(ret / rcount)\n",
      "100%|██████████| 500/500 [00:29<00:00, 17.06it/s]\n"
     ]
    },
    {
     "name": "stdout",
     "output_type": "stream",
     "text": [
      "df: tpch, v: dqo.estimator.gerelt.v7, cp: /Users/danieldubovski/projects/deep_query_optimization/dqo/estimator/gerelt/v7/logs/all/version_1/checkpoints/epoch=56-step=4285554.ckpt ::  {\"accuracy\": 0.438, \"balanced accuracy\": 0.16672220349947167, \"kappa\": 0.258242483435842, \"recall\": 0.2361620198745157, \"mae\": 1.068, \"f1 macro\": 0.25471646820110067, \"f1 weighted\": 0.41003368409522645}\n"
     ]
    },
    {
     "name": "stderr",
     "output_type": "stream",
     "text": [
      " 98%|█████████▊| 489/500 [00:56<00:01, 10.97it/s]/usr/local/anaconda3/envs/py37/lib/python3.7/site-packages/numpy/core/fromnumeric.py:3622: RuntimeWarning: Degrees of freedom <= 0 for slice\n",
      "  **kwargs)\n",
      "/usr/local/anaconda3/envs/py37/lib/python3.7/site-packages/numpy/core/_methods.py:227: RuntimeWarning: invalid value encountered in double_scalars\n",
      "  ret = ret.dtype.type(ret / rcount)\n",
      "100%|██████████| 500/500 [00:57<00:00,  8.64it/s]\n"
     ]
    },
    {
     "name": "stdout",
     "output_type": "stream",
     "text": [
      "df: imdb, v: dqo.estimator.gerelt.v7, cp: /Users/danieldubovski/projects/deep_query_optimization/dqo/estimator/gerelt/v7/logs/all/version_1/checkpoints/epoch=56-step=4285554.ckpt ::  {\"accuracy\": 0.308, \"balanced accuracy\": 0.05069147231672835, \"kappa\": 0.06830458361831715, \"recall\": 0.12980051629033432, \"mae\": 1.214, \"f1 macro\": 0.14363182672743124, \"f1 weighted\": 0.2799718580778808}\n"
     ]
    },
    {
     "name": "stderr",
     "output_type": "stream",
     "text": [
      "  4%|▍         | 21/501 [00:01<00:48,  9.85it/s]/usr/local/anaconda3/envs/py37/lib/python3.7/site-packages/numpy/core/fromnumeric.py:3622: RuntimeWarning: Degrees of freedom <= 0 for slice\n",
      "  **kwargs)\n",
      "/usr/local/anaconda3/envs/py37/lib/python3.7/site-packages/numpy/core/_methods.py:227: RuntimeWarning: invalid value encountered in double_scalars\n",
      "  ret = ret.dtype.type(ret / rcount)\n",
      "100%|██████████| 501/501 [00:52<00:00,  9.61it/s]\n"
     ]
    },
    {
     "name": "stdout",
     "output_type": "stream",
     "text": [
      "df: tpcds, v: dqo.estimator.gerelt.v7, cp: /Users/danieldubovski/projects/deep_query_optimization/dqo/estimator/gerelt/v7/logs/all/version_1/checkpoints/epoch=56-step=4285554.ckpt ::  {\"accuracy\": 0.34930139720558884, \"balanced accuracy\": 0.1636326993336991, \"kappa\": 0.22663951891661538, \"recall\": 0.23332997438922418, \"mae\": 1.1057884231536925, \"f1 macro\": 0.22613212678123348, \"f1 weighted\": 0.3375851741382673}\n"
     ]
    },
    {
     "name": "stderr",
     "output_type": "stream",
     "text": [
      " 95%|█████████▌| 477/500 [03:24<00:04,  5.32it/s]/usr/local/anaconda3/envs/py37/lib/python3.7/site-packages/numpy/core/fromnumeric.py:3622: RuntimeWarning: Degrees of freedom <= 0 for slice\n",
      "  **kwargs)\n",
      "/usr/local/anaconda3/envs/py37/lib/python3.7/site-packages/numpy/core/_methods.py:227: RuntimeWarning: invalid value encountered in double_scalars\n",
      "  ret = ret.dtype.type(ret / rcount)\n",
      "100%|██████████| 500/500 [03:27<00:00,  2.41it/s]\n"
     ]
    },
    {
     "name": "stdout",
     "output_type": "stream",
     "text": [
      "df: tpcd, v: dqo.estimator.gerelt.v14, cp: /Users/danieldubovski/projects/deep_query_optimization/dqo/estimator/gerelt/v14/logs/all/version_0/checkpoints/epoch=49-step=3782549.ckpt ::  {\"accuracy\": 0.31, \"balanced accuracy\": 0.06404141168039142, \"kappa\": 0.13788364177940815, \"recall\": 0.14203796070702546, \"mae\": 1.536, \"f1 macro\": 0.12376338378325731, \"f1 weighted\": 0.24147642294118254}\n"
     ]
    },
    {
     "name": "stderr",
     "output_type": "stream",
     "text": [
      " 78%|███████▊  | 392/500 [03:11<00:35,  3.05it/s]/usr/local/anaconda3/envs/py37/lib/python3.7/site-packages/numpy/core/fromnumeric.py:3622: RuntimeWarning: Degrees of freedom <= 0 for slice\n",
      "  **kwargs)\n",
      "/usr/local/anaconda3/envs/py37/lib/python3.7/site-packages/numpy/core/_methods.py:227: RuntimeWarning: invalid value encountered in double_scalars\n",
      "  ret = ret.dtype.type(ret / rcount)\n",
      "100%|██████████| 500/500 [03:25<00:00,  2.44it/s]\n"
     ]
    },
    {
     "name": "stdout",
     "output_type": "stream",
     "text": [
      "df: tpch, v: dqo.estimator.gerelt.v14, cp: /Users/danieldubovski/projects/deep_query_optimization/dqo/estimator/gerelt/v14/logs/all/version_0/checkpoints/epoch=49-step=3782549.ckpt ::  {\"accuracy\": 0.672, \"balanced accuracy\": 0.4902421043326257, \"kappa\": 0.5806634722087274, \"recall\": 0.5327219289715736, \"mae\": 0.486, \"f1 macro\": 0.5492000292243296, \"f1 weighted\": 0.663612909322846}\n"
     ]
    },
    {
     "name": "stderr",
     "output_type": "stream",
     "text": [
      "100%|█████████▉| 498/500 [04:27<00:00,  2.08it/s]/usr/local/anaconda3/envs/py37/lib/python3.7/site-packages/numpy/core/fromnumeric.py:3622: RuntimeWarning: Degrees of freedom <= 0 for slice\n",
      "  **kwargs)\n",
      "/usr/local/anaconda3/envs/py37/lib/python3.7/site-packages/numpy/core/_methods.py:227: RuntimeWarning: invalid value encountered in double_scalars\n",
      "  ret = ret.dtype.type(ret / rcount)\n",
      "100%|██████████| 500/500 [04:27<00:00,  1.87it/s]\n"
     ]
    },
    {
     "name": "stdout",
     "output_type": "stream",
     "text": [
      "df: imdb, v: dqo.estimator.gerelt.v14, cp: /Users/danieldubovski/projects/deep_query_optimization/dqo/estimator/gerelt/v14/logs/all/version_0/checkpoints/epoch=49-step=3782549.ckpt ::  {\"accuracy\": 0.616, \"balanced accuracy\": 0.35106266026987376, \"kappa\": 0.5022528244559779, \"recall\": 0.4051407719140509, \"mae\": 0.674, \"f1 macro\": 0.43404422586952635, \"f1 weighted\": 0.6042431262787638}\n"
     ]
    },
    {
     "name": "stderr",
     "output_type": "stream",
     "text": [
      "  5%|▍         | 25/501 [00:06<01:52,  4.22it/s]/usr/local/anaconda3/envs/py37/lib/python3.7/site-packages/numpy/core/fromnumeric.py:3622: RuntimeWarning: Degrees of freedom <= 0 for slice\n",
      "  **kwargs)\n",
      "/usr/local/anaconda3/envs/py37/lib/python3.7/site-packages/numpy/core/_methods.py:227: RuntimeWarning: invalid value encountered in double_scalars\n",
      "  ret = ret.dtype.type(ret / rcount)\n",
      "100%|██████████| 501/501 [04:14<00:00,  1.97it/s]\n",
      "/usr/local/anaconda3/envs/py37/lib/python3.7/site-packages/torch/nn/modules/rnn.py:60: UserWarning: dropout option adds dropout after all but last recurrent layer, so non-zero dropout expects num_layers greater than 1, but got dropout=0.1 and num_layers=1\n",
      "  \"num_layers={}\".format(dropout, num_layers))\n"
     ]
    },
    {
     "name": "stdout",
     "output_type": "stream",
     "text": [
      "df: tpcds, v: dqo.estimator.gerelt.v14, cp: /Users/danieldubovski/projects/deep_query_optimization/dqo/estimator/gerelt/v14/logs/all/version_0/checkpoints/epoch=49-step=3782549.ckpt ::  {\"accuracy\": 0.6487025948103793, \"balanced accuracy\": 0.4358135505078077, \"kappa\": 0.5769433755865391, \"recall\": 0.48282908796549034, \"mae\": 0.5229540918163673, \"f1 macro\": 0.5175750261001583, \"f1 weighted\": 0.6403646271498101}\n"
     ]
    },
    {
     "name": "stderr",
     "output_type": "stream",
     "text": [
      " 69%|██████▉   | 344/500 [02:47<00:34,  4.52it/s]/usr/local/anaconda3/envs/py37/lib/python3.7/site-packages/numpy/core/fromnumeric.py:3622: RuntimeWarning: Degrees of freedom <= 0 for slice\n",
      "  **kwargs)\n",
      "/usr/local/anaconda3/envs/py37/lib/python3.7/site-packages/numpy/core/_methods.py:227: RuntimeWarning: invalid value encountered in double_scalars\n",
      "  ret = ret.dtype.type(ret / rcount)\n",
      "100%|██████████| 500/500 [03:13<00:00,  2.58it/s]\n",
      "/usr/local/anaconda3/envs/py37/lib/python3.7/site-packages/torch/nn/modules/rnn.py:60: UserWarning: dropout option adds dropout after all but last recurrent layer, so non-zero dropout expects num_layers greater than 1, but got dropout=0.1 and num_layers=1\n",
      "  \"num_layers={}\".format(dropout, num_layers))\n"
     ]
    },
    {
     "name": "stdout",
     "output_type": "stream",
     "text": [
      "df: tpcd, v: dqo.estimator.gerelt.v15, cp: /Users/danieldubovski/projects/deep_query_optimization/dqo/estimator/gerelt/v15/logs/all/version_0/checkpoints/epoch=79-step=6052079.ckpt ::  {\"accuracy\": 0.332, \"balanced accuracy\": 0.07355818079166673, \"kappa\": 0.17234133238177352, \"recall\": 0.1507616657256945, \"mae\": 1.514, \"f1 macro\": 0.1457213073665376, \"f1 weighted\": 0.286269570969028}\n"
     ]
    },
    {
     "name": "stderr",
     "output_type": "stream",
     "text": [
      " 85%|████████▍ | 424/500 [03:16<00:10,  7.32it/s]/usr/local/anaconda3/envs/py37/lib/python3.7/site-packages/numpy/core/fromnumeric.py:3622: RuntimeWarning: Degrees of freedom <= 0 for slice\n",
      "  **kwargs)\n",
      "/usr/local/anaconda3/envs/py37/lib/python3.7/site-packages/numpy/core/_methods.py:227: RuntimeWarning: invalid value encountered in double_scalars\n",
      "  ret = ret.dtype.type(ret / rcount)\n",
      "100%|██████████| 500/500 [03:23<00:00,  2.46it/s]\n",
      "/usr/local/anaconda3/envs/py37/lib/python3.7/site-packages/torch/nn/modules/rnn.py:60: UserWarning: dropout option adds dropout after all but last recurrent layer, so non-zero dropout expects num_layers greater than 1, but got dropout=0.1 and num_layers=1\n",
      "  \"num_layers={}\".format(dropout, num_layers))\n"
     ]
    },
    {
     "name": "stdout",
     "output_type": "stream",
     "text": [
      "df: tpch, v: dqo.estimator.gerelt.v15, cp: /Users/danieldubovski/projects/deep_query_optimization/dqo/estimator/gerelt/v15/logs/all/version_0/checkpoints/epoch=79-step=6052079.ckpt ::  {\"accuracy\": 0.648, \"balanced accuracy\": 0.5546509779191591, \"kappa\": 0.5499803116386343, \"recall\": 0.5917633964258958, \"mae\": 0.528, \"f1 macro\": 0.6058445315053907, \"f1 weighted\": 0.638364290251868}\n"
     ]
    },
    {
     "name": "stderr",
     "output_type": "stream",
     "text": [
      " 98%|█████████▊| 491/500 [04:46<00:03,  2.71it/s]/usr/local/anaconda3/envs/py37/lib/python3.7/site-packages/numpy/core/fromnumeric.py:3622: RuntimeWarning: Degrees of freedom <= 0 for slice\n",
      "  **kwargs)\n",
      "/usr/local/anaconda3/envs/py37/lib/python3.7/site-packages/numpy/core/_methods.py:227: RuntimeWarning: invalid value encountered in double_scalars\n",
      "  ret = ret.dtype.type(ret / rcount)\n",
      "100%|██████████| 500/500 [04:47<00:00,  1.74it/s]\n",
      "/usr/local/anaconda3/envs/py37/lib/python3.7/site-packages/torch/nn/modules/rnn.py:60: UserWarning: dropout option adds dropout after all but last recurrent layer, so non-zero dropout expects num_layers greater than 1, but got dropout=0.1 and num_layers=1\n",
      "  \"num_layers={}\".format(dropout, num_layers))\n"
     ]
    },
    {
     "name": "stdout",
     "output_type": "stream",
     "text": [
      "df: imdb, v: dqo.estimator.gerelt.v15, cp: /Users/danieldubovski/projects/deep_query_optimization/dqo/estimator/gerelt/v15/logs/all/version_0/checkpoints/epoch=79-step=6052079.ckpt ::  {\"accuracy\": 0.662, \"balanced accuracy\": 0.41738392782023215, \"kappa\": 0.5625139141284707, \"recall\": 0.4659352671685461, \"mae\": 0.534, \"f1 macro\": 0.4976076161413894, \"f1 weighted\": 0.6512352690801789}\n"
     ]
    },
    {
     "name": "stderr",
     "output_type": "stream",
     "text": [
      "  3%|▎         | 14/501 [00:04<02:00,  4.05it/s]/usr/local/anaconda3/envs/py37/lib/python3.7/site-packages/numpy/core/fromnumeric.py:3622: RuntimeWarning: Degrees of freedom <= 0 for slice\n",
      "  **kwargs)\n",
      "/usr/local/anaconda3/envs/py37/lib/python3.7/site-packages/numpy/core/_methods.py:227: RuntimeWarning: invalid value encountered in double_scalars\n",
      "  ret = ret.dtype.type(ret / rcount)\n",
      "100%|██████████| 501/501 [04:19<00:00,  1.93it/s]\n",
      "/usr/local/anaconda3/envs/py37/lib/python3.7/site-packages/torch/nn/modules/rnn.py:60: UserWarning: dropout option adds dropout after all but last recurrent layer, so non-zero dropout expects num_layers greater than 1, but got dropout=0.1 and num_layers=1\n",
      "  \"num_layers={}\".format(dropout, num_layers))\n"
     ]
    },
    {
     "name": "stdout",
     "output_type": "stream",
     "text": [
      "df: tpcds, v: dqo.estimator.gerelt.v15, cp: /Users/danieldubovski/projects/deep_query_optimization/dqo/estimator/gerelt/v15/logs/all/version_0/checkpoints/epoch=79-step=6052079.ckpt ::  {\"accuracy\": 0.6307385229540918, \"balanced accuracy\": 0.4728412867799058, \"kappa\": 0.5595510209900538, \"recall\": 0.5167711795482469, \"mae\": 0.49101796407185627, \"f1 macro\": 0.5342166315772913, \"f1 weighted\": 0.6302784047541801}\n"
     ]
    },
    {
     "name": "stderr",
     "output_type": "stream",
     "text": [
      " 70%|██████▉   | 349/500 [00:29<00:08, 17.06it/s]/usr/local/anaconda3/envs/py37/lib/python3.7/site-packages/numpy/core/fromnumeric.py:3622: RuntimeWarning: Degrees of freedom <= 0 for slice\n",
      "  **kwargs)\n",
      "/usr/local/anaconda3/envs/py37/lib/python3.7/site-packages/numpy/core/_methods.py:227: RuntimeWarning: invalid value encountered in double_scalars\n",
      "  ret = ret.dtype.type(ret / rcount)\n",
      "100%|██████████| 500/500 [00:36<00:00, 13.75it/s]\n",
      "/usr/local/anaconda3/envs/py37/lib/python3.7/site-packages/torch/nn/modules/rnn.py:60: UserWarning: dropout option adds dropout after all but last recurrent layer, so non-zero dropout expects num_layers greater than 1, but got dropout=0.1 and num_layers=1\n",
      "  \"num_layers={}\".format(dropout, num_layers))\n"
     ]
    },
    {
     "name": "stdout",
     "output_type": "stream",
     "text": [
      "df: tpcd, v: dqo.estimator.gerelt.v16, cp: /Users/danieldubovski/projects/deep_query_optimization/dqo/estimator/gerelt/v16/logs/all/version_0/checkpoints/epoch=99-step=7565099.ckpt ::  {\"accuracy\": 0.332, \"balanced accuracy\": 0.0897227532659187, \"kappa\": 0.17500308756329497, \"recall\": 0.15974407993777112, \"mae\": 1.418, \"f1 macro\": 0.16017354439580742, \"f1 weighted\": 0.2938244814016817}\n"
     ]
    },
    {
     "name": "stderr",
     "output_type": "stream",
     "text": [
      " 86%|████████▌ | 429/500 [00:31<00:03, 23.55it/s]/usr/local/anaconda3/envs/py37/lib/python3.7/site-packages/numpy/core/fromnumeric.py:3622: RuntimeWarning: Degrees of freedom <= 0 for slice\n",
      "  **kwargs)\n",
      "/usr/local/anaconda3/envs/py37/lib/python3.7/site-packages/numpy/core/_methods.py:227: RuntimeWarning: invalid value encountered in double_scalars\n",
      "  ret = ret.dtype.type(ret / rcount)\n",
      "100%|██████████| 500/500 [00:34<00:00, 14.55it/s]\n",
      "/usr/local/anaconda3/envs/py37/lib/python3.7/site-packages/torch/nn/modules/rnn.py:60: UserWarning: dropout option adds dropout after all but last recurrent layer, so non-zero dropout expects num_layers greater than 1, but got dropout=0.1 and num_layers=1\n",
      "  \"num_layers={}\".format(dropout, num_layers))\n"
     ]
    },
    {
     "name": "stdout",
     "output_type": "stream",
     "text": [
      "df: tpch, v: dqo.estimator.gerelt.v16, cp: /Users/danieldubovski/projects/deep_query_optimization/dqo/estimator/gerelt/v16/logs/all/version_0/checkpoints/epoch=99-step=7565099.ckpt ::  {\"accuracy\": 0.62, \"balanced accuracy\": 0.5324876915623408, \"kappa\": 0.514615192033558, \"recall\": 0.5714470505988123, \"mae\": 0.542, \"f1 macro\": 0.5879959189204633, \"f1 weighted\": 0.6145206125313557}\n"
     ]
    },
    {
     "name": "stderr",
     "output_type": "stream",
     "text": [
      "100%|██████████| 500/500 [01:04<00:00,  7.70it/s]\n",
      "/usr/local/anaconda3/envs/py37/lib/python3.7/site-packages/torch/nn/modules/rnn.py:60: UserWarning: dropout option adds dropout after all but last recurrent layer, so non-zero dropout expects num_layers greater than 1, but got dropout=0.1 and num_layers=1\n",
      "  \"num_layers={}\".format(dropout, num_layers))\n"
     ]
    },
    {
     "name": "stdout",
     "output_type": "stream",
     "text": [
      "df: imdb, v: dqo.estimator.gerelt.v16, cp: /Users/danieldubovski/projects/deep_query_optimization/dqo/estimator/gerelt/v16/logs/all/version_0/checkpoints/epoch=99-step=7565099.ckpt ::  {\"accuracy\": 0.614, \"balanced accuracy\": 0.3279495420438024, \"kappa\": 0.5021230710493594, \"recall\": 0.3839537468734855, \"mae\": 0.618, \"f1 macro\": 0.4265757007952879, \"f1 weighted\": 0.6071085188476663}\n"
     ]
    },
    {
     "name": "stderr",
     "output_type": "stream",
     "text": [
      "  3%|▎         | 15/501 [00:01<01:09,  6.96it/s]/usr/local/anaconda3/envs/py37/lib/python3.7/site-packages/numpy/core/fromnumeric.py:3622: RuntimeWarning: Degrees of freedom <= 0 for slice\n",
      "  **kwargs)\n",
      "/usr/local/anaconda3/envs/py37/lib/python3.7/site-packages/numpy/core/_methods.py:227: RuntimeWarning: invalid value encountered in double_scalars\n",
      "  ret = ret.dtype.type(ret / rcount)\n",
      "100%|██████████| 501/501 [01:00<00:00,  8.31it/s]\n"
     ]
    },
    {
     "name": "stdout",
     "output_type": "stream",
     "text": [
      "df: tpcds, v: dqo.estimator.gerelt.v16, cp: /Users/danieldubovski/projects/deep_query_optimization/dqo/estimator/gerelt/v16/logs/all/version_0/checkpoints/epoch=99-step=7565099.ckpt ::  {\"accuracy\": 0.6487025948103793, \"balanced accuracy\": 0.43849292332784534, \"kappa\": 0.5790438543725474, \"recall\": 0.48528517971719154, \"mae\": 0.5149700598802395, \"f1 macro\": 0.5064748189418377, \"f1 weighted\": 0.6458637629805867}\n"
     ]
    },
    {
     "name": "stderr",
     "output_type": "stream",
     "text": [
      " 87%|████████▋ | 434/500 [02:44<00:09,  7.15it/s]/usr/local/anaconda3/envs/py37/lib/python3.7/site-packages/numpy/core/fromnumeric.py:3622: RuntimeWarning: Degrees of freedom <= 0 for slice\n",
      "  **kwargs)\n",
      "/usr/local/anaconda3/envs/py37/lib/python3.7/site-packages/numpy/core/_methods.py:227: RuntimeWarning: invalid value encountered in double_scalars\n",
      "  ret = ret.dtype.type(ret / rcount)\n",
      "100%|██████████| 500/500 [02:50<00:00,  2.93it/s]\n"
     ]
    },
    {
     "name": "stdout",
     "output_type": "stream",
     "text": [
      "df: tpcd, v: dqo.estimator.gerelt.v2, cp: /Users/danieldubovski/projects/deep_query_optimization/dqo/estimator/gerelt/v2/logs/tpch/version_0/checkpoints/epoch=48-step=881537.ckpt ::  {\"accuracy\": 0.324, \"balanced accuracy\": 0.06102476327296472, \"kappa\": 0.13615522626088095, \"recall\": 0.13325362763658283, \"mae\": 1.53, \"f1 macro\": 0.13080647909321347, \"f1 weighted\": 0.26076452472227024}\n"
     ]
    },
    {
     "name": "stderr",
     "output_type": "stream",
     "text": [
      " 85%|████████▍ | 423/500 [02:41<00:10,  7.33it/s]/usr/local/anaconda3/envs/py37/lib/python3.7/site-packages/numpy/core/fromnumeric.py:3622: RuntimeWarning: Degrees of freedom <= 0 for slice\n",
      "  **kwargs)\n",
      "/usr/local/anaconda3/envs/py37/lib/python3.7/site-packages/numpy/core/_methods.py:227: RuntimeWarning: invalid value encountered in double_scalars\n",
      "  ret = ret.dtype.type(ret / rcount)\n",
      "100%|██████████| 500/500 [02:47<00:00,  2.98it/s]\n"
     ]
    },
    {
     "name": "stdout",
     "output_type": "stream",
     "text": [
      "df: tpch, v: dqo.estimator.gerelt.v2, cp: /Users/danieldubovski/projects/deep_query_optimization/dqo/estimator/gerelt/v2/logs/tpch/version_0/checkpoints/epoch=48-step=881537.ckpt ::  {\"accuracy\": 0.37, \"balanced accuracy\": 0.09160101137322467, \"kappa\": 0.1767891116639837, \"recall\": 0.1673009270921226, \"mae\": 1.312, \"f1 macro\": 0.17203815901449085, \"f1 weighted\": 0.3508974481270374}\n"
     ]
    },
    {
     "name": "stderr",
     "output_type": "stream",
     "text": [
      "100%|█████████▉| 498/500 [03:42<00:00,  3.26it/s]/usr/local/anaconda3/envs/py37/lib/python3.7/site-packages/numpy/core/fromnumeric.py:3622: RuntimeWarning: Degrees of freedom <= 0 for slice\n",
      "  **kwargs)\n",
      "/usr/local/anaconda3/envs/py37/lib/python3.7/site-packages/numpy/core/_methods.py:227: RuntimeWarning: invalid value encountered in double_scalars\n",
      "  ret = ret.dtype.type(ret / rcount)\n",
      "100%|██████████| 500/500 [03:42<00:00,  2.25it/s]\n"
     ]
    },
    {
     "name": "stdout",
     "output_type": "stream",
     "text": [
      "df: imdb, v: dqo.estimator.gerelt.v2, cp: /Users/danieldubovski/projects/deep_query_optimization/dqo/estimator/gerelt/v2/logs/tpch/version_0/checkpoints/epoch=48-step=881537.ckpt ::  {\"accuracy\": 0.224, \"balanced accuracy\": 0.010273099188931701, \"kappa\": 0.012707573143610373, \"recall\": 0.09275034092318739, \"mae\": 1.492, \"f1 macro\": 0.08200795528492072, \"f1 weighted\": 0.20058978396617924}\n"
     ]
    },
    {
     "name": "stderr",
     "output_type": "stream",
     "text": [
      "  5%|▌         | 26/501 [00:05<01:28,  5.38it/s]/usr/local/anaconda3/envs/py37/lib/python3.7/site-packages/numpy/core/fromnumeric.py:3622: RuntimeWarning: Degrees of freedom <= 0 for slice\n",
      "  **kwargs)\n",
      "/usr/local/anaconda3/envs/py37/lib/python3.7/site-packages/numpy/core/_methods.py:227: RuntimeWarning: invalid value encountered in double_scalars\n",
      "  ret = ret.dtype.type(ret / rcount)\n",
      "100%|██████████| 501/501 [03:25<00:00,  2.43it/s]\n"
     ]
    },
    {
     "name": "stdout",
     "output_type": "stream",
     "text": [
      "df: tpcds, v: dqo.estimator.gerelt.v2, cp: /Users/danieldubovski/projects/deep_query_optimization/dqo/estimator/gerelt/v2/logs/tpch/version_0/checkpoints/epoch=48-step=881537.ckpt ::  {\"accuracy\": 0.08782435129740519, \"balanced accuracy\": -0.001858647307380158, \"kappa\": -0.0037703257824521774, \"recall\": 0.08162957330156818, \"mae\": 3.0558882235528944, \"f1 macro\": 0.0670642097660402, \"f1 weighted\": 0.09594711074106554}\n"
     ]
    },
    {
     "name": "stderr",
     "output_type": "stream",
     "text": [
      " 67%|██████▋   | 334/500 [00:25<00:10, 16.55it/s]/usr/local/anaconda3/envs/py37/lib/python3.7/site-packages/numpy/core/fromnumeric.py:3622: RuntimeWarning: Degrees of freedom <= 0 for slice\n",
      "  **kwargs)\n",
      "/usr/local/anaconda3/envs/py37/lib/python3.7/site-packages/numpy/core/_methods.py:227: RuntimeWarning: invalid value encountered in double_scalars\n",
      "  ret = ret.dtype.type(ret / rcount)\n",
      "100%|██████████| 500/500 [00:34<00:00, 14.68it/s]\n"
     ]
    },
    {
     "name": "stdout",
     "output_type": "stream",
     "text": [
      "df: tpcd, v: dqo.estimator.gerelt.v7, cp: /Users/danieldubovski/projects/deep_query_optimization/dqo/estimator/gerelt/v7/logs/tpch/version_2/checkpoints/epoch=108-step=1981946.ckpt ::  {\"accuracy\": 0.298, \"balanced accuracy\": 0.06559918825451853, \"kappa\": 0.11518255976929204, \"recall\": 0.14346592256664198, \"mae\": 1.474, \"f1 macro\": 0.12442426360636633, \"f1 weighted\": 0.2184221891255977}\n"
     ]
    },
    {
     "name": "stderr",
     "output_type": "stream",
     "text": [
      " 80%|████████  | 400/500 [00:29<00:05, 18.47it/s]/usr/local/anaconda3/envs/py37/lib/python3.7/site-packages/numpy/core/fromnumeric.py:3622: RuntimeWarning: Degrees of freedom <= 0 for slice\n",
      "  **kwargs)\n",
      "/usr/local/anaconda3/envs/py37/lib/python3.7/site-packages/numpy/core/_methods.py:227: RuntimeWarning: invalid value encountered in double_scalars\n",
      "  ret = ret.dtype.type(ret / rcount)\n",
      "100%|██████████| 500/500 [00:33<00:00, 14.90it/s]\n"
     ]
    },
    {
     "name": "stdout",
     "output_type": "stream",
     "text": [
      "df: tpch, v: dqo.estimator.gerelt.v7, cp: /Users/danieldubovski/projects/deep_query_optimization/dqo/estimator/gerelt/v7/logs/tpch/version_2/checkpoints/epoch=108-step=1981946.ckpt ::  {\"accuracy\": 0.482, \"balanced accuracy\": 0.16314993457040408, \"kappa\": 0.31090630454216506, \"recall\": 0.2328874400228704, \"mae\": 1.014, \"f1 macro\": 0.23293321875245776, \"f1 weighted\": 0.4427731739619369}\n"
     ]
    },
    {
     "name": "stderr",
     "output_type": "stream",
     "text": [
      " 99%|█████████▉| 497/500 [01:04<00:00,  7.53it/s]/usr/local/anaconda3/envs/py37/lib/python3.7/site-packages/numpy/core/fromnumeric.py:3622: RuntimeWarning: Degrees of freedom <= 0 for slice\n",
      "  **kwargs)\n",
      "/usr/local/anaconda3/envs/py37/lib/python3.7/site-packages/numpy/core/_methods.py:227: RuntimeWarning: invalid value encountered in double_scalars\n",
      "  ret = ret.dtype.type(ret / rcount)\n",
      "100%|██████████| 500/500 [01:04<00:00,  7.76it/s]\n"
     ]
    },
    {
     "name": "stdout",
     "output_type": "stream",
     "text": [
      "df: imdb, v: dqo.estimator.gerelt.v7, cp: /Users/danieldubovski/projects/deep_query_optimization/dqo/estimator/gerelt/v7/logs/tpch/version_2/checkpoints/epoch=108-step=1981946.ckpt ::  {\"accuracy\": 0.198, \"balanced accuracy\": 0.030370799647551388, \"kappa\": 0.031190355391268687, \"recall\": 0.11117323301025543, \"mae\": 1.556, \"f1 macro\": 0.07454465783146101, \"f1 weighted\": 0.147056092884204}\n"
     ]
    },
    {
     "name": "stderr",
     "output_type": "stream",
     "text": [
      " 93%|█████████▎| 465/501 [00:56<00:04,  7.42it/s]/usr/local/anaconda3/envs/py37/lib/python3.7/site-packages/numpy/core/fromnumeric.py:3622: RuntimeWarning: Degrees of freedom <= 0 for slice\n",
      "  **kwargs)\n",
      "/usr/local/anaconda3/envs/py37/lib/python3.7/site-packages/numpy/core/_methods.py:227: RuntimeWarning: invalid value encountered in double_scalars\n",
      "  ret = ret.dtype.type(ret / rcount)\n",
      "100%|██████████| 501/501 [00:59<00:00,  8.35it/s]\n"
     ]
    },
    {
     "name": "stdout",
     "output_type": "stream",
     "text": [
      "df: tpcds, v: dqo.estimator.gerelt.v7, cp: /Users/danieldubovski/projects/deep_query_optimization/dqo/estimator/gerelt/v7/logs/tpch/version_2/checkpoints/epoch=108-step=1981946.ckpt ::  {\"accuracy\": 0.059880239520958084, \"balanced accuracy\": 0.03544168809223448, \"kappa\": 0.008441885872762511, \"recall\": 0.1158215474178816, \"mae\": 3.708582834331337, \"f1 macro\": 0.05910964044860106, \"f1 weighted\": 0.05639995506360095}\n"
     ]
    },
    {
     "name": "stderr",
     "output_type": "stream",
     "text": [
      " 71%|███████   | 356/500 [03:15<00:55,  2.60it/s]/usr/local/anaconda3/envs/py37/lib/python3.7/site-packages/numpy/core/fromnumeric.py:3622: RuntimeWarning: Degrees of freedom <= 0 for slice\n",
      "  **kwargs)\n",
      "/usr/local/anaconda3/envs/py37/lib/python3.7/site-packages/numpy/core/_methods.py:227: RuntimeWarning: invalid value encountered in double_scalars\n",
      "  ret = ret.dtype.type(ret / rcount)\n",
      "100%|██████████| 500/500 [03:40<00:00,  2.26it/s]\n"
     ]
    },
    {
     "name": "stdout",
     "output_type": "stream",
     "text": [
      "df: tpcd, v: dqo.estimator.gerelt.v14, cp: /Users/danieldubovski/projects/deep_query_optimization/dqo/estimator/gerelt/v14/logs/tpch/version_2/checkpoints/epoch=49-step=818199.ckpt ::  {\"accuracy\": 0.294, \"balanced accuracy\": 0.07096283122444012, \"kappa\": 0.1347148480971081, \"recall\": 0.1483825952890701, \"mae\": 1.526, \"f1 macro\": 0.1431944081280019, \"f1 weighted\": 0.25091937506714396}\n"
     ]
    },
    {
     "name": "stderr",
     "output_type": "stream",
     "text": [
      " 77%|███████▋  | 386/500 [03:22<00:28,  3.96it/s]/usr/local/anaconda3/envs/py37/lib/python3.7/site-packages/numpy/core/fromnumeric.py:3622: RuntimeWarning: Degrees of freedom <= 0 for slice\n",
      "  **kwargs)\n",
      "/usr/local/anaconda3/envs/py37/lib/python3.7/site-packages/numpy/core/_methods.py:227: RuntimeWarning: invalid value encountered in double_scalars\n",
      "  ret = ret.dtype.type(ret / rcount)\n",
      "100%|██████████| 500/500 [03:36<00:00,  2.30it/s]\n"
     ]
    },
    {
     "name": "stdout",
     "output_type": "stream",
     "text": [
      "df: tpch, v: dqo.estimator.gerelt.v14, cp: /Users/danieldubovski/projects/deep_query_optimization/dqo/estimator/gerelt/v14/logs/tpch/version_2/checkpoints/epoch=49-step=818199.ckpt ::  {\"accuracy\": 0.606, \"balanced accuracy\": 0.5576193146232635, \"kappa\": 0.5022109917877449, \"recall\": 0.5944843717379916, \"mae\": 0.63, \"f1 macro\": 0.6091458961707082, \"f1 weighted\": 0.6051278990824509}\n"
     ]
    },
    {
     "name": "stderr",
     "output_type": "stream",
     "text": [
      "100%|██████████| 500/500 [05:01<00:00,  1.66it/s]\n"
     ]
    },
    {
     "name": "stdout",
     "output_type": "stream",
     "text": [
      "df: imdb, v: dqo.estimator.gerelt.v14, cp: /Users/danieldubovski/projects/deep_query_optimization/dqo/estimator/gerelt/v14/logs/tpch/version_2/checkpoints/epoch=49-step=818199.ckpt ::  {\"accuracy\": 0.142, \"balanced accuracy\": 0.008984878140383573, \"kappa\": -0.025143496193348325, \"recall\": 0.09156947162868494, \"mae\": 1.81, \"f1 macro\": 0.07800020850845439, \"f1 weighted\": 0.13300163535501597}\n"
     ]
    },
    {
     "name": "stderr",
     "output_type": "stream",
     "text": [
      "  5%|▌         | 26/501 [00:06<01:55,  4.12it/s]/usr/local/anaconda3/envs/py37/lib/python3.7/site-packages/numpy/core/fromnumeric.py:3622: RuntimeWarning: Degrees of freedom <= 0 for slice\n",
      "  **kwargs)\n",
      "/usr/local/anaconda3/envs/py37/lib/python3.7/site-packages/numpy/core/_methods.py:227: RuntimeWarning: invalid value encountered in double_scalars\n",
      "  ret = ret.dtype.type(ret / rcount)\n",
      "100%|██████████| 501/501 [04:05<00:00,  2.04it/s]\n",
      "/usr/local/anaconda3/envs/py37/lib/python3.7/site-packages/sklearn/metrics/_classification.py:1814: UserWarning: y_pred contains classes not in y_true\n",
      "  warnings.warn('y_pred contains classes not in y_true')\n",
      "/usr/local/anaconda3/envs/py37/lib/python3.7/site-packages/torch/nn/modules/rnn.py:60: UserWarning: dropout option adds dropout after all but last recurrent layer, so non-zero dropout expects num_layers greater than 1, but got dropout=0.1 and num_layers=1\n",
      "  \"num_layers={}\".format(dropout, num_layers))\n"
     ]
    },
    {
     "name": "stdout",
     "output_type": "stream",
     "text": [
      "df: tpcds, v: dqo.estimator.gerelt.v14, cp: /Users/danieldubovski/projects/deep_query_optimization/dqo/estimator/gerelt/v14/logs/tpch/version_2/checkpoints/epoch=49-step=818199.ckpt ::  {\"accuracy\": 0.05788423153692615, \"balanced accuracy\": 0.00741476031524857, \"kappa\": 0.001903572046614399, \"recall\": 0.08319710488213342, \"mae\": 3.4491017964071857, \"f1 macro\": 0.03691671761281828, \"f1 weighted\": 0.046029494014305235}\n"
     ]
    },
    {
     "name": "stderr",
     "output_type": "stream",
     "text": [
      " 97%|█████████▋| 487/500 [03:19<00:01,  7.70it/s]/usr/local/anaconda3/envs/py37/lib/python3.7/site-packages/numpy/core/fromnumeric.py:3622: RuntimeWarning: Degrees of freedom <= 0 for slice\n",
      "  **kwargs)\n",
      "/usr/local/anaconda3/envs/py37/lib/python3.7/site-packages/numpy/core/_methods.py:227: RuntimeWarning: invalid value encountered in double_scalars\n",
      "  ret = ret.dtype.type(ret / rcount)\n",
      "100%|██████████| 500/500 [03:20<00:00,  2.49it/s]\n",
      "/usr/local/anaconda3/envs/py37/lib/python3.7/site-packages/torch/nn/modules/rnn.py:60: UserWarning: dropout option adds dropout after all but last recurrent layer, so non-zero dropout expects num_layers greater than 1, but got dropout=0.1 and num_layers=1\n",
      "  \"num_layers={}\".format(dropout, num_layers))\n"
     ]
    },
    {
     "name": "stdout",
     "output_type": "stream",
     "text": [
      "df: tpcd, v: dqo.estimator.gerelt.v15, cp: /Users/danieldubovski/projects/deep_query_optimization/dqo/estimator/gerelt/v15/logs/tpch/version_1/checkpoints/epoch=149-step=2454599.ckpt ::  {\"accuracy\": 0.326, \"balanced accuracy\": 0.1411926493679273, \"kappa\": 0.17171339808879638, \"recall\": 0.2127599285872667, \"mae\": 1.47, \"f1 macro\": 0.21328419810476396, \"f1 weighted\": 0.2806645582516138}\n"
     ]
    },
    {
     "name": "stderr",
     "output_type": "stream",
     "text": [
      " 85%|████████▍ | 423/500 [03:04<00:11,  6.52it/s]/usr/local/anaconda3/envs/py37/lib/python3.7/site-packages/numpy/core/fromnumeric.py:3622: RuntimeWarning: Degrees of freedom <= 0 for slice\n",
      "  **kwargs)\n",
      "/usr/local/anaconda3/envs/py37/lib/python3.7/site-packages/numpy/core/_methods.py:227: RuntimeWarning: invalid value encountered in double_scalars\n",
      "  ret = ret.dtype.type(ret / rcount)\n",
      "100%|██████████| 500/500 [03:12<00:00,  2.59it/s]\n",
      "/usr/local/anaconda3/envs/py37/lib/python3.7/site-packages/torch/nn/modules/rnn.py:60: UserWarning: dropout option adds dropout after all but last recurrent layer, so non-zero dropout expects num_layers greater than 1, but got dropout=0.1 and num_layers=1\n",
      "  \"num_layers={}\".format(dropout, num_layers))\n"
     ]
    },
    {
     "name": "stdout",
     "output_type": "stream",
     "text": [
      "df: tpch, v: dqo.estimator.gerelt.v15, cp: /Users/danieldubovski/projects/deep_query_optimization/dqo/estimator/gerelt/v15/logs/tpch/version_1/checkpoints/epoch=149-step=2454599.ckpt ::  {\"accuracy\": 0.71, \"balanced accuracy\": 0.6825629298692706, \"kappa\": 0.6337828963984442, \"recall\": 0.7090160190468314, \"mae\": 0.49, \"f1 macro\": 0.712663952396657, \"f1 weighted\": 0.7095935568306864}\n"
     ]
    },
    {
     "name": "stderr",
     "output_type": "stream",
     "text": [
      "100%|█████████▉| 498/500 [04:32<00:00,  3.51it/s]/usr/local/anaconda3/envs/py37/lib/python3.7/site-packages/numpy/core/fromnumeric.py:3622: RuntimeWarning: Degrees of freedom <= 0 for slice\n",
      "  **kwargs)\n",
      "/usr/local/anaconda3/envs/py37/lib/python3.7/site-packages/numpy/core/_methods.py:227: RuntimeWarning: invalid value encountered in double_scalars\n",
      "  ret = ret.dtype.type(ret / rcount)\n",
      "100%|██████████| 500/500 [04:32<00:00,  1.84it/s]\n",
      "/usr/local/anaconda3/envs/py37/lib/python3.7/site-packages/torch/nn/modules/rnn.py:60: UserWarning: dropout option adds dropout after all but last recurrent layer, so non-zero dropout expects num_layers greater than 1, but got dropout=0.1 and num_layers=1\n",
      "  \"num_layers={}\".format(dropout, num_layers))\n"
     ]
    },
    {
     "name": "stdout",
     "output_type": "stream",
     "text": [
      "df: imdb, v: dqo.estimator.gerelt.v15, cp: /Users/danieldubovski/projects/deep_query_optimization/dqo/estimator/gerelt/v15/logs/tpch/version_1/checkpoints/epoch=149-step=2454599.ckpt ::  {\"accuracy\": 0.17, \"balanced accuracy\": 0.0024581843654085467, \"kappa\": -0.01926534301348881, \"recall\": 0.0855866690016245, \"mae\": 1.672, \"f1 macro\": 0.08746165768817449, \"f1 weighted\": 0.1804431558884119}\n"
     ]
    },
    {
     "name": "stderr",
     "output_type": "stream",
     "text": [
      "  3%|▎         | 13/501 [00:03<01:48,  4.48it/s]/usr/local/anaconda3/envs/py37/lib/python3.7/site-packages/numpy/core/fromnumeric.py:3622: RuntimeWarning: Degrees of freedom <= 0 for slice\n",
      "  **kwargs)\n",
      "/usr/local/anaconda3/envs/py37/lib/python3.7/site-packages/numpy/core/_methods.py:227: RuntimeWarning: invalid value encountered in double_scalars\n",
      "  ret = ret.dtype.type(ret / rcount)\n",
      "100%|██████████| 501/501 [04:11<00:00,  1.99it/s]\n",
      "/usr/local/anaconda3/envs/py37/lib/python3.7/site-packages/torch/nn/modules/rnn.py:60: UserWarning: dropout option adds dropout after all but last recurrent layer, so non-zero dropout expects num_layers greater than 1, but got dropout=0.1 and num_layers=1\n",
      "  \"num_layers={}\".format(dropout, num_layers))\n"
     ]
    },
    {
     "name": "stdout",
     "output_type": "stream",
     "text": [
      "df: tpcds, v: dqo.estimator.gerelt.v15, cp: /Users/danieldubovski/projects/deep_query_optimization/dqo/estimator/gerelt/v15/logs/tpch/version_1/checkpoints/epoch=149-step=2454599.ckpt ::  {\"accuracy\": 0.11377245508982035, \"balanced accuracy\": 0.023073268237183628, \"kappa\": -0.001954866897887486, \"recall\": 0.10448382921741832, \"mae\": 2.37125748502994, \"f1 macro\": 0.06297030181063122, \"f1 weighted\": 0.09698853251372108}\n"
     ]
    },
    {
     "name": "stderr",
     "output_type": "stream",
     "text": [
      " 95%|█████████▌| 475/500 [00:38<00:01, 20.58it/s]/usr/local/anaconda3/envs/py37/lib/python3.7/site-packages/numpy/core/fromnumeric.py:3622: RuntimeWarning: Degrees of freedom <= 0 for slice\n",
      "  **kwargs)\n",
      "/usr/local/anaconda3/envs/py37/lib/python3.7/site-packages/numpy/core/_methods.py:227: RuntimeWarning: invalid value encountered in double_scalars\n",
      "  ret = ret.dtype.type(ret / rcount)\n",
      "100%|██████████| 500/500 [00:39<00:00, 12.60it/s]\n",
      "/usr/local/anaconda3/envs/py37/lib/python3.7/site-packages/torch/nn/modules/rnn.py:60: UserWarning: dropout option adds dropout after all but last recurrent layer, so non-zero dropout expects num_layers greater than 1, but got dropout=0.1 and num_layers=1\n",
      "  \"num_layers={}\".format(dropout, num_layers))\n"
     ]
    },
    {
     "name": "stdout",
     "output_type": "stream",
     "text": [
      "df: tpcd, v: dqo.estimator.gerelt.v16, cp: /Users/danieldubovski/projects/deep_query_optimization/dqo/estimator/gerelt/v16/logs/tpch/version_0/checkpoints/epoch=99-step=1636399.ckpt ::  {\"accuracy\": 0.304, \"balanced accuracy\": 0.08692320469298888, \"kappa\": 0.14553838447826273, \"recall\": 0.1630129376352398, \"mae\": 1.446, \"f1 macro\": 0.15477522921709283, \"f1 weighted\": 0.25916825243512825}\n"
     ]
    },
    {
     "name": "stderr",
     "output_type": "stream",
     "text": [
      " 27%|██▋       | 137/500 [00:11<00:39,  9.16it/s]/usr/local/anaconda3/envs/py37/lib/python3.7/site-packages/numpy/core/fromnumeric.py:3622: RuntimeWarning: Degrees of freedom <= 0 for slice\n",
      "  **kwargs)\n",
      "/usr/local/anaconda3/envs/py37/lib/python3.7/site-packages/numpy/core/_methods.py:227: RuntimeWarning: invalid value encountered in double_scalars\n",
      "  ret = ret.dtype.type(ret / rcount)\n",
      "100%|██████████| 500/500 [00:43<00:00, 11.62it/s]\n",
      "/usr/local/anaconda3/envs/py37/lib/python3.7/site-packages/torch/nn/modules/rnn.py:60: UserWarning: dropout option adds dropout after all but last recurrent layer, so non-zero dropout expects num_layers greater than 1, but got dropout=0.1 and num_layers=1\n",
      "  \"num_layers={}\".format(dropout, num_layers))\n"
     ]
    },
    {
     "name": "stdout",
     "output_type": "stream",
     "text": [
      "df: tpch, v: dqo.estimator.gerelt.v16, cp: /Users/danieldubovski/projects/deep_query_optimization/dqo/estimator/gerelt/v16/logs/tpch/version_0/checkpoints/epoch=99-step=1636399.ckpt ::  {\"accuracy\": 0.658, \"balanced accuracy\": 0.6057243567238132, \"kappa\": 0.5608989502660284, \"recall\": 0.6385806603301621, \"mae\": 0.482, \"f1 macro\": 0.6514525030296757, \"f1 weighted\": 0.6502690730858169}\n"
     ]
    },
    {
     "name": "stderr",
     "output_type": "stream",
     "text": [
      "100%|██████████| 500/500 [01:14<00:00,  6.74it/s]\n",
      "/usr/local/anaconda3/envs/py37/lib/python3.7/site-packages/torch/nn/modules/rnn.py:60: UserWarning: dropout option adds dropout after all but last recurrent layer, so non-zero dropout expects num_layers greater than 1, but got dropout=0.1 and num_layers=1\n",
      "  \"num_layers={}\".format(dropout, num_layers))\n"
     ]
    },
    {
     "name": "stdout",
     "output_type": "stream",
     "text": [
      "df: imdb, v: dqo.estimator.gerelt.v16, cp: /Users/danieldubovski/projects/deep_query_optimization/dqo/estimator/gerelt/v16/logs/tpch/version_0/checkpoints/epoch=99-step=1636399.ckpt ::  {\"accuracy\": 0.102, \"balanced accuracy\": -0.011866966311074423, \"kappa\": -0.022229507599559106, \"recall\": 0.07245528088151511, \"mae\": 2.114, \"f1 macro\": 0.06714485132045701, \"f1 weighted\": 0.1078669214642867}\n"
     ]
    },
    {
     "name": "stderr",
     "output_type": "stream",
     "text": [
      "  3%|▎         | 14/501 [00:02<01:37,  5.01it/s]/usr/local/anaconda3/envs/py37/lib/python3.7/site-packages/numpy/core/fromnumeric.py:3622: RuntimeWarning: Degrees of freedom <= 0 for slice\n",
      "  **kwargs)\n",
      "/usr/local/anaconda3/envs/py37/lib/python3.7/site-packages/numpy/core/_methods.py:227: RuntimeWarning: invalid value encountered in double_scalars\n",
      "  ret = ret.dtype.type(ret / rcount)\n",
      "100%|██████████| 501/501 [01:11<00:00,  7.04it/s]"
     ]
    },
    {
     "name": "stdout",
     "output_type": "stream",
     "text": [
      "df: tpcds, v: dqo.estimator.gerelt.v16, cp: /Users/danieldubovski/projects/deep_query_optimization/dqo/estimator/gerelt/v16/logs/tpch/version_0/checkpoints/epoch=99-step=1636399.ckpt ::  {\"accuracy\": 0.07584830339321358, \"balanced accuracy\": 0.0025523829464773455, \"kappa\": -0.00842517117704622, \"recall\": 0.08567301770093756, \"mae\": 3.063872255489022, \"f1 macro\": 0.04679677478890837, \"f1 weighted\": 0.07417954653846422}\n"
     ]
    },
    {
     "name": "stderr",
     "output_type": "stream",
     "text": [
      "\n"
     ]
    }
   ],
   "source": [
    "bsummary_df, bresults_df = ge.compare_versions(versions=[v2, v7, v14, v15, v16], trained_on=['aug','all','tpch'], test_on=['tpcd', 'tpch', 'imdb', 'tpcds'], bucketed=False)"
   ]
  },
  {
   "cell_type": "code",
   "execution_count": 17,
   "metadata": {},
   "outputs": [],
   "source": [
    "bsummary_df.to_csv('all_stratified_summary_13_02_21.csv', index=False)"
   ]
  },
  {
   "cell_type": "code",
   "execution_count": 1,
   "metadata": {},
   "outputs": [
    {
     "ename": "NameError",
     "evalue": "name 'bsummary_df' is not defined",
     "output_type": "error",
     "traceback": [
      "\u001B[0;31m---------------------------------------------------------------------------\u001B[0m",
      "\u001B[0;31mNameError\u001B[0m                                 Traceback (most recent call last)",
      "\u001B[0;32m<ipython-input-1-67bbadf05d6f>\u001B[0m in \u001B[0;36m<module>\u001B[0;34m\u001B[0m\n\u001B[0;32m----> 1\u001B[0;31m \u001B[0mbsummary_df\u001B[0m\u001B[0;34m\u001B[0m\u001B[0;34m\u001B[0m\u001B[0m\n\u001B[0m",
      "\u001B[0;31mNameError\u001B[0m: name 'bsummary_df' is not defined"
     ]
    }
   ],
   "source": [
    "bsummary_df"
   ]
  },
  {
   "cell_type": "markdown",
   "metadata": {},
   "source": [
    "## NUMBERS VS STRINGS"
   ]
  },
  {
   "cell_type": "code",
   "execution_count": null,
   "metadata": {},
   "outputs": [],
   "source": [
    "qe = ge.QueryEstimater(\n",
    "    os.path.join(os.getcwd(), 'v7/logs/three/version_1/checkpoints/epoch=67-step=3480218.ckpt'), \n",
    "    dataset='imdb:optimized', \n",
    "    encoder=v7.encoder, \n",
    "    model_cls=v7.model.GereltRegressor\n",
    ")\n",
    "r = qe.evaluate(df=datasets.QueriesDataset('imdb:only_strings').load())\n",
    "json.dumps(ge.evaluate_metrics(r))"
   ]
  },
  {
   "cell_type": "code",
   "execution_count": null,
   "metadata": {},
   "outputs": [],
   "source": [
    "qe = ge.QueryEstimater(\n",
    "    os.path.join(os.getcwd(), 'v7/logs/three/version_1/checkpoints/epoch=67-step=3480218.ckpt'), \n",
    "    dataset='imdb:optimized', \n",
    "    encoder=v7.encoder, \n",
    "    model_cls=v7.model.GereltRegressor\n",
    ")\n",
    "r = qe.evaluate(df=datasets.QueriesDataset('imdb:only_numbers').load())\n",
    "json.dumps(ge.evaluate_metrics(r))"
   ]
  },
  {
   "cell_type": "markdown",
   "metadata": {},
   "source": [
    "## RANDOM QUERIES"
   ]
  },
  {
   "cell_type": "code",
   "execution_count": null,
   "metadata": {},
   "outputs": [],
   "source": [
    "qe.predict_query('select MIN(id) from aka_title')"
   ]
  },
  {
   "cell_type": "code",
   "execution_count": null,
   "metadata": {},
   "outputs": [],
   "source": [
    "qe.predict_query('select MIN(id) from aka_title, cast_info where aka_title.movie_id = cast_info.movie_id and aka_title.movie_id > 10')"
   ]
  },
  {
   "cell_type": "code",
   "execution_count": null,
   "metadata": {},
   "outputs": [],
   "source": [
    "qe.predict_query('select MIN(id) from aka_title, cast_info where aka_title.movie_id = cast_info.movie_id')"
   ]
  },
  {
   "cell_type": "code",
   "execution_count": null,
   "metadata": {},
   "outputs": [],
   "source": [
    "qe.predict_query('select MIN(id) from cast_info')"
   ]
  },
  {
   "cell_type": "markdown",
   "metadata": {},
   "source": [
    "# overfitting"
   ]
  },
  {
   "cell_type": "markdown",
   "metadata": {},
   "source": [
    "### bucketed"
   ]
  },
  {
   "cell_type": "code",
   "execution_count": null,
   "metadata": {},
   "outputs": [],
   "source": [
    "version_results, _ = ge.inspect_version(v16, 'all', ['tpcd','tpch','imdb', 'tpcds'])"
   ]
  },
  {
   "cell_type": "code",
   "execution_count": null,
   "metadata": {},
   "outputs": [],
   "source": [
    "version_results"
   ]
  },
  {
   "cell_type": "code",
   "execution_count": null,
   "metadata": {},
   "outputs": [],
   "source": [
    "version_results.pivot(index='epoch', columns='tested_on', values='accuracy').plot()"
   ]
  },
  {
   "cell_type": "markdown",
   "metadata": {},
   "source": [
    "### stratified"
   ]
  },
  {
   "cell_type": "code",
   "execution_count": null,
   "metadata": {},
   "outputs": [],
   "source": [
    "version_results, _ = ge.inspect_version(v14, 'all', ['tpcd','tpch','imdb', 'tpcds'], bucketed=False)"
   ]
  },
  {
   "cell_type": "code",
   "execution_count": null,
   "metadata": {},
   "outputs": [],
   "source": [
    "fig, (ax, ax2) = plt.subplots(ncols=2, sharey=True)\n",
    "\n",
    "version_results.pivot(index='epoch', columns='tested_on', values='accuracy').plot(ax=ax)\n",
    "version_results.pivot(index='epoch', columns='tested_on', values='mae').plot(ax=ax)\n",
    "\n",
    "plt.show()"
   ]
  },
  {
   "cell_type": "markdown",
   "metadata": {},
   "source": [
    "---"
   ]
  },
  {
   "cell_type": "code",
   "execution_count": null,
   "metadata": {},
   "outputs": [],
   "source": [
    "r, _ = ge.inspect_version(v14, ['tpch', 'aug','all'], ['tpcd','tpch','imdb', 'tpcds'])"
   ]
  },
  {
   "cell_type": "code",
   "execution_count": null,
   "metadata": {},
   "outputs": [],
   "source": [
    "fig, (ax, ax2) = plt.subplots(ncols=2, sharey=True)\n",
    "\n",
    "r.query('trained_on == \"tpch\"').pivot(index='epoch', columns='tested_on', values='accuracy').plot(ax=ax)\n",
    "r.query('trained_on == \"all\"').pivot(index='epoch', columns='tested_on', values='accuracy').plot(ax=ax2)\n",
    "\n",
    "plt.show()"
   ]
  },
  {
   "cell_type": "code",
   "execution_count": null,
   "metadata": {},
   "outputs": [],
   "source": [
    "r['trained_on'].count_values()"
   ]
  },
  {
   "cell_type": "code",
   "execution_count": null,
   "metadata": {},
   "outputs": [],
   "source": []
  }
 ],
 "metadata": {
  "kernelspec": {
   "display_name": "py37",
   "language": "python",
   "name": "py37"
  },
  "language_info": {
   "codemirror_mode": {
    "name": "ipython",
    "version": 3
   },
   "file_extension": ".py",
   "mimetype": "text/x-python",
   "name": "python",
   "nbconvert_exporter": "python",
   "pygments_lexer": "ipython3",
   "version": "3.7.7"
  }
 },
 "nbformat": 4,
 "nbformat_minor": 4
}