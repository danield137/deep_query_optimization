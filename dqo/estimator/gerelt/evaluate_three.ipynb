{
 "cells": [
  {
   "cell_type": "code",
   "execution_count": 3,
   "metadata": {},
   "outputs": [],
   "source": [
    "root_path = \"/Users/danieldubovski/projects/deep_query_optimization\"\n",
    "\n",
    "import sys\n",
    "import os\n",
    "sys.path.insert(0, root_path)"
   ]
  },
  {
   "cell_type": "code",
   "execution_count": 4,
   "metadata": {},
   "outputs": [
    {
     "name": "stdout",
     "output_type": "stream",
     "text": [
      "module://ipykernel.pylab.backend_inline\n"
     ]
    },
    {
     "name": "stderr",
     "output_type": "stream",
     "text": [
      "/usr/local/anaconda3/envs/py37/lib/python3.7/site-packages/ipykernel_launcher.py:10: FutureWarning: The Panel class is removed from pandas. Accessing it from the top-level namespace will also be removed in the next version\n",
      "  # Remove the CWD from sys.path while we load stuff.\n"
     ]
    }
   ],
   "source": [
    "# import tkinter\n",
    "# import matplotlib\n",
    "# matplotlib.use('TkAgg')\n",
    "import matplotlib as mpl\n",
    "\n",
    "plt_backend = mpl.get_backend()\n",
    "print(plt_backend)\n",
    "from matplotlib import pyplot as plt\n",
    "import pandas as pd\n",
    "from pandas import Panel\n",
    "import numpy as np\n",
    "import pytorch_lightning as pl\n",
    "import torch\n",
    "from importlib import reload \n",
    "from tqdm.auto import tqdm\n",
    "from collections import Counter\n",
    "import sklearn\n",
    "import seaborn as sns\n",
    "from sklearn import metrics as skm\n",
    "import json\n",
    "from dqo.estimator import evaluate as ge\n",
    "from dqo.estimator.gerelt import v1, v2, v3, v4, v7, v15\n",
    "from dqo import datasets\n",
    "\n",
    "mpl.use(plt_backend)"
   ]
  },
  {
   "cell_type": "code",
   "execution_count": 3,
   "metadata": {},
   "outputs": [
    {
     "data": {
      "text/plain": [
       "<module 'dqo.estimator.gerelt.v2' from '/Users/danieldubovski/projects/deep_query_optimization/dqo/estimator/gerelt/v2/__init__.py'>"
      ]
     },
     "execution_count": 3,
     "metadata": {},
     "output_type": "execute_result"
    }
   ],
   "source": [
    "import importlib\n",
    "\n",
    "importlib.reload(datasets)\n",
    "importlib.reload(ge)\n",
    "importlib.reload(v1)\n",
    "importlib.reload(v2)\n"
   ]
  },
  {
   "cell_type": "markdown",
   "metadata": {},
   "source": [
    "# TPCH"
   ]
  },
  {
   "cell_type": "code",
   "execution_count": 5,
   "metadata": {},
   "outputs": [
    {
     "name": "stderr",
     "output_type": "stream",
     "text": [
      "2021-01-31 13:50:50,944 | dqo.datasets | INFO | Reading data from /Users/danieldubovski/projects/deep_query_optimization/dqo/datasets/tpch/execution/optimized/runtimes/data_part_00.csv [1/1]\n",
      "2021-01-31 13:50:51,901 | dqo.datasets | INFO | Loaded 22729 rows from /Users/danieldubovski/projects/deep_query_optimization/dqo/datasets/tpch/execution/optimized/runtimes/data_part_00.csv [1/1]\n"
     ]
    }
   ],
   "source": [
    "tpch = datasets.QueriesDataset('tpch:optimized')\n",
    "tpch_sample = tpch.sample(n=500, strategy='bucketed')"
   ]
  },
  {
   "cell_type": "code",
   "execution_count": 7,
   "metadata": {},
   "outputs": [],
   "source": [
    "v2_estimater = ge.QueryEstimater(\n",
    "    os.path.join(os.getcwd(), 'v2/logs/three/version_0/checkpoints/epoch=37-step=1973453.ckpt'), \n",
    "    dataset=tpch, \n",
    "    encoder=v2.encoder, \n",
    "    model_cls=v2.model.GereltRegressor\n",
    ")\n",
    "v3_estimater = ge.QueryEstimater(\n",
    "    os.path.join(os.getcwd(), 'v3/logs/three/version_0/checkpoints/epoch=56-step=2960180.ckpt'), \n",
    "    dataset=tpch, \n",
    "    encoder=v3.encoder, \n",
    "    model_cls=v3.model.GereltRegressor\n",
    ")\n",
    "v4_estimater = ge.QueryEstimater(\n",
    "    os.path.join(os.getcwd(), 'v4/logs/three/version_0/checkpoints/epoch=38-step=2025386.ckpt'), \n",
    "    dataset=tpch, \n",
    "    encoder=v4.encoder, \n",
    "    model_cls=v4.model.GereltRegressor\n",
    ")\n",
    "v7_estimater = ge.QueryEstimater(\n",
    "    os.path.join(os.getcwd(), 'v7/logs/three/version_1/checkpoints/epoch=30-step=1609922.ckpt'), \n",
    "    dataset=tpch, \n",
    "    encoder=v7.encoder, \n",
    "    model_cls=v7.model.GereltRegressor\n",
    ")"
   ]
  },
  {
   "cell_type": "code",
   "execution_count": 8,
   "metadata": {},
   "outputs": [
    {
     "name": "stderr",
     "output_type": "stream",
     "text": [
      "  0%|          | 0/457 [00:00<?, ?it/s]/usr/local/anaconda3/envs/py37/lib/python3.7/site-packages/numpy/core/fromnumeric.py:3622: RuntimeWarning: Degrees of freedom <= 0 for slice\n",
      "  **kwargs)\n",
      "/usr/local/anaconda3/envs/py37/lib/python3.7/site-packages/numpy/core/_methods.py:227: RuntimeWarning: invalid value encountered in double_scalars\n",
      "  ret = ret.dtype.type(ret / rcount)\n",
      "100%|██████████| 457/457 [01:34<00:00,  4.83it/s]\n"
     ]
    },
    {
     "data": {
      "text/plain": [
       "'{\"accuracy\": 0.5492341356673961, \"balanced accuracy\": 0.4671052631578948, \"kappa\": 0.5083532219570406, \"recall\": 0.5080971659919029, \"mae\": 0.687089715536105, \"f1 macro\": 0.509626368923972, \"f1 weighted\": 0.5508871471519521}'"
      ]
     },
     "execution_count": 8,
     "metadata": {},
     "output_type": "execute_result"
    }
   ],
   "source": [
    "v2_results = v2_estimater.evaluate(df=tpch_sample)\n",
    "json.dumps(ge.evaluate_metrics(v2_results))"
   ]
  },
  {
   "cell_type": "code",
   "execution_count": 9,
   "metadata": {},
   "outputs": [
    {
     "name": "stderr",
     "output_type": "stream",
     "text": [
      "100%|██████████| 457/457 [00:36<00:00, 12.53it/s]\n"
     ]
    }
   ],
   "source": [
    "v3_results = v3_estimater.evaluate(df=tpch_sample)"
   ]
  },
  {
   "cell_type": "code",
   "execution_count": 10,
   "metadata": {},
   "outputs": [
    {
     "data": {
      "text/plain": [
       "'{\"accuracy\": 0.5798687089715536, \"balanced accuracy\": 0.49780701754385953, \"kappa\": 0.5417661097852029, \"recall\": 0.5364372469635627, \"mae\": 0.6323851203501094, \"f1 macro\": 0.52302025711751, \"f1 weighted\": 0.5653654420482493}'"
      ]
     },
     "execution_count": 10,
     "metadata": {},
     "output_type": "execute_result"
    }
   ],
   "source": [
    "json.dumps(ge.evaluate_metrics(v3_results))"
   ]
  },
  {
   "cell_type": "code",
   "execution_count": 11,
   "metadata": {},
   "outputs": [
    {
     "name": "stderr",
     "output_type": "stream",
     "text": [
      "100%|██████████| 457/457 [01:32<00:00,  4.95it/s]\n"
     ]
    }
   ],
   "source": [
    "v4_results = v4_estimater.evaluate(df=tpch_sample)"
   ]
  },
  {
   "cell_type": "code",
   "execution_count": 12,
   "metadata": {},
   "outputs": [
    {
     "data": {
      "text/plain": [
       "'{\"accuracy\": 0.5273522975929978, \"balanced accuracy\": 0.44517543859649117, \"kappa\": 0.4844868735083532, \"recall\": 0.48785425101214575, \"mae\": 0.737417943107221, \"f1 macro\": 0.4808777333360231, \"f1 weighted\": 0.5198109415054604}'"
      ]
     },
     "execution_count": 12,
     "metadata": {},
     "output_type": "execute_result"
    }
   ],
   "source": [
    "json.dumps(ge.evaluate_metrics(v4_results))"
   ]
  },
  {
   "cell_type": "code",
   "execution_count": 13,
   "metadata": {},
   "outputs": [
    {
     "name": "stderr",
     "output_type": "stream",
     "text": [
      "100%|██████████| 457/457 [00:37<00:00, 12.20it/s]\n"
     ]
    }
   ],
   "source": [
    "v7_results = v7_estimater.evaluate(df=tpch_sample)"
   ]
  },
  {
   "cell_type": "code",
   "execution_count": 14,
   "metadata": {},
   "outputs": [
    {
     "data": {
      "text/plain": [
       "'{\"accuracy\": 0.5339168490153173, \"balanced accuracy\": 0.4517543859649123, \"kappa\": 0.4916467780429594, \"recall\": 0.49392712550607293, \"mae\": 0.7614879649890591, \"f1 macro\": 0.4942126568467678, \"f1 weighted\": 0.5342254977730924}'"
      ]
     },
     "execution_count": 14,
     "metadata": {},
     "output_type": "execute_result"
    }
   ],
   "source": [
    "json.dumps(ge.evaluate_metrics(v7_results))"
   ]
  },
  {
   "cell_type": "code",
   "execution_count": 15,
   "metadata": {},
   "outputs": [
    {
     "data": {
      "image/png": "[encoded data removed]",
      "text/plain": [
       "<Figure size 432x288 with 2 Axes>"
      ]
     },
     "metadata": {
      "needs_background": "light"
     },
     "output_type": "display_data"
    },
    {
     "name": "stdout",
     "output_type": "stream",
     "text": [
      "              precision    recall  f1-score   support\n",
      "\n",
      "          -3       0.67      0.76      0.72        38\n",
      "          -2       0.42      0.63      0.51        38\n",
      "          -1       0.57      0.42      0.48        38\n",
      "           0       0.59      0.58      0.59        38\n",
      "           1       0.56      0.66      0.60        38\n",
      "           2       0.41      0.24      0.30        38\n",
      "           3       0.47      0.50      0.49        38\n",
      "           4       0.59      0.63      0.61        38\n",
      "           5       0.63      0.71      0.67        38\n",
      "           6       0.54      0.18      0.27        38\n",
      "           7       0.56      0.82      0.67        38\n",
      "           8       0.97      0.84      0.90        38\n",
      "           9       0.00      0.00      0.00         1\n",
      "\n",
      "    accuracy                           0.58       457\n",
      "   macro avg       0.54      0.54      0.52       457\n",
      "weighted avg       0.58      0.58      0.57       457\n",
      "\n",
      "2\n",
      "           abs_err              err_ratio           \n",
      "              mean      median       mean     median\n",
      "bucket                                              \n",
      "-3        0.064131    0.019438   0.828887   0.842018\n",
      "-2        0.052229    0.047732   1.172540   1.135191\n",
      "-1        0.401024    0.211113   1.534656   1.461473\n",
      " 0        0.401048    0.245730   1.342509   0.988581\n",
      " 1        0.671919    0.462918   1.769072   0.932334\n",
      " 2        1.968716    1.173198   2.180793   1.016782\n",
      " 3        3.532697    2.317596   2.366309   0.966172\n",
      " 4        4.176368    1.842032   4.387329   0.991171\n",
      " 5        9.086303    5.299586   1.875674   0.967497\n",
      " 6       30.611519   31.585417   2.478142   0.901157\n",
      " 7       31.949263   25.785463   1.765297   0.852990\n",
      " 8       36.973144   27.896884   2.131092   1.138190\n",
      " 9      403.992089  403.992089  18.473714  18.473714\n"
     ]
    },
    {
     "data": {
      "image/png": "[encoded data removed]",
      "text/plain": [
       "<Figure size 432x288 with 1 Axes>"
      ]
     },
     "metadata": {
      "needs_background": "light"
     },
     "output_type": "display_data"
    }
   ],
   "source": [
    "ge.display_results(v3_results)"
   ]
  },
  {
   "cell_type": "code",
   "execution_count": 14,
   "metadata": {},
   "outputs": [
    {
     "data": {
      "image/png": "[encoded data removed]",
      "text/plain": [
       "<Figure size 432x288 with 2 Axes>"
      ]
     },
     "metadata": {
      "needs_background": "light"
     },
     "output_type": "display_data"
    },
    {
     "name": "stdout",
     "output_type": "stream",
     "text": [
      "              precision    recall  f1-score   support\n",
      "\n",
      "          -3       0.86      0.63      0.73        38\n",
      "          -2       0.55      0.63      0.59        38\n",
      "          -1       0.46      0.63      0.53        38\n",
      "           0       0.38      0.29      0.33        38\n",
      "           1       0.66      0.76      0.71        38\n",
      "           2       0.55      0.47      0.51        38\n",
      "           3       0.53      0.61      0.57        38\n",
      "           4       0.63      0.84      0.72        38\n",
      "           5       0.81      0.66      0.72        38\n",
      "           6       0.59      0.34      0.43        38\n",
      "           7       0.56      0.66      0.60        38\n",
      "           8       0.94      0.87      0.90        38\n",
      "           9       0.00      0.00      0.00         1\n",
      "\n",
      "    accuracy                           0.61       457\n",
      "   macro avg       0.58      0.57      0.56       457\n",
      "weighted avg       0.62      0.61      0.61       457\n",
      "\n",
      "2\n",
      "           abs_err             err_ratio          \n",
      "              mean      median      mean    median\n",
      "bucket                                            \n",
      "-3        0.140631    0.024446  0.816293  0.878298\n",
      "-2        0.380425    0.027367  0.856196  0.968349\n",
      "-1        0.686052    0.108573  1.049379  0.948641\n",
      " 0        0.871765    0.179240  1.308479  1.149096\n",
      " 1        0.499231    0.219860  1.392939  0.972706\n",
      " 2        1.469688    0.600739  1.228237  0.961701\n",
      " 3        3.537320    1.655283  3.088722  1.054590\n",
      " 4        2.848374    1.574805  1.261677  0.953070\n",
      " 5        6.633548    4.096928  1.225070  1.022619\n",
      " 6       23.204503   18.523206  2.506352  0.935068\n",
      " 7       28.053651   15.932404  7.706910  0.983166\n",
      " 8       40.667898   36.145017  2.498877  1.185592\n",
      " 9      312.827454  312.827454  3.737266  3.737266\n"
     ]
    },
    {
     "data": {
      "image/png": "[encoded data removed]",
      "text/plain": [
       "<Figure size 432x288 with 1 Axes>"
      ]
     },
     "metadata": {
      "needs_background": "light"
     },
     "output_type": "display_data"
    }
   ],
   "source": [
    "ge.display_results(v4_results)"
   ]
  },
  {
   "cell_type": "code",
   "execution_count": 15,
   "metadata": {},
   "outputs": [
    {
     "data": {
      "image/png": "[encoded data removed]",
      "text/plain": [
       "<Figure size 432x288 with 2 Axes>"
      ]
     },
     "metadata": {
      "needs_background": "light"
     },
     "output_type": "display_data"
    },
    {
     "name": "stdout",
     "output_type": "stream",
     "text": [
      "              precision    recall  f1-score   support\n",
      "\n",
      "          -3       0.97      0.74      0.84        38\n",
      "          -2       0.70      0.74      0.72        38\n",
      "          -1       0.64      0.76      0.70        38\n",
      "           0       0.73      0.79      0.76        38\n",
      "           1       0.72      0.89      0.80        38\n",
      "           2       0.78      0.74      0.76        38\n",
      "           3       0.59      0.58      0.59        38\n",
      "           4       0.79      0.79      0.79        38\n",
      "           5       0.82      0.82      0.82        38\n",
      "           6       0.93      0.74      0.82        38\n",
      "           7       0.92      0.95      0.94        38\n",
      "           8       0.97      0.95      0.96        38\n",
      "           9       0.00      0.00      0.00         1\n",
      "\n",
      "    accuracy                           0.79       457\n",
      "   macro avg       0.74      0.73      0.73       457\n",
      "weighted avg       0.80      0.79      0.79       457\n",
      "\n",
      "2\n",
      "           abs_err             err_ratio          \n",
      "              mean      median      mean    median\n",
      "bucket                                            \n",
      "-3        0.364760    0.009095  0.826048  0.943831\n",
      "-2        0.259651    0.022234  0.847228  0.942543\n",
      "-1        0.363203    0.043371  1.046382  0.994061\n",
      " 0        0.302619    0.090011  1.121933  0.936872\n",
      " 1        0.426321    0.117720  1.264856  1.031757\n",
      " 2        0.548757    0.262168  1.262379  1.055691\n",
      " 3        2.472801    0.997364  2.879224  1.062282\n",
      " 4        1.818764    0.805987  1.153552  1.004978\n",
      " 5        4.849510    2.607478  1.554828  0.982610\n",
      " 6       13.303459    4.835027  2.144706  1.003722\n",
      " 7       12.411472    5.722257  1.260772  1.000175\n",
      " 8       12.560888    5.198603  1.131935  0.999298\n",
      " 9      202.805603  202.805603  1.904145  1.904145\n"
     ]
    },
    {
     "data": {
      "image/png": "[encoded data removed]",
      "text/plain": [
       "<Figure size 432x288 with 1 Axes>"
      ]
     },
     "metadata": {
      "needs_background": "light"
     },
     "output_type": "display_data"
    }
   ],
   "source": [
    "ge.display_results(v7_results)"
   ]
  },
  {
   "cell_type": "markdown",
   "metadata": {},
   "source": [
    "# Trained on THREE, Inference on TPCD"
   ]
  },
  {
   "cell_type": "code",
   "execution_count": 16,
   "metadata": {},
   "outputs": [
    {
     "name": "stderr",
     "output_type": "stream",
     "text": [
      "2021-01-31 14:02:04,627 | dqo.datasets | INFO | Reading data from /Users/danieldubovski/projects/deep_query_optimization/dqo/datasets/tpcd/execution/optimized/runtimes/data_part_00.csv [1/1]\n",
      "2021-01-31 14:02:05,664 | dqo.datasets | INFO | Loaded 23635 rows from /Users/danieldubovski/projects/deep_query_optimization/dqo/datasets/tpcd/execution/optimized/runtimes/data_part_00.csv [1/1]\n"
     ]
    }
   ],
   "source": [
    "tpcd = datasets.QueriesDataset('tpcd:optimized')\n",
    "tpcd_sample = tpcd.sample(n=500, strategy='bucketed')"
   ]
  },
  {
   "cell_type": "code",
   "execution_count": 17,
   "metadata": {},
   "outputs": [],
   "source": [
    "v2_estimater = ge.QueryEstimater(\n",
    "    os.path.join(os.getcwd(), 'v2/logs/three/version_0/checkpoints/epoch=37-step=1973453.ckpt'), \n",
    "    dataset=tpcd, \n",
    "    encoder=v2.encoder, \n",
    "    model_cls=v2.model.GereltRegressor\n",
    ")\n",
    "v3_estimater = ge.QueryEstimater(\n",
    "    os.path.join(os.getcwd(), 'v3/logs/three/version_0/checkpoints/epoch=56-step=2960180.ckpt'), \n",
    "    dataset=tpcd, \n",
    "    encoder=v3.encoder, \n",
    "    model_cls=v3.model.GereltRegressor\n",
    ")\n",
    "v4_estimater = ge.QueryEstimater(\n",
    "    os.path.join(os.getcwd(), 'v4/logs/three/version_0/checkpoints/epoch=38-step=2025386.ckpt'), \n",
    "    dataset=tpcd, \n",
    "    encoder=v4.encoder, \n",
    "    model_cls=v4.model.GereltRegressor\n",
    ")\n",
    "v7_estimater = ge.QueryEstimater(\n",
    "    os.path.join(os.getcwd(), 'v7/logs/three/version_1/checkpoints/epoch=30-step=1609922.ckpt'), \n",
    "    dataset=tpcd, \n",
    "    encoder=v7.encoder, \n",
    "    model_cls=v7.model.GereltRegressor\n",
    ")"
   ]
  },
  {
   "cell_type": "code",
   "execution_count": 18,
   "metadata": {},
   "outputs": [
    {
     "name": "stderr",
     "output_type": "stream",
     "text": [
      "  4%|▍         | 19/467 [00:03<01:35,  4.67it/s]/usr/local/anaconda3/envs/py37/lib/python3.7/site-packages/numpy/core/fromnumeric.py:3622: RuntimeWarning: Degrees of freedom <= 0 for slice\n",
      "  **kwargs)\n",
      "/usr/local/anaconda3/envs/py37/lib/python3.7/site-packages/numpy/core/_methods.py:227: RuntimeWarning: invalid value encountered in double_scalars\n",
      "  ret = ret.dtype.type(ret / rcount)\n",
      "100%|██████████| 467/467 [01:36<00:00,  4.84it/s]\n",
      "  0%|          | 0/467 [00:00<?, ?it/s]"
     ]
    },
    {
     "name": "stdout",
     "output_type": "stream",
     "text": [
      "{\"accuracy\": 0.10492505353319058, \"balanced accuracy\": 0.024122807017543862, \"kappa\": 0.02564102564102566, \"recall\": 0.09919028340080972, \"mae\": 2.721627408993576, \"f1 macro\": 0.08284344408507321, \"f1 weighted\": 0.08763310787585901}\n"
     ]
    },
    {
     "name": "stderr",
     "output_type": "stream",
     "text": [
      "100%|██████████| 467/467 [00:46<00:00, 10.11it/s]\n",
      "  0%|          | 0/467 [00:00<?, ?it/s]"
     ]
    },
    {
     "name": "stdout",
     "output_type": "stream",
     "text": [
      "{\"accuracy\": 0.14989293361884368, \"balanced accuracy\": 0.07017543859649122, \"kappa\": 0.07459207459207462, \"recall\": 0.1417004048582996, \"mae\": 2.563169164882227, \"f1 macro\": 0.12809503445030915, \"f1 weighted\": 0.13550095721296082}\n"
     ]
    },
    {
     "name": "stderr",
     "output_type": "stream",
     "text": [
      "100%|██████████| 467/467 [01:26<00:00,  5.37it/s]\n",
      "  0%|          | 0/467 [00:00<?, ?it/s]"
     ]
    },
    {
     "name": "stdout",
     "output_type": "stream",
     "text": [
      "{\"accuracy\": 0.15845824411134904, \"balanced accuracy\": 0.07894736842105263, \"kappa\": 0.08391608391608396, \"recall\": 0.14979757085020243, \"mae\": 2.3704496788008567, \"f1 macro\": 0.1490121575790907, \"f1 weighted\": 0.15762742150764628}\n"
     ]
    },
    {
     "name": "stderr",
     "output_type": "stream",
     "text": [
      "100%|██████████| 467/467 [00:40<00:00, 11.66it/s]"
     ]
    },
    {
     "name": "stdout",
     "output_type": "stream",
     "text": [
      "{\"accuracy\": 0.10492505353319058, \"balanced accuracy\": 0.024122807017543862, \"kappa\": 0.02564102564102566, \"recall\": 0.09919028340080972, \"mae\": 2.8201284796573876, \"f1 macro\": 0.08921868638128554, \"f1 weighted\": 0.09437694019776242}\n"
     ]
    },
    {
     "name": "stderr",
     "output_type": "stream",
     "text": [
      "\n"
     ]
    }
   ],
   "source": [
    "v2_results = v2_estimater.evaluate(df=tpcd_sample)\n",
    "print(json.dumps(ge.evaluate_metrics(v2_results)))\n",
    "v3_results = v3_estimater.evaluate(df=tpcd_sample)\n",
    "print(json.dumps(ge.evaluate_metrics(v3_results)))\n",
    "v4_results = v4_estimater.evaluate(df=tpcd_sample)\n",
    "print(json.dumps(ge.evaluate_metrics(v4_results)))\n",
    "v7_results = v7_estimater.evaluate(df=tpcd_sample)\n",
    "print(json.dumps(ge.evaluate_metrics(v7_results)))"
   ]
  },
  {
   "cell_type": "markdown",
   "metadata": {},
   "source": [
    "## NUMBERS VS STRINGS"
   ]
  },
  {
   "cell_type": "code",
   "execution_count": 16,
   "metadata": {},
   "outputs": [
    {
     "name": "stderr",
     "output_type": "stream",
     "text": [
      "2021-01-25 15:50:05,965 | dqo.datasets | INFO | Reading data from /Users/danieldubovski/projects/deep_query_optimization/dqo/datasets/imdb/execution/only_strings/runtimes/data_part_00.csv [1/1]\n",
      "2021-01-25 15:50:05,970 | dqo.datasets | INFO | Loaded 47 rows from /Users/danieldubovski/projects/deep_query_optimization/dqo/datasets/imdb/execution/only_strings/runtimes/data_part_00.csv [1/1]\n",
      "100%|██████████| 47/47 [00:02<00:00, 20.69it/s]\n"
     ]
    },
    {
     "data": {
      "text/plain": [
       "'{\"accuracy\": 0.7659574468085106, \"balanced accuracy\": 0.785813492063492, \"kappa\": 0.7227882037533513, \"recall\": 0.8096119929453263, \"mae\": 0.23404255319148937, \"f1 macro\": 0.7920926205239931, \"f1 weighted\": 0.7689874094755195}'"
      ]
     },
     "execution_count": 16,
     "metadata": {},
     "output_type": "execute_result"
    }
   ],
   "source": [
    "qe = ge.QueryEstimater(\n",
    "    os.path.join(os.getcwd(), 'v2/logs/three_opt_default_adam/version_1/checkpoints/epoch=60.ckpt'), \n",
    "    dataset=imdb, \n",
    "    encoder=v2.encoder, \n",
    "    model_cls=v2.model.GereltRegressor\n",
    ")\n",
    "r = qe.evaluate(df=datasets.QueriesDataset('imdb:only_strings').load())\n",
    "json.dumps(ge.evaluate_metrics(r))"
   ]
  },
  {
   "cell_type": "code",
   "execution_count": 17,
   "metadata": {},
   "outputs": [
    {
     "name": "stderr",
     "output_type": "stream",
     "text": [
      "2021-01-25 15:50:22,596 | dqo.datasets | INFO | Reading data from /Users/danieldubovski/projects/deep_query_optimization/dqo/datasets/imdb/execution/only_numbers/runtimes/data_part_00.csv [1/1]\n",
      "2021-01-25 15:50:22,601 | dqo.datasets | INFO | Loaded 124 rows from /Users/danieldubovski/projects/deep_query_optimization/dqo/datasets/imdb/execution/only_numbers/runtimes/data_part_00.csv [1/1]\n",
      "100%|██████████| 124/124 [00:07<00:00, 16.15it/s]\n",
      "/usr/local/anaconda3/envs/py37/lib/python3.7/site-packages/sklearn/metrics/_classification.py:1814: UserWarning: y_pred contains classes not in y_true\n",
      "  warnings.warn('y_pred contains classes not in y_true')\n"
     ]
    },
    {
     "data": {
      "text/plain": [
       "'{\"accuracy\": 0.6854838709677419, \"balanced accuracy\": 0.5517496392496393, \"kappa\": 0.6316551146317313, \"recall\": 0.5413997113997114, \"mae\": 0.3870967741935484, \"f1 macro\": 0.5584700352153182, \"f1 weighted\": 0.6928782798457175}'"
      ]
     },
     "execution_count": 17,
     "metadata": {},
     "output_type": "execute_result"
    }
   ],
   "source": [
    "qe = ge.QueryEstimater(\n",
    "    os.path.join(os.getcwd(), 'v2/logs/three_opt_default_adam/version_1/checkpoints/epoch=60.ckpt'), \n",
    "    dataset=imdb, \n",
    "    encoder=v2.encoder, \n",
    "    model_cls=v2.model.GereltRegressor\n",
    ")\n",
    "r = qe.evaluate(df=datasets.QueriesDataset('imdb:only_numbers').load())\n",
    "json.dumps(ge.evaluate_metrics(r))"
   ]
  },
  {
   "cell_type": "markdown",
   "metadata": {},
   "source": [
    "## RANDOM QUERIES"
   ]
  },
  {
   "cell_type": "code",
   "execution_count": 17,
   "metadata": {},
   "outputs": [
    {
     "data": {
      "text/plain": [
       "0.3487551234163082"
      ]
     },
     "execution_count": 17,
     "metadata": {},
     "output_type": "execute_result"
    }
   ],
   "source": [
    "v1_results.predict_query('select MIN(id) from aka_title')"
   ]
  },
  {
   "cell_type": "code",
   "execution_count": 60,
   "metadata": {},
   "outputs": [
    {
     "data": {
      "text/plain": [
       "11.159208242646764"
      ]
     },
     "execution_count": 60,
     "metadata": {},
     "output_type": "execute_result"
    }
   ],
   "source": [
    "v1_results.predict_query('select MIN(id) from aka_title, cast_info where aka_title.movie_id = cast_info.movie_id and cast_info.note like \"%a%\"')"
   ]
  },
  {
   "cell_type": "code",
   "execution_count": 61,
   "metadata": {},
   "outputs": [
    {
     "data": {
      "text/plain": [
       "26.097686612759194"
      ]
     },
     "execution_count": 61,
     "metadata": {},
     "output_type": "execute_result"
    }
   ],
   "source": [
    "v1_results.predict_query('select MIN(id) from aka_title, cast_info where aka_title.movie_id = cast_info.movie_id and aka_title.movie_id > 10')"
   ]
  },
  {
   "cell_type": "code",
   "execution_count": 62,
   "metadata": {},
   "outputs": [
    {
     "data": {
      "text/plain": [
       "98.77698618825976"
      ]
     },
     "execution_count": 62,
     "metadata": {},
     "output_type": "execute_result"
    }
   ],
   "source": [
    "v1_results.predict_query('select MIN(id) from aka_title, cast_info where aka_title.movie_id = cast_info.movie_id')"
   ]
  },
  {
   "cell_type": "code",
   "execution_count": 63,
   "metadata": {},
   "outputs": [
    {
     "data": {
      "text/plain": [
       "2.9044822055115933"
      ]
     },
     "execution_count": 63,
     "metadata": {},
     "output_type": "execute_result"
    }
   ],
   "source": [
    "v1_results.predict_query('select MIN(id) from cast_info')"
   ]
  },
  {
   "cell_type": "code",
   "execution_count": 24,
   "metadata": {},
   "outputs": [],
   "source": [
    "# overfitting"
   ]
  },
  {
   "cell_type": "code",
   "execution_count": 20,
   "metadata": {},
   "outputs": [],
   "source": [
    "import re\n",
    "\n",
    "epoch_num_regex = re.compile(\"epoch=(\\d.*)-\")"
   ]
  },
  {
   "cell_type": "code",
   "execution_count": 21,
   "metadata": {},
   "outputs": [
    {
     "data": {
      "application/vnd.jupyter.widget-view+json": {
       "model_id": "ffa48f0380fc4e68ba6ab717386f07f3",
       "version_major": 2,
       "version_minor": 0
      },
      "text/plain": [
       "HBox(children=(HTML(value=''), FloatProgress(value=0.0, max=14.0), HTML(value='')))"
      ]
     },
     "metadata": {},
     "output_type": "display_data"
    },
    {
     "name": "stderr",
     "output_type": "stream",
     "text": [
      "100%|██████████| 467/467 [00:47<00:00,  9.92it/s]\n",
      "  0%|          | 0/467 [00:00<?, ?it/s]"
     ]
    },
    {
     "name": "stdout",
     "output_type": "stream",
     "text": [
      "0 {\"accuracy\": 0.13704496788008566, \"balanced accuracy\": 0.05701754385964912, \"kappa\": 0.06060606060606055, \"recall\": 0.12955465587044535, \"mae\": 2.644539614561028, \"f1 macro\": 0.07838984921164752, \"f1 weighted\": 0.08292202464786698}\n"
     ]
    },
    {
     "name": "stderr",
     "output_type": "stream",
     "text": [
      "100%|██████████| 467/467 [00:43<00:00, 10.69it/s]\n",
      "  0%|          | 0/467 [00:00<?, ?it/s]"
     ]
    },
    {
     "name": "stdout",
     "output_type": "stream",
     "text": [
      "10 {\"accuracy\": 0.145610278372591, \"balanced accuracy\": 0.06578947368421051, \"kappa\": 0.06993006993006978, \"recall\": 0.13765182186234817, \"mae\": 2.7623126338329764, \"f1 macro\": 0.11339100984322789, \"f1 weighted\": 0.11994680698619825}\n"
     ]
    },
    {
     "name": "stderr",
     "output_type": "stream",
     "text": [
      "100%|██████████| 467/467 [00:40<00:00, 11.43it/s]\n",
      "  0%|          | 0/467 [00:00<?, ?it/s]"
     ]
    },
    {
     "name": "stdout",
     "output_type": "stream",
     "text": [
      "20 {\"accuracy\": 0.11777301927194861, \"balanced accuracy\": 0.03728070175438597, \"kappa\": 0.03962703962703962, \"recall\": 0.11133603238866398, \"mae\": 2.8436830835117775, \"f1 macro\": 0.08606701896384138, \"f1 weighted\": 0.09104305646282151}\n"
     ]
    },
    {
     "name": "stderr",
     "output_type": "stream",
     "text": [
      "100%|██████████| 467/467 [00:36<00:00, 12.87it/s]\n",
      "  0%|          | 0/467 [00:00<?, ?it/s]"
     ]
    },
    {
     "name": "stdout",
     "output_type": "stream",
     "text": [
      "21 {\"accuracy\": 0.10920770877944326, \"balanced accuracy\": 0.028508771929824574, \"kappa\": 0.030303030303030276, \"recall\": 0.10323886639676115, \"mae\": 2.811563169164882, \"f1 macro\": 0.07509125045671523, \"f1 weighted\": 0.07943271461588293}\n"
     ]
    },
    {
     "name": "stderr",
     "output_type": "stream",
     "text": [
      "100%|██████████| 467/467 [00:36<00:00, 12.72it/s]\n",
      "  0%|          | 0/467 [00:00<?, ?it/s]"
     ]
    },
    {
     "name": "stdout",
     "output_type": "stream",
     "text": [
      "22 {\"accuracy\": 0.11777301927194861, \"balanced accuracy\": 0.03728070175438597, \"kappa\": 0.03962703962703962, \"recall\": 0.11133603238866398, \"mae\": 2.8265524625267666, \"f1 macro\": 0.08865853777478337, \"f1 weighted\": 0.09378440612578799}\n"
     ]
    },
    {
     "name": "stderr",
     "output_type": "stream",
     "text": [
      "100%|██████████| 467/467 [00:38<00:00, 12.12it/s]\n",
      "  0%|          | 0/467 [00:00<?, ?it/s]"
     ]
    },
    {
     "name": "stdout",
     "output_type": "stream",
     "text": [
      "23 {\"accuracy\": 0.13062098501070663, \"balanced accuracy\": 0.05043859649122805, \"kappa\": 0.05361305361305346, \"recall\": 0.1234817813765182, \"mae\": 2.9443254817987152, \"f1 macro\": 0.10454621020971647, \"f1 weighted\": 0.11059063778072793}\n"
     ]
    },
    {
     "name": "stderr",
     "output_type": "stream",
     "text": [
      "100%|██████████| 467/467 [00:37<00:00, 12.39it/s]\n",
      "  0%|          | 0/467 [00:00<?, ?it/s]"
     ]
    },
    {
     "name": "stdout",
     "output_type": "stream",
     "text": [
      "24 {\"accuracy\": 0.145610278372591, \"balanced accuracy\": 0.06578947368421051, \"kappa\": 0.06993006993006978, \"recall\": 0.13765182186234817, \"mae\": 2.7922912205567454, \"f1 macro\": 0.11059533641474634, \"f1 weighted\": 0.11698949933380019}\n"
     ]
    },
    {
     "name": "stderr",
     "output_type": "stream",
     "text": [
      "100%|██████████| 467/467 [00:39<00:00, 11.77it/s]\n",
      "  0%|          | 0/467 [00:00<?, ?it/s]"
     ]
    },
    {
     "name": "stdout",
     "output_type": "stream",
     "text": [
      "25 {\"accuracy\": 0.13704496788008566, \"balanced accuracy\": 0.05701754385964912, \"kappa\": 0.06060606060606055, \"recall\": 0.12955465587044535, \"mae\": 2.8436830835117775, \"f1 macro\": 0.10780652272772105, \"f1 weighted\": 0.11403944802461287}\n"
     ]
    },
    {
     "name": "stderr",
     "output_type": "stream",
     "text": [
      "100%|██████████| 467/467 [00:41<00:00, 11.36it/s]\n",
      "  0%|          | 0/467 [00:00<?, ?it/s]"
     ]
    },
    {
     "name": "stdout",
     "output_type": "stream",
     "text": [
      "26 {\"accuracy\": 0.15203426124197003, \"balanced accuracy\": 0.07236842105263157, \"kappa\": 0.07692307692307687, \"recall\": 0.1437246963562753, \"mae\": 2.8650963597430406, \"f1 macro\": 0.11426551143200375, \"f1 weighted\": 0.12087186862400395}\n"
     ]
    },
    {
     "name": "stderr",
     "output_type": "stream",
     "text": [
      "100%|██████████| 467/467 [00:42<00:00, 11.00it/s]\n",
      "  0%|          | 0/467 [00:00<?, ?it/s]"
     ]
    },
    {
     "name": "stdout",
     "output_type": "stream",
     "text": [
      "27 {\"accuracy\": 0.11991434689507495, \"balanced accuracy\": 0.03947368421052629, \"kappa\": 0.04195804195804198, \"recall\": 0.11336032388663966, \"mae\": 2.8586723768736615, \"f1 macro\": 0.09923374025377477, \"f1 weighted\": 0.10497102288086668}\n"
     ]
    },
    {
     "name": "stderr",
     "output_type": "stream",
     "text": [
      "100%|██████████| 467/467 [00:39<00:00, 11.80it/s]\n",
      "  0%|          | 0/467 [00:00<?, ?it/s]"
     ]
    },
    {
     "name": "stdout",
     "output_type": "stream",
     "text": [
      "28 {\"accuracy\": 0.13276231263383298, \"balanced accuracy\": 0.052631578947368404, \"kappa\": 0.05594405594405594, \"recall\": 0.12550607287449392, \"mae\": 2.9143468950749463, \"f1 macro\": 0.10396964200930163, \"f1 weighted\": 0.10998073480213066}\n"
     ]
    },
    {
     "name": "stderr",
     "output_type": "stream",
     "text": [
      "100%|██████████| 467/467 [00:41<00:00, 11.24it/s]\n",
      "  0%|          | 0/467 [00:00<?, ?it/s]"
     ]
    },
    {
     "name": "stdout",
     "output_type": "stream",
     "text": [
      "29 {\"accuracy\": 0.12633832976445397, \"balanced accuracy\": 0.04605263157894735, \"kappa\": 0.04895104895104896, \"recall\": 0.11943319838056679, \"mae\": 2.845824411134904, \"f1 macro\": 0.09730361582605043, \"f1 weighted\": 0.10292930667680711}\n"
     ]
    },
    {
     "name": "stderr",
     "output_type": "stream",
     "text": [
      "100%|██████████| 467/467 [00:42<00:00, 10.97it/s]\n",
      "  0%|          | 0/467 [00:00<?, ?it/s]"
     ]
    },
    {
     "name": "stdout",
     "output_type": "stream",
     "text": [
      "30 {\"accuracy\": 0.10492505353319058, \"balanced accuracy\": 0.024122807017543862, \"kappa\": 0.02564102564102566, \"recall\": 0.09919028340080972, \"mae\": 2.8201284796573876, \"f1 macro\": 0.08921868638128554, \"f1 weighted\": 0.09437694019776242}\n"
     ]
    },
    {
     "name": "stderr",
     "output_type": "stream",
     "text": [
      "100%|██████████| 467/467 [00:44<00:00, 10.39it/s]"
     ]
    },
    {
     "name": "stdout",
     "output_type": "stream",
     "text": [
      "31 {\"accuracy\": 0.15203426124197003, \"balanced accuracy\": 0.07236842105263157, \"kappa\": 0.07692307692307687, \"recall\": 0.1437246963562753, \"mae\": 2.8008565310492504, \"f1 macro\": 0.12210134996277912, \"f1 weighted\": 0.12916074278717965}\n",
      "\n"
     ]
    },
    {
     "name": "stderr",
     "output_type": "stream",
     "text": [
      "\n"
     ]
    }
   ],
   "source": [
    "cp_path = os.path.join(os.getcwd(), 'v7/logs/three/version_1/checkpoints/')\n",
    "cps = [os.path.join(cp_path, f) for f in os.listdir(cp_path)]\n",
    "cps = sorted(cps, key= lambda s: int(epoch_num_regex.search(s)[1]))\n",
    "\n",
    "v = v7\n",
    "for cp in tqdm(cps):\n",
    "    qe = ge.QueryEstimater(cp, dataset=tpcd, encoder=v.encoder, model_cls=v.model.GereltRegressor)\n",
    "    r = qe.evaluate(df=tpcd_sample)\n",
    "    print(int(epoch_num_regex.search(cp)[1]), json.dumps(ge.evaluate_metrics(r)))"
   ]
  },
  {
   "cell_type": "code",
   "execution_count": 22,
   "metadata": {},
   "outputs": [
    {
     "data": {
      "application/vnd.jupyter.widget-view+json": {
       "model_id": "8a038d50508e48ecaab7776d449c654a",
       "version_major": 2,
       "version_minor": 0
      },
      "text/plain": [
       "HBox(children=(HTML(value=''), FloatProgress(value=0.0, max=39.0), HTML(value='')))"
      ]
     },
     "metadata": {},
     "output_type": "display_data"
    },
    {
     "name": "stderr",
     "output_type": "stream",
     "text": [
      "100%|██████████| 467/467 [01:26<00:00,  5.41it/s]\n",
      "  0%|          | 0/467 [00:00<?, ?it/s]"
     ]
    },
    {
     "name": "stdout",
     "output_type": "stream",
     "text": [
      "0 {\"accuracy\": 0.1841541755888651, \"balanced accuracy\": 0.10526315789473684, \"kappa\": 0.11188811188811187, \"recall\": 0.17408906882591094, \"mae\": 2.411134903640257, \"f1 macro\": 0.11309295162251295, \"f1 weighted\": 0.11963151627734775}\n"
     ]
    },
    {
     "name": "stderr",
     "output_type": "stream",
     "text": [
      "100%|██████████| 467/467 [01:35<00:00,  4.87it/s]\n",
      "  0%|          | 0/467 [00:00<?, ?it/s]"
     ]
    },
    {
     "name": "stdout",
     "output_type": "stream",
     "text": [
      "1 {\"accuracy\": 0.1777301927194861, \"balanced accuracy\": 0.09868421052631578, \"kappa\": 0.1048951048951049, \"recall\": 0.1680161943319838, \"mae\": 2.342612419700214, \"f1 macro\": 0.12516673017052898, \"f1 weighted\": 0.13240335054441396}\n"
     ]
    },
    {
     "name": "stderr",
     "output_type": "stream",
     "text": [
      "100%|██████████| 467/467 [01:36<00:00,  4.84it/s]\n",
      "  0%|          | 0/467 [00:00<?, ?it/s]"
     ]
    },
    {
     "name": "stdout",
     "output_type": "stream",
     "text": [
      "2 {\"accuracy\": 0.16059957173447537, \"balanced accuracy\": 0.08114035087719296, \"kappa\": 0.08624708624708621, \"recall\": 0.15182186234817813, \"mae\": 2.226980728051392, \"f1 macro\": 0.11394453566749017, \"f1 weighted\": 0.1205323353741759}\n"
     ]
    },
    {
     "name": "stderr",
     "output_type": "stream",
     "text": [
      "100%|██████████| 467/467 [01:30<00:00,  5.15it/s]\n",
      "  0%|          | 0/467 [00:00<?, ?it/s]"
     ]
    },
    {
     "name": "stdout",
     "output_type": "stream",
     "text": [
      "3 {\"accuracy\": 0.16274089935760172, \"balanced accuracy\": 0.08333333333333333, \"kappa\": 0.08857808857808858, \"recall\": 0.15384615384615385, \"mae\": 2.2248394004282654, \"f1 macro\": 0.11596170649324523, \"f1 weighted\": 0.12266613063739432}\n"
     ]
    },
    {
     "name": "stderr",
     "output_type": "stream",
     "text": [
      "100%|██████████| 467/467 [01:39<00:00,  4.68it/s]\n",
      "  0%|          | 0/467 [00:00<?, ?it/s]"
     ]
    },
    {
     "name": "stdout",
     "output_type": "stream",
     "text": [
      "4 {\"accuracy\": 0.12205567451820129, \"balanced accuracy\": 0.041666666666666664, \"kappa\": 0.044289044289044344, \"recall\": 0.11538461538461539, \"mae\": 2.3233404710920773, \"f1 macro\": 0.08348166147225866, \"f1 weighted\": 0.08830822434110447}\n"
     ]
    },
    {
     "name": "stderr",
     "output_type": "stream",
     "text": [
      "100%|██████████| 467/467 [01:37<00:00,  4.77it/s]\n",
      "  0%|          | 0/467 [00:00<?, ?it/s]"
     ]
    },
    {
     "name": "stdout",
     "output_type": "stream",
     "text": [
      "5 {\"accuracy\": 0.14989293361884368, \"balanced accuracy\": 0.07017543859649122, \"kappa\": 0.07459207459207462, \"recall\": 0.1417004048582996, \"mae\": 2.3704496788008567, \"f1 macro\": 0.11037990572954166, \"f1 weighted\": 0.11676161334131388}\n"
     ]
    },
    {
     "name": "stderr",
     "output_type": "stream",
     "text": [
      "100%|██████████| 467/467 [01:29<00:00,  5.24it/s]\n",
      "  0%|          | 0/467 [00:00<?, ?it/s]"
     ]
    },
    {
     "name": "stdout",
     "output_type": "stream",
     "text": [
      "6 {\"accuracy\": 0.10492505353319058, \"balanced accuracy\": 0.024122807017543862, \"kappa\": 0.02564102564102566, \"recall\": 0.09919028340080972, \"mae\": 2.4475374732334045, \"f1 macro\": 0.07997754859823826, \"f1 weighted\": 0.08460151821740834}\n"
     ]
    },
    {
     "name": "stderr",
     "output_type": "stream",
     "text": [
      "100%|██████████| 467/467 [01:38<00:00,  4.73it/s]\n",
      "  0%|          | 0/467 [00:00<?, ?it/s]"
     ]
    },
    {
     "name": "stdout",
     "output_type": "stream",
     "text": [
      "7 {\"accuracy\": 0.13276231263383298, \"balanced accuracy\": 0.05263157894736843, \"kappa\": 0.05594405594405594, \"recall\": 0.12550607287449395, \"mae\": 2.321199143468951, \"f1 macro\": 0.08992019088923389, \"f1 weighted\": 0.09511900278218743}\n"
     ]
    },
    {
     "name": "stderr",
     "output_type": "stream",
     "text": [
      "100%|██████████| 467/467 [01:36<00:00,  4.85it/s]\n",
      "  0%|          | 0/467 [00:00<?, ?it/s]"
     ]
    },
    {
     "name": "stdout",
     "output_type": "stream",
     "text": [
      "8 {\"accuracy\": 0.11777301927194861, \"balanced accuracy\": 0.03728070175438594, \"kappa\": 0.03962703962703962, \"recall\": 0.11133603238866395, \"mae\": 2.3811563169164884, \"f1 macro\": 0.08775681721698114, \"f1 weighted\": 0.09283055183123914}\n"
     ]
    },
    {
     "name": "stderr",
     "output_type": "stream",
     "text": [
      "100%|██████████| 467/467 [01:21<00:00,  5.74it/s]\n",
      "  0%|          | 0/467 [00:00<?, ?it/s]"
     ]
    },
    {
     "name": "stdout",
     "output_type": "stream",
     "text": [
      "9 {\"accuracy\": 0.14346895074946467, \"balanced accuracy\": 0.06359649122807016, \"kappa\": 0.06759906759906764, \"recall\": 0.13562753036437247, \"mae\": 2.449678800856531, \"f1 macro\": 0.10523229944438418, \"f1 weighted\": 0.11131639384480899}\n"
     ]
    },
    {
     "name": "stderr",
     "output_type": "stream",
     "text": [
      "100%|██████████| 467/467 [01:39<00:00,  4.70it/s]\n",
      "  0%|          | 0/467 [00:00<?, ?it/s]"
     ]
    },
    {
     "name": "stdout",
     "output_type": "stream",
     "text": [
      "10 {\"accuracy\": 0.12633832976445397, \"balanced accuracy\": 0.04605263157894735, \"kappa\": 0.04895104895104896, \"recall\": 0.11943319838056679, \"mae\": 2.379014989293362, \"f1 macro\": 0.09154478601335755, \"f1 weighted\": 0.09683752524753451}\n"
     ]
    },
    {
     "name": "stderr",
     "output_type": "stream",
     "text": [
      "100%|██████████| 467/467 [01:37<00:00,  4.77it/s]\n",
      "  0%|          | 0/467 [00:00<?, ?it/s]"
     ]
    },
    {
     "name": "stdout",
     "output_type": "stream",
     "text": [
      "11 {\"accuracy\": 0.11991434689507495, \"balanced accuracy\": 0.03947368421052628, \"kappa\": 0.04195804195804198, \"recall\": 0.11336032388663965, \"mae\": 2.4775160599571735, \"f1 macro\": 0.08769881937345157, \"f1 weighted\": 0.09276920079332991}\n"
     ]
    },
    {
     "name": "stderr",
     "output_type": "stream",
     "text": [
      "100%|██████████| 467/467 [01:34<00:00,  4.97it/s]\n",
      "  0%|          | 0/467 [00:00<?, ?it/s]"
     ]
    },
    {
     "name": "stdout",
     "output_type": "stream",
     "text": [
      "12 {\"accuracy\": 0.14775160599571735, \"balanced accuracy\": 0.06798245614035085, \"kappa\": 0.07226107226107226, \"recall\": 0.13967611336032387, \"mae\": 2.436830835117773, \"f1 macro\": 0.11121922387823308, \"f1 weighted\": 0.11764945737868768}\n"
     ]
    },
    {
     "name": "stderr",
     "output_type": "stream",
     "text": [
      "100%|██████████| 467/467 [01:33<00:00,  4.98it/s]\n",
      "  0%|          | 0/467 [00:00<?, ?it/s]"
     ]
    },
    {
     "name": "stdout",
     "output_type": "stream",
     "text": [
      "13 {\"accuracy\": 0.11349036402569593, \"balanced accuracy\": 0.03289473684210524, \"kappa\": 0.034965034965035, \"recall\": 0.10728744939271254, \"mae\": 2.5096359743040684, \"f1 macro\": 0.08426598441784804, \"f1 weighted\": 0.08913789358119258}\n"
     ]
    },
    {
     "name": "stderr",
     "output_type": "stream",
     "text": [
      "100%|██████████| 467/467 [01:26<00:00,  5.41it/s]\n",
      "  0%|          | 0/467 [00:00<?, ?it/s]"
     ]
    },
    {
     "name": "stdout",
     "output_type": "stream",
     "text": [
      "14 {\"accuracy\": 0.13062098501070663, \"balanced accuracy\": 0.05043859649122803, \"kappa\": 0.053613053613053574, \"recall\": 0.12348178137651819, \"mae\": 2.4603854389721627, \"f1 macro\": 0.12081087400080368, \"f1 weighted\": 0.1277956568659465}\n"
     ]
    },
    {
     "name": "stderr",
     "output_type": "stream",
     "text": [
      "100%|██████████| 467/467 [01:25<00:00,  5.47it/s]\n",
      "  0%|          | 0/467 [00:00<?, ?it/s]"
     ]
    },
    {
     "name": "stdout",
     "output_type": "stream",
     "text": [
      "15 {\"accuracy\": 0.16274089935760172, \"balanced accuracy\": 0.08333333333333333, \"kappa\": 0.08857808857808858, \"recall\": 0.15384615384615385, \"mae\": 2.3340471092077086, \"f1 macro\": 0.1348890726985039, \"f1 weighted\": 0.1426877985290384}\n"
     ]
    },
    {
     "name": "stderr",
     "output_type": "stream",
     "text": [
      "100%|██████████| 467/467 [01:25<00:00,  5.47it/s]\n",
      "  0%|          | 0/467 [00:00<?, ?it/s]"
     ]
    },
    {
     "name": "stdout",
     "output_type": "stream",
     "text": [
      "16 {\"accuracy\": 0.14989293361884368, \"balanced accuracy\": 0.0701754385964912, \"kappa\": 0.07459207459207462, \"recall\": 0.14170040485829957, \"mae\": 2.3319057815845823, \"f1 macro\": 0.131647761542767, \"f1 weighted\": 0.13925908822725247}\n"
     ]
    },
    {
     "name": "stderr",
     "output_type": "stream",
     "text": [
      "100%|██████████| 467/467 [01:12<00:00,  6.40it/s]\n",
      "  0%|          | 0/467 [00:00<?, ?it/s]"
     ]
    },
    {
     "name": "stdout",
     "output_type": "stream",
     "text": [
      "17 {\"accuracy\": 0.12419700214132762, \"balanced accuracy\": 0.043859649122806994, \"kappa\": 0.046620046620046596, \"recall\": 0.11740890688259108, \"mae\": 2.468950749464668, \"f1 macro\": 0.10884119169004772, \"f1 weighted\": 0.11513393724814469}\n"
     ]
    },
    {
     "name": "stderr",
     "output_type": "stream",
     "text": [
      "100%|██████████| 467/467 [01:11<00:00,  6.50it/s]\n",
      "  0%|          | 0/467 [00:00<?, ?it/s]"
     ]
    },
    {
     "name": "stdout",
     "output_type": "stream",
     "text": [
      "18 {\"accuracy\": 0.13704496788008566, \"balanced accuracy\": 0.05701754385964912, \"kappa\": 0.06060606060606055, \"recall\": 0.12955465587044535, \"mae\": 2.3618843683083512, \"f1 macro\": 0.1280765240699717, \"f1 weighted\": 0.13548137663932763}\n"
     ]
    },
    {
     "name": "stderr",
     "output_type": "stream",
     "text": [
      "100%|██████████| 467/467 [01:28<00:00,  5.27it/s]\n",
      "  0%|          | 0/467 [00:00<?, ?it/s]"
     ]
    },
    {
     "name": "stdout",
     "output_type": "stream",
     "text": [
      "19 {\"accuracy\": 0.16488222698072805, \"balanced accuracy\": 0.08552631578947367, \"kappa\": 0.09090909090909083, \"recall\": 0.15587044534412955, \"mae\": 2.4967880085653107, \"f1 macro\": 0.14673501922372092, \"f1 weighted\": 0.15521862847220155}\n"
     ]
    },
    {
     "name": "stderr",
     "output_type": "stream",
     "text": [
      "100%|██████████| 467/467 [01:19<00:00,  5.85it/s]\n",
      "  0%|          | 0/467 [00:00<?, ?it/s]"
     ]
    },
    {
     "name": "stdout",
     "output_type": "stream",
     "text": [
      "20 {\"accuracy\": 0.16274089935760172, \"balanced accuracy\": 0.0833333333333333, \"kappa\": 0.08857808857808858, \"recall\": 0.15384615384615383, \"mae\": 2.321199143468951, \"f1 macro\": 0.1473094633007022, \"f1 weighted\": 0.15582628451937233}\n"
     ]
    },
    {
     "name": "stderr",
     "output_type": "stream",
     "text": [
      "100%|██████████| 467/467 [01:15<00:00,  6.21it/s]\n",
      "  0%|          | 0/467 [00:00<?, ?it/s]"
     ]
    },
    {
     "name": "stdout",
     "output_type": "stream",
     "text": [
      "21 {\"accuracy\": 0.1734475374732334, \"balanced accuracy\": 0.09429824561403508, \"kappa\": 0.10023310023310028, \"recall\": 0.16396761133603238, \"mae\": 2.4025695931477515, \"f1 macro\": 0.15000864291591667, \"f1 weighted\": 0.15868151948707243}\n"
     ]
    },
    {
     "name": "stderr",
     "output_type": "stream",
     "text": [
      "100%|██████████| 467/467 [01:24<00:00,  5.52it/s]\n",
      "  0%|          | 0/467 [00:00<?, ?it/s]"
     ]
    },
    {
     "name": "stdout",
     "output_type": "stream",
     "text": [
      "22 {\"accuracy\": 0.145610278372591, \"balanced accuracy\": 0.06578947368421051, \"kappa\": 0.0699300699300699, \"recall\": 0.13765182186234817, \"mae\": 2.284796573875803, \"f1 macro\": 0.12457905863412456, \"f1 weighted\": 0.13178170228106537}\n"
     ]
    },
    {
     "name": "stderr",
     "output_type": "stream",
     "text": [
      "100%|██████████| 467/467 [01:13<00:00,  6.34it/s]\n",
      "  0%|          | 0/467 [00:00<?, ?it/s]"
     ]
    },
    {
     "name": "stdout",
     "output_type": "stream",
     "text": [
      "23 {\"accuracy\": 0.16488222698072805, \"balanced accuracy\": 0.0855263157894737, \"kappa\": 0.09090909090909094, \"recall\": 0.15587044534412958, \"mae\": 2.30406852248394, \"f1 macro\": 0.1374532828248903, \"f1 weighted\": 0.14540026063275335}\n"
     ]
    },
    {
     "name": "stderr",
     "output_type": "stream",
     "text": [
      "100%|██████████| 467/467 [01:27<00:00,  5.35it/s]\n",
      "  0%|          | 0/467 [00:00<?, ?it/s]"
     ]
    },
    {
     "name": "stdout",
     "output_type": "stream",
     "text": [
      "24 {\"accuracy\": 0.15417558886509636, \"balanced accuracy\": 0.07456140350877191, \"kappa\": 0.07925407925407912, \"recall\": 0.145748987854251, \"mae\": 2.28051391862955, \"f1 macro\": 0.13797718319035687, \"f1 weighted\": 0.1459544507409771}\n"
     ]
    },
    {
     "name": "stderr",
     "output_type": "stream",
     "text": [
      "100%|██████████| 467/467 [01:31<00:00,  5.08it/s]\n",
      "  0%|          | 0/467 [00:00<?, ?it/s]"
     ]
    },
    {
     "name": "stdout",
     "output_type": "stream",
     "text": [
      "25 {\"accuracy\": 0.18201284796573874, \"balanced accuracy\": 0.10307017543859649, \"kappa\": 0.10955710955710951, \"recall\": 0.17206477732793524, \"mae\": 2.310492505353319, \"f1 macro\": 0.15711557139966706, \"f1 weighted\": 0.16619934105232448}\n"
     ]
    },
    {
     "name": "stderr",
     "output_type": "stream",
     "text": [
      "100%|██████████| 467/467 [01:29<00:00,  5.23it/s]\n",
      "  0%|          | 0/467 [00:00<?, ?it/s]"
     ]
    },
    {
     "name": "stdout",
     "output_type": "stream",
     "text": [
      "26 {\"accuracy\": 0.15417558886509636, \"balanced accuracy\": 0.07456140350877191, \"kappa\": 0.07925407925407923, \"recall\": 0.145748987854251, \"mae\": 2.267665952890792, \"f1 macro\": 0.1272529362459109, \"f1 weighted\": 0.13461017238860815}\n"
     ]
    },
    {
     "name": "stderr",
     "output_type": "stream",
     "text": [
      "100%|██████████| 467/467 [01:22<00:00,  5.67it/s]\n",
      "  0%|          | 0/467 [00:00<?, ?it/s]"
     ]
    },
    {
     "name": "stdout",
     "output_type": "stream",
     "text": [
      "27 {\"accuracy\": 0.16059957173447537, \"balanced accuracy\": 0.081140350877193, \"kappa\": 0.08624708624708632, \"recall\": 0.15182186234817815, \"mae\": 2.3811563169164884, \"f1 macro\": 0.1372642637934913, \"f1 weighted\": 0.14520031330617714}\n"
     ]
    },
    {
     "name": "stderr",
     "output_type": "stream",
     "text": [
      "100%|██████████| 467/467 [01:28<00:00,  5.28it/s]\n",
      "  0%|          | 0/467 [00:00<?, ?it/s]"
     ]
    },
    {
     "name": "stdout",
     "output_type": "stream",
     "text": [
      "28 {\"accuracy\": 0.15417558886509636, \"balanced accuracy\": 0.07456140350877191, \"kappa\": 0.07925407925407923, \"recall\": 0.145748987854251, \"mae\": 2.3190578158458246, \"f1 macro\": 0.13002502774331645, \"f1 weighted\": 0.13754253470063882}\n"
     ]
    },
    {
     "name": "stderr",
     "output_type": "stream",
     "text": [
      "100%|██████████| 467/467 [01:32<00:00,  5.04it/s]\n",
      "  0%|          | 0/467 [00:00<?, ?it/s]"
     ]
    },
    {
     "name": "stdout",
     "output_type": "stream",
     "text": [
      "29 {\"accuracy\": 0.17558886509635974, \"balanced accuracy\": 0.09649122807017545, \"kappa\": 0.10256410256410253, \"recall\": 0.1659919028340081, \"mae\": 2.233404710920771, \"f1 macro\": 0.14723147202083392, \"f1 weighted\": 0.1557437841076916}\n"
     ]
    },
    {
     "name": "stderr",
     "output_type": "stream",
     "text": [
      "100%|██████████| 467/467 [01:31<00:00,  5.12it/s]\n",
      "  0%|          | 0/467 [00:00<?, ?it/s]"
     ]
    },
    {
     "name": "stdout",
     "output_type": "stream",
     "text": [
      "30 {\"accuracy\": 0.1734475374732334, \"balanced accuracy\": 0.0942982456140351, \"kappa\": 0.10023310023310039, \"recall\": 0.1639676113360324, \"mae\": 2.2569593147751608, \"f1 macro\": 0.14452546448192122, \"f1 weighted\": 0.15288132645410935}\n"
     ]
    },
    {
     "name": "stderr",
     "output_type": "stream",
     "text": [
      "100%|██████████| 467/467 [01:29<00:00,  5.24it/s]\n",
      "  0%|          | 0/467 [00:00<?, ?it/s]"
     ]
    },
    {
     "name": "stdout",
     "output_type": "stream",
     "text": [
      "31 {\"accuracy\": 0.15631691648822268, \"balanced accuracy\": 0.07675438596491228, \"kappa\": 0.0815850815850816, \"recall\": 0.14777327935222673, \"mae\": 2.2933618843683083, \"f1 macro\": 0.12873152026840007, \"f1 weighted\": 0.13617424199697994}\n"
     ]
    },
    {
     "name": "stderr",
     "output_type": "stream",
     "text": [
      "100%|██████████| 467/467 [01:29<00:00,  5.23it/s]\n",
      "  0%|          | 0/467 [00:00<?, ?it/s]"
     ]
    },
    {
     "name": "stdout",
     "output_type": "stream",
     "text": [
      "32 {\"accuracy\": 0.1905781584582441, \"balanced accuracy\": 0.11184210526315792, \"kappa\": 0.11888111888111885, \"recall\": 0.1801619433198381, \"mae\": 2.267665952890792, \"f1 macro\": 0.16175727540615675, \"f1 weighted\": 0.17110940910201597}\n"
     ]
    },
    {
     "name": "stderr",
     "output_type": "stream",
     "text": [
      "100%|██████████| 467/467 [01:16<00:00,  6.08it/s]\n",
      "  0%|          | 0/467 [00:00<?, ?it/s]"
     ]
    },
    {
     "name": "stdout",
     "output_type": "stream",
     "text": [
      "33 {\"accuracy\": 0.16916488222698073, \"balanced accuracy\": 0.08991228070175433, \"kappa\": 0.09557109557109555, \"recall\": 0.15991902834008093, \"mae\": 2.3404710920770877, \"f1 macro\": 0.14713652976697936, \"f1 weighted\": 0.15564335268712592}\n"
     ]
    },
    {
     "name": "stderr",
     "output_type": "stream",
     "text": [
      "100%|██████████| 467/467 [01:33<00:00,  5.01it/s]\n",
      "  0%|          | 0/467 [00:00<?, ?it/s]"
     ]
    },
    {
     "name": "stdout",
     "output_type": "stream",
     "text": [
      "34 {\"accuracy\": 0.18201284796573874, \"balanced accuracy\": 0.10307017543859649, \"kappa\": 0.10955710955710951, \"recall\": 0.17206477732793524, \"mae\": 2.3169164882226982, \"f1 macro\": 0.15473215229950743, \"f1 weighted\": 0.16367812256093503}\n"
     ]
    },
    {
     "name": "stderr",
     "output_type": "stream",
     "text": [
      "100%|██████████| 467/467 [01:35<00:00,  4.88it/s]\n",
      "  0%|          | 0/467 [00:00<?, ?it/s]"
     ]
    },
    {
     "name": "stdout",
     "output_type": "stream",
     "text": [
      "35 {\"accuracy\": 0.1948608137044968, \"balanced accuracy\": 0.11622807017543861, \"kappa\": 0.12354312354312358, \"recall\": 0.1842105263157895, \"mae\": 2.3019271948608138, \"f1 macro\": 0.16279938066341468, \"f1 weighted\": 0.17221176455616027}\n"
     ]
    },
    {
     "name": "stderr",
     "output_type": "stream",
     "text": [
      "100%|██████████| 467/467 [01:29<00:00,  5.24it/s]\n",
      "  0%|          | 0/467 [00:00<?, ?it/s]"
     ]
    },
    {
     "name": "stdout",
     "output_type": "stream",
     "text": [
      "36 {\"accuracy\": 0.16274089935760172, \"balanced accuracy\": 0.08333333333333333, \"kappa\": 0.08857808857808858, \"recall\": 0.15384615384615385, \"mae\": 2.4089935760171306, \"f1 macro\": 0.13592205740736857, \"f1 weighted\": 0.14378050612256973}\n"
     ]
    },
    {
     "name": "stderr",
     "output_type": "stream",
     "text": [
      "100%|██████████| 467/467 [01:23<00:00,  5.61it/s]\n",
      "  0%|          | 0/467 [00:00<?, ?it/s]"
     ]
    },
    {
     "name": "stdout",
     "output_type": "stream",
     "text": [
      "37 {\"accuracy\": 0.1670235546038544, \"balanced accuracy\": 0.08771929824561402, \"kappa\": 0.09324009324009319, \"recall\": 0.15789473684210525, \"mae\": 2.2955032119914347, \"f1 macro\": 0.1396812725927385, \"f1 weighted\": 0.14775706351351778}\n"
     ]
    },
    {
     "name": "stderr",
     "output_type": "stream",
     "text": [
      "100%|██████████| 467/467 [01:03<00:00,  7.31it/s]"
     ]
    },
    {
     "name": "stdout",
     "output_type": "stream",
     "text": [
      "38 {\"accuracy\": 0.15845824411134904, \"balanced accuracy\": 0.07894736842105263, \"kappa\": 0.08391608391608396, \"recall\": 0.14979757085020243, \"mae\": 2.3704496788008567, \"f1 macro\": 0.1490121575790907, \"f1 weighted\": 0.15762742150764628}\n",
      "\n"
     ]
    },
    {
     "name": "stderr",
     "output_type": "stream",
     "text": [
      "\n"
     ]
    }
   ],
   "source": [
    "cp_path = os.path.join(os.getcwd(), 'v4/logs/three/version_0/checkpoints/')\n",
    "cps = [os.path.join(cp_path, f) for f in os.listdir(cp_path)]\n",
    "cps = sorted(cps, key= lambda s: int(epoch_num_regex.search(s)[1]))\n",
    "\n",
    "v = v4\n",
    "for cp in tqdm(cps):\n",
    "    qe = ge.QueryEstimater(cp, dataset=tpcd, encoder=v.encoder, model_cls=v.model.GereltRegressor)\n",
    "    r = qe.evaluate(df=tpcd_sample)\n",
    "    print(int(epoch_num_regex.search(cp)[1]), json.dumps(ge.evaluate_metrics(r)))"
   ]
  },
  {
   "cell_type": "code",
   "execution_count": null,
   "metadata": {},
   "outputs": [],
   "source": []
  }
 ],
 "metadata": {
  "kernelspec": {
   "display_name": "py37",
   "language": "python",
   "name": "py37"
  },
  "language_info": {
   "codemirror_mode": {
    "name": "ipython",
    "version": 3
   },
   "file_extension": ".py",
   "mimetype": "text/x-python",
   "name": "python",
   "nbconvert_exporter": "python",
   "pygments_lexer": "ipython3",
   "version": "3.7.7"
  }
 },
 "nbformat": 4,
 "nbformat_minor": 4
}
