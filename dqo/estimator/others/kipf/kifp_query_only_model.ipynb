{
 "cells": [
  {
   "cell_type": "code",
   "execution_count": 27,
   "metadata": {
    "pycharm": {}
   },
   "outputs": [],
   "source": [
    "import pandas as pd\n",
    "from keras.models import Sequential\n",
    "from keras.layers import Dense, Activation\n",
    "import seaborn as sns; sns.set()\n",
    "import numpy as np\n",
    "from matplotlib import pyplot as plt\n",
    "from keras_tqdm import TQDMNotebookCallback\n",
    "import json\n",
    "import torch\n",
    "from torch.utils.data import dataset\n",
    "from torch.autograd import Variable\n",
    "from torch.utils.data import DataLoader\n",
    "import time\n",
    "import os"
   ]
  },
  {
   "cell_type": "code",
   "execution_count": 31,
   "metadata": {},
   "outputs": [],
   "source": [
    "os.chdir('../../../')"
   ]
  },
  {
   "cell_type": "code",
   "execution_count": 32,
   "metadata": {},
   "outputs": [
    {
     "data": {
      "text/plain": [
       "'/Users/danieldubovski/projects/deep_query_optimization'"
      ]
     },
     "execution_count": 32,
     "metadata": {},
     "output_type": "execute_result"
    }
   ],
   "source": [
    "os.getcwd()"
   ]
  },
  {
   "cell_type": "code",
   "execution_count": 3,
   "metadata": {
    "pycharm": {}
   },
   "outputs": [],
   "source": [
    "data = pd.read_csv('./input/encoded_queries.csv', \n",
    "                   converters={\n",
    "                       \"input_joins\": lambda x: np.array(json.loads(x)),\n",
    "                       \"input_predicates\": lambda x: np.array(json.loads(x)),\n",
    "                       \"input_tables\": lambda x: np.array(json.loads(x)),\n",
    "                       \"input_joins_mask\": lambda x: np.array(json.loads(x)),\n",
    "                       \"input_predicates_mask\": lambda x: np.array(json.loads(x)),\n",
    "                       \"input_tables_mask\": lambda x: np.array(json.loads(x)),\n",
    "                   })\n",
    "                   "
   ]
  },
  {
   "cell_type": "code",
   "execution_count": 4,
   "metadata": {
    "pycharm": {}
   },
   "outputs": [
    {
     "data": {
      "text/html": [
       "<div>\n",
       "<style scoped>\n",
       "    .dataframe tbody tr th:only-of-type {\n",
       "        vertical-align: middle;\n",
       "    }\n",
       "\n",
       "    .dataframe tbody tr th {\n",
       "        vertical-align: top;\n",
       "    }\n",
       "\n",
       "    .dataframe thead th {\n",
       "        text-align: right;\n",
       "    }\n",
       "</style>\n",
       "<table border=\"1\" class=\"dataframe\">\n",
       "  <thead>\n",
       "    <tr style=\"text-align: right;\">\n",
       "      <th></th>\n",
       "      <th>input</th>\n",
       "      <th>runtime</th>\n",
       "      <th>input_joins</th>\n",
       "      <th>input_joins_mask</th>\n",
       "      <th>input_predicates</th>\n",
       "      <th>input_predicates_mask</th>\n",
       "      <th>input_tables</th>\n",
       "      <th>input_tables_mask</th>\n",
       "    </tr>\n",
       "  </thead>\n",
       "  <tbody>\n",
       "    <tr>\n",
       "      <th>0</th>\n",
       "      <td>NaN</td>\n",
       "      <td>7.040452</td>\n",
       "      <td>[[0, 0, 0, 0, 0, 0, 0, 0], [0, 0, 0, 0, 0, 0, ...</td>\n",
       "      <td>[[0], [0], [0], [0], [0], [0], [0], [0], [0], ...</td>\n",
       "      <td>[[0, 1, 1, 0, 0, 1, 0, 0, 1, 0, 1], [0, 1, 0, ...</td>\n",
       "      <td>[[1], [1], [1], [1], [1], [1], [1], [1], [0], ...</td>\n",
       "      <td>[[0, 0, 1, 0, 1], [0, 0, 1, 1, 0], [0, 1, 0, 0...</td>\n",
       "      <td>[[1.0], [1.0], [1.0], [1.0], [1.0], [1.0], [1....</td>\n",
       "    </tr>\n",
       "    <tr>\n",
       "      <th>1</th>\n",
       "      <td>NaN</td>\n",
       "      <td>7.740461</td>\n",
       "      <td>[[0, 0, 0, 0, 0, 0, 0, 0], [0, 0, 0, 0, 0, 0, ...</td>\n",
       "      <td>[[0], [0], [0], [0], [0], [0], [0], [0], [0], ...</td>\n",
       "      <td>[[0, 1, 0, 0, 1, 1, 0, 0, 1, 0, 1], [1, 0, 1, ...</td>\n",
       "      <td>[[1], [1], [1], [1], [1], [0], [0], [0], [0], ...</td>\n",
       "      <td>[[0, 0, 0, 1, 1], [0, 0, 0, 1, 0], [0, 0, 1, 0...</td>\n",
       "      <td>[[1.0], [1.0], [1.0], [1.0], [1.0], [1.0], [1....</td>\n",
       "    </tr>\n",
       "    <tr>\n",
       "      <th>2</th>\n",
       "      <td>NaN</td>\n",
       "      <td>1.240947</td>\n",
       "      <td>[[0, 0, 0, 0, 0, 0, 0, 0], [0, 0, 0, 0, 0, 0, ...</td>\n",
       "      <td>[[0], [0], [0], [0], [0], [0], [0], [0], [0], ...</td>\n",
       "      <td>[[0, 1, 0, 1, 1, 0, 0, 0, 1, 0, 1], [0, 1, 1, ...</td>\n",
       "      <td>[[1], [1], [1], [1], [1], [0], [0], [0], [0], ...</td>\n",
       "      <td>[[0, 0, 1, 1, 0], [0, 1, 0, 0, 0], [0, 1, 1, 0...</td>\n",
       "      <td>[[1.0], [1.0], [1.0], [1.0], [1.0], [0.0], [0....</td>\n",
       "    </tr>\n",
       "    <tr>\n",
       "      <th>3</th>\n",
       "      <td>NaN</td>\n",
       "      <td>39.013127</td>\n",
       "      <td>[[0, 0, 0, 0, 0, 0, 0, 0], [0, 0, 0, 0, 0, 0, ...</td>\n",
       "      <td>[[0], [0], [0], [0], [0], [0], [0], [0], [0], ...</td>\n",
       "      <td>[[0, 1, 0, 0, 0, 1, 1, 0, 1, 0, 1], [0, 1, 0, ...</td>\n",
       "      <td>[[1], [1], [1], [1], [1], [1], [1], [1], [0], ...</td>\n",
       "      <td>[[0, 0, 1, 1, 1], [0, 0, 1, 0, 0], [0, 0, 1, 0...</td>\n",
       "      <td>[[1.0], [1.0], [1.0], [1.0], [1.0], [1.0], [1....</td>\n",
       "    </tr>\n",
       "    <tr>\n",
       "      <th>4</th>\n",
       "      <td>NaN</td>\n",
       "      <td>0.188286</td>\n",
       "      <td>[[0, 0, 0, 0, 0, 0, 0, 0], [0, 0, 0, 0, 0, 0, ...</td>\n",
       "      <td>[[0], [0], [0], [0], [0], [0], [0], [0], [0], ...</td>\n",
       "      <td>[[0, 1, 1, 0, 1, 1, 1, 1, 0, 0, 1], [0, 1, 1, ...</td>\n",
       "      <td>[[1], [1], [1], [1], [1], [1], [1], [1], [0], ...</td>\n",
       "      <td>[[0, 0, 1, 0, 1], [0, 0, 1, 0, 1], [0, 1, 0, 0...</td>\n",
       "      <td>[[1.0], [1.0], [1.0], [1.0], [1.0], [1.0], [1....</td>\n",
       "    </tr>\n",
       "  </tbody>\n",
       "</table>\n",
       "</div>"
      ],
      "text/plain": [
       "   input    runtime                                        input_joins  \\\n",
       "0    NaN   7.040452  [[0, 0, 0, 0, 0, 0, 0, 0], [0, 0, 0, 0, 0, 0, ...   \n",
       "1    NaN   7.740461  [[0, 0, 0, 0, 0, 0, 0, 0], [0, 0, 0, 0, 0, 0, ...   \n",
       "2    NaN   1.240947  [[0, 0, 0, 0, 0, 0, 0, 0], [0, 0, 0, 0, 0, 0, ...   \n",
       "3    NaN  39.013127  [[0, 0, 0, 0, 0, 0, 0, 0], [0, 0, 0, 0, 0, 0, ...   \n",
       "4    NaN   0.188286  [[0, 0, 0, 0, 0, 0, 0, 0], [0, 0, 0, 0, 0, 0, ...   \n",
       "\n",
       "                                    input_joins_mask  \\\n",
       "0  [[0], [0], [0], [0], [0], [0], [0], [0], [0], ...   \n",
       "1  [[0], [0], [0], [0], [0], [0], [0], [0], [0], ...   \n",
       "2  [[0], [0], [0], [0], [0], [0], [0], [0], [0], ...   \n",
       "3  [[0], [0], [0], [0], [0], [0], [0], [0], [0], ...   \n",
       "4  [[0], [0], [0], [0], [0], [0], [0], [0], [0], ...   \n",
       "\n",
       "                                    input_predicates  \\\n",
       "0  [[0, 1, 1, 0, 0, 1, 0, 0, 1, 0, 1], [0, 1, 0, ...   \n",
       "1  [[0, 1, 0, 0, 1, 1, 0, 0, 1, 0, 1], [1, 0, 1, ...   \n",
       "2  [[0, 1, 0, 1, 1, 0, 0, 0, 1, 0, 1], [0, 1, 1, ...   \n",
       "3  [[0, 1, 0, 0, 0, 1, 1, 0, 1, 0, 1], [0, 1, 0, ...   \n",
       "4  [[0, 1, 1, 0, 1, 1, 1, 1, 0, 0, 1], [0, 1, 1, ...   \n",
       "\n",
       "                               input_predicates_mask  \\\n",
       "0  [[1], [1], [1], [1], [1], [1], [1], [1], [0], ...   \n",
       "1  [[1], [1], [1], [1], [1], [0], [0], [0], [0], ...   \n",
       "2  [[1], [1], [1], [1], [1], [0], [0], [0], [0], ...   \n",
       "3  [[1], [1], [1], [1], [1], [1], [1], [1], [0], ...   \n",
       "4  [[1], [1], [1], [1], [1], [1], [1], [1], [0], ...   \n",
       "\n",
       "                                        input_tables  \\\n",
       "0  [[0, 0, 1, 0, 1], [0, 0, 1, 1, 0], [0, 1, 0, 0...   \n",
       "1  [[0, 0, 0, 1, 1], [0, 0, 0, 1, 0], [0, 0, 1, 0...   \n",
       "2  [[0, 0, 1, 1, 0], [0, 1, 0, 0, 0], [0, 1, 1, 0...   \n",
       "3  [[0, 0, 1, 1, 1], [0, 0, 1, 0, 0], [0, 0, 1, 0...   \n",
       "4  [[0, 0, 1, 0, 1], [0, 0, 1, 0, 1], [0, 1, 0, 0...   \n",
       "\n",
       "                                   input_tables_mask  \n",
       "0  [[1.0], [1.0], [1.0], [1.0], [1.0], [1.0], [1....  \n",
       "1  [[1.0], [1.0], [1.0], [1.0], [1.0], [1.0], [1....  \n",
       "2  [[1.0], [1.0], [1.0], [1.0], [1.0], [0.0], [0....  \n",
       "3  [[1.0], [1.0], [1.0], [1.0], [1.0], [1.0], [1....  \n",
       "4  [[1.0], [1.0], [1.0], [1.0], [1.0], [1.0], [1....  "
      ]
     },
     "execution_count": 4,
     "metadata": {},
     "output_type": "execute_result"
    }
   ],
   "source": [
    "data.head()"
   ]
  },
  {
   "cell_type": "code",
   "execution_count": 5,
   "metadata": {
    "pycharm": {}
   },
   "outputs": [],
   "source": [
    "m = np.vstack(data.input_tables.values)"
   ]
  },
  {
   "cell_type": "code",
   "execution_count": 6,
   "metadata": {
    "pycharm": {}
   },
   "outputs": [],
   "source": [
    "m = np.vstack(data.input_tables.apply(lambda v: [int(''.join([str(i) for i in l]),2) for l in v.tolist()]))"
   ]
  },
  {
   "cell_type": "code",
   "execution_count": 7,
   "metadata": {
    "pycharm": {}
   },
   "outputs": [
    {
     "data": {
      "text/plain": [
       "<matplotlib.axes._subplots.AxesSubplot at 0x1a388cd6d8>"
      ]
     },
     "execution_count": 7,
     "metadata": {},
     "output_type": "execute_result"
    },
    {
     "data": {
      "image/png": "[encoded data removed]",
      "text/plain": [
       "<Figure size 432x288 with 2 Axes>"
      ]
     },
     "metadata": {},
     "output_type": "display_data"
    }
   ],
   "source": [
    "sns.heatmap(m)"
   ]
  },
  {
   "cell_type": "code",
   "execution_count": 8,
   "metadata": {
    "pycharm": {}
   },
   "outputs": [
    {
     "data": {
      "text/plain": [
       "((21, 5), (210, 8), (108, 11))"
      ]
     },
     "execution_count": 8,
     "metadata": {},
     "output_type": "execute_result"
    }
   ],
   "source": [
    "data.input_tables.iloc[0].shape, data.input_joins.iloc[0].shape,data.input_predicates.iloc[0].shape"
   ]
  },
  {
   "cell_type": "code",
   "execution_count": 9,
   "metadata": {
    "pycharm": {}
   },
   "outputs": [],
   "source": [
    "# PREP DATA "
   ]
  },
  {
   "cell_type": "code",
   "execution_count": 10,
   "metadata": {
    "pycharm": {}
   },
   "outputs": [],
   "source": [
    "tables_tensor = torch.FloatTensor(data.input_tables)\n",
    "tables_mask_tensor = torch.FloatTensor(data.input_tables_mask)"
   ]
  },
  {
   "cell_type": "code",
   "execution_count": 11,
   "metadata": {
    "pycharm": {}
   },
   "outputs": [],
   "source": [
    "joins_tensor = torch.FloatTensor(data.input_joins)\n",
    "joins_mask_tensor = torch.FloatTensor(data.input_joins_mask)"
   ]
  },
  {
   "cell_type": "code",
   "execution_count": 12,
   "metadata": {
    "pycharm": {}
   },
   "outputs": [],
   "source": [
    "predicates_tensor = torch.FloatTensor(data.input_predicates)\n",
    "predicates_mask_tensor = torch.FloatTensor(data.input_predicates_mask)"
   ]
  },
  {
   "cell_type": "code",
   "execution_count": 13,
   "metadata": {
    "pycharm": {}
   },
   "outputs": [
    {
     "data": {
      "text/plain": [
       "count    1225.000000\n",
       "mean       11.877314\n",
       "std        27.271458\n",
       "min         0.009534\n",
       "25%         0.336270\n",
       "50%         2.549016\n",
       "75%        11.899332\n",
       "max       496.032421\n",
       "Name: runtime, dtype: float64"
      ]
     },
     "execution_count": 13,
     "metadata": {},
     "output_type": "execute_result"
    }
   ],
   "source": [
    "data.runtime.describe()"
   ]
  },
  {
   "cell_type": "code",
   "execution_count": 14,
   "metadata": {
    "pycharm": {}
   },
   "outputs": [],
   "source": [
    "def normalize_labels(labels, min_val=None, max_val=None):\n",
    "    labels = np.array([np.log(float(l)) for l in labels])\n",
    "    if min_val is None:\n",
    "        min_val = labels.min()\n",
    "        print(\"min log(label): {}\".format(min_val))\n",
    "    if max_val is None:\n",
    "        max_val = labels.max()\n",
    "        print(\"max log(label): {}\".format(max_val))\n",
    "    labels_norm = (labels - min_val) / (max_val - min_val)\n",
    "    # Threshold labels\n",
    "    labels_norm = np.minimum(labels_norm, 1)\n",
    "    labels_norm = np.maximum(labels_norm, 0)\n",
    "    return labels_norm, min_val, max_val\n",
    "\n",
    "\n",
    "def unnormalize_labels(labels_norm, min_val, max_val):\n",
    "    labels_norm = np.array(labels_norm, dtype=np.float32)\n",
    "    labels = (labels_norm * (max_val - min_val)) + min_val\n",
    "    return np.array(np.round(np.exp(labels)), dtype=np.int64)\n"
   ]
  },
  {
   "cell_type": "code",
   "execution_count": 15,
   "metadata": {
    "pycharm": {}
   },
   "outputs": [
    {
     "name": "stdout",
     "output_type": "stream",
     "text": [
      "min log(label): -4.6529032842317255\n",
      "max log(label): 6.206641289253351\n"
     ]
    }
   ],
   "source": [
    "normal_runtime, min_norm,max_norm = normalize_labels(data.runtime)"
   ]
  },
  {
   "cell_type": "code",
   "execution_count": null,
   "metadata": {
    "pycharm": {}
   },
   "outputs": [],
   "source": []
  },
  {
   "cell_type": "code",
   "execution_count": 16,
   "metadata": {
    "pycharm": {}
   },
   "outputs": [],
   "source": [
    "target_tensor = torch.FloatTensor(normal_runtime)"
   ]
  },
  {
   "cell_type": "code",
   "execution_count": 17,
   "metadata": {
    "pycharm": {}
   },
   "outputs": [
    {
     "data": {
      "text/plain": [
       "1102"
      ]
     },
     "execution_count": 17,
     "metadata": {},
     "output_type": "execute_result"
    }
   ],
   "source": [
    "split = 0.9\n",
    "rows = len(data)\n",
    "train_size = int(split * rows)\n",
    "train_size"
   ]
  },
  {
   "cell_type": "code",
   "execution_count": 18,
   "metadata": {
    "pycharm": {}
   },
   "outputs": [],
   "source": [
    "labels_train = target_tensor[:train_size]\n",
    "labels_test = target_tensor[train_size:]\n",
    "labels_rsample = target_tensor[-8:-7]"
   ]
  },
  {
   "cell_type": "code",
   "execution_count": 19,
   "metadata": {
    "pycharm": {}
   },
   "outputs": [
    {
     "data": {
      "text/plain": [
       "'normal: tensor([0.7311]), original: 26.73797082901001'"
      ]
     },
     "execution_count": 19,
     "metadata": {},
     "output_type": "execute_result"
    }
   ],
   "source": [
    "f'normal: {labels_rsample}, original: {data.runtime.iloc[-8]}'"
   ]
  },
  {
   "cell_type": "code",
   "execution_count": 20,
   "metadata": {
    "pycharm": {}
   },
   "outputs": [],
   "source": [
    "train_data = dataset.TensorDataset(\n",
    "    tables_tensor[:train_size], \n",
    "    predicates_tensor[:train_size], \n",
    "    joins_tensor[:train_size], \n",
    "    target_tensor[:train_size], \n",
    "    tables_mask_tensor[:train_size],\n",
    "    predicates_mask_tensor[:train_size], \n",
    "    joins_mask_tensor[:train_size]\n",
    ")"
   ]
  },
  {
   "cell_type": "code",
   "execution_count": 21,
   "metadata": {
    "pycharm": {}
   },
   "outputs": [],
   "source": [
    "test_data = dataset.TensorDataset(\n",
    "    tables_tensor[train_size:], \n",
    "    predicates_tensor[train_size:], \n",
    "    joins_tensor[train_size:], \n",
    "    target_tensor[train_size:], \n",
    "    tables_mask_tensor[train_size:],\n",
    "    predicates_mask_tensor[train_size:], \n",
    "    joins_mask_tensor[train_size:]\n",
    ")"
   ]
  },
  {
   "cell_type": "code",
   "execution_count": null,
   "metadata": {
    "pycharm": {}
   },
   "outputs": [],
   "source": []
  },
  {
   "cell_type": "code",
   "execution_count": 22,
   "metadata": {
    "pycharm": {}
   },
   "outputs": [],
   "source": [
    "# RUN MODEL"
   ]
  },
  {
   "cell_type": "code",
   "execution_count": 33,
   "metadata": {
    "pycharm": {}
   },
   "outputs": [],
   "source": [
    "from dqo.estimator.kipf.model import SetConv"
   ]
  },
  {
   "cell_type": "code",
   "execution_count": 34,
   "metadata": {
    "pycharm": {}
   },
   "outputs": [],
   "source": [
    "tables_shape = data.input_tables.iloc[0].shape\n",
    "joins_shape = data.input_joins.iloc[0].shape \n",
    "predicates_shape = data.input_predicates.iloc[0].shape"
   ]
  },
  {
   "cell_type": "code",
   "execution_count": 35,
   "metadata": {
    "pycharm": {}
   },
   "outputs": [
    {
     "data": {
      "text/plain": [
       "((21, 5), (210, 8), (108, 11))"
      ]
     },
     "execution_count": 35,
     "metadata": {},
     "output_type": "execute_result"
    }
   ],
   "source": [
    "# 0 - size of items with padding\n",
    "# 1 - bit to represent data (record size)\n",
    "tables_shape, joins_shape, predicates_shape"
   ]
  },
  {
   "cell_type": "code",
   "execution_count": 36,
   "metadata": {
    "pycharm": {}
   },
   "outputs": [],
   "source": [
    "num_epochs = 200 # 100\n",
    "batch_size = 256 #1024\n",
    "out_hidden = 64 # 256\n",
    "model = SetConv(tables_shape[1], predicates_shape[1], joins_shape[1], 64)"
   ]
  },
  {
   "cell_type": "code",
   "execution_count": 37,
   "metadata": {
    "pycharm": {}
   },
   "outputs": [],
   "source": [
    "optimizer = torch.optim.Adam(model.parameters(), lr=0.001)"
   ]
  },
  {
   "cell_type": "code",
   "execution_count": 38,
   "metadata": {
    "pycharm": {}
   },
   "outputs": [],
   "source": [
    "batch_size = 1024\n",
    "train_data_loader = DataLoader(train_data, batch_size=batch_size)\n",
    "test_data_loader = DataLoader(test_data, batch_size=batch_size)\n"
   ]
  },
  {
   "cell_type": "code",
   "execution_count": 39,
   "metadata": {
    "pycharm": {}
   },
   "outputs": [
    {
     "data": {
      "text/plain": [
       "SetConv(\n",
       "  (sample_mlp1): Linear(in_features=5, out_features=64, bias=True)\n",
       "  (sample_mlp2): Linear(in_features=64, out_features=64, bias=True)\n",
       "  (predicate_mlp1): Linear(in_features=11, out_features=64, bias=True)\n",
       "  (predicate_mlp2): Linear(in_features=64, out_features=64, bias=True)\n",
       "  (join_mlp1): Linear(in_features=8, out_features=64, bias=True)\n",
       "  (join_mlp2): Linear(in_features=64, out_features=64, bias=True)\n",
       "  (out_mlp1): Linear(in_features=192, out_features=64, bias=True)\n",
       "  (out_mlp2): Linear(in_features=64, out_features=1, bias=True)\n",
       ")"
      ]
     },
     "execution_count": 39,
     "metadata": {},
     "output_type": "execute_result"
    }
   ],
   "source": [
    "model"
   ]
  },
  {
   "cell_type": "code",
   "execution_count": 436,
   "metadata": {
    "pycharm": {}
   },
   "outputs": [
    {
     "data": {
      "text/plain": [
       "SetConv(\n",
       "  (sample_mlp1): Linear(in_features=5, out_features=64, bias=True)\n",
       "  (sample_mlp2): Linear(in_features=64, out_features=64, bias=True)\n",
       "  (predicate_mlp1): Linear(in_features=11, out_features=64, bias=True)\n",
       "  (predicate_mlp2): Linear(in_features=64, out_features=64, bias=True)\n",
       "  (join_mlp1): Linear(in_features=8, out_features=64, bias=True)\n",
       "  (join_mlp2): Linear(in_features=64, out_features=64, bias=True)\n",
       "  (out_mlp1): Linear(in_features=192, out_features=64, bias=True)\n",
       "  (out_mlp2): Linear(in_features=64, out_features=1, bias=True)\n",
       ")"
      ]
     },
     "execution_count": 436,
     "metadata": {},
     "output_type": "execute_result"
    }
   ],
   "source": [
    "model.train()"
   ]
  },
  {
   "cell_type": "code",
   "execution_count": 437,
   "metadata": {
    "pycharm": {}
   },
   "outputs": [],
   "source": [
    "def qerror_loss(preds, targets, min_val, max_val):\n",
    "    qerror = []\n",
    "    preds = unnormalize_torch(preds, min_val, max_val)\n",
    "    targets = unnormalize_torch(targets, min_val, max_val)\n",
    "    \n",
    "    for i in range(len(targets)):\n",
    "        if (preds[i] > targets[i]).cpu().data.numpy()[0]:\n",
    "            #loss = preds[i] / targets[i]\n",
    "            loss = (preds[i] - targets[i]) ** 2\n",
    "        else:\n",
    "            #loss = targets[i] / preds[i]\n",
    "            loss = (targets[i] - preds[i]) ** 2\n",
    "        qerror.append(loss)\n",
    "    return torch.mean(torch.cat(qerror))"
   ]
  },
  {
   "cell_type": "code",
   "execution_count": 438,
   "metadata": {
    "pycharm": {}
   },
   "outputs": [],
   "source": [
    "def unnormalize_torch(vals, min_val, max_val):\n",
    "    vals = (vals * (max_val - min_val)) + min_val\n",
    "    return torch.exp(vals)"
   ]
  },
  {
   "cell_type": "code",
   "execution_count": 439,
   "metadata": {
    "pycharm": {}
   },
   "outputs": [],
   "source": [
    "def print_qerror(preds_unnorm, labels_unnorm):\n",
    "    qerror = []\n",
    "    for i in range(len(preds_unnorm)):\n",
    "        if preds_unnorm[i] > float(labels_unnorm[i]):\n",
    "            qerror.append(preds_unnorm[i] / float(labels_unnorm[i]))\n",
    "        else:\n",
    "            qerror.append(float(labels_unnorm[i]) / float(preds_unnorm[i]))\n",
    "\n",
    "    print(\"Median: {}\".format(np.median(qerror)))\n",
    "    print(\"90th percentile: {}\".format(np.percentile(qerror, 90)))\n",
    "    print(\"95th percentile: {}\".format(np.percentile(qerror, 95)))\n",
    "    print(\"99th percentile: {}\".format(np.percentile(qerror, 99)))\n",
    "    print(\"Max: {}\".format(np.max(qerror)))\n",
    "    print(\"Mean: {}\".format(np.mean(qerror)))\n"
   ]
  },
  {
   "cell_type": "code",
   "execution_count": 443,
   "metadata": {
    "pycharm": {}
   },
   "outputs": [
    {
     "name": "stdout",
     "output_type": "stream",
     "text": [
      "Epoch 0, loss: 186.33874130249023\n",
      "Epoch 1, loss: 186.37261199951172\n",
      "Epoch 2, loss: 186.34397506713867\n",
      "Epoch 3, loss: 186.23007583618164\n",
      "Epoch 4, loss: 186.1723976135254\n",
      "Epoch 5, loss: 186.15082931518555\n",
      "Epoch 6, loss: 186.1214256286621\n",
      "Epoch 7, loss: 186.06994247436523\n",
      "Epoch 8, loss: 185.98630905151367\n",
      "Epoch 9, loss: 185.9031524658203\n",
      "Epoch 10, loss: 185.98293685913086\n",
      "Epoch 11, loss: 185.9712371826172\n",
      "Epoch 12, loss: 185.96614837646484\n",
      "Epoch 13, loss: 185.70172882080078\n",
      "Epoch 14, loss: 186.1938362121582\n",
      "Epoch 15, loss: 185.72624588012695\n",
      "Epoch 16, loss: 185.67767333984375\n",
      "Epoch 17, loss: 185.4918212890625\n",
      "Epoch 18, loss: 185.46351623535156\n",
      "Epoch 19, loss: 185.3696746826172\n",
      "Epoch 20, loss: 185.33049774169922\n",
      "Epoch 21, loss: 185.32200622558594\n",
      "Epoch 22, loss: 185.2066421508789\n",
      "Epoch 23, loss: 185.11282348632812\n",
      "Epoch 24, loss: 185.22379302978516\n",
      "Epoch 25, loss: 185.10138320922852\n",
      "Epoch 26, loss: 185.0898208618164\n",
      "Epoch 27, loss: 184.89475631713867\n",
      "Epoch 28, loss: 185.41311264038086\n",
      "Epoch 29, loss: 184.99637603759766\n",
      "Epoch 30, loss: 185.35687637329102\n",
      "Epoch 31, loss: 184.75344848632812\n",
      "Epoch 32, loss: 186.9149627685547\n",
      "Epoch 33, loss: 185.28545761108398\n",
      "Epoch 34, loss: 187.53137969970703\n",
      "Epoch 35, loss: 185.03588485717773\n",
      "Epoch 36, loss: 192.69327926635742\n",
      "Epoch 37, loss: 188.21923446655273\n",
      "Epoch 38, loss: 190.55011749267578\n",
      "Epoch 39, loss: 197.68201065063477\n",
      "Epoch 40, loss: 199.65338134765625\n",
      "Epoch 41, loss: 204.47303771972656\n",
      "Epoch 42, loss: 242.00793838500977\n",
      "Epoch 43, loss: 228.1750717163086\n",
      "Epoch 44, loss: 214.47696685791016\n",
      "Epoch 45, loss: 219.07983779907227\n",
      "Epoch 46, loss: 215.50272750854492\n",
      "Epoch 47, loss: 211.50765228271484\n",
      "Epoch 48, loss: 236.6150665283203\n",
      "Epoch 49, loss: 235.3429718017578\n",
      "Epoch 50, loss: 226.24662017822266\n",
      "Epoch 51, loss: 226.79305267333984\n",
      "Epoch 52, loss: 212.72126007080078\n",
      "Epoch 53, loss: 210.55464553833008\n",
      "Epoch 54, loss: 197.04424285888672\n",
      "Epoch 55, loss: 210.82506942749023\n",
      "Epoch 56, loss: 205.23290634155273\n",
      "Epoch 57, loss: 205.88921737670898\n",
      "Epoch 58, loss: 197.51482391357422\n",
      "Epoch 59, loss: 195.49746322631836\n",
      "Epoch 60, loss: 187.89673614501953\n",
      "Epoch 61, loss: 190.19379425048828\n",
      "Epoch 62, loss: 189.64671325683594\n",
      "Epoch 63, loss: 189.00270462036133\n",
      "Epoch 64, loss: 186.7064666748047\n",
      "Epoch 65, loss: 186.45550155639648\n",
      "Epoch 66, loss: 185.9198760986328\n",
      "Epoch 67, loss: 186.12434768676758\n",
      "Epoch 68, loss: 186.25025939941406\n",
      "Epoch 69, loss: 185.59258651733398\n",
      "Epoch 70, loss: 184.84442138671875\n",
      "Epoch 71, loss: 184.6133575439453\n",
      "Epoch 72, loss: 184.96299362182617\n",
      "Epoch 73, loss: 184.71378326416016\n",
      "Epoch 74, loss: 184.71525192260742\n",
      "Epoch 75, loss: 184.4167366027832\n",
      "Epoch 76, loss: 184.3467788696289\n",
      "Epoch 77, loss: 184.13331985473633\n",
      "Epoch 78, loss: 184.21931838989258\n",
      "Epoch 79, loss: 184.06240463256836\n",
      "Epoch 80, loss: 184.0087127685547\n",
      "Epoch 81, loss: 183.92576217651367\n",
      "Epoch 82, loss: 183.92221069335938\n",
      "Epoch 83, loss: 183.82233047485352\n",
      "Epoch 84, loss: 183.8120574951172\n",
      "Epoch 85, loss: 183.7496223449707\n",
      "Epoch 86, loss: 183.68744277954102\n",
      "Epoch 87, loss: 183.62100982666016\n",
      "Epoch 88, loss: 183.5724639892578\n",
      "Epoch 89, loss: 183.53938674926758\n",
      "Epoch 90, loss: 183.49235916137695\n",
      "Epoch 91, loss: 183.47722625732422\n",
      "Epoch 92, loss: 183.41538619995117\n",
      "Epoch 93, loss: 183.38302612304688\n",
      "Epoch 94, loss: 183.3253059387207\n",
      "Epoch 95, loss: 183.2851905822754\n",
      "Epoch 96, loss: 183.23821258544922\n",
      "Epoch 97, loss: 183.20072555541992\n",
      "Epoch 98, loss: 183.16114044189453\n",
      "Epoch 99, loss: 183.13272094726562\n",
      "Epoch 100, loss: 183.0963363647461\n",
      "Epoch 101, loss: 183.05035018920898\n",
      "Epoch 102, loss: 183.01920700073242\n",
      "Epoch 103, loss: 182.97174835205078\n",
      "Epoch 104, loss: 182.93353271484375\n",
      "Epoch 105, loss: 182.89542388916016\n",
      "Epoch 106, loss: 182.86414337158203\n",
      "Epoch 107, loss: 182.82935333251953\n",
      "Epoch 108, loss: 182.79145431518555\n",
      "Epoch 109, loss: 182.75506210327148\n",
      "Epoch 110, loss: 182.71003341674805\n",
      "Epoch 111, loss: 182.6835060119629\n",
      "Epoch 112, loss: 182.63274002075195\n",
      "Epoch 113, loss: 182.60590362548828\n",
      "Epoch 114, loss: 182.56588745117188\n",
      "Epoch 115, loss: 182.52845764160156\n",
      "Epoch 116, loss: 182.48787307739258\n",
      "Epoch 117, loss: 182.46142578125\n",
      "Epoch 118, loss: 182.4298973083496\n",
      "Epoch 119, loss: 182.40861129760742\n",
      "Epoch 120, loss: 182.36649322509766\n",
      "Epoch 121, loss: 182.31807327270508\n",
      "Epoch 122, loss: 182.26668167114258\n",
      "Epoch 123, loss: 182.2220230102539\n",
      "Epoch 124, loss: 182.19701385498047\n",
      "Epoch 125, loss: 182.1760139465332\n",
      "Epoch 126, loss: 182.15089797973633\n",
      "Epoch 127, loss: 182.10284042358398\n",
      "Epoch 128, loss: 182.05842971801758\n",
      "Epoch 129, loss: 182.0107307434082\n",
      "Epoch 130, loss: 181.9738883972168\n",
      "Epoch 131, loss: 181.93462753295898\n",
      "Epoch 132, loss: 181.90697479248047\n",
      "Epoch 133, loss: 181.86930465698242\n",
      "Epoch 134, loss: 181.83919525146484\n",
      "Epoch 135, loss: 181.79970169067383\n",
      "Epoch 136, loss: 181.76503372192383\n",
      "Epoch 137, loss: 181.72679901123047\n",
      "Epoch 138, loss: 181.68824195861816\n",
      "Epoch 139, loss: 181.64566802978516\n",
      "Epoch 140, loss: 181.60939407348633\n",
      "Epoch 141, loss: 181.57439041137695\n",
      "Epoch 142, loss: 181.55305099487305\n",
      "Epoch 143, loss: 181.5080909729004\n",
      "Epoch 144, loss: 181.47596168518066\n",
      "Epoch 145, loss: 181.4191551208496\n",
      "Epoch 146, loss: 181.40214729309082\n",
      "Epoch 147, loss: 181.361967086792\n",
      "Epoch 148, loss: 181.33460998535156\n",
      "Epoch 149, loss: 181.28980255126953\n",
      "Epoch 150, loss: 181.24703788757324\n",
      "Epoch 151, loss: 181.27885055541992\n",
      "Epoch 152, loss: 181.20282554626465\n",
      "Epoch 153, loss: 181.14515113830566\n",
      "Epoch 154, loss: 181.11421012878418\n",
      "Epoch 155, loss: 181.07348823547363\n",
      "Epoch 156, loss: 181.04980659484863\n",
      "Epoch 157, loss: 181.00202178955078\n",
      "Epoch 158, loss: 180.9763069152832\n",
      "Epoch 159, loss: 180.92283630371094\n",
      "Epoch 160, loss: 180.91314888000488\n",
      "Epoch 161, loss: 180.8648509979248\n",
      "Epoch 162, loss: 180.84168243408203\n",
      "Epoch 163, loss: 180.78132247924805\n",
      "Epoch 164, loss: 180.7685604095459\n",
      "Epoch 165, loss: 180.70281982421875\n",
      "Epoch 166, loss: 180.71154975891113\n",
      "Epoch 167, loss: 180.65649223327637\n",
      "Epoch 168, loss: 180.6214942932129\n",
      "Epoch 169, loss: 180.56522178649902\n",
      "Epoch 170, loss: 180.55083847045898\n",
      "Epoch 171, loss: 180.48419952392578\n",
      "Epoch 172, loss: 180.53432273864746\n",
      "Epoch 173, loss: 180.42785453796387\n",
      "Epoch 174, loss: 180.40548706054688\n",
      "Epoch 175, loss: 180.35087203979492\n",
      "Epoch 176, loss: 180.29572105407715\n",
      "Epoch 177, loss: 180.26343727111816\n",
      "Epoch 178, loss: 180.22193336486816\n",
      "Epoch 179, loss: 180.2007942199707\n",
      "Epoch 180, loss: 180.16305541992188\n",
      "Epoch 181, loss: 180.14282417297363\n",
      "Epoch 182, loss: 180.09974479675293\n",
      "Epoch 183, loss: 180.0822238922119\n",
      "Epoch 184, loss: 180.01372718811035\n",
      "Epoch 185, loss: 180.04651260375977\n",
      "Epoch 186, loss: 179.97331047058105\n",
      "Epoch 187, loss: 179.93315315246582\n",
      "Epoch 188, loss: 179.8929500579834\n",
      "Epoch 189, loss: 179.9143943786621\n",
      "Epoch 190, loss: 179.78426361083984\n",
      "Epoch 191, loss: 179.74591827392578\n",
      "Epoch 192, loss: 179.69571495056152\n",
      "Epoch 193, loss: 179.7117156982422\n",
      "Epoch 194, loss: 179.6599521636963\n",
      "Epoch 195, loss: 179.63120079040527\n",
      "Epoch 196, loss: 179.57598495483398\n",
      "Epoch 197, loss: 179.51984977722168\n",
      "Epoch 198, loss: 179.47071075439453\n",
      "Epoch 199, loss: 179.41215896606445\n",
      "Epoch 200, loss: 179.384614944458\n",
      "Epoch 201, loss: 179.3404941558838\n",
      "Epoch 202, loss: 179.3095359802246\n",
      "Epoch 203, loss: 179.26836395263672\n",
      "Epoch 204, loss: 179.23209190368652\n",
      "Epoch 205, loss: 179.18459701538086\n",
      "Epoch 206, loss: 179.1440887451172\n",
      "Epoch 207, loss: 179.1191463470459\n",
      "Epoch 208, loss: 179.07007789611816\n",
      "Epoch 209, loss: 179.0207862854004\n",
      "Epoch 210, loss: 178.97128105163574\n",
      "Epoch 211, loss: 178.9315357208252\n",
      "Epoch 212, loss: 178.90249252319336\n",
      "Epoch 213, loss: 178.83695220947266\n",
      "Epoch 214, loss: 178.81546783447266\n",
      "Epoch 215, loss: 178.76722145080566\n",
      "Epoch 216, loss: 178.73475456237793\n",
      "Epoch 217, loss: 178.6881217956543\n",
      "Epoch 218, loss: 178.63733863830566\n",
      "Epoch 219, loss: 178.60645866394043\n",
      "Epoch 220, loss: 178.55831146240234\n",
      "Epoch 221, loss: 178.50697135925293\n",
      "Epoch 222, loss: 178.44683265686035\n",
      "Epoch 223, loss: 178.43172645568848\n",
      "Epoch 224, loss: 178.41327667236328\n",
      "Epoch 225, loss: 178.35767364501953\n",
      "Epoch 226, loss: 178.30436515808105\n",
      "Epoch 227, loss: 178.24326133728027\n",
      "Epoch 228, loss: 178.21191596984863\n",
      "Epoch 229, loss: 178.17941665649414\n",
      "Epoch 230, loss: 178.13679695129395\n",
      "Epoch 231, loss: 178.0842227935791\n",
      "Epoch 232, loss: 178.04180908203125\n",
      "Epoch 233, loss: 178.0090503692627\n",
      "Epoch 234, loss: 177.97716903686523\n",
      "Epoch 235, loss: 177.92403984069824\n",
      "Epoch 236, loss: 177.8739185333252\n",
      "Epoch 237, loss: 177.81306838989258\n",
      "Epoch 238, loss: 177.7803726196289\n",
      "Epoch 239, loss: 177.73192977905273\n",
      "Epoch 240, loss: 177.68596649169922\n",
      "Epoch 241, loss: 177.66191482543945\n",
      "Epoch 242, loss: 177.61462593078613\n",
      "Epoch 243, loss: 177.5636043548584\n",
      "Epoch 244, loss: 177.52074813842773\n",
      "Epoch 245, loss: 177.46949577331543\n",
      "Epoch 246, loss: 177.4234848022461\n",
      "Epoch 247, loss: 177.37283325195312\n",
      "Epoch 248, loss: 177.34055519104004\n",
      "Epoch 249, loss: 177.2971954345703\n",
      "Epoch 250, loss: 177.25537490844727\n",
      "Epoch 251, loss: 177.2129077911377\n",
      "Epoch 252, loss: 177.15213012695312\n",
      "Epoch 253, loss: 177.1022186279297\n",
      "Epoch 254, loss: 177.06591415405273\n",
      "Epoch 255, loss: 177.01796340942383\n",
      "Epoch 256, loss: 176.9723720550537\n",
      "Epoch 257, loss: 176.91311645507812\n",
      "Epoch 258, loss: 176.89634323120117\n",
      "Epoch 259, loss: 176.84000778198242\n",
      "Epoch 260, loss: 176.78018760681152\n",
      "Epoch 261, loss: 176.7763557434082\n",
      "Epoch 262, loss: 176.7370948791504\n",
      "Epoch 263, loss: 176.66142654418945\n",
      "Epoch 264, loss: 176.5987319946289\n",
      "Epoch 265, loss: 176.58481216430664\n",
      "Epoch 266, loss: 176.54014205932617\n",
      "Epoch 267, loss: 176.48536682128906\n",
      "Epoch 268, loss: 176.43412590026855\n",
      "Epoch 269, loss: 176.40841102600098\n",
      "Epoch 270, loss: 176.37181282043457\n",
      "Epoch 271, loss: 176.3173885345459\n",
      "Epoch 272, loss: 176.27567291259766\n",
      "Epoch 273, loss: 176.22741889953613\n",
      "Epoch 274, loss: 176.16925048828125\n",
      "Epoch 275, loss: 176.1794147491455\n",
      "Epoch 276, loss: 176.12225341796875\n",
      "Epoch 277, loss: 176.11677742004395\n",
      "Epoch 278, loss: 175.9898624420166\n",
      "Epoch 279, loss: 176.1366729736328\n",
      "Epoch 280, loss: 176.0141830444336\n",
      "Epoch 281, loss: 176.0760669708252\n",
      "Epoch 282, loss: 176.0178985595703\n",
      "Epoch 283, loss: 176.26585388183594\n",
      "Epoch 284, loss: 176.44549179077148\n",
      "Epoch 285, loss: 176.60272216796875\n",
      "Epoch 286, loss: 178.09422302246094\n",
      "Epoch 287, loss: 176.51859855651855\n",
      "Epoch 288, loss: 177.556058883667\n",
      "Epoch 289, loss: 175.89264488220215\n",
      "Epoch 290, loss: 177.9318962097168\n",
      "Epoch 291, loss: 176.2527675628662\n",
      "Epoch 292, loss: 177.6007080078125\n",
      "Epoch 293, loss: 175.84242057800293\n",
      "Epoch 294, loss: 176.07606506347656\n",
      "Epoch 295, loss: 175.69471740722656\n",
      "Epoch 296, loss: 175.481595993042\n",
      "Epoch 297, loss: 175.45982551574707\n",
      "Epoch 298, loss: 175.32778358459473\n",
      "Epoch 299, loss: 175.22992134094238\n",
      "Epoch 300, loss: 175.23145294189453\n",
      "Epoch 301, loss: 175.14345169067383\n",
      "Epoch 302, loss: 175.40094566345215\n",
      "Epoch 303, loss: 175.00917053222656\n",
      "Epoch 304, loss: 175.72854804992676\n",
      "Epoch 305, loss: 175.22497749328613\n",
      "Epoch 306, loss: 176.37324142456055\n",
      "Epoch 307, loss: 175.06068420410156\n",
      "Epoch 308, loss: 177.7475357055664\n",
      "Epoch 309, loss: 176.5729637145996\n",
      "Epoch 310, loss: 179.54838180541992\n",
      "Epoch 311, loss: 180.14484024047852\n",
      "Epoch 312, loss: 176.07335472106934\n",
      "Epoch 313, loss: 176.70255851745605\n",
      "Epoch 314, loss: 174.5803737640381\n",
      "Epoch 315, loss: 174.7833652496338\n",
      "Epoch 316, loss: 174.646484375\n",
      "Epoch 317, loss: 174.54848289489746\n",
      "Epoch 318, loss: 174.4683837890625\n",
      "Epoch 319, loss: 174.38322067260742\n",
      "Epoch 320, loss: 174.4212589263916\n",
      "Epoch 321, loss: 174.28615379333496\n",
      "Epoch 322, loss: 174.35003280639648\n",
      "Epoch 323, loss: 174.42659950256348\n",
      "Epoch 324, loss: 174.64583015441895\n",
      "Epoch 325, loss: 174.70232772827148\n",
      "Epoch 326, loss: 175.48858070373535\n",
      "Epoch 327, loss: 176.71508407592773\n",
      "Epoch 328, loss: 179.14259910583496\n",
      "Epoch 329, loss: 187.34185028076172\n",
      "Epoch 330, loss: 178.03297424316406\n",
      "Epoch 331, loss: 183.68198013305664\n",
      "Epoch 332, loss: 181.2612533569336\n",
      "Epoch 333, loss: 178.97599029541016\n",
      "Epoch 334, loss: 181.11676025390625\n",
      "Epoch 335, loss: 215.15336227416992\n",
      "Epoch 336, loss: 252.08522033691406\n",
      "Epoch 337, loss: 284.73168182373047\n",
      "Epoch 338, loss: 212.81729125976562\n",
      "Epoch 339, loss: 239.61441040039062\n",
      "Epoch 340, loss: 200.23041534423828\n",
      "Epoch 341, loss: 289.57682037353516\n",
      "Epoch 342, loss: 356.6740493774414\n",
      "Epoch 343, loss: 364.0071105957031\n",
      "Epoch 344, loss: 403.1295623779297\n",
      "Epoch 345, loss: 568.4481048583984\n",
      "Epoch 346, loss: 442.6941223144531\n",
      "Epoch 347, loss: 262.4029769897461\n",
      "Epoch 348, loss: 336.22086334228516\n",
      "Epoch 349, loss: 390.8721160888672\n",
      "Epoch 350, loss: 271.24837493896484\n",
      "Epoch 351, loss: 294.27734375\n",
      "Epoch 352, loss: 238.49817657470703\n",
      "Epoch 353, loss: 252.66306686401367\n",
      "Epoch 354, loss: 241.84278106689453\n",
      "Epoch 355, loss: 194.9447898864746\n",
      "Epoch 356, loss: 227.86309051513672\n",
      "Epoch 357, loss: 196.12368774414062\n",
      "Epoch 358, loss: 201.42366409301758\n",
      "Epoch 359, loss: 208.92570114135742\n",
      "Epoch 360, loss: 186.1396598815918\n",
      "Epoch 361, loss: 196.77802658081055\n",
      "Epoch 362, loss: 190.45350646972656\n",
      "Epoch 363, loss: 185.14764404296875\n",
      "Epoch 364, loss: 188.63755416870117\n",
      "Epoch 365, loss: 182.28290939331055\n",
      "Epoch 366, loss: 183.67425537109375\n",
      "Epoch 367, loss: 182.76922988891602\n",
      "Epoch 368, loss: 179.72153091430664\n",
      "Epoch 369, loss: 181.77207946777344\n",
      "Epoch 370, loss: 180.19781112670898\n",
      "Epoch 371, loss: 179.66826248168945\n",
      "Epoch 372, loss: 180.11334991455078\n",
      "Epoch 373, loss: 178.88801956176758\n",
      "Epoch 374, loss: 179.0352325439453\n",
      "Epoch 375, loss: 178.9599723815918\n",
      "Epoch 376, loss: 178.4631748199463\n",
      "Epoch 377, loss: 178.4730567932129\n",
      "Epoch 378, loss: 178.20379447937012\n",
      "Epoch 379, loss: 178.02967071533203\n",
      "Epoch 380, loss: 178.02939987182617\n",
      "Epoch 381, loss: 177.77662658691406\n",
      "Epoch 382, loss: 177.74121856689453\n",
      "Epoch 383, loss: 177.72557258605957\n",
      "Epoch 384, loss: 177.54229927062988\n",
      "Epoch 385, loss: 177.51959991455078\n",
      "Epoch 386, loss: 177.47608375549316\n",
      "Epoch 387, loss: 177.34016036987305\n",
      "Epoch 388, loss: 177.3717441558838\n",
      "Epoch 389, loss: 177.29828453063965\n",
      "Epoch 390, loss: 177.1836700439453\n",
      "Epoch 391, loss: 177.16141510009766\n",
      "Epoch 392, loss: 177.0984344482422\n",
      "Epoch 393, loss: 177.0316390991211\n",
      "Epoch 394, loss: 177.01827430725098\n",
      "Epoch 395, loss: 176.9614963531494\n",
      "Epoch 396, loss: 176.8917293548584\n",
      "Epoch 397, loss: 176.84783554077148\n",
      "Epoch 398, loss: 176.82600212097168\n",
      "Epoch 399, loss: 176.75709342956543\n",
      "Epoch 400, loss: 176.7366542816162\n",
      "Epoch 401, loss: 176.6832618713379\n",
      "Epoch 402, loss: 176.6373462677002\n",
      "Epoch 403, loss: 176.60857391357422\n",
      "Epoch 404, loss: 176.5852508544922\n",
      "Epoch 405, loss: 176.54632949829102\n",
      "Epoch 406, loss: 176.50035858154297\n",
      "Epoch 407, loss: 176.45864868164062\n",
      "Epoch 408, loss: 176.40540885925293\n",
      "Epoch 409, loss: 176.38755798339844\n",
      "Epoch 410, loss: 176.34278869628906\n",
      "Epoch 411, loss: 176.30308151245117\n",
      "Epoch 412, loss: 176.26611518859863\n",
      "Epoch 413, loss: 176.23497009277344\n",
      "Epoch 414, loss: 176.21929550170898\n",
      "Epoch 415, loss: 176.18427848815918\n",
      "Epoch 416, loss: 176.14134216308594\n",
      "Epoch 417, loss: 176.09557151794434\n",
      "Epoch 418, loss: 176.07839584350586\n",
      "Epoch 419, loss: 176.0345916748047\n",
      "Epoch 420, loss: 176.00057983398438\n",
      "Epoch 421, loss: 175.9546127319336\n",
      "Epoch 422, loss: 175.92148971557617\n",
      "Epoch 423, loss: 175.91674995422363\n",
      "Epoch 424, loss: 175.88689613342285\n",
      "Epoch 425, loss: 175.84647750854492\n",
      "Epoch 426, loss: 175.80426788330078\n",
      "Epoch 427, loss: 175.78682136535645\n",
      "Epoch 428, loss: 175.74425888061523\n",
      "Epoch 429, loss: 175.71830940246582\n",
      "Epoch 430, loss: 175.67794609069824\n",
      "Epoch 431, loss: 175.6484146118164\n",
      "Epoch 432, loss: 175.62503242492676\n",
      "Epoch 433, loss: 175.60608863830566\n",
      "Epoch 434, loss: 175.57328987121582\n",
      "Epoch 435, loss: 175.53197479248047\n",
      "Epoch 436, loss: 175.5098705291748\n",
      "Epoch 437, loss: 175.47402572631836\n",
      "Epoch 438, loss: 175.4432601928711\n",
      "Epoch 439, loss: 175.40771484375\n",
      "Epoch 440, loss: 175.38165473937988\n",
      "Epoch 441, loss: 175.35993003845215\n",
      "Epoch 442, loss: 175.33588218688965\n",
      "Epoch 443, loss: 175.31691551208496\n",
      "Epoch 444, loss: 175.28345489501953\n",
      "Epoch 445, loss: 175.24184799194336\n",
      "Epoch 446, loss: 175.2291717529297\n",
      "Epoch 447, loss: 175.19413566589355\n",
      "Epoch 448, loss: 175.1642360687256\n",
      "Epoch 449, loss: 175.1328830718994\n",
      "Epoch 450, loss: 175.10336303710938\n",
      "Epoch 451, loss: 175.08048248291016\n",
      "Epoch 452, loss: 175.06001091003418\n",
      "Epoch 453, loss: 175.03493309020996\n"
     ]
    },
    {
     "ename": "KeyboardInterrupt",
     "evalue": "",
     "output_type": "error",
     "traceback": [
      "\u001b[0;31m---------------------------------------------------------------------------\u001b[0m",
      "\u001b[0;31mKeyboardInterrupt\u001b[0m                         Traceback (most recent call last)",
      "\u001b[0;32m<ipython-input-443-3efacf616be2>\u001b[0m in \u001b[0;36m<module>\u001b[0;34m\u001b[0m\n\u001b[1;32m     13\u001b[0m         \u001b[0mloss\u001b[0m \u001b[0;34m=\u001b[0m \u001b[0mqerror_loss\u001b[0m\u001b[0;34m(\u001b[0m\u001b[0moutputs\u001b[0m\u001b[0;34m,\u001b[0m \u001b[0mtargets\u001b[0m\u001b[0;34m.\u001b[0m\u001b[0mfloat\u001b[0m\u001b[0;34m(\u001b[0m\u001b[0;34m)\u001b[0m\u001b[0;34m,\u001b[0m \u001b[0mmin_val\u001b[0m\u001b[0;34m,\u001b[0m \u001b[0mmax_val\u001b[0m\u001b[0;34m)\u001b[0m\u001b[0;34m\u001b[0m\u001b[0;34m\u001b[0m\u001b[0m\n\u001b[1;32m     14\u001b[0m         \u001b[0mloss_total\u001b[0m \u001b[0;34m+=\u001b[0m \u001b[0mloss\u001b[0m\u001b[0;34m.\u001b[0m\u001b[0mitem\u001b[0m\u001b[0;34m(\u001b[0m\u001b[0;34m)\u001b[0m\u001b[0;34m\u001b[0m\u001b[0;34m\u001b[0m\u001b[0m\n\u001b[0;32m---> 15\u001b[0;31m         \u001b[0mloss\u001b[0m\u001b[0;34m.\u001b[0m\u001b[0mbackward\u001b[0m\u001b[0;34m(\u001b[0m\u001b[0;34m)\u001b[0m\u001b[0;34m\u001b[0m\u001b[0;34m\u001b[0m\u001b[0m\n\u001b[0m\u001b[1;32m     16\u001b[0m         \u001b[0moptimizer\u001b[0m\u001b[0;34m.\u001b[0m\u001b[0mstep\u001b[0m\u001b[0;34m(\u001b[0m\u001b[0;34m)\u001b[0m\u001b[0;34m\u001b[0m\u001b[0;34m\u001b[0m\u001b[0m\n\u001b[1;32m     17\u001b[0m \u001b[0;34m\u001b[0m\u001b[0m\n",
      "\u001b[0;32m/anaconda3/lib/python3.7/site-packages/torch/tensor.py\u001b[0m in \u001b[0;36mbackward\u001b[0;34m(self, gradient, retain_graph, create_graph)\u001b[0m\n\u001b[1;32m    100\u001b[0m                 \u001b[0mproducts\u001b[0m\u001b[0;34m.\u001b[0m \u001b[0mDefaults\u001b[0m \u001b[0mto\u001b[0m\u001b[0;31m \u001b[0m\u001b[0;31m`\u001b[0m\u001b[0;31m`\u001b[0m\u001b[0;32mFalse\u001b[0m\u001b[0;31m`\u001b[0m\u001b[0;31m`\u001b[0m\u001b[0;34m.\u001b[0m\u001b[0;34m\u001b[0m\u001b[0;34m\u001b[0m\u001b[0m\n\u001b[1;32m    101\u001b[0m         \"\"\"\n\u001b[0;32m--> 102\u001b[0;31m         \u001b[0mtorch\u001b[0m\u001b[0;34m.\u001b[0m\u001b[0mautograd\u001b[0m\u001b[0;34m.\u001b[0m\u001b[0mbackward\u001b[0m\u001b[0;34m(\u001b[0m\u001b[0mself\u001b[0m\u001b[0;34m,\u001b[0m \u001b[0mgradient\u001b[0m\u001b[0;34m,\u001b[0m \u001b[0mretain_graph\u001b[0m\u001b[0;34m,\u001b[0m \u001b[0mcreate_graph\u001b[0m\u001b[0;34m)\u001b[0m\u001b[0;34m\u001b[0m\u001b[0;34m\u001b[0m\u001b[0m\n\u001b[0m\u001b[1;32m    103\u001b[0m \u001b[0;34m\u001b[0m\u001b[0m\n\u001b[1;32m    104\u001b[0m     \u001b[0;32mdef\u001b[0m \u001b[0mregister_hook\u001b[0m\u001b[0;34m(\u001b[0m\u001b[0mself\u001b[0m\u001b[0;34m,\u001b[0m \u001b[0mhook\u001b[0m\u001b[0;34m)\u001b[0m\u001b[0;34m:\u001b[0m\u001b[0;34m\u001b[0m\u001b[0;34m\u001b[0m\u001b[0m\n",
      "\u001b[0;32m/anaconda3/lib/python3.7/site-packages/torch/autograd/__init__.py\u001b[0m in \u001b[0;36mbackward\u001b[0;34m(tensors, grad_tensors, retain_graph, create_graph, grad_variables)\u001b[0m\n\u001b[1;32m     88\u001b[0m     Variable._execution_engine.run_backward(\n\u001b[1;32m     89\u001b[0m         \u001b[0mtensors\u001b[0m\u001b[0;34m,\u001b[0m \u001b[0mgrad_tensors\u001b[0m\u001b[0;34m,\u001b[0m \u001b[0mretain_graph\u001b[0m\u001b[0;34m,\u001b[0m \u001b[0mcreate_graph\u001b[0m\u001b[0;34m,\u001b[0m\u001b[0;34m\u001b[0m\u001b[0;34m\u001b[0m\u001b[0m\n\u001b[0;32m---> 90\u001b[0;31m         allow_unreachable=True)  # allow_unreachable flag\n\u001b[0m\u001b[1;32m     91\u001b[0m \u001b[0;34m\u001b[0m\u001b[0m\n\u001b[1;32m     92\u001b[0m \u001b[0;34m\u001b[0m\u001b[0m\n",
      "\u001b[0;31mKeyboardInterrupt\u001b[0m: "
     ]
    }
   ],
   "source": [
    "min_val = min_norm\n",
    "max_val = max_norm\n",
    "for epoch in range(num_epochs):\n",
    "    loss_total = 0.\n",
    "\n",
    "    for batch_idx, data_batch in enumerate(train_data_loader):\n",
    "        tables, predicates, joins, targets, table_masks, predicate_masks, join_masks = data_batch\n",
    "        tables, predicates, joins, targets = Variable(tables), Variable(predicates), Variable(joins), Variable(targets)\n",
    "        table_masks, predicate_masks, join_masks = Variable(table_masks), Variable(predicate_masks), Variable(join_masks)\n",
    "\n",
    "        optimizer.zero_grad()\n",
    "        outputs = model(tables, predicates, joins, table_masks, predicate_masks, join_masks)\n",
    "        loss = qerror_loss(outputs, targets.float(), min_val, max_val)\n",
    "        loss_total += loss.item()\n",
    "        loss.backward()\n",
    "        optimizer.step()\n",
    "\n",
    "    print(\"Epoch {}, loss: {}\".format(epoch, loss_total / len(train_data_loader)))\n",
    "\n"
   ]
  },
  {
   "cell_type": "code",
   "execution_count": 444,
   "metadata": {
    "pycharm": {}
   },
   "outputs": [],
   "source": [
    "def predict(model, data_loader):\n",
    "    preds = []\n",
    "    t_total = 0.\n",
    "\n",
    "    model.eval()\n",
    "    for batch_idx, data_batch in enumerate(data_loader):\n",
    "        tables, predicates, joins, targets, tables_masks, predicate_masks, join_masks = data_batch\n",
    "        tables, predicates, joins, targets = Variable(tables), Variable(predicates), Variable(joins), Variable(targets)\n",
    "        tables_masks, predicate_masks, join_masks = Variable(tables_masks), Variable(predicate_masks), Variable(join_masks)\n",
    "\n",
    "        t = time.time()\n",
    "        outputs = model(tables, predicates, joins, tables_masks, predicate_masks, join_masks)\n",
    "        t_total += time.time() - t\n",
    "\n",
    "        for i in range(outputs.data.shape[0]):\n",
    "            preds.append(outputs.data[i])\n",
    "\n",
    "    return preds, t_total"
   ]
  },
  {
   "cell_type": "code",
   "execution_count": 445,
   "metadata": {
    "pycharm": {}
   },
   "outputs": [
    {
     "name": "stdout",
     "output_type": "stream",
     "text": [
      "Prediction time per training sample: 0.29283513174732023\n",
      "Prediction time per validation sample: 0.24759284849089336\n",
      "\n",
      "Q-Error training set:\n",
      "Median: 1.1290806278513743\n",
      "90th percentile: 2.1267726898193358\n",
      "95th percentile: 3.3870184659957894\n",
      "99th percentile: 6.29696743965149\n",
      "Max: inf\n",
      "Mean: inf\n",
      "\n",
      "Q-Error validation set:\n",
      "Median: 1.1141048669815063\n",
      "90th percentile: 1.6991142034530637\n",
      "95th percentile: 2.2249915599822994\n",
      "99th percentile: 7.459270887374881\n",
      "Max: 13.154102325439453\n",
      "Mean: 1.45118680501046\n",
      "\n"
     ]
    }
   ],
   "source": [
    "# Get final training and validation set predictions\n",
    "preds_train, t_total = predict(model, train_data_loader)\n",
    "print(\"Prediction time per training sample: {}\".format(t_total / len(labels_train) * 1000))\n",
    "\n",
    "preds_test, t_total = predict(model, test_data_loader)\n",
    "print(\"Prediction time per validation sample: {}\".format(t_total / len(labels_test) * 1000))\n",
    "\n",
    "# Unnormalize\n",
    "preds_train_unnorm = unnormalize_labels(preds_train, min_val, max_val)\n",
    "labels_train_unnorm = unnormalize_labels(labels_train, min_val, max_val)\n",
    "\n",
    "preds_test_unnorm = unnormalize_labels(preds_test, min_val, max_val)\n",
    "labels_test_unnorm = unnormalize_labels(labels_test, min_val, max_val)\n",
    "\n",
    "# Print metrics\n",
    "print(\"\\nQ-Error training set:\")\n",
    "print_qerror(preds_train, labels_train)\n",
    "\n",
    "print(\"\\nQ-Error validation set:\")\n",
    "print_qerror(preds_test, labels_test)\n",
    "print(\"\")"
   ]
  },
  {
   "cell_type": "code",
   "execution_count": 446,
   "metadata": {
    "pycharm": {}
   },
   "outputs": [],
   "source": [
    "def predict_and_compare(random_sample):\n",
    "    rsample_data = dataset.TensorDataset(\n",
    "        tables_tensor[random_sample:random_sample+1], \n",
    "        predicates_tensor[random_sample:random_sample+1], \n",
    "        joins_tensor[random_sample:random_sample+1], \n",
    "        target_tensor[random_sample:random_sample+1], \n",
    "        tables_mask_tensor[random_sample:random_sample+1],\n",
    "        predicates_mask_tensor[random_sample:random_sample+1], \n",
    "        joins_mask_tensor[random_sample:random_sample+1]\n",
    "    )\n",
    "    rsample_data_loader = DataLoader(rsample_data, batch_size=1)\n",
    "    rsample_pred, _ = predict(model, rsample_data_loader)\n",
    "\n",
    "    #print(rsample_pred[-1], target_tensor[random_sample])\n",
    "    rsample_pred = unnormalize_torch(rsample_pred[-1], min_val, max_val)\n",
    "    rsample_label = unnormalize_torch(target_tensor[random_sample], min_val, max_val)\n",
    "\n",
    "    diff = np.abs(float(rsample_pred[-1] - rsample_label))\n",
    "\n",
    "    return diff, f'prediction :{float(rsample_pred)}, label:{rsample_label} , diff: {diff}'\n"
   ]
  },
  {
   "cell_type": "code",
   "execution_count": 447,
   "metadata": {
    "pycharm": {}
   },
   "outputs": [
    {
     "data": {
      "text/plain": [
       "1225"
      ]
     },
     "execution_count": 447,
     "metadata": {},
     "output_type": "execute_result"
    }
   ],
   "source": [
    "len(target_tensor)"
   ]
  },
  {
   "cell_type": "code",
   "execution_count": 448,
   "metadata": {
    "pycharm": {}
   },
   "outputs": [
    {
     "name": "stdout",
     "output_type": "stream",
     "text": [
      "5.367592080296302\n"
     ]
    }
   ],
   "source": [
    "diffs = []\n",
    "for i in range(0,len(target_tensor)):\n",
    "    d, _ = predict_and_compare(i)\n",
    "    diffs.append(d)\n",
    "    \n",
    "print(np.sum(diffs)/len(diffs))"
   ]
  },
  {
   "cell_type": "code",
   "execution_count": 450,
   "metadata": {
    "pycharm": {}
   },
   "outputs": [
    {
     "name": "stdout",
     "output_type": "stream",
     "text": [
      "(0.036812037229537964, 'prediction :0.17577865719795227, label:0.21259069442749023 , diff: 0.036812037229537964')\n",
      "(2.2051830291748047, 'prediction :21.41802406311035, label:23.623207092285156 , diff: 2.2051830291748047')\n",
      "(5.418582916259766, 'prediction :11.518852233886719, label:6.100269317626953 , diff: 5.418582916259766')\n",
      "(0.5922247171401978, 'prediction :0.7318159341812134, label:0.139591246843338 , diff: 0.5922247171401978')\n",
      "(3.8741626739501953, 'prediction :5.837990760803223, label:1.963828206062317 , diff: 3.8741626739501953')\n",
      "(0.20415246486663818, 'prediction :0.3751606047153473, label:0.1710081398487091 , diff: 0.20415246486663818')\n",
      "(1.3023731708526611, 'prediction :3.6406211853027344, label:2.3382480144500732 , diff: 1.3023731708526611')\n",
      "(0.7113326787948608, 'prediction :0.8549999594688416, label:0.14366725087165833 , diff: 0.7113326787948608')\n",
      "(2.9207940101623535, 'prediction :2.971230983734131, label:0.05043698847293854 , diff: 2.9207940101623535')\n",
      "(17.863250732421875, 'prediction :44.94786834716797, label:27.084617614746094 , diff: 17.863250732421875')\n"
     ]
    }
   ],
   "source": [
    "import random\n",
    "for i in random.sample(range(0,len(target_tensor)),10):\n",
    "    print(predict_and_compare(i))"
   ]
  },
  {
   "cell_type": "code",
   "execution_count": null,
   "metadata": {
    "pycharm": {}
   },
   "outputs": [],
   "source": []
  }
 ],
 "metadata": {
  "kernelspec": {
   "display_name": "Python 3",
   "language": "python",
   "name": "python3"
  },
  "language_info": {
   "codemirror_mode": {
    "name": "ipython",
    "version": 3
   },
   "file_extension": ".py",
   "mimetype": "text/x-python",
   "name": "python",
   "nbconvert_exporter": "python",
   "pygments_lexer": "ipython3",
   "version": "3.7.3"
  }
 },
 "nbformat": 4,
 "nbformat_minor": 2
}
