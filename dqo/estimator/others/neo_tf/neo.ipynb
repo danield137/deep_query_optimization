{
 "cells": [
  {
   "cell_type": "code",
   "execution_count": 15,
   "metadata": {
    "pycharm": {}
   },
   "outputs": [],
   "source": [
    "import pandas as pd\n",
    "import tensorflow as tf\n",
    "from tensorflow.keras.models import Sequential\n",
    "from tensorflow.keras.callbacks import EarlyStopping\n",
    "from tensorflow.keras.layers import Dense, Activation\n",
    "import numpy as np\n",
    "from matplotlib import pyplot as plt\n"
   ]
  },
  {
   "cell_type": "code",
   "execution_count": 2,
   "metadata": {},
   "outputs": [],
   "source": [
    "import os"
   ]
  },
  {
   "cell_type": "code",
   "execution_count": 3,
   "metadata": {},
   "outputs": [
    {
     "data": {
      "text/plain": [
       "'/home/dadubovs/projects/deep_query_optimization/dqo/estimator/neo'"
      ]
     },
     "execution_count": 3,
     "metadata": {},
     "output_type": "execute_result"
    }
   ],
   "source": [
    "os.getcwd()"
   ]
  },
  {
   "cell_type": "code",
   "execution_count": 4,
   "metadata": {
    "pycharm": {}
   },
   "outputs": [],
   "source": [
    "root_path = \"/home/dadubovs/projects/deep_query_optimization/\"\n",
    "\n",
    "import sys\n",
    "sys.path.insert(0, root_path)"
   ]
  },
  {
   "cell_type": "code",
   "execution_count": 5,
   "metadata": {
    "pycharm": {}
   },
   "outputs": [],
   "source": [
    "from dqo.estimator.neo.query_estimator import NeoQueryEstimator\n",
    "\n",
    "import os\n",
    "\n",
    "schema_file = os.path.join(root_path, 'dqo/data/job/data/schematext.sql')"
   ]
  },
  {
   "cell_type": "code",
   "execution_count": 6,
   "metadata": {
    "pycharm": {}
   },
   "outputs": [],
   "source": [
    "input_path = os.path.join(root_path, 'dqo/data/input/sql/fast/')"
   ]
  },
  {
   "cell_type": "code",
   "execution_count": 7,
   "metadata": {
    "pycharm": {}
   },
   "outputs": [],
   "source": [
    "input_path = os.path.join(root_path, 'dqo/data/input/sql/slow/')"
   ]
  },
  {
   "cell_type": "code",
   "execution_count": 8,
   "metadata": {
    "pycharm": {}
   },
   "outputs": [],
   "source": [
    "neo = NeoQueryEstimator(input_path, schema_file=schema_file)"
   ]
  },
  {
   "cell_type": "code",
   "execution_count": 9,
   "metadata": {
    "pycharm": {
     "metadata": false,
     "name": "#%%\n"
    }
   },
   "outputs": [],
   "source": [
    "neo.load_db_schema()"
   ]
  },
  {
   "cell_type": "code",
   "execution_count": 10,
   "metadata": {
    "pycharm": {}
   },
   "outputs": [
    {
     "name": "stdout",
     "output_type": "stream",
     "text": [
      "Reading data from /home/dadubovs/projects/deep_query_optimization/dqo/data/input/sql/slow/slow_query_log.csv\n",
      "Reading data from /home/dadubovs/projects/deep_query_optimization/dqo/data/input/sql/slow/slow_query_log.csv.1\n",
      "Reading data from /home/dadubovs/projects/deep_query_optimization/dqo/data/input/sql/slow/slow_query_log.csv.2\n",
      "Reading data from /home/dadubovs/projects/deep_query_optimization/dqo/data/input/sql/slow/slow_query_log.csv.3\n",
      "Saved temp data file /tmp/dqo/estimator/NeoQueryEstimator/encoded/slow_query_log_train.csv with 41486 records\n",
      "Saved temp test file /tmp/dqo/estimator/NeoQueryEstimator/encoded/slow_query_log_test.csv with 10372 records\n",
      "Encoded 51858 queries\n"
     ]
    }
   ],
   "source": [
    "neo.encode_data()"
   ]
  },
  {
   "cell_type": "code",
   "execution_count": 12,
   "metadata": {
    "pycharm": {}
   },
   "outputs": [],
   "source": [
    "\n",
    "# demonstrate data standardization with sklearn\n",
    "from sklearn.preprocessing import StandardScaler\n",
    "# load data\n",
    "#data = ...\n",
    "# create scaler\n",
    "Y_train_scaler = StandardScaler()\n",
    "# fit and transform in one step stn.norm_runtime_train\n",
    "neo.Y_train = Y_train_scaler.fit_transform(neo.train_data.runtime.values.reshape(-1, 1))\n",
    "# inverse transform\n",
    "# inverse = Y_train_scaler.inverse_transform(standardized)\n",
    "Y_test_scaler = StandardScaler()\n",
    "neo.Y_test = Y_test_scaler.fit_transform(neo.test_data.runtime.values.reshape(-1, 1))"
   ]
  },
  {
   "cell_type": "code",
   "execution_count": 13,
   "metadata": {
    "pycharm": {}
   },
   "outputs": [],
   "source": [
    "neo.X_train = np.vstack(neo.train_data.input.values)\n",
    "neo.X_test = np.vstack(neo.test_data.input.values)"
   ]
  },
  {
   "cell_type": "code",
   "execution_count": 17,
   "metadata": {},
   "outputs": [],
   "source": [
    "from tensorflow.keras.layers import Dense\n",
    "from tensorflow.keras.models import Sequential\n",
    "\n",
    "model = Sequential()\n",
    "model.add(Dense(64, input_dim=318, activation='relu'))\n",
    "model.add(Dense(32, activation='relu'))\n",
    "model.add(Dense(16, activation='relu'))\n",
    "model.add(Dense(1, activation='linear'))\n",
    "model.compile(loss='mse', optimizer='adam', metrics=['mae', 'mse'])\n",
    "\n",
    "neo.model = model"
   ]
  },
  {
   "cell_type": "code",
   "execution_count": 18,
   "metadata": {
    "pycharm": {}
   },
   "outputs": [
    {
     "name": "stdout",
     "output_type": "stream",
     "text": [
      "Train on 33188 samples, validate on 8298 samples\n",
      "Epoch 1/20\n",
      "33188/33188 [==============================] - 11s 321us/sample - loss: 0.9573 - accuracy: 0.0000e+00 - mae: 0.3059 - mse: 0.9573 - val_loss: 0.8766 - val_accuracy: 0.0000e+00 - val_mae: 0.2696 - val_mse: 0.8766\n",
      "Epoch 2/20\n",
      "33188/33188 [==============================] - 9s 271us/sample - loss: 0.8166 - accuracy: 0.0000e+00 - mae: 0.2855 - mse: 0.8166 - val_loss: 0.8099 - val_accuracy: 0.0000e+00 - val_mae: 0.2965 - val_mse: 0.8099\n",
      "Epoch 3/20\n",
      "33188/33188 [==============================] - 9s 263us/sample - loss: 0.5925 - accuracy: 0.0000e+00 - mae: 0.2611 - mse: 0.5925 - val_loss: 0.7510 - val_accuracy: 0.0000e+00 - val_mae: 0.2636 - val_mse: 0.7510\n",
      "Epoch 4/20\n",
      "33188/33188 [==============================] - 9s 270us/sample - loss: 0.4544 - accuracy: 0.0000e+00 - mae: 0.2379 - mse: 0.4544 - val_loss: 0.7316 - val_accuracy: 0.0000e+00 - val_mae: 0.2441 - val_mse: 0.7316\n",
      "Epoch 5/20\n",
      "33188/33188 [==============================] - 9s 273us/sample - loss: 0.3460 - accuracy: 0.0000e+00 - mae: 0.2206 - mse: 0.3460 - val_loss: 0.7350 - val_accuracy: 0.0000e+00 - val_mae: 0.2539 - val_mse: 0.7350\n",
      "Epoch 6/20\n",
      "33188/33188 [==============================] - 9s 270us/sample - loss: 0.3037 - accuracy: 0.0000e+00 - mae: 0.2108 - mse: 0.3037 - val_loss: 0.7198 - val_accuracy: 0.0000e+00 - val_mae: 0.2414 - val_mse: 0.7198\n",
      "Epoch 7/20\n",
      "33188/33188 [==============================] - 9s 260us/sample - loss: 0.2485 - accuracy: 0.0000e+00 - mae: 0.1994 - mse: 0.2485 - val_loss: 0.6893 - val_accuracy: 0.0000e+00 - val_mae: 0.2351 - val_mse: 0.6893\n",
      "Epoch 8/20\n",
      "33188/33188 [==============================] - 9s 272us/sample - loss: 0.2035 - accuracy: 0.0000e+00 - mae: 0.1869 - mse: 0.2035 - val_loss: 0.6869 - val_accuracy: 0.0000e+00 - val_mae: 0.2420 - val_mse: 0.6869\n",
      "Epoch 9/20\n",
      "33188/33188 [==============================] - 9s 271us/sample - loss: 0.1761 - accuracy: 0.0000e+00 - mae: 0.1805 - mse: 0.1761 - val_loss: 0.6676 - val_accuracy: 0.0000e+00 - val_mae: 0.2367 - val_mse: 0.6676\n",
      "Epoch 10/20\n",
      "33188/33188 [==============================] - 9s 261us/sample - loss: 0.1731 - accuracy: 0.0000e+00 - mae: 0.1750 - mse: 0.1731 - val_loss: 0.6904 - val_accuracy: 0.0000e+00 - val_mae: 0.2330 - val_mse: 0.6904\n",
      "Epoch 11/20\n",
      "33188/33188 [==============================] - 9s 275us/sample - loss: 0.1715 - accuracy: 0.0000e+00 - mae: 0.1742 - mse: 0.1715 - val_loss: 0.6644 - val_accuracy: 0.0000e+00 - val_mae: 0.2279 - val_mse: 0.6644\n",
      "Epoch 12/20\n",
      "33188/33188 [==============================] - 9s 269us/sample - loss: 0.1536 - accuracy: 0.0000e+00 - mae: 0.1679 - mse: 0.1536 - val_loss: 0.6572 - val_accuracy: 0.0000e+00 - val_mae: 0.2375 - val_mse: 0.6572\n",
      "Epoch 13/20\n",
      "33188/33188 [==============================] - 9s 266us/sample - loss: 0.1441 - accuracy: 0.0000e+00 - mae: 0.1644 - mse: 0.1441 - val_loss: 0.6561 - val_accuracy: 0.0000e+00 - val_mae: 0.2369 - val_mse: 0.6561\n",
      "Epoch 14/20\n",
      "33188/33188 [==============================] - 9s 267us/sample - loss: 0.1394 - accuracy: 0.0000e+00 - mae: 0.1613 - mse: 0.1394 - val_loss: 0.6006 - val_accuracy: 0.0000e+00 - val_mae: 0.2189 - val_mse: 0.6006\n",
      "Epoch 15/20\n",
      "33188/33188 [==============================] - 9s 270us/sample - loss: 0.1321 - accuracy: 0.0000e+00 - mae: 0.1560 - mse: 0.1321 - val_loss: 0.6360 - val_accuracy: 0.0000e+00 - val_mae: 0.2365 - val_mse: 0.6360\n",
      "Epoch 16/20\n",
      "33188/33188 [==============================] - 9s 268us/sample - loss: 0.1274 - accuracy: 0.0000e+00 - mae: 0.1552 - mse: 0.1274 - val_loss: 0.6667 - val_accuracy: 0.0000e+00 - val_mae: 0.2487 - val_mse: 0.6667\n",
      "Epoch 17/20\n",
      "33188/33188 [==============================] - 9s 265us/sample - loss: 0.1246 - accuracy: 0.0000e+00 - mae: 0.1534 - mse: 0.1246 - val_loss: 0.6421 - val_accuracy: 0.0000e+00 - val_mae: 0.2410 - val_mse: 0.6421\n",
      "Epoch 18/20\n",
      "33188/33188 [==============================] - 9s 275us/sample - loss: 0.1163 - accuracy: 0.0000e+00 - mae: 0.1501 - mse: 0.1163 - val_loss: 0.6207 - val_accuracy: 0.0000e+00 - val_mae: 0.2375 - val_mse: 0.6207\n",
      "Epoch 19/20\n",
      "33188/33188 [==============================] - 9s 269us/sample - loss: 0.1162 - accuracy: 0.0000e+00 - mae: 0.1483 - mse: 0.1162 - val_loss: 0.5871 - val_accuracy: 0.0000e+00 - val_mae: 0.2167 - val_mse: 0.5871\n",
      "Epoch 20/20\n",
      "33188/33188 [==============================] - 8s 253us/sample - loss: 0.1172 - accuracy: 0.0000e+00 - mae: 0.1474 - mse: 0.1172 - val_loss: 0.6188 - val_accuracy: 0.0000e+00 - val_mae: 0.2217 - val_mse: 0.6188\n"
     ]
    }
   ],
   "source": [
    "#callbacks = []\n",
    "callbacks = [EarlyStopping(monitor='val_loss', mode='min', verbose=1, patience=5)]\n",
    "\n",
    "neo.history = neo.model.fit(\n",
    "    neo.X_train,\n",
    "    neo.Y_train,\n",
    "    epochs=20,\n",
    "    verbose=1,\n",
    "    validation_split=0.20,\n",
    "    callbacks=callbacks\n",
    ")"
   ]
  },
  {
   "cell_type": "code",
   "execution_count": 19,
   "metadata": {},
   "outputs": [],
   "source": [
    "history = neo.history"
   ]
  },
  {
   "cell_type": "code",
   "execution_count": 20,
   "metadata": {},
   "outputs": [
    {
     "data": {
      "image/png": "[encoded data removed]",
      "text/plain": [
       "<Figure size 432x288 with 1 Axes>"
      ]
     },
     "metadata": {
      "needs_background": "light"
     },
     "output_type": "display_data"
    }
   ],
   "source": [
    "# Plot training & validation loss values\n",
    "plt.plot(history.history['loss'])\n",
    "plt.plot(history.history['val_loss'])\n",
    "plt.title('Model loss')\n",
    "plt.ylabel('Loss')\n",
    "plt.xlabel('Epoch')\n",
    "plt.legend(['Train', 'Test'], loc='upper left')\n",
    "plt.show()"
   ]
  },
  {
   "cell_type": "code",
   "execution_count": 22,
   "metadata": {},
   "outputs": [],
   "source": [
    "predicted = Y_train_scaler.inverse_transform(neo.model.predict(neo.X_train))\n",
    "predictions = []\n",
    "actual = []\n",
    "diff = []\n",
    "ratio = []\n",
    "\n",
    "for i in range(len(predicted)):\n",
    "    pred = float(predicted[i])\n",
    "    act = float(neo.train_data.runtime.values[i])\n",
    "    pred = max(pred,0.001)\n",
    "    predictions.append(pred)\n",
    "    actual.append(act)\n",
    "    diff.append(max(np.abs(pred - act), 0.001))\n",
    "    ratio.append(max(pred,act,0.001) / max(min(pred,act),0.001))\n",
    "\n"
   ]
  },
  {
   "cell_type": "code",
   "execution_count": 23,
   "metadata": {},
   "outputs": [
    {
     "data": {
      "text/plain": [
       "DescribeResult(nobs=41486, minmax=(0.001, 300.4515362381935), mean=2.9497185220871898, variance=67.82713794059376, skewness=18.664022419052415, kurtosis=563.7345446004315)"
      ]
     },
     "execution_count": 23,
     "metadata": {},
     "output_type": "execute_result"
    }
   ],
   "source": [
    "from scipy import stats\n",
    "stats.describe(diff)"
   ]
  },
  {
   "cell_type": "code",
   "execution_count": 24,
   "metadata": {},
   "outputs": [
    {
     "data": {
      "text/plain": [
       "DescribeResult(nobs=41486, minmax=(1.000023497305761, 104873.94261360168), mean=146.51704873173597, variance=918639.7921223767, skewness=52.223939058380346, kurtosis=4332.936353954178)"
      ]
     },
     "execution_count": 24,
     "metadata": {},
     "output_type": "execute_result"
    }
   ],
   "source": [
    "from scipy import stats\n",
    "stats.describe(ratio)"
   ]
  },
  {
   "cell_type": "code",
   "execution_count": 25,
   "metadata": {},
   "outputs": [
    {
     "data": {
      "image/png": "[encoded data removed]",
      "text/plain": [
       "<Figure size 432x288 with 1 Axes>"
      ]
     },
     "metadata": {
      "needs_background": "light"
     },
     "output_type": "display_data"
    }
   ],
   "source": [
    "# Plot training & validation loss values\n",
    "plt.plot(actual)\n",
    "plt.plot(predictions)\n",
    "plt.title('Actual / Predicted')\n",
    "plt.ylabel('Score')\n",
    "plt.xlabel('Example')\n",
    "plt.legend(['Actual', 'Predicted'], loc='upper left')\n",
    "plt.show()"
   ]
  },
  {
   "cell_type": "code",
   "execution_count": null,
   "metadata": {},
   "outputs": [],
   "source": []
  }
 ],
 "metadata": {
  "kernelspec": {
   "display_name": "Python 3.7",
   "language": "python",
   "name": "py37"
  },
  "language_info": {
   "codemirror_mode": {
    "name": "ipython",
    "version": 3
   },
   "file_extension": ".py",
   "mimetype": "text/x-python",
   "name": "python",
   "nbconvert_exporter": "python",
   "pygments_lexer": "ipython3",
   "version": "3.7.3"
  }
 },
 "nbformat": 4,
 "nbformat_minor": 4
}
