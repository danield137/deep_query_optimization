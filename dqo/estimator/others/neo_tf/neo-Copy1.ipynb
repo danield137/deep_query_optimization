{
 "cells": [
  {
   "cell_type": "code",
   "execution_count": 1,
   "metadata": {
    "pycharm": {}
   },
   "outputs": [],
   "source": [
    "import pandas as pd\n",
    "import tensorflow as tf\n",
    "from tensorflow.keras.models import Sequential\n",
    "from tensorflow.keras.layers import Dense, Activation\n",
    "import numpy as np\n",
    "from matplotlib import pyplot as plt\n"
   ]
  },
  {
   "cell_type": "code",
   "execution_count": 2,
   "metadata": {},
   "outputs": [],
   "source": [
    "import os"
   ]
  },
  {
   "cell_type": "code",
   "execution_count": 3,
   "metadata": {},
   "outputs": [
    {
     "data": {
      "text/plain": [
       "'/home/dadubovs/projects/deep_query_optimization/dqo/estimator/neo'"
      ]
     },
     "execution_count": 3,
     "metadata": {},
     "output_type": "execute_result"
    }
   ],
   "source": [
    "os.getcwd()"
   ]
  },
  {
   "cell_type": "code",
   "execution_count": 4,
   "metadata": {
    "pycharm": {}
   },
   "outputs": [],
   "source": [
    "root_path = \"/home/dadubovs/projects/deep_query_optimization/\"\n",
    "\n",
    "import sys\n",
    "sys.path.insert(0, root_path)"
   ]
  },
  {
   "cell_type": "code",
   "execution_count": 5,
   "metadata": {
    "pycharm": {}
   },
   "outputs": [],
   "source": [
    "from dqo.estimator.neo.query_estimator import NeoQueryEstimator\n",
    "\n",
    "import os\n",
    "\n",
    "schema_file = os.path.join(root_path, 'dqo/data/job/data/schematext.sql')"
   ]
  },
  {
   "cell_type": "code",
   "execution_count": 11,
   "metadata": {
    "pycharm": {}
   },
   "outputs": [],
   "source": [
    "input_path = os.path.join(root_path, 'dqo/data/input/sql/fast/')"
   ]
  },
  {
   "cell_type": "code",
   "execution_count": 7,
   "metadata": {
    "pycharm": {}
   },
   "outputs": [],
   "source": [
    "input_path = os.path.join(root_path, 'dqo/data/input/sql/slow/')"
   ]
  },
  {
   "cell_type": "code",
   "execution_count": 12,
   "metadata": {
    "pycharm": {}
   },
   "outputs": [],
   "source": [
    "neo = NeoQueryEstimator(input_path, schema_file=schema_file)"
   ]
  },
  {
   "cell_type": "code",
   "execution_count": 13,
   "metadata": {
    "pycharm": {
     "metadata": false,
     "name": "#%%\n"
    }
   },
   "outputs": [],
   "source": [
    "neo.load_db_schema()"
   ]
  },
  {
   "cell_type": "code",
   "execution_count": 14,
   "metadata": {
    "pycharm": {}
   },
   "outputs": [
    {
     "name": "stdout",
     "output_type": "stream",
     "text": [
      "Reading data from /home/dadubovs/projects/deep_query_optimization/dqo/data/input/sql/fast/fast_query_log.csv\n",
      "Reading data from /home/dadubovs/projects/deep_query_optimization/dqo/data/input/sql/fast/fast_query_log.csv.1\n",
      "Reading data from /home/dadubovs/projects/deep_query_optimization/dqo/data/input/sql/fast/fast_query_log.csv.2\n",
      "Reading data from /home/dadubovs/projects/deep_query_optimization/dqo/data/input/sql/fast/fast_query_log.csv.3\n",
      "Reading data from /home/dadubovs/projects/deep_query_optimization/dqo/data/input/sql/fast/fast_query_log.csv.4\n",
      "Reading data from /home/dadubovs/projects/deep_query_optimization/dqo/data/input/sql/fast/fast_query_log.csv.5\n",
      "Reading data from /home/dadubovs/projects/deep_query_optimization/dqo/data/input/sql/fast/fast_query_log.csv.6\n",
      "Reading data from /home/dadubovs/projects/deep_query_optimization/dqo/data/input/sql/fast/fast_query_log.csv.7\n",
      "Reading data from /home/dadubovs/projects/deep_query_optimization/dqo/data/input/sql/fast/fast_query_log.csv.back\n",
      "Saved temp data file /tmp/dqo/estimator/NeoQueryEstimator/encoded/fast_query_log_train.csv with 79914 records\n",
      "Saved temp test file /tmp/dqo/estimator/NeoQueryEstimator/encoded/fast_query_log_test.csv with 19979 records\n",
      "Encoded 99893 queries\n"
     ]
    }
   ],
   "source": [
    "neo.encode_data()"
   ]
  },
  {
   "cell_type": "code",
   "execution_count": 15,
   "metadata": {
    "pycharm": {}
   },
   "outputs": [],
   "source": [
    "neo.normalize()"
   ]
  },
  {
   "cell_type": "code",
   "execution_count": 16,
   "metadata": {
    "pycharm": {}
   },
   "outputs": [],
   "source": [
    "neo.compile()"
   ]
  },
  {
   "cell_type": "code",
   "execution_count": 22,
   "metadata": {
    "pycharm": {}
   },
   "outputs": [
    {
     "name": "stdout",
     "output_type": "stream",
     "text": [
      "Train on 63931 samples, validate on 15983 samples\n",
      "Epoch 1/20\n",
      "63931/63931 [==============================] - 7s 110us/sample - loss: 0.0052 - accuracy: 3.1284e-05 - mae: 0.0526 - mse: 0.0052 - val_loss: 0.0113 - val_accuracy: 0.0000e+00 - val_mae: 0.0771 - val_mse: 0.0113\n",
      "Epoch 2/20\n",
      "63931/63931 [==============================] - 7s 110us/sample - loss: 0.0051 - accuracy: 3.1284e-05 - mae: 0.0519 - mse: 0.0051 - val_loss: 0.0114 - val_accuracy: 0.0000e+00 - val_mae: 0.0777 - val_mse: 0.0114\n",
      "Epoch 3/20\n",
      "63931/63931 [==============================] - 7s 110us/sample - loss: 0.0050 - accuracy: 3.1284e-05 - mae: 0.0513 - mse: 0.0050 - val_loss: 0.0115 - val_accuracy: 0.0000e+00 - val_mae: 0.0772 - val_mse: 0.0115\n",
      "Epoch 4/20\n",
      "63931/63931 [==============================] - 7s 109us/sample - loss: 0.0049 - accuracy: 3.1284e-05 - mae: 0.0508 - mse: 0.0049 - val_loss: 0.0112 - val_accuracy: 0.0000e+00 - val_mae: 0.0768 - val_mse: 0.0112\n",
      "Epoch 5/20\n",
      "63931/63931 [==============================] - 7s 110us/sample - loss: 0.0048 - accuracy: 3.1284e-05 - mae: 0.0504 - mse: 0.0048 - val_loss: 0.0116 - val_accuracy: 0.0000e+00 - val_mae: 0.0775 - val_mse: 0.0116\n",
      "Epoch 6/20\n",
      "63931/63931 [==============================] - 7s 110us/sample - loss: 0.0047 - accuracy: 3.1284e-05 - mae: 0.0498 - mse: 0.0047 - val_loss: 0.0115 - val_accuracy: 0.0000e+00 - val_mae: 0.0767 - val_mse: 0.0115\n",
      "Epoch 7/20\n",
      "63931/63931 [==============================] - 7s 111us/sample - loss: 0.0046 - accuracy: 3.1284e-05 - mae: 0.0493 - mse: 0.0046 - val_loss: 0.0118 - val_accuracy: 0.0000e+00 - val_mae: 0.0781 - val_mse: 0.0118\n",
      "Epoch 8/20\n",
      "63931/63931 [==============================] - 7s 113us/sample - loss: 0.0045 - accuracy: 3.1284e-05 - mae: 0.0487 - mse: 0.0045 - val_loss: 0.0114 - val_accuracy: 0.0000e+00 - val_mae: 0.0761 - val_mse: 0.0114\n",
      "Epoch 9/20\n",
      "63931/63931 [==============================] - 7s 111us/sample - loss: 0.0045 - accuracy: 3.1284e-05 - mae: 0.0484 - mse: 0.0045 - val_loss: 0.0114 - val_accuracy: 0.0000e+00 - val_mae: 0.0762 - val_mse: 0.0114\n",
      "Epoch 10/20\n",
      "63931/63931 [==============================] - 7s 111us/sample - loss: 0.0044 - accuracy: 3.1284e-05 - mae: 0.0480 - mse: 0.0044 - val_loss: 0.0112 - val_accuracy: 0.0000e+00 - val_mae: 0.0755 - val_mse: 0.0112\n",
      "Epoch 11/20\n",
      "63931/63931 [==============================] - 8s 127us/sample - loss: 0.0044 - accuracy: 3.1284e-05 - mae: 0.0478 - mse: 0.0044 - val_loss: 0.0111 - val_accuracy: 0.0000e+00 - val_mae: 0.0763 - val_mse: 0.0111\n",
      "Epoch 12/20\n",
      "63931/63931 [==============================] - 8s 131us/sample - loss: 0.0043 - accuracy: 3.1284e-05 - mae: 0.0474 - mse: 0.0043 - val_loss: 0.0112 - val_accuracy: 0.0000e+00 - val_mae: 0.0760 - val_mse: 0.0112\n",
      "Epoch 13/20\n",
      "63931/63931 [==============================] - 9s 135us/sample - loss: 0.0043 - accuracy: 3.1284e-05 - mae: 0.0472 - mse: 0.0043 - val_loss: 0.0116 - val_accuracy: 0.0000e+00 - val_mae: 0.0764 - val_mse: 0.0116\n",
      "Epoch 14/20\n",
      "63931/63931 [==============================] - 9s 134us/sample - loss: 0.0042 - accuracy: 3.1284e-05 - mae: 0.0467 - mse: 0.0042 - val_loss: 0.0114 - val_accuracy: 0.0000e+00 - val_mae: 0.0759 - val_mse: 0.0114\n",
      "Epoch 15/20\n",
      "63931/63931 [==============================] - 8s 131us/sample - loss: 0.0042 - accuracy: 3.1284e-05 - mae: 0.0464 - mse: 0.0042 - val_loss: 0.0111 - val_accuracy: 0.0000e+00 - val_mae: 0.0751 - val_mse: 0.0111\n",
      "Epoch 16/20\n",
      "63931/63931 [==============================] - 8s 131us/sample - loss: 0.0041 - accuracy: 3.1284e-05 - mae: 0.0460 - mse: 0.0041 - val_loss: 0.0118 - val_accuracy: 0.0000e+00 - val_mae: 0.0767 - val_mse: 0.0118\n",
      "Epoch 17/20\n",
      "63931/63931 [==============================] - 9s 135us/sample - loss: 0.0041 - accuracy: 3.1284e-05 - mae: 0.0458 - mse: 0.0041 - val_loss: 0.0114 - val_accuracy: 0.0000e+00 - val_mae: 0.0753 - val_mse: 0.0114\n",
      "Epoch 18/20\n",
      "63931/63931 [==============================] - 9s 133us/sample - loss: 0.0040 - accuracy: 3.1284e-05 - mae: 0.0455 - mse: 0.0040 - val_loss: 0.0116 - val_accuracy: 0.0000e+00 - val_mae: 0.0759 - val_mse: 0.0116\n",
      "Epoch 19/20\n",
      "63931/63931 [==============================] - 8s 132us/sample - loss: 0.0040 - accuracy: 3.1284e-05 - mae: 0.0451 - mse: 0.0040 - val_loss: 0.0115 - val_accuracy: 0.0000e+00 - val_mae: 0.0753 - val_mse: 0.0115\n",
      "Epoch 20/20\n",
      "63931/63931 [==============================] - 8s 131us/sample - loss: 0.0039 - accuracy: 3.1284e-05 - mae: 0.0450 - mse: 0.0039 - val_loss: 0.0117 - val_accuracy: 0.0000e+00 - val_mae: 0.0757 - val_mse: 0.0117\n"
     ]
    }
   ],
   "source": [
    "neo.train(epochs=20, verbose=True,patience=20)"
   ]
  },
  {
   "cell_type": "code",
   "execution_count": 18,
   "metadata": {
    "pycharm": {}
   },
   "outputs": [
    {
     "data": {
      "text/plain": [
       "{'mean_diff': 0.8142157722218629, 'mean_ratio': 4.499762900475551}"
      ]
     },
     "execution_count": 18,
     "metadata": {},
     "output_type": "execute_result"
    }
   ],
   "source": [
    "neo.evaluate_train()"
   ]
  },
  {
   "cell_type": "code",
   "execution_count": 19,
   "metadata": {},
   "outputs": [
    {
     "data": {
      "text/plain": [
       "{'mean_diff': 0.7057371365162265, 'mean_ratio': 13.230762926795544}"
      ]
     },
     "execution_count": 19,
     "metadata": {},
     "output_type": "execute_result"
    }
   ],
   "source": [
    "neo.evaluate_test()"
   ]
  },
  {
   "cell_type": "code",
   "execution_count": 20,
   "metadata": {},
   "outputs": [],
   "source": [
    "history = neo.history"
   ]
  },
  {
   "cell_type": "code",
   "execution_count": 21,
   "metadata": {},
   "outputs": [
    {
     "data": {
      "image/png": "[encoded data removed]",
      "text/plain": [
       "<Figure size 432x288 with 1 Axes>"
      ]
     },
     "metadata": {
      "needs_background": "light"
     },
     "output_type": "display_data"
    },
    {
     "data": {
      "image/png": "[encoded data removed]",
      "text/plain": [
       "<Figure size 432x288 with 1 Axes>"
      ]
     },
     "metadata": {
      "needs_background": "light"
     },
     "output_type": "display_data"
    }
   ],
   "source": [
    "# Plot training & validation accuracy values\n",
    "plt.plot(history.history['accuracy'])\n",
    "plt.plot(history.history['val_accuracy'])\n",
    "plt.title('Model accuracy')\n",
    "plt.ylabel('Accuracy')\n",
    "plt.xlabel('Epoch')\n",
    "plt.legend(['Train', 'Test'], loc='upper left')\n",
    "plt.show()\n",
    "\n",
    "# Plot training & validation loss values\n",
    "plt.plot(history.history['loss'])\n",
    "plt.plot(history.history['val_loss'])\n",
    "plt.title('Model loss')\n",
    "plt.ylabel('Loss')\n",
    "plt.xlabel('Epoch')\n",
    "plt.legend(['Train', 'Test'], loc='upper left')\n",
    "plt.show()"
   ]
  },
  {
   "cell_type": "code",
   "execution_count": 18,
   "metadata": {},
   "outputs": [
    {
     "data": {
      "text/html": [
       "<div>\n",
       "<style scoped>\n",
       "    .dataframe tbody tr th:only-of-type {\n",
       "        vertical-align: middle;\n",
       "    }\n",
       "\n",
       "    .dataframe tbody tr th {\n",
       "        vertical-align: top;\n",
       "    }\n",
       "\n",
       "    .dataframe thead th {\n",
       "        text-align: right;\n",
       "    }\n",
       "</style>\n",
       "<table border=\"1\" class=\"dataframe\">\n",
       "  <thead>\n",
       "    <tr style=\"text-align: right;\">\n",
       "      <th></th>\n",
       "      <th>runtime</th>\n",
       "    </tr>\n",
       "  </thead>\n",
       "  <tbody>\n",
       "    <tr>\n",
       "      <th>count</th>\n",
       "      <td>51858.000000</td>\n",
       "    </tr>\n",
       "    <tr>\n",
       "      <th>mean</th>\n",
       "      <td>4.864241</td>\n",
       "    </tr>\n",
       "    <tr>\n",
       "      <th>std</th>\n",
       "      <td>18.697416</td>\n",
       "    </tr>\n",
       "    <tr>\n",
       "      <th>min</th>\n",
       "      <td>0.001249</td>\n",
       "    </tr>\n",
       "    <tr>\n",
       "      <th>25%</th>\n",
       "      <td>0.021013</td>\n",
       "    </tr>\n",
       "    <tr>\n",
       "      <th>50%</th>\n",
       "      <td>1.974375</td>\n",
       "    </tr>\n",
       "    <tr>\n",
       "      <th>75%</th>\n",
       "      <td>2.824804</td>\n",
       "    </tr>\n",
       "    <tr>\n",
       "      <th>max</th>\n",
       "      <td>310.017579</td>\n",
       "    </tr>\n",
       "  </tbody>\n",
       "</table>\n",
       "</div>"
      ],
      "text/plain": [
       "            runtime\n",
       "count  51858.000000\n",
       "mean       4.864241\n",
       "std       18.697416\n",
       "min        0.001249\n",
       "25%        0.021013\n",
       "50%        1.974375\n",
       "75%        2.824804\n",
       "max      310.017579"
      ]
     },
     "execution_count": 18,
     "metadata": {},
     "output_type": "execute_result"
    }
   ],
   "source": [
    "neo.data.describe()"
   ]
  },
  {
   "cell_type": "code",
   "execution_count": null,
   "metadata": {},
   "outputs": [],
   "source": []
  }
 ],
 "metadata": {
  "kernelspec": {
   "display_name": "Python 3.7",
   "language": "python",
   "name": "py37"
  },
  "language_info": {
   "codemirror_mode": {
    "name": "ipython",
    "version": 3
   },
   "file_extension": ".py",
   "mimetype": "text/x-python",
   "name": "python",
   "nbconvert_exporter": "python",
   "pygments_lexer": "ipython3",
   "version": "3.7.3"
  }
 },
 "nbformat": 4,
 "nbformat_minor": 4
}
