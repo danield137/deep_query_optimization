{
 "cells": [
  {
   "cell_type": "code",
   "execution_count": 2,
   "metadata": {
    "pycharm": {}
   },
   "outputs": [],
   "source": [
    "import pandas as pd\n",
    "from tensorflow.keras.models import Sequential\n",
    "from tensorflow.keras.layers import Dense, Activation, Dropout, Bidirectional , LSTM, Reshape, GRU, Embedding\n",
    "from tensorflow.keras.callbacks import EarlyStopping\n",
    "import numpy as np\n",
    "from matplotlib import pyplot as plt\n",
    "import tensorflow as tf"
   ]
  },
  {
   "cell_type": "code",
   "execution_count": 3,
   "metadata": {
    "pycharm": {}
   },
   "outputs": [],
   "source": [
    "root_path = \"/home/dadubovs/projects/deep_query_optimization/\"\n",
    "\n",
    "import sys\n",
    "sys.path.insert(0, root_path)"
   ]
  },
  {
   "cell_type": "code",
   "execution_count": 4,
   "metadata": {},
   "outputs": [],
   "source": [
    "import os"
   ]
  },
  {
   "cell_type": "markdown",
   "metadata": {},
   "source": [
    "## LOAD DATABASE META"
   ]
  },
  {
   "cell_type": "code",
   "execution_count": 5,
   "metadata": {},
   "outputs": [],
   "source": [
    "from dqo.db.models import Database"
   ]
  },
  {
   "cell_type": "code",
   "execution_count": 6,
   "metadata": {},
   "outputs": [],
   "source": [
    "schema_file = os.path.join(root_path, 'dqo/data/meta/imdb_slow/schema.json')"
   ]
  },
  {
   "cell_type": "code",
   "execution_count": 7,
   "metadata": {},
   "outputs": [],
   "source": [
    "db = Database.load(schema_file)"
   ]
  },
  {
   "cell_type": "markdown",
   "metadata": {},
   "source": [
    "## LOAD DATA"
   ]
  },
  {
   "cell_type": "code",
   "execution_count": 8,
   "metadata": {},
   "outputs": [],
   "source": [
    "from dqo.estimator import dataset"
   ]
  },
  {
   "cell_type": "code",
   "execution_count": 9,
   "metadata": {
    "pycharm": {}
   },
   "outputs": [
    {
     "name": "stdout",
     "output_type": "stream",
     "text": [
      "Reading data from /home/dadubovs/projects/deep_query_optimization/dqo/data/input/sql/slow/slow_query_log.csv [1/4]\n",
      "loaded 11494 rows from /home/dadubovs/projects/deep_query_optimization/dqo/data/input/sql/slow/slow_query_log.csv [1/4]\n",
      "Reading data from /home/dadubovs/projects/deep_query_optimization/dqo/data/input/sql/slow/slow_query_log.csv.1 [2/4]\n",
      "loaded 13425 rows from /home/dadubovs/projects/deep_query_optimization/dqo/data/input/sql/slow/slow_query_log.csv.1 [2/4]\n",
      "Reading data from /home/dadubovs/projects/deep_query_optimization/dqo/data/input/sql/slow/slow_query_log.csv.2 [3/4]\n",
      "loaded 13453 rows from /home/dadubovs/projects/deep_query_optimization/dqo/data/input/sql/slow/slow_query_log.csv.2 [3/4]\n",
      "Reading data from /home/dadubovs/projects/deep_query_optimization/dqo/data/input/sql/slow/slow_query_log.csv.3 [4/4]\n",
      "loaded 13486 rows from /home/dadubovs/projects/deep_query_optimization/dqo/data/input/sql/slow/slow_query_log.csv.3 [4/4]\n"
     ]
    },
    {
     "data": {
      "text/plain": [
       "51858"
      ]
     },
     "execution_count": 9,
     "metadata": {},
     "output_type": "execute_result"
    }
   ],
   "source": [
    "input_path = os.path.join(root_path, 'dqo/data/input/sql/slow/')\n",
    "ds = dataset.QueriesDataset(input_path)\n",
    "ds.load()\n",
    "len(ds.df)"
   ]
  },
  {
   "cell_type": "markdown",
   "metadata": {},
   "source": [
    "## ENCODE QUERY"
   ]
  },
  {
   "cell_type": "code",
   "execution_count": 10,
   "metadata": {},
   "outputs": [],
   "source": [
    "from dqo.estimator.neo import encoder"
   ]
  },
  {
   "cell_type": "code",
   "execution_count": 11,
   "metadata": {},
   "outputs": [],
   "source": [
    "q = ds.df['query'][:3][0]"
   ]
  },
  {
   "cell_type": "code",
   "execution_count": 12,
   "metadata": {},
   "outputs": [
    {
     "data": {
      "text/plain": [
       "\"SELECT MIN(t3.info_type_id),MIN(t5.note)  FROM comp_cast_type AS t1, movie_companies AS t2, movie_info AS t3, movie_info_idx AS t4, person_info AS t5  WHERE t1.id > 1 AND t1.kind LIKE '%fdh%' AND t2.company_id < 183436 AND t2.note LIKE '%zon%' AND t5.id < 358541 AND t5.info LIKE '%ssb%' AND t5.info_type_id = 22 AND t4.id < 1231839 AND t4.id < 1067260 AND t4.id > 982673 AND t4.info_type_id = 99 AND t4.info_type_id = 100 AND t4.note LIKE '%clu%' AND t4.note LIKE '%xor%' AND t4.note LIKE '%ttm%' AND t3.id = t4.movie_id AND t3.info = t5.info AND t3.note = t1.kind AND t4.info_type_id = t2.id\""
      ]
     },
     "execution_count": 12,
     "metadata": {},
     "output_type": "execute_result"
    }
   ],
   "source": [
    "q"
   ]
  },
  {
   "cell_type": "code",
   "execution_count": 13,
   "metadata": {},
   "outputs": [],
   "source": [
    "encoded = ds.df['query'].apply(lambda q: encoder.encode_query(db, q))"
   ]
  },
  {
   "cell_type": "code",
   "execution_count": 14,
   "metadata": {},
   "outputs": [],
   "source": [
    "ds.df['encoded'] = encoded.apply(np.array)"
   ]
  },
  {
   "cell_type": "markdown",
   "metadata": {},
   "source": [
    "## PAD "
   ]
  },
  {
   "cell_type": "code",
   "execution_count": 15,
   "metadata": {},
   "outputs": [],
   "source": [
    "import tensorflow as tf"
   ]
  },
  {
   "cell_type": "code",
   "execution_count": 16,
   "metadata": {},
   "outputs": [],
   "source": [
    "ds.df['input'] = ds.df['encoded'].apply(lambda v: v.reshape((-1,318)))"
   ]
  },
  {
   "cell_type": "markdown",
   "metadata": {},
   "source": [
    "## SPLIT TEST / TRAIN"
   ]
  },
  {
   "cell_type": "code",
   "execution_count": 17,
   "metadata": {},
   "outputs": [],
   "source": [
    "import tempfile\n",
    "temp_path = os.path.join(tempfile.gettempdir(), 'dqo', 'estimator', 'neo')\n",
    "temp_encoded_path = os.path.join(temp_path, 'encoded')"
   ]
  },
  {
   "cell_type": "code",
   "execution_count": 18,
   "metadata": {},
   "outputs": [],
   "source": [
    "input_path_cache_key = os.path.basename(f'{input_path}')\n",
    "encoded_temp_path = os.path.join(temp_encoded_path, input_path_cache_key)\n",
    "\n",
    "basename = os.path.splitext(os.path.basename(list(ds.loaded.keys())[0]))[0]\n",
    "train_file_name = f'{encoded_temp_path}{basename}_train.csv'\n",
    "test_file_name = f'{encoded_temp_path}{basename}_test.csv'"
   ]
  },
  {
   "cell_type": "code",
   "execution_count": 19,
   "metadata": {},
   "outputs": [],
   "source": [
    "test_split = 0.2\n",
    "data_and_test_split = int(len(ds.df) * (1 - test_split))\n",
    "\n",
    "train_data = ds.df[:data_and_test_split]\n",
    "test_data = ds.df[data_and_test_split:]"
   ]
  },
  {
   "cell_type": "code",
   "execution_count": 20,
   "metadata": {},
   "outputs": [
    {
     "name": "stdout",
     "output_type": "stream",
     "text": [
      "Saved temp data file /tmp/dqo/estimator/neo/encoded/slow_query_log_train.csv with 41486 records\n",
      "Saved temp test file /tmp/dqo/estimator/neo/encoded/slow_query_log_test.csv with 10372 records\n"
     ]
    }
   ],
   "source": [
    "from pathlib import Path\n",
    "Path(encoded_temp_path).mkdir(parents=True, exist_ok=True)\n",
    "\n",
    "train_data.to_csv(train_file_name, index=False, columns=['input','runtime'], mode=\"w+\")\n",
    "print(f'Saved temp data file {train_file_name} with {len(train_data)} records')\n",
    "\n",
    "test_data.to_csv(test_file_name, index=False, columns=['input','runtime'],mode=\"w+\")\n",
    "print(f'Saved temp test file {test_file_name} with {len(test_data)} records')"
   ]
  },
  {
   "cell_type": "markdown",
   "metadata": {},
   "source": [
    "## SCALE LABEL"
   ]
  },
  {
   "cell_type": "code",
   "execution_count": 21,
   "metadata": {},
   "outputs": [],
   "source": [
    "from sklearn.preprocessing import StandardScaler\n",
    "\n",
    "Y_train_scaler = StandardScaler()\n",
    "Y_train = Y_train_scaler.fit_transform(train_data.runtime.values.reshape(-1, 1))\n",
    "\n",
    "Y_test_scaler = StandardScaler()\n",
    "Y_test = Y_test_scaler.fit_transform(test_data.runtime.values.reshape(-1, 1))"
   ]
  },
  {
   "cell_type": "markdown",
   "metadata": {},
   "source": [
    "## EXAMPLE DATA\n"
   ]
  },
  {
   "cell_type": "code",
   "execution_count": 22,
   "metadata": {},
   "outputs": [
    {
     "data": {
      "text/plain": [
       "(1, 318)"
      ]
     },
     "execution_count": 22,
     "metadata": {},
     "output_type": "execute_result"
    }
   ],
   "source": [
    "ds.df['input'][0:1][0].shape"
   ]
  },
  {
   "cell_type": "markdown",
   "metadata": {},
   "source": [
    "## Build Model"
   ]
  },
  {
   "cell_type": "code",
   "execution_count": 23,
   "metadata": {},
   "outputs": [],
   "source": [
    "from tensorflow.keras.models import Sequential\n",
    "from tensorflow.keras.layers import Dense, Activation, Dropout, Bidirectional , LSTM, Reshape, GRU, Embedding, Masking\n",
    "from tensorflow.keras.callbacks import EarlyStopping"
   ]
  },
  {
   "cell_type": "code",
   "execution_count": 24,
   "metadata": {},
   "outputs": [],
   "source": [
    "model = Sequential()\n",
    "model.add(Dense(64, activation='tanh'))\n",
    "model.add(Dense(32, activation='tanh'))\n",
    "model.add(Dense(16, activation='tanh'))\n",
    "model.add(Dense(1, activation='linear'))\n",
    "model.compile(loss='mse', optimizer='adam', metrics=['mse'])\n",
    "model = model"
   ]
  },
  {
   "cell_type": "code",
   "execution_count": 25,
   "metadata": {},
   "outputs": [],
   "source": [
    "callbacks = [EarlyStopping(monitor='val_loss', mode='min', verbose=1, patience=5)]"
   ]
  },
  {
   "cell_type": "markdown",
   "metadata": {},
   "source": [
    "## PREP X DATA"
   ]
  },
  {
   "cell_type": "code",
   "execution_count": 26,
   "metadata": {},
   "outputs": [],
   "source": [
    "X_train = train_data.input.values\n",
    "X_test = test_data.input.values"
   ]
  },
  {
   "cell_type": "code",
   "execution_count": 27,
   "metadata": {},
   "outputs": [
    {
     "data": {
      "text/plain": [
       "((41486,), (10372, 1))"
      ]
     },
     "execution_count": 27,
     "metadata": {},
     "output_type": "execute_result"
    }
   ],
   "source": [
    "X_train.shape, Y_test.shape"
   ]
  },
  {
   "cell_type": "code",
   "execution_count": 28,
   "metadata": {},
   "outputs": [
    {
     "data": {
      "text/plain": [
       "array([[0, 0, 0, 0, 0, 0, 0, 0, 0, 0, 0, 0, 0, 0, 0, 0, 0, 0, 0, 0, 0, 0,\n",
       "        0, 0, 0, 0, 0, 0, 0, 0, 0, 0, 0, 0, 0, 0, 0, 0, 0, 0, 0, 0, 0, 0,\n",
       "        0, 0, 0, 0, 0, 0, 0, 0, 0, 0, 0, 0, 0, 0, 0, 0, 0, 0, 0, 0, 0, 0,\n",
       "        0, 0, 0, 0, 0, 0, 0, 0, 0, 0, 0, 0, 0, 0, 0, 0, 1, 0, 0, 0, 0, 0,\n",
       "        0, 0, 0, 0, 0, 0, 0, 0, 0, 0, 0, 0, 0, 0, 0, 0, 0, 0, 0, 0, 0, 0,\n",
       "        0, 0, 0, 0, 0, 0, 0, 0, 0, 0, 0, 0, 0, 0, 0, 0, 0, 0, 0, 0, 0, 0,\n",
       "        0, 0, 0, 0, 0, 0, 0, 0, 0, 0, 0, 0, 0, 0, 0, 0, 0, 0, 0, 0, 0, 0,\n",
       "        0, 0, 0, 0, 0, 0, 0, 0, 0, 0, 0, 0, 0, 0, 0, 0, 0, 0, 0, 0, 0, 1,\n",
       "        0, 0, 0, 0, 0, 0, 1, 0, 0, 0, 1, 0, 0, 0, 0, 0, 0, 0, 0, 0, 0, 0,\n",
       "        0, 0, 0, 0, 0, 0, 0, 0, 0, 0, 0, 0, 0, 0, 0, 0, 0, 0, 0, 0, 0, 0,\n",
       "        0, 0, 0, 0, 0, 0, 0, 0, 0, 0, 0, 0, 0, 0, 0, 0, 0, 0, 0, 0, 0, 0,\n",
       "        0, 0, 1, 1, 0, 0, 0, 0, 0, 0, 0, 0, 0, 0, 0, 0, 0, 0, 0, 0, 0, 0,\n",
       "        0, 0, 0, 0, 1, 0, 1, 0, 1, 1, 0, 0, 1, 1, 1, 1, 1, 0, 1, 0, 0, 0,\n",
       "        0, 0, 0, 0, 0, 0, 0, 0, 0, 0, 0, 0, 0, 1, 0, 1, 1, 0, 0, 0, 0, 0,\n",
       "        0, 0, 0, 0, 0, 0, 0, 0, 0, 0]])"
      ]
     },
     "execution_count": 28,
     "metadata": {},
     "output_type": "execute_result"
    }
   ],
   "source": [
    "X_train[0]"
   ]
  },
  {
   "cell_type": "markdown",
   "metadata": {},
   "source": [
    "## TRAIN"
   ]
  },
  {
   "cell_type": "code",
   "execution_count": 29,
   "metadata": {},
   "outputs": [],
   "source": [
    "loss = []\n",
    "val_loss = []"
   ]
  },
  {
   "cell_type": "code",
   "execution_count": 1,
   "metadata": {},
   "outputs": [
    {
     "ename": "NameError",
     "evalue": "name 'model' is not defined",
     "output_type": "error",
     "traceback": [
      "\u001b[0;31m---------------------------------------------------------------------------\u001b[0m",
      "\u001b[0;31mNameError\u001b[0m                                 Traceback (most recent call last)",
      "\u001b[0;32m<ipython-input-1-ec66801b72d5>\u001b[0m in \u001b[0;36m<module>\u001b[0;34m\u001b[0m\n\u001b[0;32m----> 1\u001b[0;31m history = model.fit(\n\u001b[0m\u001b[1;32m      2\u001b[0m     \u001b[0mX_train\u001b[0m\u001b[0;34m,\u001b[0m\u001b[0;34m\u001b[0m\u001b[0;34m\u001b[0m\u001b[0m\n\u001b[1;32m      3\u001b[0m     \u001b[0mY_train\u001b[0m\u001b[0;34m,\u001b[0m\u001b[0;34m\u001b[0m\u001b[0;34m\u001b[0m\u001b[0m\n\u001b[1;32m      4\u001b[0m     \u001b[0mepochs\u001b[0m\u001b[0;34m=\u001b[0m\u001b[0;36m50\u001b[0m\u001b[0;34m,\u001b[0m\u001b[0;34m\u001b[0m\u001b[0;34m\u001b[0m\u001b[0m\n\u001b[1;32m      5\u001b[0m     \u001b[0mverbose\u001b[0m\u001b[0;34m=\u001b[0m\u001b[0;36m1\u001b[0m\u001b[0;34m,\u001b[0m\u001b[0;34m\u001b[0m\u001b[0;34m\u001b[0m\u001b[0m\n",
      "\u001b[0;31mNameError\u001b[0m: name 'model' is not defined"
     ]
    }
   ],
   "source": [
    "history = model.fit(\n",
    "    X_train,\n",
    "    Y_train,\n",
    "    epochs=50,\n",
    "    verbose=1,\n",
    "    validation_split=0.20,\n",
    "    callbacks=callbacks\n",
    ")"
   ]
  },
  {
   "cell_type": "code",
   "execution_count": null,
   "metadata": {},
   "outputs": [],
   "source": [
    "loss += history.history['loss']\n",
    "val_loss += history.history['val_loss']"
   ]
  },
  {
   "cell_type": "code",
   "execution_count": null,
   "metadata": {},
   "outputs": [],
   "source": [
    "# Plot training & validation loss values\n",
    "plt.plot(loss)\n",
    "plt.plot(val_loss)\n",
    "plt.title('Model loss')\n",
    "plt.ylabel('Loss')\n",
    "plt.xlabel('Epoch')\n",
    "plt.legend(['Train', 'Test'], loc='upper left')\n",
    "plt.show()"
   ]
  },
  {
   "cell_type": "code",
   "execution_count": null,
   "metadata": {},
   "outputs": [],
   "source": [
    "X_train.shape"
   ]
  },
  {
   "cell_type": "code",
   "execution_count": null,
   "metadata": {},
   "outputs": [],
   "source": [
    "predicted = Y_train_scaler.inverse_transform(model.predict(X_train))\n",
    "predictions = []\n",
    "actual = []\n",
    "diff = []\n",
    "\n",
    "for i in range(len(predicted)):\n",
    "    pred = predicted[i]\n",
    "    act = train_data.runtime.values[i]\n",
    "    predictions.append(pred)\n",
    "    actual.append(act)\n",
    "    diff.append(np.abs(pred - act))\n",
    "from scipy import stats\n",
    "stats.describe(diff)"
   ]
  },
  {
   "cell_type": "code",
   "execution_count": null,
   "metadata": {},
   "outputs": [],
   "source": [
    "# Plot training & validation loss values\n",
    "plt.plot(actual, 'blue')\n",
    "plt.plot(predictions, 'red',alpha=0.5)\n",
    "plt.title('Actual / Predicted')\n",
    "plt.ylabel('Score')\n",
    "plt.xlabel('Example')\n",
    "plt.legend(['Actual', 'Predicted'], loc='upper left')\n",
    "plt.show()"
   ]
  },
  {
   "cell_type": "code",
   "execution_count": null,
   "metadata": {},
   "outputs": [],
   "source": [
    "predicted_test = Y_test_scaler.inverse_transform(model.predict(X_test))\n",
    "predictions_test = []\n",
    "actual_test = []\n",
    "diff_test = []\n",
    "\n",
    "for i in range(len(predicted_test)):\n",
    "    pred = predicted_test[i]\n",
    "    act = test_data.runtime.values[i]\n",
    "    predictions_test.append(pred)\n",
    "    actual_test.append(act)\n",
    "    diff_test.append(np.abs(pred - act))\n",
    "from scipy import stats\n",
    "stats.describe(diff_test)"
   ]
  },
  {
   "cell_type": "code",
   "execution_count": null,
   "metadata": {},
   "outputs": [],
   "source": [
    "# Plot training & validation loss values\n",
    "plt.plot(actual_test, 'blue')\n",
    "plt.plot(predictions_test, 'red',alpha=0.5)\n",
    "plt.title('Actual / Predicted')\n",
    "plt.ylabel('Score')\n",
    "plt.xlabel('Example')\n",
    "plt.legend(['Actual', 'Predicted'], loc='upper left')\n",
    "plt.show()"
   ]
  }
 ],
 "metadata": {
  "kernelspec": {
   "display_name": "Python 3.7",
   "language": "python",
   "name": "py37"
  },
  "language_info": {
   "codemirror_mode": {
    "name": "ipython",
    "version": 3
   },
   "file_extension": ".py",
   "mimetype": "text/x-python",
   "name": "python",
   "nbconvert_exporter": "python",
   "pygments_lexer": "ipython3",
   "version": "3.7.3"
  },
  "pycharm": {
   "stem_cell": {
    "cell_type": "raw",
    "metadata": {
     "collapsed": false
    },
    "source": []
   }
  }
 },
 "nbformat": 4,
 "nbformat_minor": 4
}
