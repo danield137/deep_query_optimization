{
 "cells": [
  {
   "cell_type": "code",
   "execution_count": 1,
   "metadata": {},
   "outputs": [
    {
     "name": "stdout",
     "output_type": "stream",
     "text": [
      "module://ipykernel.pylab.backend_inline\n"
     ]
    },
    {
     "name": "stderr",
     "output_type": "stream",
     "text": [
      "/usr/local/anaconda3/envs/py37/lib/python3.7/site-packages/ipykernel_launcher.py:13: FutureWarning: The Panel class is removed from pandas. Accessing it from the top-level namespace will also be removed in the next version\n",
      "  del sys.path[0]\n"
     ]
    }
   ],
   "source": [
    "root_path = \"/Users/danieldubovski/projects/deep_query_optimization\"\n",
    "\n",
    "import sys\n",
    "import os\n",
    "sys.path.insert(0, root_path)\n",
    "\n",
    "import matplotlib as mpl\n",
    "\n",
    "plt_backend = mpl.get_backend()\n",
    "print(plt_backend)\n",
    "from matplotlib import pyplot as plt\n",
    "import pandas as pd\n",
    "from pandas import Panel\n",
    "import numpy as np\n",
    "import pytorch_lightning as pl\n",
    "import torch\n",
    "from importlib import reload \n",
    "from tqdm.auto import tqdm\n",
    "from collections import Counter\n",
    "import sklearn\n",
    "import seaborn as sns\n",
    "from sklearn import metrics as skm\n",
    "import json\n",
    "\n",
    "from dqo.estimator import evaluate as evl\n",
    "\n",
    "from dqo.estimator.gerelt import v2 as gerelt2, v15 as gerelt15, v17 as gerelt17,v18 as gerelt18,v19 as gerelt19\n",
    "from dqo.estimator.greq import v3 as greq3, v1 as greq1\n",
    "from dqo.estimator.relcnn import v1 as relcnn\n",
    "from dqo.estimator.treelstm import v2 as treelstm\n",
    "from dqo.estimator.others.neo import v1 as neo\n",
    "from dqo import datasets\n",
    "\n",
    "mpl.use(plt_backend)"
   ]
  },
  {
   "cell_type": "code",
   "execution_count": 8,
   "metadata": {},
   "outputs": [
    {
     "name": "stderr",
     "output_type": "stream",
     "text": [
      "/usr/local/anaconda3/envs/py37/lib/python3.7/site-packages/torch/nn/modules/rnn.py:60: UserWarning: dropout option adds dropout after all but last recurrent layer, so non-zero dropout expects num_layers greater than 1, but got dropout=0.1 and num_layers=1\n",
      "  \"num_layers={}\".format(dropout, num_layers))\n",
      "  1%|▏         | 4/270 [00:01<01:50,  2.40it/s]/usr/local/anaconda3/envs/py37/lib/python3.7/site-packages/numpy/core/fromnumeric.py:3622: RuntimeWarning: Degrees of freedom <= 0 for slice\n",
      "  **kwargs)\n",
      "/usr/local/anaconda3/envs/py37/lib/python3.7/site-packages/numpy/core/_methods.py:227: RuntimeWarning: invalid value encountered in double_scalars\n",
      "  ret = ret.dtype.type(ret / rcount)\n",
      "100%|██████████| 270/270 [01:10<00:00,  3.84it/s]\n",
      "/usr/local/anaconda3/envs/py37/lib/python3.7/site-packages/numpy/core/fromnumeric.py:3373: RuntimeWarning: Mean of empty slice.\n",
      "  out=out, **kwargs)\n",
      "/usr/local/anaconda3/envs/py37/lib/python3.7/site-packages/numpy/core/_methods.py:170: RuntimeWarning: invalid value encountered in double_scalars\n",
      "  ret = ret.dtype.type(ret / rcount)\n"
     ]
    },
    {
     "name": "stdout",
     "output_type": "stream",
     "text": [
      "df: tpch, v: dqo.estimator.gerelt.v15, cp: /Users/danieldubovski/projects/deep_query_optimization/dqo/estimator/gerelt/v15/logs/all/version_1/checkpoints/epoch=0-step=75650.ckpt :: accuracy: 0.2111111111111111, mae: 23.449179899691565, f1: 0.1330122763966724\n"
     ]
    },
    {
     "name": "stderr",
     "output_type": "stream",
     "text": [
      "100%|██████████| 270/270 [01:10<00:00,  3.81it/s]\n"
     ]
    },
    {
     "name": "stdout",
     "output_type": "stream",
     "text": [
      "df: tpch, v: dqo.estimator.gerelt.v15, cp: /Users/danieldubovski/projects/deep_query_optimization/dqo/estimator/gerelt/v15/logs/all/version_1/checkpoints/epoch=5-step=453905.ckpt :: accuracy: 0.42592592592592593, mae: 13.226308206089264, f1: 0.3888072538018763\n"
     ]
    },
    {
     "name": "stderr",
     "output_type": "stream",
     "text": [
      "100%|██████████| 270/270 [01:08<00:00,  3.95it/s]\n"
     ]
    },
    {
     "name": "stdout",
     "output_type": "stream",
     "text": [
      "df: tpch, v: dqo.estimator.gerelt.v15, cp: /Users/danieldubovski/projects/deep_query_optimization/dqo/estimator/gerelt/v15/logs/all/version_1/checkpoints/epoch=10-step=832160.ckpt :: accuracy: 0.4185185185185185, mae: 11.258006868221472, f1: 0.4035101897420268\n"
     ]
    },
    {
     "name": "stderr",
     "output_type": "stream",
     "text": [
      "100%|██████████| 270/270 [01:12<00:00,  3.72it/s]\n"
     ]
    },
    {
     "name": "stdout",
     "output_type": "stream",
     "text": [
      "df: tpch, v: dqo.estimator.gerelt.v15, cp: /Users/danieldubovski/projects/deep_query_optimization/dqo/estimator/gerelt/v15/logs/all/version_1/checkpoints/epoch=15-step=1210415.ckpt :: accuracy: 0.4925925925925926, mae: 9.127965016414155, f1: 0.500663881064279\n"
     ]
    },
    {
     "name": "stderr",
     "output_type": "stream",
     "text": [
      "100%|██████████| 270/270 [01:12<00:00,  3.71it/s]\n"
     ]
    },
    {
     "name": "stdout",
     "output_type": "stream",
     "text": [
      "df: tpch, v: dqo.estimator.gerelt.v15, cp: /Users/danieldubovski/projects/deep_query_optimization/dqo/estimator/gerelt/v15/logs/all/version_1/checkpoints/epoch=20-step=1588670.ckpt :: accuracy: 0.5259259259259259, mae: 8.520030739142882, f1: 0.5287312432937233\n"
     ]
    },
    {
     "name": "stderr",
     "output_type": "stream",
     "text": [
      "100%|██████████| 270/270 [01:12<00:00,  3.70it/s]\n"
     ]
    },
    {
     "name": "stdout",
     "output_type": "stream",
     "text": [
      "df: tpch, v: dqo.estimator.gerelt.v15, cp: /Users/danieldubovski/projects/deep_query_optimization/dqo/estimator/gerelt/v15/logs/all/version_1/checkpoints/epoch=29-step=2269529.ckpt :: accuracy: 0.5518518518518518, mae: 8.183275724326604, f1: 0.562593905824847\n"
     ]
    },
    {
     "name": "stderr",
     "output_type": "stream",
     "text": [
      "100%|██████████| 270/270 [01:12<00:00,  3.74it/s]\n"
     ]
    },
    {
     "name": "stdout",
     "output_type": "stream",
     "text": [
      "df: tpch, v: dqo.estimator.gerelt.v15, cp: /Users/danieldubovski/projects/deep_query_optimization/dqo/estimator/gerelt/v15/logs/all/version_1/checkpoints/epoch=50-step=3858200.ckpt :: accuracy: 0.5814814814814815, mae: 6.245248298890698, f1: 0.5909546366891311\n"
     ]
    },
    {
     "name": "stderr",
     "output_type": "stream",
     "text": [
      "100%|██████████| 270/270 [01:12<00:00,  3.74it/s]\n"
     ]
    },
    {
     "name": "stdout",
     "output_type": "stream",
     "text": [
      "df: tpch, v: dqo.estimator.gerelt.v15, cp: /Users/danieldubovski/projects/deep_query_optimization/dqo/estimator/gerelt/v15/logs/all/version_1/checkpoints/epoch=51-step=3933851.ckpt :: accuracy: 0.5777777777777777, mae: 7.048900430791056, f1: 0.5691452145301886\n"
     ]
    },
    {
     "name": "stderr",
     "output_type": "stream",
     "text": [
      "100%|██████████| 270/270 [01:10<00:00,  3.84it/s]\n"
     ]
    },
    {
     "name": "stdout",
     "output_type": "stream",
     "text": [
      "df: tpch, v: dqo.estimator.gerelt.v15, cp: /Users/danieldubovski/projects/deep_query_optimization/dqo/estimator/gerelt/v15/logs/all/version_1/checkpoints/epoch=71-step=5446871.ckpt :: accuracy: 0.5851851851851851, mae: 6.783824862489106, f1: 0.5862297608343819\n"
     ]
    },
    {
     "name": "stderr",
     "output_type": "stream",
     "text": [
      "100%|██████████| 167/167 [01:10<00:00,  2.38it/s]\n"
     ]
    },
    {
     "name": "stdout",
     "output_type": "stream",
     "text": [
      "df: imdb, v: dqo.estimator.gerelt.v15, cp: /Users/danieldubovski/projects/deep_query_optimization/dqo/estimator/gerelt/v15/logs/all/version_1/checkpoints/epoch=0-step=75650.ckpt :: accuracy: 0.11377245508982035, mae: 22.239639323169307, f1: 0.0632285513109687\n"
     ]
    },
    {
     "name": "stderr",
     "output_type": "stream",
     "text": [
      "100%|██████████| 167/167 [01:10<00:00,  2.35it/s]\n"
     ]
    },
    {
     "name": "stdout",
     "output_type": "stream",
     "text": [
      "df: imdb, v: dqo.estimator.gerelt.v15, cp: /Users/danieldubovski/projects/deep_query_optimization/dqo/estimator/gerelt/v15/logs/all/version_1/checkpoints/epoch=5-step=453905.ckpt :: accuracy: 0.25748502994011974, mae: 12.972151209898232, f1: 0.19939768355416376\n"
     ]
    },
    {
     "name": "stderr",
     "output_type": "stream",
     "text": [
      "100%|██████████| 167/167 [01:11<00:00,  2.33it/s]\n"
     ]
    },
    {
     "name": "stdout",
     "output_type": "stream",
     "text": [
      "df: imdb, v: dqo.estimator.gerelt.v15, cp: /Users/danieldubovski/projects/deep_query_optimization/dqo/estimator/gerelt/v15/logs/all/version_1/checkpoints/epoch=10-step=832160.ckpt :: accuracy: 0.3413173652694611, mae: 12.490562289396625, f1: 0.2883177137334269\n"
     ]
    },
    {
     "name": "stderr",
     "output_type": "stream",
     "text": [
      "100%|██████████| 167/167 [01:12<00:00,  2.31it/s]\n"
     ]
    },
    {
     "name": "stdout",
     "output_type": "stream",
     "text": [
      "df: imdb, v: dqo.estimator.gerelt.v15, cp: /Users/danieldubovski/projects/deep_query_optimization/dqo/estimator/gerelt/v15/logs/all/version_1/checkpoints/epoch=15-step=1210415.ckpt :: accuracy: 0.38323353293413176, mae: 11.396974125062625, f1: 0.33501339748479336\n"
     ]
    },
    {
     "name": "stderr",
     "output_type": "stream",
     "text": [
      "100%|██████████| 167/167 [01:11<00:00,  2.34it/s]\n"
     ]
    },
    {
     "name": "stdout",
     "output_type": "stream",
     "text": [
      "df: imdb, v: dqo.estimator.gerelt.v15, cp: /Users/danieldubovski/projects/deep_query_optimization/dqo/estimator/gerelt/v15/logs/all/version_1/checkpoints/epoch=20-step=1588670.ckpt :: accuracy: 0.38922155688622756, mae: 11.319850289645547, f1: 0.3471693444839483\n"
     ]
    },
    {
     "name": "stderr",
     "output_type": "stream",
     "text": [
      "100%|██████████| 167/167 [01:08<00:00,  2.43it/s]\n"
     ]
    },
    {
     "name": "stdout",
     "output_type": "stream",
     "text": [
      "df: imdb, v: dqo.estimator.gerelt.v15, cp: /Users/danieldubovski/projects/deep_query_optimization/dqo/estimator/gerelt/v15/logs/all/version_1/checkpoints/epoch=29-step=2269529.ckpt :: accuracy: 0.39520958083832336, mae: 10.731054709582008, f1: 0.3519543791963773\n"
     ]
    },
    {
     "name": "stderr",
     "output_type": "stream",
     "text": [
      "100%|██████████| 167/167 [01:10<00:00,  2.38it/s]\n"
     ]
    },
    {
     "name": "stdout",
     "output_type": "stream",
     "text": [
      "df: imdb, v: dqo.estimator.gerelt.v15, cp: /Users/danieldubovski/projects/deep_query_optimization/dqo/estimator/gerelt/v15/logs/all/version_1/checkpoints/epoch=50-step=3858200.ckpt :: accuracy: 0.4491017964071856, mae: 10.219065660082912, f1: 0.40248704931775897\n"
     ]
    },
    {
     "name": "stderr",
     "output_type": "stream",
     "text": [
      "100%|██████████| 167/167 [01:03<00:00,  2.61it/s]\n"
     ]
    },
    {
     "name": "stdout",
     "output_type": "stream",
     "text": [
      "df: imdb, v: dqo.estimator.gerelt.v15, cp: /Users/danieldubovski/projects/deep_query_optimization/dqo/estimator/gerelt/v15/logs/all/version_1/checkpoints/epoch=51-step=3933851.ckpt :: accuracy: 0.46107784431137727, mae: 10.291060824700727, f1: 0.42044949625669054\n"
     ]
    },
    {
     "name": "stderr",
     "output_type": "stream",
     "text": [
      "100%|██████████| 167/167 [01:05<00:00,  2.57it/s]\n"
     ]
    },
    {
     "name": "stdout",
     "output_type": "stream",
     "text": [
      "df: imdb, v: dqo.estimator.gerelt.v15, cp: /Users/danieldubovski/projects/deep_query_optimization/dqo/estimator/gerelt/v15/logs/all/version_1/checkpoints/epoch=71-step=5446871.ckpt :: accuracy: 0.4491017964071856, mae: 10.517166039335981, f1: 0.40447732534487146\n"
     ]
    },
    {
     "name": "stderr",
     "output_type": "stream",
     "text": [
      "100%|██████████| 636/636 [04:57<00:00,  2.14it/s]\n"
     ]
    },
    {
     "name": "stdout",
     "output_type": "stream",
     "text": [
      "df: tpcds, v: dqo.estimator.gerelt.v15, cp: /Users/danieldubovski/projects/deep_query_optimization/dqo/estimator/gerelt/v15/logs/all/version_1/checkpoints/epoch=0-step=75650.ckpt :: accuracy: 0.2830188679245283, mae: 21.81968040023087, f1: 0.17917967099921314\n"
     ]
    },
    {
     "name": "stderr",
     "output_type": "stream",
     "text": [
      "100%|██████████| 636/636 [05:01<00:00,  2.11it/s]\n"
     ]
    },
    {
     "name": "stdout",
     "output_type": "stream",
     "text": [
      "df: tpcds, v: dqo.estimator.gerelt.v15, cp: /Users/danieldubovski/projects/deep_query_optimization/dqo/estimator/gerelt/v15/logs/all/version_1/checkpoints/epoch=5-step=453905.ckpt :: accuracy: 0.470125786163522, mae: 13.155230788582255, f1: 0.39382069814323645\n"
     ]
    },
    {
     "name": "stderr",
     "output_type": "stream",
     "text": [
      "100%|██████████| 636/636 [05:11<00:00,  2.04it/s]\n"
     ]
    },
    {
     "name": "stdout",
     "output_type": "stream",
     "text": [
      "df: tpcds, v: dqo.estimator.gerelt.v15, cp: /Users/danieldubovski/projects/deep_query_optimization/dqo/estimator/gerelt/v15/logs/all/version_1/checkpoints/epoch=10-step=832160.ckpt :: accuracy: 0.5251572327044025, mae: 10.329406719402096, f1: 0.45462279317639015\n"
     ]
    },
    {
     "name": "stderr",
     "output_type": "stream",
     "text": [
      "100%|██████████| 636/636 [05:13<00:00,  2.03it/s]\n"
     ]
    },
    {
     "name": "stdout",
     "output_type": "stream",
     "text": [
      "df: tpcds, v: dqo.estimator.gerelt.v15, cp: /Users/danieldubovski/projects/deep_query_optimization/dqo/estimator/gerelt/v15/logs/all/version_1/checkpoints/epoch=15-step=1210415.ckpt :: accuracy: 0.5330188679245284, mae: 9.993008709306899, f1: 0.47316311079597234\n"
     ]
    },
    {
     "name": "stderr",
     "output_type": "stream",
     "text": [
      "100%|██████████| 636/636 [05:08<00:00,  2.06it/s]\n"
     ]
    },
    {
     "name": "stdout",
     "output_type": "stream",
     "text": [
      "df: tpcds, v: dqo.estimator.gerelt.v15, cp: /Users/danieldubovski/projects/deep_query_optimization/dqo/estimator/gerelt/v15/logs/all/version_1/checkpoints/epoch=20-step=1588670.ckpt :: accuracy: 0.5440251572327044, mae: 9.675999319933563, f1: 0.4598181226007687\n"
     ]
    },
    {
     "name": "stderr",
     "output_type": "stream",
     "text": [
      "100%|██████████| 636/636 [05:00<00:00,  2.11it/s]\n"
     ]
    },
    {
     "name": "stdout",
     "output_type": "stream",
     "text": [
      "df: tpcds, v: dqo.estimator.gerelt.v15, cp: /Users/danieldubovski/projects/deep_query_optimization/dqo/estimator/gerelt/v15/logs/all/version_1/checkpoints/epoch=29-step=2269529.ckpt :: accuracy: 0.5487421383647799, mae: 9.140174708121945, f1: 0.48368127157292357\n"
     ]
    },
    {
     "name": "stderr",
     "output_type": "stream",
     "text": [
      "100%|██████████| 636/636 [04:52<00:00,  2.17it/s]\n"
     ]
    },
    {
     "name": "stdout",
     "output_type": "stream",
     "text": [
      "df: tpcds, v: dqo.estimator.gerelt.v15, cp: /Users/danieldubovski/projects/deep_query_optimization/dqo/estimator/gerelt/v15/logs/all/version_1/checkpoints/epoch=50-step=3858200.ckpt :: accuracy: 0.5801886792452831, mae: 8.69981246654169, f1: 0.5093733861166193\n"
     ]
    },
    {
     "name": "stderr",
     "output_type": "stream",
     "text": [
      "100%|██████████| 636/636 [04:51<00:00,  2.18it/s]\n"
     ]
    },
    {
     "name": "stdout",
     "output_type": "stream",
     "text": [
      "df: tpcds, v: dqo.estimator.gerelt.v15, cp: /Users/danieldubovski/projects/deep_query_optimization/dqo/estimator/gerelt/v15/logs/all/version_1/checkpoints/epoch=51-step=3933851.ckpt :: accuracy: 0.5833333333333334, mae: 9.185986011294231, f1: 0.5216329432211845\n"
     ]
    },
    {
     "name": "stderr",
     "output_type": "stream",
     "text": [
      "100%|██████████| 636/636 [04:54<00:00,  2.16it/s]\n"
     ]
    },
    {
     "name": "stdout",
     "output_type": "stream",
     "text": [
      "df: tpcds, v: dqo.estimator.gerelt.v15, cp: /Users/danieldubovski/projects/deep_query_optimization/dqo/estimator/gerelt/v15/logs/all/version_1/checkpoints/epoch=71-step=5446871.ckpt :: accuracy: 0.5927672955974843, mae: 8.249219491993207, f1: 0.5412748511238515\n"
     ]
    },
    {
     "name": "stderr",
     "output_type": "stream",
     "text": [
      "100%|██████████| 343/343 [01:48<00:00,  3.17it/s]\n"
     ]
    },
    {
     "name": "stdout",
     "output_type": "stream",
     "text": [
      "df: tpcd, v: dqo.estimator.gerelt.v15, cp: /Users/danieldubovski/projects/deep_query_optimization/dqo/estimator/gerelt/v15/logs/all/version_1/checkpoints/epoch=0-step=75650.ckpt :: accuracy: 0.13702623906705538, mae: 24.121869217044406, f1: 0.0657210074868162\n"
     ]
    },
    {
     "name": "stderr",
     "output_type": "stream",
     "text": [
      "100%|██████████| 343/343 [01:49<00:00,  3.14it/s]\n"
     ]
    },
    {
     "name": "stdout",
     "output_type": "stream",
     "text": [
      "df: tpcd, v: dqo.estimator.gerelt.v15, cp: /Users/danieldubovski/projects/deep_query_optimization/dqo/estimator/gerelt/v15/logs/all/version_1/checkpoints/epoch=5-step=453905.ckpt :: accuracy: 0.15160349854227406, mae: 23.913970488224386, f1: 0.08577641170907951\n"
     ]
    },
    {
     "name": "stderr",
     "output_type": "stream",
     "text": [
      "100%|██████████| 343/343 [01:47<00:00,  3.20it/s]\n"
     ]
    },
    {
     "name": "stdout",
     "output_type": "stream",
     "text": [
      "df: tpcd, v: dqo.estimator.gerelt.v15, cp: /Users/danieldubovski/projects/deep_query_optimization/dqo/estimator/gerelt/v15/logs/all/version_1/checkpoints/epoch=10-step=832160.ckpt :: accuracy: 0.15160349854227406, mae: 23.66053764133532, f1: 0.09665608050909563\n"
     ]
    },
    {
     "name": "stderr",
     "output_type": "stream",
     "text": [
      "100%|██████████| 343/343 [01:40<00:00,  3.42it/s]\n"
     ]
    },
    {
     "name": "stdout",
     "output_type": "stream",
     "text": [
      "df: tpcd, v: dqo.estimator.gerelt.v15, cp: /Users/danieldubovski/projects/deep_query_optimization/dqo/estimator/gerelt/v15/logs/all/version_1/checkpoints/epoch=15-step=1210415.ckpt :: accuracy: 0.1749271137026239, mae: 23.20882984371824, f1: 0.1036403123101719\n"
     ]
    },
    {
     "name": "stderr",
     "output_type": "stream",
     "text": [
      "100%|██████████| 343/343 [01:43<00:00,  3.32it/s]\n"
     ]
    },
    {
     "name": "stdout",
     "output_type": "stream",
     "text": [
      "df: tpcd, v: dqo.estimator.gerelt.v15, cp: /Users/danieldubovski/projects/deep_query_optimization/dqo/estimator/gerelt/v15/logs/all/version_1/checkpoints/epoch=20-step=1588670.ckpt :: accuracy: 0.16326530612244897, mae: 23.36670345802636, f1: 0.09770203453584747\n"
     ]
    },
    {
     "name": "stderr",
     "output_type": "stream",
     "text": [
      "100%|██████████| 343/343 [01:43<00:00,  3.32it/s]\n"
     ]
    },
    {
     "name": "stdout",
     "output_type": "stream",
     "text": [
      "df: tpcd, v: dqo.estimator.gerelt.v15, cp: /Users/danieldubovski/projects/deep_query_optimization/dqo/estimator/gerelt/v15/logs/all/version_1/checkpoints/epoch=29-step=2269529.ckpt :: accuracy: 0.17201166180758018, mae: 23.137167056454672, f1: 0.11761129001762953\n"
     ]
    },
    {
     "name": "stderr",
     "output_type": "stream",
     "text": [
      "100%|██████████| 343/343 [01:55<00:00,  2.97it/s]\n"
     ]
    },
    {
     "name": "stdout",
     "output_type": "stream",
     "text": [
      "df: tpcd, v: dqo.estimator.gerelt.v15, cp: /Users/danieldubovski/projects/deep_query_optimization/dqo/estimator/gerelt/v15/logs/all/version_1/checkpoints/epoch=50-step=3858200.ckpt :: accuracy: 0.15160349854227406, mae: 24.140840182811132, f1: 0.09184120630010636\n"
     ]
    },
    {
     "name": "stderr",
     "output_type": "stream",
     "text": [
      "100%|██████████| 343/343 [01:58<00:00,  2.90it/s]\n"
     ]
    },
    {
     "name": "stdout",
     "output_type": "stream",
     "text": [
      "df: tpcd, v: dqo.estimator.gerelt.v15, cp: /Users/danieldubovski/projects/deep_query_optimization/dqo/estimator/gerelt/v15/logs/all/version_1/checkpoints/epoch=51-step=3933851.ckpt :: accuracy: 0.1749271137026239, mae: 23.894008278645174, f1: 0.11995888048329736\n"
     ]
    },
    {
     "name": "stderr",
     "output_type": "stream",
     "text": [
      "100%|██████████| 343/343 [02:08<00:00,  2.68it/s]\n"
     ]
    },
    {
     "name": "stdout",
     "output_type": "stream",
     "text": [
      "df: tpcd, v: dqo.estimator.gerelt.v15, cp: /Users/danieldubovski/projects/deep_query_optimization/dqo/estimator/gerelt/v15/logs/all/version_1/checkpoints/epoch=71-step=5446871.ckpt :: accuracy: 0.16326530612244897, mae: 23.697218825279233, f1: 0.10617152124246229\n"
     ]
    }
   ],
   "source": [
    "r = evl.inspect_version(gerelt15, 'all', ['tpch', 'imdb', 'tpcds', 'tpcd'])"
   ]
  },
  {
   "cell_type": "code",
   "execution_count": 9,
   "metadata": {},
   "outputs": [
    {
     "data": {
      "text/plain": [
       "<AxesSubplot:xlabel='epoch', ylabel='accuracy'>"
      ]
     },
     "execution_count": 9,
     "metadata": {},
     "output_type": "execute_result"
    },
    {
     "data": {
      "image/png": "[encoded data removed]",
      "text/plain": [
       "<Figure size 432x288 with 1 Axes>"
      ]
     },
     "metadata": {
      "needs_background": "light"
     },
     "output_type": "display_data"
    }
   ],
   "source": [
    "sns.lineplot(data=r[0],x='epoch',y='accuracy',hue='tested_on')"
   ]
  },
  {
   "cell_type": "code",
   "execution_count": 10,
   "metadata": {},
   "outputs": [
    {
     "data": {
      "text/plain": [
       "<AxesSubplot:xlabel='epoch', ylabel='mae'>"
      ]
     },
     "execution_count": 10,
     "metadata": {},
     "output_type": "execute_result"
    },
    {
     "data": {
      "image/png": "[encoded data removed]",
      "text/plain": [
       "<Figure size 432x288 with 1 Axes>"
      ]
     },
     "metadata": {
      "needs_background": "light"
     },
     "output_type": "display_data"
    }
   ],
   "source": [
    "sns.lineplot(data=r[0],x='epoch',y='mae',hue='tested_on')"
   ]
  },
  {
   "cell_type": "code",
   "execution_count": 3,
   "metadata": {},
   "outputs": [
    {
     "name": "stderr",
     "output_type": "stream",
     "text": [
      "100%|██████████| 636/636 [04:46<00:00,  2.22it/s]\n"
     ]
    },
    {
     "name": "stdout",
     "output_type": "stream",
     "text": [
      "df: tpcds, v: dqo.estimator.gerelt.v15, cp: /Users/danieldubovski/projects/deep_query_optimization/dqo/estimator/gerelt/v15/logs/tpch/version_1/checkpoints/epoch=149-step=2454599.ckpt :: accuracy: 0.11477987421383648, mae: 26.548151889136093, f1: 0.07302878693521593\n"
     ]
    },
    {
     "name": "stderr",
     "output_type": "stream",
     "text": [
      "100%|██████████| 343/343 [01:37<00:00,  3.52it/s]\n"
     ]
    },
    {
     "name": "stdout",
     "output_type": "stream",
     "text": [
      "df: tpcd, v: dqo.estimator.gerelt.v15, cp: /Users/danieldubovski/projects/deep_query_optimization/dqo/estimator/gerelt/v15/logs/tpch/version_1/checkpoints/epoch=9-step=163639.ckpt :: accuracy: 0.13702623906705538, mae: 21.54362363221501, f1: 0.07733325835694585\n"
     ]
    },
    {
     "name": "stderr",
     "output_type": "stream",
     "text": [
      "100%|██████████| 343/343 [01:36<00:00,  3.54it/s]\n"
     ]
    },
    {
     "name": "stdout",
     "output_type": "stream",
     "text": [
      "df: tpcd, v: dqo.estimator.gerelt.v15, cp: /Users/danieldubovski/projects/deep_query_optimization/dqo/estimator/gerelt/v15/logs/tpch/version_1/checkpoints/epoch=19-step=327279.ckpt :: accuracy: 0.16909620991253643, mae: 22.735422035958827, f1: 0.10594336428539505\n"
     ]
    },
    {
     "name": "stderr",
     "output_type": "stream",
     "text": [
      "100%|██████████| 343/343 [01:37<00:00,  3.53it/s]\n"
     ]
    },
    {
     "name": "stdout",
     "output_type": "stream",
     "text": [
      "df: tpcd, v: dqo.estimator.gerelt.v15, cp: /Users/danieldubovski/projects/deep_query_optimization/dqo/estimator/gerelt/v15/logs/tpch/version_1/checkpoints/epoch=29-step=490919.ckpt :: accuracy: 0.13994169096209913, mae: 23.778556964496612, f1: 0.07615785563207514\n"
     ]
    },
    {
     "name": "stderr",
     "output_type": "stream",
     "text": [
      "100%|██████████| 343/343 [01:37<00:00,  3.53it/s]\n"
     ]
    },
    {
     "name": "stdout",
     "output_type": "stream",
     "text": [
      "df: tpcd, v: dqo.estimator.gerelt.v15, cp: /Users/danieldubovski/projects/deep_query_optimization/dqo/estimator/gerelt/v15/logs/tpch/version_1/checkpoints/epoch=39-step=654559.ckpt :: accuracy: 0.16034985422740525, mae: 21.27506541246541, f1: 0.10471444038073377\n"
     ]
    },
    {
     "name": "stderr",
     "output_type": "stream",
     "text": [
      "100%|██████████| 343/343 [01:36<00:00,  3.54it/s]\n"
     ]
    },
    {
     "name": "stdout",
     "output_type": "stream",
     "text": [
      "df: tpcd, v: dqo.estimator.gerelt.v15, cp: /Users/danieldubovski/projects/deep_query_optimization/dqo/estimator/gerelt/v15/logs/tpch/version_1/checkpoints/epoch=49-step=818199.ckpt :: accuracy: 0.15743440233236153, mae: 22.537814796160482, f1: 0.0988291865045901\n"
     ]
    },
    {
     "name": "stderr",
     "output_type": "stream",
     "text": [
      "100%|██████████| 343/343 [01:37<00:00,  3.53it/s]\n",
      "/usr/local/anaconda3/envs/py37/lib/python3.7/site-packages/sklearn/metrics/_classification.py:1814: UserWarning: y_pred contains classes not in y_true\n",
      "  warnings.warn('y_pred contains classes not in y_true')\n"
     ]
    },
    {
     "name": "stdout",
     "output_type": "stream",
     "text": [
      "df: tpcd, v: dqo.estimator.gerelt.v15, cp: /Users/danieldubovski/projects/deep_query_optimization/dqo/estimator/gerelt/v15/logs/tpch/version_1/checkpoints/epoch=109-step=1800039.ckpt :: accuracy: 0.17784256559766765, mae: 20.18817901519522, f1: 0.11578984988245447\n"
     ]
    },
    {
     "name": "stderr",
     "output_type": "stream",
     "text": [
      "100%|██████████| 343/343 [01:36<00:00,  3.54it/s]\n"
     ]
    },
    {
     "name": "stdout",
     "output_type": "stream",
     "text": [
      "df: tpcd, v: dqo.estimator.gerelt.v15, cp: /Users/danieldubovski/projects/deep_query_optimization/dqo/estimator/gerelt/v15/logs/tpch/version_1/checkpoints/epoch=139-step=2290959.ckpt :: accuracy: 0.18950437317784258, mae: 19.692749041242994, f1: 0.1383430223618961\n"
     ]
    },
    {
     "name": "stderr",
     "output_type": "stream",
     "text": [
      "100%|██████████| 343/343 [01:36<00:00,  3.54it/s]"
     ]
    },
    {
     "name": "stdout",
     "output_type": "stream",
     "text": [
      "df: tpcd, v: dqo.estimator.gerelt.v15, cp: /Users/danieldubovski/projects/deep_query_optimization/dqo/estimator/gerelt/v15/logs/tpch/version_1/checkpoints/epoch=149-step=2454599.ckpt :: accuracy: 0.1924198250728863, mae: 20.193928379342367, f1: 0.14330240055862015\n"
     ]
    },
    {
     "name": "stderr",
     "output_type": "stream",
     "text": [
      "\n"
     ]
    }
   ],
   "source": [
    "r2 = evl.inspect_version(gerelt15, 'tpch', ['tpch', 'imdb', 'tpcds', 'tpcd'])"
   ]
  },
  {
   "cell_type": "code",
   "execution_count": 5,
   "metadata": {},
   "outputs": [
    {
     "data": {
      "text/plain": [
       "<AxesSubplot:xlabel='epoch', ylabel='accuracy'>"
      ]
     },
     "execution_count": 5,
     "metadata": {},
     "output_type": "execute_result"
    },
    {
     "data": {
      "image/png": "[encoded data removed]",
      "text/plain": [
       "<Figure size 432x288 with 1 Axes>"
      ]
     },
     "metadata": {
      "needs_background": "light"
     },
     "output_type": "display_data"
    }
   ],
   "source": [
    "sns.lineplot(data=r2[0],x='epoch',y='accuracy',hue='tested_on')"
   ]
  },
  {
   "cell_type": "code",
   "execution_count": 11,
   "metadata": {},
   "outputs": [
    {
     "data": {
      "text/plain": [
       "<AxesSubplot:xlabel='epoch', ylabel='mae'>"
      ]
     },
     "execution_count": 11,
     "metadata": {},
     "output_type": "execute_result"
    },
    {
     "data": {
      "image/png": "[encoded data removed]",
      "text/plain": [
       "<Figure size 432x288 with 1 Axes>"
      ]
     },
     "metadata": {
      "needs_background": "light"
     },
     "output_type": "display_data"
    }
   ],
   "source": [
    "sns.lineplot(data=r2[0],x='epoch',y='mae',hue='tested_on')"
   ]
  },
  {
   "cell_type": "code",
   "execution_count": null,
   "metadata": {},
   "outputs": [],
   "source": []
  }
 ],
 "metadata": {
  "kernelspec": {
   "display_name": "py37",
   "language": "python",
   "name": "py37"
  },
  "language_info": {
   "codemirror_mode": {
    "name": "ipython",
    "version": 3
   },
   "file_extension": ".py",
   "mimetype": "text/x-python",
   "name": "python",
   "nbconvert_exporter": "python",
   "pygments_lexer": "ipython3",
   "version": "3.7.7"
  }
 },
 "nbformat": 4,
 "nbformat_minor": 4
}
