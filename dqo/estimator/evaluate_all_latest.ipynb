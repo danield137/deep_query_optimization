{
 "cells": [
  {
   "cell_type": "code",
   "execution_count": 23,
   "metadata": {},
   "outputs": [
    {
     "name": "stdout",
     "output_type": "stream",
     "text": [
      "module://ipykernel.pylab.backend_inline\n"
     ]
    },
    {
     "name": "stderr",
     "output_type": "stream",
     "text": [
      "/usr/local/anaconda3/envs/py37/lib/python3.7/site-packages/ipykernel_launcher.py:13: FutureWarning: The Panel class is removed from pandas. Accessing it from the top-level namespace will also be removed in the next version\n",
      "  del sys.path[0]\n"
     ]
    }
   ],
   "source": [
    "root_path = \"/Users/danieldubovski/projects/deep_query_optimization\"\n",
    "\n",
    "import sys\n",
    "import os\n",
    "sys.path.insert(0, root_path)\n",
    "\n",
    "import matplotlib as mpl\n",
    "\n",
    "plt_backend = mpl.get_backend()\n",
    "print(plt_backend)\n",
    "from matplotlib import pyplot as plt\n",
    "import pandas as pd\n",
    "from pandas import Panel\n",
    "import numpy as np\n",
    "import pytorch_lightning as pl\n",
    "import torch\n",
    "from importlib import reload \n",
    "from tqdm.auto import tqdm\n",
    "from collections import Counter\n",
    "import sklearn\n",
    "import seaborn as sns\n",
    "from sklearn import metrics as skm\n",
    "import json\n",
    "\n",
    "from dqo.estimator import evaluate as evl\n",
    "\n",
    "from dqo.estimator.gerelt import v2 as gerelt2, v15 as gerelt15, v20 as gerelt20, v21 as gerelt21\n",
    "from dqo.estimator.greq import v3 as greq\n",
    "from dqo.estimator.relcnn import v1 as relcnn\n",
    "from dqo.estimator.treelstm import v2 as treelstm\n",
    "from dqo.estimator.others.neo import v1 as neo\n",
    "from dqo import datasets\n",
    "\n",
    "mpl.use(plt_backend)"
   ]
  },
  {
   "cell_type": "code",
   "execution_count": 15,
   "metadata": {},
   "outputs": [
    {
     "data": {
      "text/plain": [
       "<module 'dqo.estimator.evaluate' from '/Users/danieldubovski/projects/deep_query_optimization/dqo/estimator/evaluate.py'>"
      ]
     },
     "execution_count": 15,
     "metadata": {},
     "output_type": "execute_result"
    }
   ],
   "source": [
    "import importlib \n",
    "importlib.reload(evl)"
   ]
  },
  {
   "cell_type": "code",
   "execution_count": null,
   "metadata": {},
   "outputs": [],
   "source": [
    "ssummary_df, sresults_df = evl.compare_versions(versions=[gerelt15,gerelt21], trained_on=['all', 'tpch'], test_on=['tpch', 'tpcds', 'tpcd', 'imdb'],bucketed=False, search_best_cp=True)"
   ]
  },
  {
   "cell_type": "code",
   "execution_count": null,
   "metadata": {},
   "outputs": [],
   "source": [
    "bsummary_df, bresults_df = evl.compare_versions(versions=[gerelt15,gerelt21], trained_on=['all','tpch'], test_on=['tpch', 'tpcds', 'tpcd', 'imdb'],bucketed=True)"
   ]
  },
  {
   "cell_type": "code",
   "execution_count": 30,
   "metadata": {},
   "outputs": [],
   "source": [
    "ssummary_df.to_csv('15vs21.csv', index=False)"
   ]
  },
  {
   "cell_type": "code",
   "execution_count": null,
   "metadata": {},
   "outputs": [],
   "source": [
    "bresults_df.to_csv('r.csv', index=False)"
   ]
  },
  {
   "cell_type": "code",
   "execution_count": null,
   "metadata": {},
   "outputs": [],
   "source": [
    "bresults_df.keys()"
   ]
  },
  {
   "cell_type": "code",
   "execution_count": null,
   "metadata": {},
   "outputs": [],
   "source": [
    "evl.display_best_binary(bresults_df['three_dqo.estimator.gerelt.v15_tpch']), evl.display_best_binary(bresults_df['three_dqo.estimator.gerelt.v15_tpcd'])"
   ]
  },
  {
   "cell_type": "code",
   "execution_count": null,
   "metadata": {},
   "outputs": [],
   "source": [
    "evl.display_best_binary(sresults_df['all_dqo.estimator.gerelt.v15_tpch'])"
   ]
  },
  {
   "cell_type": "code",
   "execution_count": null,
   "metadata": {},
   "outputs": [],
   "source": [
    "evl.display_results(sresults_df['all_dqo.estimator.gerelt.v15_imdb'])"
   ]
  },
  {
   "cell_type": "code",
   "execution_count": null,
   "metadata": {},
   "outputs": [],
   "source": [
    "evl.display_results(sresults_df['all_dqo.estimator.gerelt.v15_tpcd'])"
   ]
  },
  {
   "cell_type": "code",
   "execution_count": null,
   "metadata": {},
   "outputs": [],
   "source": [
    "evl.display_results(sresults_df['all_dqo.estimator.gerelt.v15_tpcd'])"
   ]
  },
  {
   "cell_type": "code",
   "execution_count": null,
   "metadata": {},
   "outputs": [],
   "source": [
    "2 ** 7"
   ]
  },
  {
   "cell_type": "markdown",
   "metadata": {},
   "source": [
    "# Trained on tpch"
   ]
  },
  {
   "cell_type": "code",
   "execution_count": null,
   "metadata": {},
   "outputs": [],
   "source": [
    "summary_df, results_df = evl.compare_versions(versions=[gerelt15], trained_on=['tpch'], test_on=['tpch'])"
   ]
  },
  {
   "cell_type": "code",
   "execution_count": null,
   "metadata": {},
   "outputs": [],
   "source": [
    "summary_df, results_df = evl.compare_versions(versions=[neo, greq, relcnn, treelstm,gerelt2 ,gerelt15], trained_on=['tpch'], test_on=['tpch'])"
   ]
  },
  {
   "cell_type": "code",
   "execution_count": null,
   "metadata": {},
   "outputs": [],
   "source": [
    "summary_df.to_csv('model_types_tpch_latest.csv', index=False)"
   ]
  },
  {
   "cell_type": "code",
   "execution_count": null,
   "metadata": {},
   "outputs": [],
   "source": [
    "summary_df, results_df = evl.compare_versions(versions=[neo, greq, relcnn, treelstm,gerelt2,gerelt15], trained_on=['tpch'], test_on=['tpch'], bucketed=False)\n",
    "summary_df.to_csv('stratified_model_types_tpch_latest.csv', index=False)"
   ]
  },
  {
   "cell_type": "markdown",
   "metadata": {},
   "source": [
    "# Generlize"
   ]
  },
  {
   "cell_type": "code",
   "execution_count": null,
   "metadata": {},
   "outputs": [],
   "source": [
    "summary_df, results_df = evl.compare_versions(versions=[greq, relcnn, treelstm,gerelt2, gerelt15], trained_on=['tpch', 'aug', 'all'], test_on=['tpch', 'tpcd', 'tpcds', 'imdb'])"
   ]
  },
  {
   "cell_type": "code",
   "execution_count": 11,
   "metadata": {},
   "outputs": [],
   "source": [
    "summary_df.to_csv('gen_model_types_latest.csv', index=False)"
   ]
  },
  {
   "cell_type": "code",
   "execution_count": null,
   "metadata": {},
   "outputs": [],
   "source": [
    "summary_df, results_df = evl.compare_versions(versions=[greq, relcnn, treelstm, gerelt2, gerelt15], trained_on=['tpch', 'aug', 'all'], test_on=['tpch', 'tpcd', 'tpcds', 'imdb'], bucketed=False)"
   ]
  },
  {
   "cell_type": "code",
   "execution_count": 13,
   "metadata": {},
   "outputs": [],
   "source": [
    "summary_df.to_csv('stratified_gen_model_types_latest.csv', index=False)"
   ]
  },
  {
   "cell_type": "code",
   "execution_count": null,
   "metadata": {},
   "outputs": [],
   "source": []
  },
  {
   "cell_type": "markdown",
   "metadata": {},
   "source": [
    "---"
   ]
  },
  {
   "cell_type": "code",
   "execution_count": 20,
   "metadata": {},
   "outputs": [],
   "source": [
    "gen_models = pd.read_csv('gen_model_types_latest.csv')\n",
    "stratified_gen_model_types_latest = pd.read_csv('stratified_gen_model_types_latest.csv')"
   ]
  },
  {
   "cell_type": "code",
   "execution_count": 22,
   "metadata": {},
   "outputs": [
    {
     "data": {
      "text/plain": [
       "Index(['trained_on', 'tested_on', 'version', 'arch', 'epoch', 'accuracy',\n",
       "       'balanced accuracy', 'recall', 'f1 weighted', 'mae',\n",
       "       'mean_rounded_two_sided_error', 'bucket_accuracy', 'bucket_accuracy.1',\n",
       "       'values', 'description'],\n",
       "      dtype='object')"
      ]
     },
     "execution_count": 22,
     "metadata": {},
     "output_type": "execute_result"
    }
   ],
   "source": [
    "gen_models.keys()"
   ]
  },
  {
   "cell_type": "code",
   "execution_count": null,
   "metadata": {},
   "outputs": [],
   "source": [
    "gen_models, stratified_gen_model_types_latest"
   ]
  },
  {
   "cell_type": "code",
   "execution_count": null,
   "metadata": {},
   "outputs": [],
   "source": []
  }
 ],
 "metadata": {
  "kernelspec": {
   "display_name": "py37",
   "language": "python",
   "name": "py37"
  },
  "language_info": {
   "codemirror_mode": {
    "name": "ipython",
    "version": 3
   },
   "file_extension": ".py",
   "mimetype": "text/x-python",
   "name": "python",
   "nbconvert_exporter": "python",
   "pygments_lexer": "ipython3",
   "version": "3.7.7"
  }
 },
 "nbformat": 4,
 "nbformat_minor": 4
}
