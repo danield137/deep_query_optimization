{
 "cells": [
  {
   "cell_type": "code",
   "execution_count": 21,
   "metadata": {},
   "outputs": [],
   "source": [
    "root_path = \"/Users/danieldubovski/projects/deep_query_optimization\"\n",
    "\n",
    "import sys\n",
    "sys.path.insert(0, root_path)"
   ]
  },
  {
   "cell_type": "code",
   "execution_count": 22,
   "metadata": {},
   "outputs": [
    {
     "name": "stdout",
     "output_type": "stream",
     "text": [
      "module://ipykernel.pylab.backend_inline\n"
     ]
    },
    {
     "name": "stderr",
     "output_type": "stream",
     "text": [
      "/usr/local/anaconda3/envs/py37/lib/python3.7/site-packages/ipykernel_launcher.py:6: FutureWarning: The Panel class is removed from pandas. Accessing it from the top-level namespace will also be removed in the next version\n",
      "  \n"
     ]
    }
   ],
   "source": [
    "import matplotlib as mpl\n",
    "plt_backend = mpl.get_backend()\n",
    "print(plt_backend)\n",
    "from matplotlib import pyplot as plt\n",
    "import pandas as pd\n",
    "from pandas import Panel\n",
    "import numpy as np\n",
    "import pytorch_lightning as pl\n",
    "import torch\n",
    "from importlib import reload \n",
    "from tqdm.auto import tqdm\n",
    "\n",
    "import sklearn\n",
    "import seaborn as sns\n",
    "import sklearn.metrics\n",
    "\n",
    "from dqo.estimator.greq.regressor_v2.data_module import QueriesDataModule\n",
    "from dqo.estimator.greq.regressor_v2.model import GREQRegressor\n",
    "from dqo.datasets import QueriesDataset\n",
    "\n",
    "mpl.use(plt_backend)"
   ]
  },
  {
   "cell_type": "code",
   "execution_count": 23,
   "metadata": {},
   "outputs": [
    {
     "name": "stdout",
     "output_type": "stream",
     "text": [
      "/Users/danieldubovski/projects/deep_query_optimization/dqo/estimator/greq/regressor_v2\n"
     ]
    },
    {
     "data": {
      "text/plain": [
       "'/Users/danieldubovski/projects/deep_query_optimization/dqo/estimator/greq/regressor_v2/logs/default/version_14/checkpoints/epoch=236.ckpt'"
      ]
     },
     "execution_count": 23,
     "metadata": {},
     "output_type": "execute_result"
    }
   ],
   "source": [
    "import os\n",
    "print(os.getcwd())\n",
    "checkpoint_path = os.path.join(os.getcwd(), 'logs/default/version_14/checkpoints/epoch=236.ckpt')\n",
    "checkpoint_path"
   ]
  },
  {
   "cell_type": "code",
   "execution_count": 24,
   "metadata": {},
   "outputs": [
    {
     "name": "stderr",
     "output_type": "stream",
     "text": [
      "2020-09-16 21:19:32,728 | dqo.datasets | INFO | Reading data from /Users/danieldubovski/projects/deep_query_optimization/dqo/datasets/imdb/execution/resp_time_clean/runtimes/clean_part_00.csv [1/1]\n",
      "2020-09-16 21:19:33,336 | dqo.datasets | INFO | Loaded 32148 rows from /Users/danieldubovski/projects/deep_query_optimization/dqo/datasets/imdb/execution/resp_time_clean/runtimes/clean_part_00.csv [1/1]\n",
      "2020-09-16 21:19:33,859 | dqo.datasets | INFO | Reading data from /Users/danieldubovski/projects/deep_query_optimization/dqo/datasets/tpch/execution/exec_time_clean/runtimes/clean_01.csv [1/1]\n",
      "2020-09-16 21:19:34,704 | dqo.datasets | INFO | Loaded 34757 rows from /Users/danieldubovski/projects/deep_query_optimization/dqo/datasets/tpch/execution/exec_time_clean/runtimes/clean_01.csv [1/1]\n"
     ]
    }
   ],
   "source": [
    "dm = QueriesDataModule(['imdb:resp_time_clean', 'tpch:exec_time_clean'])\n",
    "dm.prepare_data()\n",
    "dm.setup()"
   ]
  },
  {
   "cell_type": "code",
   "execution_count": 25,
   "metadata": {},
   "outputs": [
    {
     "data": {
      "text/plain": [
       "22"
      ]
     },
     "execution_count": 25,
     "metadata": {},
     "output_type": "execute_result"
    }
   ],
   "source": [
    "len(dm.ds.df[dm.ds.df.runtime > 500])"
   ]
  },
  {
   "cell_type": "code",
   "execution_count": 7,
   "metadata": {},
   "outputs": [],
   "source": [
    "runtimes = np.array(runtimes)"
   ]
  },
  {
   "cell_type": "code",
   "execution_count": 11,
   "metadata": {},
   "outputs": [
    {
     "data": {
      "text/plain": [
       "DescribeResult(nobs=93444, minmax=(0.5001119738646997, 8.717346266022936), mean=4.2064152952602765, variance=5.077606865821641, skewness=0.30748704238185215, kurtosis=-0.9687195258570513)"
      ]
     },
     "execution_count": 11,
     "metadata": {},
     "output_type": "execute_result"
    }
   ],
   "source": [
    "import scipy.stats\n",
    "scipy.stats.describe(runtimes)"
   ]
  },
  {
   "cell_type": "code",
   "execution_count": 246,
   "metadata": {},
   "outputs": [],
   "source": [
    "def load_pretrained_model(checkpoint_path):\n",
    "    torch.manual_seed(0)\n",
    "    model = GREQRegressor()\n",
    "    model.load_state_dict(torch.load(checkpoint_path, map_location=torch.device('cpu'))['state_dict'])\n",
    "    model.eval()\n",
    "    \n",
    "    return model"
   ]
  },
  {
   "cell_type": "code",
   "execution_count": 247,
   "metadata": {},
   "outputs": [],
   "source": [
    "from dqo.estimator.greq import gerelt_encoder as encoder\n",
    "class QueryEstimater:\n",
    "    def __init__(self, db_schema, model_checkpoint):\n",
    "        self.db_schema = db_schema\n",
    "        self.model = load_pretrained_model(model_checkpoint)\n",
    "        \n",
    "    def predict_query(self, q):\n",
    "        x = encoder.encode_query(self.db_schema, q)\n",
    "        return self.predict_encoded(x)\n",
    "    \n",
    "    def predict_encoded(self, x):\n",
    "        with torch.no_grad():\n",
    "            return 2 ** self.model(x).item()\n",
    "    \n",
    "    def predict_batch(self, batch, encoded=False, total=None, lowest=None):\n",
    "        preds = []\n",
    "        with torch.no_grad():\n",
    "            for x in tqdm(batch, total=total or len(batch)):\n",
    "                pred = self.predict_encoded(x) if encoded else self.predict_query(x)\n",
    "                preds.append(max(pred, lowest) if lowest is not None else pred)\n",
    "\n",
    "        return preds"
   ]
  },
  {
   "cell_type": "code",
   "execution_count": 248,
   "metadata": {},
   "outputs": [],
   "source": [
    "def plot_log2_confusion(predictions, actual):    \n",
    "    predictions = np.array(predictions)\n",
    "    actual = np.array(actual)\n",
    "\n",
    "    predictions = np.round(np.log2(predictions)).astype(int)\n",
    "    actual = np.round(np.log2(actual)).astype(int)\n",
    "    \n",
    "    labels = list(set(list(actual)) | set(list(predictions)))\n",
    "    labels = [str(l) for l in sorted(labels)]\n",
    "    \n",
    "    conf = sklearn.metrics.confusion_matrix(predictions, actual)\n",
    "    acc = sklearn.metrics.accuracy_score(predictions, actual)\n",
    "    balanced_acc = sklearn.metrics.balanced_accuracy_score(predictions, actual, adjusted=True)\n",
    "    f1_m = sklearn.metrics.f1_score(predictions, actual, average='macro')\n",
    "    f1_w = sklearn.metrics.f1_score(predictions, actual, average='weighted')\n",
    "    sns.heatmap(conf, fmt=\"g\", annot=True, xticklabels=labels, yticklabels=labels)\n",
    "    plt.title(f'accuracy: {acc} \\n balanced_accuracy: {balanced_acc} \\n mae: {np.mean(np.abs(actual - predictions))} \\n f1 macro: {f1_m} \\n f1 weighted: {f1_w}')\n",
    "    plt.show()"
   ]
  },
  {
   "cell_type": "code",
   "execution_count": 249,
   "metadata": {},
   "outputs": [],
   "source": [
    "imdb_queries = QueriesDataset('imdb:small_uniform')"
   ]
  },
  {
   "cell_type": "code",
   "execution_count": 250,
   "metadata": {},
   "outputs": [
    {
     "name": "stderr",
     "output_type": "stream",
     "text": [
      "2020-09-09 22:32:02,193 | dqo.datasets | INFO | Reading data from /Users/danieldubovski/projects/deep_query_optimization/dqo/datasets/imdb/execution/small_uniform/runtimes/clean_augmented_part_00.csv [1/1]\n",
      "2020-09-09 22:32:03,080 | dqo.datasets | INFO | Loaded 87034 rows from /Users/danieldubovski/projects/deep_query_optimization/dqo/datasets/imdb/execution/small_uniform/runtimes/clean_augmented_part_00.csv [1/1]\n"
     ]
    }
   ],
   "source": [
    "imdb_df = imdb_queries.load()\n",
    "imdb_schema = imdb_queries.schema()"
   ]
  },
  {
   "cell_type": "code",
   "execution_count": 8,
   "metadata": {},
   "outputs": [],
   "source": [
    "imdb_estimator = QueryEstimater(imdb_schema, checkpoint_path)"
   ]
  },
  {
   "cell_type": "code",
   "execution_count": 10,
   "metadata": {},
   "outputs": [
    {
     "data": {
      "text/plain": [
       "<AxesSubplot:>"
      ]
     },
     "execution_count": 10,
     "metadata": {},
     "output_type": "execute_result"
    },
    {
     "data": {
      "image/png": "[encoded data removed]",
      "text/plain": [
       "<Figure size 432x288 with 1 Axes>"
      ]
     },
     "metadata": {
      "needs_background": "light"
     },
     "output_type": "display_data"
    }
   ],
   "source": [
    "imdb_df.groupby('runtime').head(1).plot()"
   ]
  },
  {
   "cell_type": "code",
   "execution_count": 13,
   "metadata": {},
   "outputs": [
    {
     "data": {
      "application/vnd.jupyter.widget-view+json": {
       "model_id": "3bb457860447401aa2271dbb9a47c7b1",
       "version_major": 2,
       "version_minor": 0
      },
      "text/plain": [
       "HBox(children=(FloatProgress(value=0.0, max=4921.0), HTML(value='')))"
      ]
     },
     "metadata": {},
     "output_type": "display_data"
    },
    {
     "name": "stderr",
     "output_type": "stream",
     "text": [
      "/usr/local/anaconda3/envs/py37/lib/python3.7/site-packages/torch/nn/functional.py:1614: UserWarning: nn.functional.tanh is deprecated. Use torch.tanh instead.\n",
      "  warnings.warn(\"nn.functional.tanh is deprecated. Use torch.tanh instead.\")\n"
     ]
    },
    {
     "name": "stdout",
     "output_type": "stream",
     "text": [
      "\n"
     ]
    }
   ],
   "source": [
    "imdb_distinct = imdb_df.groupby('runtime').head(1)\n",
    "y_true = list(imdb_distinct['runtime'])\n",
    "y_pred = imdb_estimator.predict_batch(list(imdb_distinct['query']))"
   ]
  },
  {
   "cell_type": "code",
   "execution_count": 242,
   "metadata": {},
   "outputs": [
    {
     "data": {
      "image/png": "[encoded data removed]",
      "text/plain": [
       "<Figure size 432x288 with 2 Axes>"
      ]
     },
     "metadata": {
      "needs_background": "light"
     },
     "output_type": "display_data"
    }
   ],
   "source": [
    "plot_log2_confusion(y_pred, y_true)"
   ]
  },
  {
   "cell_type": "code",
   "execution_count": 84,
   "metadata": {},
   "outputs": [
    {
     "name": "stderr",
     "output_type": "stream",
     "text": [
      "2020-09-05 16:11:55,932 | dqo.datasets | INFO | Reading data from /Users/danieldubovski/projects/deep_query_optimization/dqo/datasets/imdb/execution/small_uniform/runtimes/clean_augmented_part_00.csv [1/1]\n",
      "2020-09-05 16:11:56,747 | dqo.datasets | INFO | Loaded 87034 rows from /Users/danieldubovski/projects/deep_query_optimization/dqo/datasets/imdb/execution/small_uniform/runtimes/clean_augmented_part_00.csv [1/1]\n"
     ]
    }
   ],
   "source": [
    "qdm = QueriesDataModule('imdb:small_uniform')\n",
    "qdm.setup()"
   ]
  },
  {
   "cell_type": "code",
   "execution_count": 86,
   "metadata": {},
   "outputs": [
    {
     "data": {
      "application/vnd.jupyter.widget-view+json": {
       "model_id": "20b91c64d1c248d39c0aac232125f376",
       "version_major": 2,
       "version_minor": 0
      },
      "text/plain": [
       "HBox(children=(FloatProgress(value=0.0, max=46226.0), HTML(value='')))"
      ]
     },
     "metadata": {},
     "output_type": "display_data"
    },
    {
     "name": "stdout",
     "output_type": "stream",
     "text": [
      "\n"
     ]
    }
   ],
   "source": [
    "test_true = []\n",
    "test_pred = []\n",
    "with torch.no_grad():\n",
    "    for item in tqdm(qdm.test_dataloader()):\n",
    "        test_true.append(2 ** item['runtime'])\n",
    "        test_pred.append(imdb_estimator.predict_encoded(item['input']))"
   ]
  },
  {
   "cell_type": "code",
   "execution_count": 239,
   "metadata": {},
   "outputs": [
    {
     "ename": "TypeError",
     "evalue": "accuracy_score() got an unexpected keyword argument 'adjusted'",
     "output_type": "error",
     "traceback": [
      "\u001b[0;31m---------------------------------------------------------------------------\u001b[0m",
      "\u001b[0;31mTypeError\u001b[0m                                 Traceback (most recent call last)",
      "\u001b[0;32m<ipython-input-239-5c0392aecd39>\u001b[0m in \u001b[0;36m<module>\u001b[0;34m\u001b[0m\n\u001b[0;32m----> 1\u001b[0;31m \u001b[0mplot_log2_confusion\u001b[0m\u001b[0;34m(\u001b[0m\u001b[0mtest_pred\u001b[0m\u001b[0;34m,\u001b[0m \u001b[0mtest_true\u001b[0m\u001b[0;34m)\u001b[0m\u001b[0;34m\u001b[0m\u001b[0;34m\u001b[0m\u001b[0m\n\u001b[0m",
      "\u001b[0;32m<ipython-input-238-aeaf9ee163bd>\u001b[0m in \u001b[0;36mplot_log2_confusion\u001b[0;34m(predictions, actual)\u001b[0m\n\u001b[1;32m     11\u001b[0m     \u001b[0mconf\u001b[0m \u001b[0;34m=\u001b[0m \u001b[0msklearn\u001b[0m\u001b[0;34m.\u001b[0m\u001b[0mmetrics\u001b[0m\u001b[0;34m.\u001b[0m\u001b[0mconfusion_matrix\u001b[0m\u001b[0;34m(\u001b[0m\u001b[0mpredictions\u001b[0m\u001b[0;34m,\u001b[0m \u001b[0mactual\u001b[0m\u001b[0;34m)\u001b[0m\u001b[0;34m\u001b[0m\u001b[0;34m\u001b[0m\u001b[0m\n\u001b[1;32m     12\u001b[0m     \u001b[0macc\u001b[0m \u001b[0;34m=\u001b[0m \u001b[0msklearn\u001b[0m\u001b[0;34m.\u001b[0m\u001b[0mmetrics\u001b[0m\u001b[0;34m.\u001b[0m\u001b[0maccuracy_score\u001b[0m\u001b[0;34m(\u001b[0m\u001b[0mpredictions\u001b[0m\u001b[0;34m,\u001b[0m \u001b[0mactual\u001b[0m\u001b[0;34m)\u001b[0m\u001b[0;34m\u001b[0m\u001b[0;34m\u001b[0m\u001b[0m\n\u001b[0;32m---> 13\u001b[0;31m     \u001b[0macc_w\u001b[0m \u001b[0;34m=\u001b[0m \u001b[0msklearn\u001b[0m\u001b[0;34m.\u001b[0m\u001b[0mmetrics\u001b[0m\u001b[0;34m.\u001b[0m\u001b[0maccuracy_score\u001b[0m\u001b[0;34m(\u001b[0m\u001b[0mpredictions\u001b[0m\u001b[0;34m,\u001b[0m \u001b[0mactual\u001b[0m\u001b[0;34m,\u001b[0m \u001b[0madjusted\u001b[0m\u001b[0;34m=\u001b[0m\u001b[0;32mTrue\u001b[0m\u001b[0;34m)\u001b[0m\u001b[0;34m\u001b[0m\u001b[0;34m\u001b[0m\u001b[0m\n\u001b[0m\u001b[1;32m     14\u001b[0m     \u001b[0mf1_m\u001b[0m \u001b[0;34m=\u001b[0m \u001b[0msklearn\u001b[0m\u001b[0;34m.\u001b[0m\u001b[0mmetrics\u001b[0m\u001b[0;34m.\u001b[0m\u001b[0mf1_score\u001b[0m\u001b[0;34m(\u001b[0m\u001b[0mpredictions\u001b[0m\u001b[0;34m,\u001b[0m \u001b[0mactual\u001b[0m\u001b[0;34m,\u001b[0m \u001b[0maverage\u001b[0m\u001b[0;34m=\u001b[0m\u001b[0;34m'macro'\u001b[0m\u001b[0;34m)\u001b[0m\u001b[0;34m\u001b[0m\u001b[0;34m\u001b[0m\u001b[0m\n\u001b[1;32m     15\u001b[0m     \u001b[0mf1_w\u001b[0m \u001b[0;34m=\u001b[0m \u001b[0msklearn\u001b[0m\u001b[0;34m.\u001b[0m\u001b[0mmetrics\u001b[0m\u001b[0;34m.\u001b[0m\u001b[0mf1_score\u001b[0m\u001b[0;34m(\u001b[0m\u001b[0mpredictions\u001b[0m\u001b[0;34m,\u001b[0m \u001b[0mactual\u001b[0m\u001b[0;34m,\u001b[0m \u001b[0maverage\u001b[0m\u001b[0;34m=\u001b[0m\u001b[0;34m'weighted'\u001b[0m\u001b[0;34m)\u001b[0m\u001b[0;34m\u001b[0m\u001b[0;34m\u001b[0m\u001b[0m\n",
      "\u001b[0;32m/usr/local/anaconda3/envs/py37/lib/python3.7/site-packages/sklearn/utils/validation.py\u001b[0m in \u001b[0;36minner_f\u001b[0;34m(*args, **kwargs)\u001b[0m\n\u001b[1;32m     71\u001b[0m                           FutureWarning)\n\u001b[1;32m     72\u001b[0m         \u001b[0mkwargs\u001b[0m\u001b[0;34m.\u001b[0m\u001b[0mupdate\u001b[0m\u001b[0;34m(\u001b[0m\u001b[0;34m{\u001b[0m\u001b[0mk\u001b[0m\u001b[0;34m:\u001b[0m \u001b[0marg\u001b[0m \u001b[0;32mfor\u001b[0m \u001b[0mk\u001b[0m\u001b[0;34m,\u001b[0m \u001b[0marg\u001b[0m \u001b[0;32min\u001b[0m \u001b[0mzip\u001b[0m\u001b[0;34m(\u001b[0m\u001b[0msig\u001b[0m\u001b[0;34m.\u001b[0m\u001b[0mparameters\u001b[0m\u001b[0;34m,\u001b[0m \u001b[0margs\u001b[0m\u001b[0;34m)\u001b[0m\u001b[0;34m}\u001b[0m\u001b[0;34m)\u001b[0m\u001b[0;34m\u001b[0m\u001b[0;34m\u001b[0m\u001b[0m\n\u001b[0;32m---> 73\u001b[0;31m         \u001b[0;32mreturn\u001b[0m \u001b[0mf\u001b[0m\u001b[0;34m(\u001b[0m\u001b[0;34m**\u001b[0m\u001b[0mkwargs\u001b[0m\u001b[0;34m)\u001b[0m\u001b[0;34m\u001b[0m\u001b[0;34m\u001b[0m\u001b[0m\n\u001b[0m\u001b[1;32m     74\u001b[0m     \u001b[0;32mreturn\u001b[0m \u001b[0minner_f\u001b[0m\u001b[0;34m\u001b[0m\u001b[0;34m\u001b[0m\u001b[0m\n\u001b[1;32m     75\u001b[0m \u001b[0;34m\u001b[0m\u001b[0m\n",
      "\u001b[0;31mTypeError\u001b[0m: accuracy_score() got an unexpected keyword argument 'adjusted'"
     ]
    }
   ],
   "source": [
    "plot_log2_confusion(test_pred, test_true)"
   ]
  },
  {
   "cell_type": "code",
   "execution_count": 17,
   "metadata": {},
   "outputs": [
    {
     "data": {
      "text/plain": [
       "0.3487551234163082"
      ]
     },
     "execution_count": 17,
     "metadata": {},
     "output_type": "execute_result"
    }
   ],
   "source": [
    "imdb_estimator.predict_query('select MIN(id) from aka_title')"
   ]
  },
  {
   "cell_type": "code",
   "execution_count": 60,
   "metadata": {},
   "outputs": [
    {
     "data": {
      "text/plain": [
       "11.159208242646764"
      ]
     },
     "execution_count": 60,
     "metadata": {},
     "output_type": "execute_result"
    }
   ],
   "source": [
    "imdb_estimator.predict_query('select MIN(id) from aka_title, cast_info where aka_title.movie_id = cast_info.movie_id and cast_info.note like \"%a%\"')"
   ]
  },
  {
   "cell_type": "code",
   "execution_count": 61,
   "metadata": {},
   "outputs": [
    {
     "data": {
      "text/plain": [
       "26.097686612759194"
      ]
     },
     "execution_count": 61,
     "metadata": {},
     "output_type": "execute_result"
    }
   ],
   "source": [
    "imdb_estimator.predict_query('select MIN(id) from aka_title, cast_info where aka_title.movie_id = cast_info.movie_id and aka_title.movie_id > 10')"
   ]
  },
  {
   "cell_type": "code",
   "execution_count": 62,
   "metadata": {},
   "outputs": [
    {
     "data": {
      "text/plain": [
       "98.77698618825976"
      ]
     },
     "execution_count": 62,
     "metadata": {},
     "output_type": "execute_result"
    }
   ],
   "source": [
    "imdb_estimator.predict_query('select MIN(id) from aka_title, cast_info where aka_title.movie_id = cast_info.movie_id')"
   ]
  },
  {
   "cell_type": "code",
   "execution_count": 63,
   "metadata": {},
   "outputs": [
    {
     "data": {
      "text/plain": [
       "2.9044822055115933"
      ]
     },
     "execution_count": 63,
     "metadata": {},
     "output_type": "execute_result"
    }
   ],
   "source": [
    "imdb_estimator.predict_query('select MIN(id) from cast_info')"
   ]
  },
  {
   "cell_type": "markdown",
   "metadata": {},
   "source": [
    "## TPCH"
   ]
  },
  {
   "cell_type": "code",
   "execution_count": 301,
   "metadata": {},
   "outputs": [],
   "source": [
    "tpch_ds = QueriesDataset('tpch:uniform2')"
   ]
  },
  {
   "cell_type": "code",
   "execution_count": 302,
   "metadata": {},
   "outputs": [
    {
     "name": "stderr",
     "output_type": "stream",
     "text": [
      "2020-09-10 20:46:53,224 | dqo.datasets | INFO | Reading data from /Users/danieldubovski/projects/deep_query_optimization/dqo/datasets/tpch/execution/uniform2/runtimes/aug_1000_0:15555.csv [1/8]\n",
      "2020-09-10 20:46:53,386 | dqo.datasets | INFO | Loaded 15555 rows from /Users/danieldubovski/projects/deep_query_optimization/dqo/datasets/tpch/execution/uniform2/runtimes/aug_1000_0:15555.csv [1/8]\n",
      "2020-09-10 20:46:53,387 | dqo.datasets | INFO | Reading data from /Users/danieldubovski/projects/deep_query_optimization/dqo/datasets/tpch/execution/uniform2/runtimes/aug_1000_1000:17056.csv [2/8]\n",
      "2020-09-10 20:46:53,534 | dqo.datasets | INFO | Loaded 16056 rows from /Users/danieldubovski/projects/deep_query_optimization/dqo/datasets/tpch/execution/uniform2/runtimes/aug_1000_1000:17056.csv [2/8]\n",
      "2020-09-10 20:46:53,535 | dqo.datasets | INFO | Reading data from /Users/danieldubovski/projects/deep_query_optimization/dqo/datasets/tpch/execution/uniform2/runtimes/aug_1000_2000:16317.csv [3/8]\n",
      "2020-09-10 20:46:53,635 | dqo.datasets | INFO | Loaded 14317 rows from /Users/danieldubovski/projects/deep_query_optimization/dqo/datasets/tpch/execution/uniform2/runtimes/aug_1000_2000:16317.csv [3/8]\n",
      "2020-09-10 20:46:53,635 | dqo.datasets | INFO | Reading data from /Users/danieldubovski/projects/deep_query_optimization/dqo/datasets/tpch/execution/uniform2/runtimes/aug_1000_3000:16368.csv [4/8]\n",
      "2020-09-10 20:46:53,758 | dqo.datasets | INFO | Loaded 13368 rows from /Users/danieldubovski/projects/deep_query_optimization/dqo/datasets/tpch/execution/uniform2/runtimes/aug_1000_3000:16368.csv [4/8]\n",
      "2020-09-10 20:46:53,759 | dqo.datasets | INFO | Reading data from /Users/danieldubovski/projects/deep_query_optimization/dqo/datasets/tpch/execution/uniform2/runtimes/aug_1000_4000:17392.csv [5/8]\n",
      "2020-09-10 20:46:53,823 | dqo.datasets | INFO | Loaded 13392 rows from /Users/danieldubovski/projects/deep_query_optimization/dqo/datasets/tpch/execution/uniform2/runtimes/aug_1000_4000:17392.csv [5/8]\n",
      "2020-09-10 20:46:53,824 | dqo.datasets | INFO | Reading data from /Users/danieldubovski/projects/deep_query_optimization/dqo/datasets/tpch/execution/uniform2/runtimes/aug_1000_5000:21324.csv [6/8]\n",
      "2020-09-10 20:46:53,912 | dqo.datasets | INFO | Loaded 16324 rows from /Users/danieldubovski/projects/deep_query_optimization/dqo/datasets/tpch/execution/uniform2/runtimes/aug_1000_5000:21324.csv [6/8]\n",
      "2020-09-10 20:46:53,913 | dqo.datasets | INFO | Reading data from /Users/danieldubovski/projects/deep_query_optimization/dqo/datasets/tpch/execution/uniform2/runtimes/aug_1000_6000:14452.csv [7/8]\n",
      "2020-09-10 20:46:54,009 | dqo.datasets | INFO | Loaded 8452 rows from /Users/danieldubovski/projects/deep_query_optimization/dqo/datasets/tpch/execution/uniform2/runtimes/aug_1000_6000:14452.csv [7/8]\n",
      "2020-09-10 20:46:54,010 | dqo.datasets | INFO | Reading data from /Users/danieldubovski/projects/deep_query_optimization/dqo/datasets/tpch/execution/uniform2/runtimes/clean_01.cs.v.csv [8/8]\n",
      "2020-09-10 20:46:54,856 | dqo.datasets | INFO | Loaded 34757 rows from /Users/danieldubovski/projects/deep_query_optimization/dqo/datasets/tpch/execution/uniform2/runtimes/clean_01.cs.v.csv [8/8]\n"
     ]
    }
   ],
   "source": [
    "tpch_df = tpch_ds.load()\n",
    "tpch_schema = tpch_ds.schema()"
   ]
  },
  {
   "cell_type": "code",
   "execution_count": 303,
   "metadata": {},
   "outputs": [],
   "source": [
    "tpch_df = tpch_df.query('runtime < 500')"
   ]
  },
  {
   "cell_type": "code",
   "execution_count": 304,
   "metadata": {},
   "outputs": [],
   "source": [
    "tpch_df['bucket'] = tpch_df['runtime'].apply(np.log2).apply(np.round).apply(lambda x: max(0, x)).astype(int)"
   ]
  },
  {
   "cell_type": "code",
   "execution_count": 305,
   "metadata": {},
   "outputs": [
    {
     "data": {
      "text/plain": [
       "query      13222.1\n",
       "runtime    13222.1\n",
       "dtype: float64"
      ]
     },
     "execution_count": 305,
     "metadata": {},
     "output_type": "execute_result"
    }
   ],
   "source": [
    "tpch_df.groupby('bucket').count().mean()"
   ]
  },
  {
   "cell_type": "code",
   "execution_count": 306,
   "metadata": {},
   "outputs": [],
   "source": [
    "# tpch_df = tpch_df.groupby('bucket').head(1500)"
   ]
  },
  {
   "cell_type": "code",
   "execution_count": 307,
   "metadata": {},
   "outputs": [],
   "source": [
    "from collections import Counter\n"
   ]
  },
  {
   "cell_type": "code",
   "execution_count": 308,
   "metadata": {},
   "outputs": [],
   "source": [
    "tpch_estimaor = QueryEstimater(tpch_schema, checkpoint_path)"
   ]
  },
  {
   "cell_type": "code",
   "execution_count": 309,
   "metadata": {},
   "outputs": [
    {
     "name": "stdout",
     "output_type": "stream",
     "text": [
      "Counter({0.0: 28249, 4.0: 24345, 2.0: 20254, 1.0: 18722, 3.0: 13394, 5.0: 11439, 6.0: 7687, 7.0: 7062, 8.0: 1066, 9.0: 3}) 10\n"
     ]
    }
   ],
   "source": [
    "tpch_queries, tpch_labels = list(tpch_df['query']), list(tpch_df['runtime'].apply(lambda x: max(x, 1)))\n",
    "label_counts = Counter(np.round(np.log2(tpch_labels)))\n",
    "print(label_counts, len(label_counts))"
   ]
  },
  {
   "cell_type": "code",
   "execution_count": 310,
   "metadata": {},
   "outputs": [
    {
     "data": {
      "application/vnd.jupyter.widget-view+json": {
       "model_id": "2cd17bd0aa88455b9ef2f979e8bc7d54",
       "version_major": 2,
       "version_minor": 0
      },
      "text/plain": [
       "HBox(children=(FloatProgress(value=0.0, max=132221.0), HTML(value='')))"
      ]
     },
     "metadata": {},
     "output_type": "display_data"
    },
    {
     "name": "stdout",
     "output_type": "stream",
     "text": [
      "\n"
     ]
    }
   ],
   "source": [
    "tpch_predictions = tpch_estimaor.predict_batch(tpch_queries, lowest=1)"
   ]
  },
  {
   "cell_type": "code",
   "execution_count": 295,
   "metadata": {},
   "outputs": [
    {
     "data": {
      "image/png": "[encoded data removed]",
      "text/plain": [
       "<Figure size 432x288 with 2 Axes>"
      ]
     },
     "metadata": {
      "needs_background": "light"
     },
     "output_type": "display_data"
    }
   ],
   "source": [
    "# Rows - prediction, Columns - actual\n",
    "plot_log2_confusion(tpch_predictions, tpch_labels)"
   ]
  },
  {
   "cell_type": "code",
   "execution_count": 227,
   "metadata": {},
   "outputs": [
    {
     "data": {
      "text/plain": [
       "<matplotlib.legend.Legend at 0x7fd002f12f90>"
      ]
     },
     "execution_count": 227,
     "metadata": {},
     "output_type": "execute_result"
    },
    {
     "data": {
      "image/png": "[encoded data removed]",
      "text/plain": [
       "<Figure size 432x288 with 1 Axes>"
      ]
     },
     "metadata": {
      "needs_background": "light"
     },
     "output_type": "display_data"
    }
   ],
   "source": [
    "plt.plot(tpch_predictions, 'crimson', alpha=0.7)\n",
    "plt.plot(tpch_labels,  'blue', alpha=0.4)\n",
    "plt.legend(['predicted', 'real'])"
   ]
  },
  {
   "cell_type": "markdown",
   "metadata": {},
   "source": [
    "<div> 1</div>"
   ]
  },
  {
   "cell_type": "code",
   "execution_count": null,
   "metadata": {},
   "outputs": [],
   "source": []
  }
 ],
 "metadata": {
  "kernelspec": {
   "display_name": "py37",
   "language": "python",
   "name": "py37"
  },
  "language_info": {
   "codemirror_mode": {
    "name": "ipython",
    "version": 3
   },
   "file_extension": ".py",
   "mimetype": "text/x-python",
   "name": "python",
   "nbconvert_exporter": "python",
   "pygments_lexer": "ipython3",
   "version": "3.7.7"
  }
 },
 "nbformat": 4,
 "nbformat_minor": 4
}
