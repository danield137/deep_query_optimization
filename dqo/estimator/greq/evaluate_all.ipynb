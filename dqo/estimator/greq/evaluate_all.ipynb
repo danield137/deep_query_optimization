{
 "cells": [
  {
   "cell_type": "code",
   "execution_count": 1,
   "metadata": {},
   "outputs": [
    {
     "name": "stdout",
     "output_type": "stream",
     "text": [
      "module://ipykernel.pylab.backend_inline\n"
     ]
    },
    {
     "name": "stderr",
     "output_type": "stream",
     "text": [
      "/usr/local/anaconda3/envs/py37/lib/python3.7/site-packages/ipykernel_launcher.py:13: FutureWarning: The Panel class is removed from pandas. Accessing it from the top-level namespace will also be removed in the next version\n",
      "  del sys.path[0]\n"
     ]
    }
   ],
   "source": [
    "root_path = \"/Users/danieldubovski/projects/deep_query_optimization\"\n",
    "\n",
    "import sys\n",
    "import os\n",
    "sys.path.insert(0, root_path)\n",
    "\n",
    "import matplotlib as mpl\n",
    "\n",
    "plt_backend = mpl.get_backend()\n",
    "print(plt_backend)\n",
    "from matplotlib import pyplot as plt\n",
    "import pandas as pd\n",
    "from pandas import Panel\n",
    "import numpy as np\n",
    "import pytorch_lightning as pl\n",
    "import torch\n",
    "from importlib import reload \n",
    "from tqdm.auto import tqdm\n",
    "from collections import Counter\n",
    "import sklearn\n",
    "import seaborn as sns\n",
    "from sklearn import metrics as skm\n",
    "import json\n",
    "\n",
    "from dqo.estimator.gerelt import evaluate as ge, v1, v2, v3, v4, v7, v8, v9,v10, v11, v12, v13, v14, v15, v16\n",
    "from dqo import datasets\n",
    "\n",
    "mpl.use(plt_backend)"
   ]
  },
  {
   "cell_type": "code",
   "execution_count": 2,
   "metadata": {},
   "outputs": [
    {
     "data": {
      "text/plain": [
       "<module 'dqo.estimator.gerelt.evaluate' from '/Users/danieldubovski/projects/deep_query_optimization/dqo/estimator/gerelt/evaluate.py'>"
      ]
     },
     "execution_count": 2,
     "metadata": {},
     "output_type": "execute_result"
    }
   ],
   "source": [
    "import importlib \n",
    "importlib.reload(ge)"
   ]
  },
  {
   "cell_type": "markdown",
   "metadata": {},
   "source": [
    "# Trained on tpch"
   ]
  },
  {
   "cell_type": "code",
   "execution_count": null,
   "metadata": {},
   "outputs": [],
   "source": [
    "summary_df, results_df = ge.compare_versions(versions=[v2, v3, v11, v12, v13, v14, v15, v16], trained_on=['tpch','all'], test_on=['tpcd', 'tpch', 'imdb','tpcds'])"
   ]
  },
  {
   "cell_type": "code",
   "execution_count": null,
   "metadata": {},
   "outputs": [],
   "source": [
    "summary_df.groupby(['trained_on', 'version']).aggregate(['mean', 'max'])"
   ]
  },
  {
   "cell_type": "code",
   "execution_count": null,
   "metadata": {},
   "outputs": [],
   "source": [
    "_, _=ge.compare_versions(versions=[v2, v3, v11, v12, v13, v14, v15, v16], trained_on='tpch_alt', test_on=['tpcd', 'tpch', 'imdb','tpcds'])"
   ]
  },
  {
   "cell_type": "code",
   "execution_count": null,
   "metadata": {},
   "outputs": [],
   "source": [
    "_, _=ge.compare_versions(versions=[v2, v3, v11, v12, v13, v14, v15, v16], trained_on='aug', test_on=['tpcd', 'tpch', 'imdb','tpcds'])"
   ]
  },
  {
   "cell_type": "markdown",
   "metadata": {},
   "source": [
    "---"
   ]
  },
  {
   "cell_type": "markdown",
   "metadata": {},
   "source": [
    "# Trained on ALL"
   ]
  },
  {
   "cell_type": "code",
   "execution_count": null,
   "metadata": {},
   "outputs": [],
   "source": [
    "asummary_df, aresults_df = ge.compare_versions(versions=[v2, v3, v7, v10, v11, v12, v13, v14, v15, v16], trained_on='all', test_on=['tpcd', 'tpch', 'imdb'])"
   ]
  },
  {
   "cell_type": "code",
   "execution_count": 3,
   "metadata": {},
   "outputs": [
    {
     "name": "stdout",
     "output_type": "stream",
     "text": [
      "[Errno 2] No such file or directory: '/Users/danieldubovski/projects/deep_query_optimization/dqo/estimator/gerelt/v2/logs/aug'\n",
      "[Errno 2] No such file or directory: '/Users/danieldubovski/projects/deep_query_optimization/dqo/estimator/gerelt/v2/logs/aug'\n",
      "[Errno 2] No such file or directory: '/Users/danieldubovski/projects/deep_query_optimization/dqo/estimator/gerelt/v2/logs/aug'\n",
      "[Errno 2] No such file or directory: '/Users/danieldubovski/projects/deep_query_optimization/dqo/estimator/gerelt/v7/logs/aug'\n",
      "[Errno 2] No such file or directory: '/Users/danieldubovski/projects/deep_query_optimization/dqo/estimator/gerelt/v7/logs/aug'\n",
      "[Errno 2] No such file or directory: '/Users/danieldubovski/projects/deep_query_optimization/dqo/estimator/gerelt/v7/logs/aug'\n",
      "[Errno 2] No such file or directory: '/Users/danieldubovski/projects/deep_query_optimization/dqo/estimator/gerelt/v10/logs/aug'\n",
      "[Errno 2] No such file or directory: '/Users/danieldubovski/projects/deep_query_optimization/dqo/estimator/gerelt/v10/logs/aug'\n",
      "[Errno 2] No such file or directory: '/Users/danieldubovski/projects/deep_query_optimization/dqo/estimator/gerelt/v10/logs/aug'\n",
      "[Errno 2] No such file or directory: '/Users/danieldubovski/projects/deep_query_optimization/dqo/estimator/gerelt/v13/logs/aug'\n",
      "[Errno 2] No such file or directory: '/Users/danieldubovski/projects/deep_query_optimization/dqo/estimator/gerelt/v13/logs/aug'\n",
      "[Errno 2] No such file or directory: '/Users/danieldubovski/projects/deep_query_optimization/dqo/estimator/gerelt/v13/logs/aug'\n"
     ]
    },
    {
     "name": "stderr",
     "output_type": "stream",
     "text": [
      " 13%|█▎        | 46/343 [00:27<02:04,  2.38it/s]/usr/local/anaconda3/envs/py37/lib/python3.7/site-packages/numpy/core/fromnumeric.py:3622: RuntimeWarning: Degrees of freedom <= 0 for slice\n",
      "  **kwargs)\n",
      "/usr/local/anaconda3/envs/py37/lib/python3.7/site-packages/numpy/core/_methods.py:227: RuntimeWarning: invalid value encountered in double_scalars\n",
      "  ret = ret.dtype.type(ret / rcount)\n",
      "100%|██████████| 343/343 [01:57<00:00,  2.91it/s]\n"
     ]
    },
    {
     "name": "stdout",
     "output_type": "stream",
     "text": [
      "df: tpcd, v: dqo.estimator.gerelt.v14, cp: /Users/danieldubovski/projects/deep_query_optimization/dqo/estimator/gerelt/v14/logs/aug/version_0/checkpoints/epoch=4-step=759449.ckpt ::  {\"accuracy\": 0.18075801749271136, \"balanced accuracy\": 0.08107638888888886, \"kappa\": 0.09874419083062946, \"recall\": 0.1517628205128205, \"mae\": 1.8629737609329446, \"f1 macro\": 0.12222910465290439, \"f1 weighted\": 0.14427786453530095}\n"
     ]
    },
    {
     "name": "stderr",
     "output_type": "stream",
     "text": [
      "100%|██████████| 270/270 [01:07<00:00,  4.01it/s]\n"
     ]
    },
    {
     "name": "stdout",
     "output_type": "stream",
     "text": [
      "df: tpch, v: dqo.estimator.gerelt.v14, cp: /Users/danieldubovski/projects/deep_query_optimization/dqo/estimator/gerelt/v14/logs/aug/version_0/checkpoints/epoch=4-step=759449.ckpt ::  {\"accuracy\": 0.4222222222222222, \"balanced accuracy\": 0.3863636363636364, \"kappa\": 0.3665403356794803, \"recall\": 0.4375, \"mae\": 1.0888888888888888, \"f1 macro\": 0.42814610643537215, \"f1 weighted\": 0.4033558468643969}\n"
     ]
    },
    {
     "name": "stderr",
     "output_type": "stream",
     "text": [
      "100%|██████████| 167/167 [01:12<00:00,  2.32it/s]\n",
      "/usr/local/anaconda3/envs/py37/lib/python3.7/site-packages/torch/nn/modules/rnn.py:60: UserWarning: dropout option adds dropout after all but last recurrent layer, so non-zero dropout expects num_layers greater than 1, but got dropout=0.1 and num_layers=1\n",
      "  \"num_layers={}\".format(dropout, num_layers))\n"
     ]
    },
    {
     "name": "stdout",
     "output_type": "stream",
     "text": [
      "df: imdb, v: dqo.estimator.gerelt.v14, cp: /Users/danieldubovski/projects/deep_query_optimization/dqo/estimator/gerelt/v14/logs/aug/version_0/checkpoints/epoch=4-step=759449.ckpt ::  {\"accuracy\": 0.2874251497005988, \"balanced accuracy\": 0.2022727272727273, \"kappa\": 0.21304399477289837, \"recall\": 0.26875, \"mae\": 1.6826347305389222, \"f1 macro\": 0.24081934021643814, \"f1 weighted\": 0.24992403186560552}\n",
      "[Errno 2] No such file or directory: '/Users/danieldubovski/projects/deep_query_optimization/dqo/estimator/gerelt/v15/logs/aug'\n",
      "[Errno 2] No such file or directory: '/Users/danieldubovski/projects/deep_query_optimization/dqo/estimator/gerelt/v15/logs/aug'\n",
      "[Errno 2] No such file or directory: '/Users/danieldubovski/projects/deep_query_optimization/dqo/estimator/gerelt/v15/logs/aug'\n"
     ]
    },
    {
     "name": "stderr",
     "output_type": "stream",
     "text": [
      "100%|██████████| 343/343 [00:21<00:00, 16.04it/s]\n"
     ]
    },
    {
     "name": "stdout",
     "output_type": "stream",
     "text": [
      "df: tpcd, v: dqo.estimator.gerelt.v16, cp: /Users/danieldubovski/projects/deep_query_optimization/dqo/estimator/gerelt/v16/logs/aug/version_0/checkpoints/epoch=9-step=1518899.ckpt ::  {\"accuracy\": 0.16034985422740525, \"balanced accuracy\": 0.06284722222222221, \"kappa\": 0.07557551937113971, \"recall\": 0.13493589743589743, \"mae\": 1.9096209912536444, \"f1 macro\": 0.10789685029255526, \"f1 weighted\": 0.12704780587175127}\n"
     ]
    },
    {
     "name": "stderr",
     "output_type": "stream",
     "text": [
      "100%|██████████| 270/270 [00:15<00:00, 17.24it/s]\n"
     ]
    },
    {
     "name": "stdout",
     "output_type": "stream",
     "text": [
      "df: tpch, v: dqo.estimator.gerelt.v16, cp: /Users/danieldubovski/projects/deep_query_optimization/dqo/estimator/gerelt/v16/logs/aug/version_0/checkpoints/epoch=9-step=1518899.ckpt ::  {\"accuracy\": 0.5407407407407407, \"balanced accuracy\": 0.4962121212121213, \"kappa\": 0.49634443541835904, \"recall\": 0.5381944444444445, \"mae\": 0.8925925925925926, \"f1 macro\": 0.5408817772366382, \"f1 weighted\": 0.532496117941303}\n"
     ]
    },
    {
     "name": "stderr",
     "output_type": "stream",
     "text": [
      "100%|██████████| 167/167 [00:17<00:00,  9.36it/s]\n"
     ]
    },
    {
     "name": "stdout",
     "output_type": "stream",
     "text": [
      "df: imdb, v: dqo.estimator.gerelt.v16, cp: /Users/danieldubovski/projects/deep_query_optimization/dqo/estimator/gerelt/v16/logs/aug/version_0/checkpoints/epoch=9-step=1518899.ckpt ::  {\"accuracy\": 0.3473053892215569, \"balanced accuracy\": 0.2737373737373738, \"kappa\": 0.2805707058730533, \"recall\": 0.33425925925925926, \"mae\": 1.5149700598802396, \"f1 macro\": 0.32717434590321387, \"f1 weighted\": 0.33373211908443867}\n",
      "[Errno 2] No such file or directory: '/Users/danieldubovski/projects/deep_query_optimization/dqo/estimator/gerelt/v2/logs/all'\n",
      "[Errno 2] No such file or directory: '/Users/danieldubovski/projects/deep_query_optimization/dqo/estimator/gerelt/v2/logs/all'\n",
      "[Errno 2] No such file or directory: '/Users/danieldubovski/projects/deep_query_optimization/dqo/estimator/gerelt/v2/logs/all'\n"
     ]
    },
    {
     "name": "stderr",
     "output_type": "stream",
     "text": [
      "100%|██████████| 343/343 [00:19<00:00, 17.75it/s]\n"
     ]
    },
    {
     "name": "stdout",
     "output_type": "stream",
     "text": [
      "df: tpcd, v: dqo.estimator.gerelt.v7, cp: /Users/danieldubovski/projects/deep_query_optimization/dqo/estimator/gerelt/v7/logs/all/version_1/checkpoints/epoch=56-step=4285554.ckpt ::  {\"accuracy\": 0.1749271137026239, \"balanced accuracy\": 0.07291666666666664, \"kappa\": 0.090032154340836, \"recall\": 0.14423076923076922, \"mae\": 2.381924198250729, \"f1 macro\": 0.11450795710583693, \"f1 weighted\": 0.13887845526538822}\n"
     ]
    },
    {
     "name": "stderr",
     "output_type": "stream",
     "text": [
      "100%|██████████| 270/270 [00:13<00:00, 20.20it/s]\n"
     ]
    },
    {
     "name": "stdout",
     "output_type": "stream",
     "text": [
      "df: tpch, v: dqo.estimator.gerelt.v7, cp: /Users/danieldubovski/projects/deep_query_optimization/dqo/estimator/gerelt/v7/logs/all/version_1/checkpoints/epoch=56-step=4285554.ckpt ::  {\"accuracy\": 0.23703703703703705, \"balanced accuracy\": 0.15151515151515152, \"kappa\": 0.1630552546045504, \"recall\": 0.2222222222222222, \"mae\": 1.7962962962962963, \"f1 macro\": 0.2083096484828099, \"f1 weighted\": 0.22219695838166387}\n"
     ]
    },
    {
     "name": "stderr",
     "output_type": "stream",
     "text": [
      "100%|██████████| 167/167 [00:16<00:00, 10.32it/s]\n"
     ]
    },
    {
     "name": "stdout",
     "output_type": "stream",
     "text": [
      "df: imdb, v: dqo.estimator.gerelt.v7, cp: /Users/danieldubovski/projects/deep_query_optimization/dqo/estimator/gerelt/v7/logs/all/version_1/checkpoints/epoch=56-step=4285554.ckpt ::  {\"accuracy\": 0.1437125748502994, \"balanced accuracy\": 0.04545454545454546, \"kappa\": 0.052980132450331174, \"recall\": 0.125, \"mae\": 2.7784431137724552, \"f1 macro\": 0.09502816776486006, \"f1 weighted\": 0.10925394138235409}\n"
     ]
    },
    {
     "name": "stderr",
     "output_type": "stream",
     "text": [
      "100%|██████████| 343/343 [00:18<00:00, 18.30it/s]\n"
     ]
    },
    {
     "name": "stdout",
     "output_type": "stream",
     "text": [
      "df: tpcd, v: dqo.estimator.gerelt.v10, cp: /Users/danieldubovski/projects/deep_query_optimization/dqo/estimator/gerelt/v10/logs/all/version_0/checkpoints/epoch=87-step=6657287.ckpt ::  {\"accuracy\": 0.14285714285714285, \"balanced accuracy\": 0.04427083333333332, \"kappa\": 0.05496359189181599, \"recall\": 0.11778846153846154, \"mae\": 2.542274052478134, \"f1 macro\": 0.09080488965007816, \"f1 weighted\": 0.11013071164557584}\n"
     ]
    },
    {
     "name": "stderr",
     "output_type": "stream",
     "text": [
      "100%|██████████| 270/270 [00:13<00:00, 20.11it/s]\n"
     ]
    },
    {
     "name": "stdout",
     "output_type": "stream",
     "text": [
      "df: tpch, v: dqo.estimator.gerelt.v10, cp: /Users/danieldubovski/projects/deep_query_optimization/dqo/estimator/gerelt/v10/logs/all/version_0/checkpoints/epoch=87-step=6657287.ckpt ::  {\"accuracy\": 0.2777777777777778, \"balanced accuracy\": 0.19318181818181823, \"kappa\": 0.20731707317073167, \"recall\": 0.2604166666666667, \"mae\": 2.433333333333333, \"f1 macro\": 0.23587908213224906, \"f1 weighted\": 0.25160435427439903}\n"
     ]
    },
    {
     "name": "stderr",
     "output_type": "stream",
     "text": [
      "100%|██████████| 167/167 [00:15<00:00, 10.73it/s]\n"
     ]
    },
    {
     "name": "stdout",
     "output_type": "stream",
     "text": [
      "df: imdb, v: dqo.estimator.gerelt.v10, cp: /Users/danieldubovski/projects/deep_query_optimization/dqo/estimator/gerelt/v10/logs/all/version_0/checkpoints/epoch=87-step=6657287.ckpt ::  {\"accuracy\": 0.1497005988023952, \"balanced accuracy\": 0.05113636363636365, \"kappa\": 0.05960264900662249, \"recall\": 0.13020833333333334, \"mae\": 2.8323353293413174, \"f1 macro\": 0.09229302832244009, \"f1 weighted\": 0.1061093499275958}\n",
      "[Errno 2] No such file or directory: '/Users/danieldubovski/projects/deep_query_optimization/dqo/estimator/gerelt/v13/logs/all/version_0/checkpoints'\n",
      "[Errno 2] No such file or directory: '/Users/danieldubovski/projects/deep_query_optimization/dqo/estimator/gerelt/v13/logs/all/version_0/checkpoints'\n",
      "[Errno 2] No such file or directory: '/Users/danieldubovski/projects/deep_query_optimization/dqo/estimator/gerelt/v13/logs/all/version_0/checkpoints'\n"
     ]
    },
    {
     "name": "stderr",
     "output_type": "stream",
     "text": [
      "100%|██████████| 343/343 [01:43<00:00,  3.33it/s]\n"
     ]
    },
    {
     "name": "stdout",
     "output_type": "stream",
     "text": [
      "df: tpcd, v: dqo.estimator.gerelt.v14, cp: /Users/danieldubovski/projects/deep_query_optimization/dqo/estimator/gerelt/v14/logs/all/version_0/checkpoints/epoch=19-step=1513019.ckpt ::  {\"accuracy\": 0.15451895043731778, \"balanced accuracy\": 0.06059027777777777, \"kappa\": 0.06811815516062247, \"recall\": 0.1328525641025641, \"mae\": 2.2215743440233235, \"f1 macro\": 0.10053206890070528, \"f1 weighted\": 0.11149385800079399}\n"
     ]
    },
    {
     "name": "stderr",
     "output_type": "stream",
     "text": [
      "100%|██████████| 270/270 [01:04<00:00,  4.17it/s]\n"
     ]
    },
    {
     "name": "stdout",
     "output_type": "stream",
     "text": [
      "df: tpch, v: dqo.estimator.gerelt.v14, cp: /Users/danieldubovski/projects/deep_query_optimization/dqo/estimator/gerelt/v14/logs/all/version_0/checkpoints/epoch=19-step=1513019.ckpt ::  {\"accuracy\": 0.5703703703703704, \"balanced accuracy\": 0.537878787878788, \"kappa\": 0.5290933694181326, \"recall\": 0.576388888888889, \"mae\": 0.837037037037037, \"f1 macro\": 0.5810271193932703, \"f1 weighted\": 0.5712774122013066}\n"
     ]
    },
    {
     "name": "stderr",
     "output_type": "stream",
     "text": [
      "100%|██████████| 167/167 [01:02<00:00,  2.66it/s]\n"
     ]
    },
    {
     "name": "stdout",
     "output_type": "stream",
     "text": [
      "df: imdb, v: dqo.estimator.gerelt.v14, cp: /Users/danieldubovski/projects/deep_query_optimization/dqo/estimator/gerelt/v14/logs/all/version_0/checkpoints/epoch=19-step=1513019.ckpt ::  {\"accuracy\": 0.40119760479041916, \"balanced accuracy\": 0.32045454545454555, \"kappa\": 0.33952936523630617, \"recall\": 0.3770833333333334, \"mae\": 1.6826347305389222, \"f1 macro\": 0.3469676764870624, \"f1 weighted\": 0.36487175664191734}\n"
     ]
    },
    {
     "name": "stderr",
     "output_type": "stream",
     "text": [
      "100%|██████████| 343/343 [01:28<00:00,  3.89it/s]\n"
     ]
    },
    {
     "name": "stdout",
     "output_type": "stream",
     "text": [
      "df: tpcd, v: dqo.estimator.gerelt.v15, cp: /Users/danieldubovski/projects/deep_query_optimization/dqo/estimator/gerelt/v15/logs/all/version_0/checkpoints/epoch=29-step=2269529.ckpt ::  {\"accuracy\": 0.17201166180758018, \"balanced accuracy\": 0.07326388888888886, \"kappa\": 0.08710768740569963, \"recall\": 0.14455128205128204, \"mae\": 2.186588921282799, \"f1 macro\": 0.11761129001762953, \"f1 weighted\": 0.1368113604878539}\n"
     ]
    },
    {
     "name": "stderr",
     "output_type": "stream",
     "text": [
      "100%|██████████| 270/270 [00:59<00:00,  4.52it/s]\n"
     ]
    },
    {
     "name": "stdout",
     "output_type": "stream",
     "text": [
      "df: tpch, v: dqo.estimator.gerelt.v15, cp: /Users/danieldubovski/projects/deep_query_optimization/dqo/estimator/gerelt/v15/logs/all/version_0/checkpoints/epoch=29-step=2269529.ckpt ::  {\"accuracy\": 0.5518518518518518, \"balanced accuracy\": 0.5075757575757577, \"kappa\": 0.5085296506904955, \"recall\": 0.5486111111111112, \"mae\": 0.8222222222222222, \"f1 macro\": 0.562593905824847, \"f1 weighted\": 0.5556557217687257}\n"
     ]
    },
    {
     "name": "stderr",
     "output_type": "stream",
     "text": [
      "100%|██████████| 167/167 [00:59<00:00,  2.83it/s]\n"
     ]
    },
    {
     "name": "stdout",
     "output_type": "stream",
     "text": [
      "df: imdb, v: dqo.estimator.gerelt.v15, cp: /Users/danieldubovski/projects/deep_query_optimization/dqo/estimator/gerelt/v15/logs/all/version_0/checkpoints/epoch=29-step=2269529.ckpt ::  {\"accuracy\": 0.39520958083832336, \"balanced accuracy\": 0.31919191919191925, \"kappa\": 0.3327399319566421, \"recall\": 0.37592592592592594, \"mae\": 1.5209580838323353, \"f1 macro\": 0.3519543791963773, \"f1 weighted\": 0.362221738199932}\n"
     ]
    },
    {
     "name": "stderr",
     "output_type": "stream",
     "text": [
      "100%|██████████| 343/343 [00:21<00:00, 16.28it/s]\n"
     ]
    },
    {
     "name": "stdout",
     "output_type": "stream",
     "text": [
      "df: tpcd, v: dqo.estimator.gerelt.v16, cp: /Users/danieldubovski/projects/deep_query_optimization/dqo/estimator/gerelt/v16/logs/all/version_0/checkpoints/epoch=49-step=3782549.ckpt ::  {\"accuracy\": 0.15160349854227406, \"balanced accuracy\": 0.05208333333333333, \"kappa\": 0.06505367279267127, \"recall\": 0.125, \"mae\": 2.259475218658892, \"f1 macro\": 0.09342259376314063, \"f1 weighted\": 0.11330553645908602}\n"
     ]
    },
    {
     "name": "stderr",
     "output_type": "stream",
     "text": [
      "100%|██████████| 270/270 [00:13<00:00, 19.31it/s]\n"
     ]
    },
    {
     "name": "stdout",
     "output_type": "stream",
     "text": [
      "df: tpch, v: dqo.estimator.gerelt.v16, cp: /Users/danieldubovski/projects/deep_query_optimization/dqo/estimator/gerelt/v16/logs/all/version_0/checkpoints/epoch=49-step=3782549.ckpt ::  {\"accuracy\": 0.5666666666666667, \"balanced accuracy\": 0.5227272727272729, \"kappa\": 0.5247766043866775, \"recall\": 0.5625000000000001, \"mae\": 0.7592592592592593, \"f1 macro\": 0.5691636621583446, \"f1 weighted\": 0.5626634618577898}\n"
     ]
    },
    {
     "name": "stderr",
     "output_type": "stream",
     "text": [
      "100%|██████████| 167/167 [00:16<00:00, 10.38it/s]\n"
     ]
    },
    {
     "name": "stdout",
     "output_type": "stream",
     "text": [
      "df: imdb, v: dqo.estimator.gerelt.v16, cp: /Users/danieldubovski/projects/deep_query_optimization/dqo/estimator/gerelt/v16/logs/all/version_0/checkpoints/epoch=49-step=3782549.ckpt ::  {\"accuracy\": 0.437125748502994, \"balanced accuracy\": 0.3545454545454546, \"kappa\": 0.3788136599263979, \"recall\": 0.4083333333333334, \"mae\": 1.4610778443113772, \"f1 macro\": 0.39201744967668395, \"f1 weighted\": 0.41666550785393736}\n"
     ]
    },
    {
     "name": "stderr",
     "output_type": "stream",
     "text": [
      "100%|██████████| 343/343 [01:16<00:00,  4.50it/s]\n"
     ]
    },
    {
     "name": "stdout",
     "output_type": "stream",
     "text": [
      "df: tpcd, v: dqo.estimator.gerelt.v2, cp: /Users/danieldubovski/projects/deep_query_optimization/dqo/estimator/gerelt/v2/logs/tpch/version_0/checkpoints/epoch=48-step=881537.ckpt ::  {\"accuracy\": 0.119533527696793, \"balanced accuracy\": 0.02343749999999999, \"kappa\": 0.029557527098303504, \"recall\": 0.0985576923076923, \"mae\": 2.6443148688046647, \"f1 macro\": 0.05830901981404928, \"f1 weighted\": 0.0707188112030452}\n"
     ]
    },
    {
     "name": "stderr",
     "output_type": "stream",
     "text": [
      "100%|██████████| 270/270 [00:52<00:00,  5.18it/s]\n"
     ]
    },
    {
     "name": "stdout",
     "output_type": "stream",
     "text": [
      "df: tpch, v: dqo.estimator.gerelt.v2, cp: /Users/danieldubovski/projects/deep_query_optimization/dqo/estimator/gerelt/v2/logs/tpch/version_0/checkpoints/epoch=48-step=881537.ckpt ::  {\"accuracy\": 0.16666666666666666, \"balanced accuracy\": 0.07954545454545459, \"kappa\": 0.08586132177681471, \"recall\": 0.15625000000000003, \"mae\": 2.3777777777777778, \"f1 macro\": 0.12348905895434865, \"f1 weighted\": 0.13172166288463857}\n"
     ]
    },
    {
     "name": "stderr",
     "output_type": "stream",
     "text": [
      "100%|██████████| 167/167 [00:47<00:00,  3.52it/s]\n"
     ]
    },
    {
     "name": "stdout",
     "output_type": "stream",
     "text": [
      "df: imdb, v: dqo.estimator.gerelt.v2, cp: /Users/danieldubovski/projects/deep_query_optimization/dqo/estimator/gerelt/v2/logs/tpch/version_0/checkpoints/epoch=48-step=881537.ckpt ::  {\"accuracy\": 0.0718562874251497, \"balanced accuracy\": -0.022727272727272724, \"kappa\": -0.026490066225165476, \"recall\": 0.0625, \"mae\": 3.1497005988023954, \"f1 macro\": 0.04132881222664505, \"f1 weighted\": 0.047515760164765566}\n"
     ]
    },
    {
     "name": "stderr",
     "output_type": "stream",
     "text": [
      "100%|██████████| 343/343 [00:20<00:00, 17.12it/s]\n"
     ]
    },
    {
     "name": "stdout",
     "output_type": "stream",
     "text": [
      "df: tpcd, v: dqo.estimator.gerelt.v7, cp: /Users/danieldubovski/projects/deep_query_optimization/dqo/estimator/gerelt/v7/logs/tpch/version_2/checkpoints/epoch=108-step=1981946.ckpt ::  {\"accuracy\": 0.13994169096209913, \"balanced accuracy\": 0.041666666666666664, \"kappa\": 0.05212226812429166, \"recall\": 0.11538461538461539, \"mae\": 2.3527696793002915, \"f1 macro\": 0.07812799641206357, \"f1 weighted\": 0.09475582072133656}\n"
     ]
    },
    {
     "name": "stderr",
     "output_type": "stream",
     "text": [
      "100%|██████████| 270/270 [00:14<00:00, 18.94it/s]\n"
     ]
    },
    {
     "name": "stdout",
     "output_type": "stream",
     "text": [
      "df: tpch, v: dqo.estimator.gerelt.v7, cp: /Users/danieldubovski/projects/deep_query_optimization/dqo/estimator/gerelt/v7/logs/tpch/version_2/checkpoints/epoch=108-step=1981946.ckpt ::  {\"accuracy\": 0.26296296296296295, \"balanced accuracy\": 0.18939393939393945, \"kappa\": 0.19127607694391768, \"recall\": 0.2569444444444445, \"mae\": 2.0407407407407407, \"f1 macro\": 0.22484066464249394, \"f1 weighted\": 0.2207824232377078}\n"
     ]
    },
    {
     "name": "stderr",
     "output_type": "stream",
     "text": [
      "100%|██████████| 167/167 [00:17<00:00,  9.34it/s]\n"
     ]
    },
    {
     "name": "stdout",
     "output_type": "stream",
     "text": [
      "df: imdb, v: dqo.estimator.gerelt.v7, cp: /Users/danieldubovski/projects/deep_query_optimization/dqo/estimator/gerelt/v7/logs/tpch/version_2/checkpoints/epoch=108-step=1981946.ckpt ::  {\"accuracy\": 0.1317365269461078, \"balanced accuracy\": 0.034090909090909095, \"kappa\": 0.039735099337748214, \"recall\": 0.11458333333333333, \"mae\": 3.1377245508982035, \"f1 macro\": 0.07398089344840687, \"f1 weighted\": 0.08505587749756958}\n"
     ]
    },
    {
     "name": "stderr",
     "output_type": "stream",
     "text": [
      "100%|██████████| 343/343 [00:19<00:00, 17.78it/s]\n"
     ]
    },
    {
     "name": "stdout",
     "output_type": "stream",
     "text": [
      "df: tpcd, v: dqo.estimator.gerelt.v10, cp: /Users/danieldubovski/projects/deep_query_optimization/dqo/estimator/gerelt/v10/logs/tpch/version_0/checkpoints/epoch=188-step=3085598.ckpt ::  {\"accuracy\": 0.15160349854227406, \"balanced accuracy\": 0.05208333333333333, \"kappa\": 0.06475581874742309, \"recall\": 0.125, \"mae\": 2.5714285714285716, \"f1 macro\": 0.09730504372889204, \"f1 weighted\": 0.11801428044087198}\n"
     ]
    },
    {
     "name": "stderr",
     "output_type": "stream",
     "text": [
      "100%|██████████| 270/270 [00:15<00:00, 17.75it/s]\n"
     ]
    },
    {
     "name": "stdout",
     "output_type": "stream",
     "text": [
      "df: tpch, v: dqo.estimator.gerelt.v10, cp: /Users/danieldubovski/projects/deep_query_optimization/dqo/estimator/gerelt/v10/logs/tpch/version_0/checkpoints/epoch=188-step=3085598.ckpt ::  {\"accuracy\": 0.3074074074074074, \"balanced accuracy\": 0.23484848484848486, \"kappa\": 0.24004334868599297, \"recall\": 0.2986111111111111, \"mae\": 1.8407407407407408, \"f1 macro\": 0.2950075074782652, \"f1 weighted\": 0.29562705559586383}\n"
     ]
    },
    {
     "name": "stderr",
     "output_type": "stream",
     "text": [
      "100%|██████████| 167/167 [00:19<00:00,  8.77it/s]\n"
     ]
    },
    {
     "name": "stdout",
     "output_type": "stream",
     "text": [
      "df: imdb, v: dqo.estimator.gerelt.v10, cp: /Users/danieldubovski/projects/deep_query_optimization/dqo/estimator/gerelt/v10/logs/tpch/version_0/checkpoints/epoch=188-step=3085598.ckpt ::  {\"accuracy\": 0.11377245508982035, \"balanced accuracy\": 0.017045454545454548, \"kappa\": 0.02196193265007318, \"recall\": 0.09895833333333333, \"mae\": 3.07185628742515, \"f1 macro\": 0.09723672293894774, \"f1 weighted\": 0.11179311858849081}\n"
     ]
    },
    {
     "name": "stderr",
     "output_type": "stream",
     "text": [
      "100%|██████████| 343/343 [01:30<00:00,  3.78it/s]\n"
     ]
    },
    {
     "name": "stdout",
     "output_type": "stream",
     "text": [
      "df: tpcd, v: dqo.estimator.gerelt.v13, cp: /Users/danieldubovski/projects/deep_query_optimization/dqo/estimator/gerelt/v13/logs/tpch/version_0/checkpoints/epoch=79-step=1309119.ckpt ::  {\"accuracy\": 0.18658892128279883, \"balanced accuracy\": 0.08628472222222223, \"kappa\": 0.10346539755108153, \"recall\": 0.15657051282051285, \"mae\": 2.206997084548105, \"f1 macro\": 0.12848178437356966, \"f1 weighted\": 0.15060917963613543}\n"
     ]
    },
    {
     "name": "stderr",
     "output_type": "stream",
     "text": [
      "100%|██████████| 270/270 [00:56<00:00,  4.78it/s]\n"
     ]
    },
    {
     "name": "stdout",
     "output_type": "stream",
     "text": [
      "df: tpch, v: dqo.estimator.gerelt.v13, cp: /Users/danieldubovski/projects/deep_query_optimization/dqo/estimator/gerelt/v13/logs/tpch/version_0/checkpoints/epoch=79-step=1309119.ckpt ::  {\"accuracy\": 0.6444444444444445, \"balanced accuracy\": 0.6022727272727272, \"kappa\": 0.6100731112916328, \"recall\": 0.6354166666666666, \"mae\": 0.6259259259259259, \"f1 macro\": 0.6432133132616961, \"f1 weighted\": 0.6416497563680312}\n"
     ]
    },
    {
     "name": "stderr",
     "output_type": "stream",
     "text": [
      "100%|██████████| 167/167 [01:01<00:00,  2.73it/s]\n"
     ]
    },
    {
     "name": "stdout",
     "output_type": "stream",
     "text": [
      "df: imdb, v: dqo.estimator.gerelt.v13, cp: /Users/danieldubovski/projects/deep_query_optimization/dqo/estimator/gerelt/v13/logs/tpch/version_0/checkpoints/epoch=79-step=1309119.ckpt ::  {\"accuracy\": 0.12574850299401197, \"balanced accuracy\": 0.028409090909090915, \"kappa\": 0.0331125827814569, \"recall\": 0.109375, \"mae\": 2.784431137724551, \"f1 macro\": 0.0936355288637855, \"f1 weighted\": 0.10765282360387314}\n"
     ]
    },
    {
     "name": "stderr",
     "output_type": "stream",
     "text": [
      "100%|██████████| 343/343 [01:50<00:00,  3.12it/s]\n"
     ]
    },
    {
     "name": "stdout",
     "output_type": "stream",
     "text": [
      "df: tpcd, v: dqo.estimator.gerelt.v14, cp: /Users/danieldubovski/projects/deep_query_optimization/dqo/estimator/gerelt/v14/logs/tpch/version_2/checkpoints/epoch=49-step=818199.ckpt ::  {\"accuracy\": 0.1749271137026239, \"balanced accuracy\": 0.07291666666666664, \"kappa\": 0.09046699898804378, \"recall\": 0.14423076923076922, \"mae\": 2.192419825072886, \"f1 macro\": 0.11971557171187555, \"f1 weighted\": 0.14519439601207063}\n"
     ]
    },
    {
     "name": "stderr",
     "output_type": "stream",
     "text": [
      "100%|██████████| 270/270 [01:16<00:00,  3.53it/s]\n"
     ]
    },
    {
     "name": "stdout",
     "output_type": "stream",
     "text": [
      "df: tpch, v: dqo.estimator.gerelt.v14, cp: /Users/danieldubovski/projects/deep_query_optimization/dqo/estimator/gerelt/v14/logs/tpch/version_2/checkpoints/epoch=49-step=818199.ckpt ::  {\"accuracy\": 0.5962962962962963, \"balanced accuracy\": 0.553030303030303, \"kappa\": 0.5572705117790415, \"recall\": 0.5902777777777778, \"mae\": 0.7333333333333333, \"f1 macro\": 0.5998989495550179, \"f1 weighted\": 0.5954477684142413}\n"
     ]
    },
    {
     "name": "stderr",
     "output_type": "stream",
     "text": [
      "100%|██████████| 167/167 [01:13<00:00,  2.29it/s]\n"
     ]
    },
    {
     "name": "stdout",
     "output_type": "stream",
     "text": [
      "df: imdb, v: dqo.estimator.gerelt.v14, cp: /Users/danieldubovski/projects/deep_query_optimization/dqo/estimator/gerelt/v14/logs/tpch/version_2/checkpoints/epoch=49-step=818199.ckpt ::  {\"accuracy\": 0.11976047904191617, \"balanced accuracy\": 0.02272727272727274, \"kappa\": 0.027685361216730042, \"recall\": 0.10416666666666667, \"mae\": 3.029940119760479, \"f1 macro\": 0.07686555515236371, \"f1 weighted\": 0.08837237478595109}\n"
     ]
    },
    {
     "name": "stderr",
     "output_type": "stream",
     "text": [
      "100%|██████████| 343/343 [01:45<00:00,  3.25it/s]\n"
     ]
    },
    {
     "name": "stdout",
     "output_type": "stream",
     "text": [
      "df: tpcd, v: dqo.estimator.gerelt.v15, cp: /Users/danieldubovski/projects/deep_query_optimization/dqo/estimator/gerelt/v15/logs/tpch/version_1/checkpoints/epoch=149-step=2454599.ckpt ::  {\"accuracy\": 0.1924198250728863, \"balanced accuracy\": 0.09149305555555552, \"kappa\": 0.11045885646340659, \"recall\": 0.1613782051282051, \"mae\": 2.1370262390670556, \"f1 macro\": 0.14330240055862015, \"f1 weighted\": 0.1694913637400022}\n"
     ]
    },
    {
     "name": "stderr",
     "output_type": "stream",
     "text": [
      "100%|██████████| 270/270 [01:11<00:00,  3.78it/s]\n"
     ]
    },
    {
     "name": "stdout",
     "output_type": "stream",
     "text": [
      "df: tpch, v: dqo.estimator.gerelt.v15, cp: /Users/danieldubovski/projects/deep_query_optimization/dqo/estimator/gerelt/v15/logs/tpch/version_1/checkpoints/epoch=149-step=2454599.ckpt ::  {\"accuracy\": 0.6407407407407407, \"balanced accuracy\": 0.5984848484848484, \"kappa\": 0.6060113728675873, \"recall\": 0.6319444444444444, \"mae\": 0.6444444444444445, \"f1 macro\": 0.64337019531757, \"f1 weighted\": 0.6418170972276301}\n"
     ]
    },
    {
     "name": "stderr",
     "output_type": "stream",
     "text": [
      "100%|██████████| 167/167 [01:05<00:00,  2.53it/s]\n"
     ]
    },
    {
     "name": "stdout",
     "output_type": "stream",
     "text": [
      "df: imdb, v: dqo.estimator.gerelt.v15, cp: /Users/danieldubovski/projects/deep_query_optimization/dqo/estimator/gerelt/v15/logs/tpch/version_1/checkpoints/epoch=149-step=2454599.ckpt ::  {\"accuracy\": 0.11377245508982035, \"balanced accuracy\": 0.017045454545454548, \"kappa\": 0.019867549668874163, \"recall\": 0.09895833333333333, \"mae\": 2.856287425149701, \"f1 macro\": 0.07914490527393754, \"f1 weighted\": 0.09099294498560483}\n"
     ]
    },
    {
     "name": "stderr",
     "output_type": "stream",
     "text": [
      "100%|██████████| 343/343 [00:22<00:00, 15.14it/s]\n"
     ]
    },
    {
     "name": "stdout",
     "output_type": "stream",
     "text": [
      "df: tpcd, v: dqo.estimator.gerelt.v16, cp: /Users/danieldubovski/projects/deep_query_optimization/dqo/estimator/gerelt/v16/logs/tpch/version_0/checkpoints/epoch=99-step=1636399.ckpt ::  {\"accuracy\": 0.15743440233236153, \"balanced accuracy\": 0.05729166666666667, \"kappa\": 0.07162725357059219, \"recall\": 0.12980769230769232, \"mae\": 2.1690962099125364, \"f1 macro\": 0.10838546880654967, \"f1 weighted\": 0.13145293009773953}\n"
     ]
    },
    {
     "name": "stderr",
     "output_type": "stream",
     "text": [
      "100%|██████████| 270/270 [00:19<00:00, 13.97it/s]\n"
     ]
    },
    {
     "name": "stdout",
     "output_type": "stream",
     "text": [
      "df: tpch, v: dqo.estimator.gerelt.v16, cp: /Users/danieldubovski/projects/deep_query_optimization/dqo/estimator/gerelt/v16/logs/tpch/version_0/checkpoints/epoch=99-step=1636399.ckpt ::  {\"accuracy\": 0.6851851851851852, \"balanced accuracy\": 0.6553030303030303, \"kappa\": 0.6548456957227937, \"recall\": 0.6840277777777778, \"mae\": 0.5481481481481482, \"f1 macro\": 0.69063313996199, \"f1 weighted\": 0.683342015959456}\n"
     ]
    },
    {
     "name": "stderr",
     "output_type": "stream",
     "text": [
      "100%|██████████| 167/167 [00:21<00:00,  7.90it/s]"
     ]
    },
    {
     "name": "stdout",
     "output_type": "stream",
     "text": [
      "df: imdb, v: dqo.estimator.gerelt.v16, cp: /Users/danieldubovski/projects/deep_query_optimization/dqo/estimator/gerelt/v16/logs/tpch/version_0/checkpoints/epoch=99-step=1636399.ckpt ::  {\"accuracy\": 0.08982035928143713, \"balanced accuracy\": -0.005681818181818177, \"kappa\": -0.0066225165562914245, \"recall\": 0.078125, \"mae\": 3.287425149700599, \"f1 macro\": 0.07127114911126131, \"f1 weighted\": 0.08194048281055193}\n"
     ]
    },
    {
     "name": "stderr",
     "output_type": "stream",
     "text": [
      "\n"
     ]
    }
   ],
   "source": [
    "asummary_df, aresults_df = ge.compare_versions(versions=[v2, v7, v10, v13, v14, v15, v16], trained_on=['aug','all','tpch'], test_on=['tpcd', 'tpch', 'imdb'])"
   ]
  },
  {
   "cell_type": "code",
   "execution_count": 9,
   "metadata": {},
   "outputs": [],
   "source": [
    "pd.set_option('display.max_rows', 63)\n"
   ]
  },
  {
   "cell_type": "code",
   "execution_count": 11,
   "metadata": {},
   "outputs": [
    {
     "data": {
      "text/html": [
       "<div>\n",
       "<style scoped>\n",
       "    .dataframe tbody tr th:only-of-type {\n",
       "        vertical-align: middle;\n",
       "    }\n",
       "\n",
       "    .dataframe tbody tr th {\n",
       "        vertical-align: top;\n",
       "    }\n",
       "\n",
       "    .dataframe thead tr th {\n",
       "        text-align: left;\n",
       "    }\n",
       "\n",
       "    .dataframe thead tr:last-of-type th {\n",
       "        text-align: right;\n",
       "    }\n",
       "</style>\n",
       "<table border=\"1\" class=\"dataframe\">\n",
       "  <thead>\n",
       "    <tr>\n",
       "      <th></th>\n",
       "      <th></th>\n",
       "      <th colspan=\"2\" halign=\"left\">accuracy</th>\n",
       "      <th colspan=\"2\" halign=\"left\">balanced accuracy</th>\n",
       "      <th colspan=\"2\" halign=\"left\">recall</th>\n",
       "      <th colspan=\"2\" halign=\"left\">f1 weighted</th>\n",
       "      <th colspan=\"2\" halign=\"left\">mae</th>\n",
       "    </tr>\n",
       "    <tr>\n",
       "      <th></th>\n",
       "      <th></th>\n",
       "      <th>mean</th>\n",
       "      <th>median</th>\n",
       "      <th>mean</th>\n",
       "      <th>median</th>\n",
       "      <th>mean</th>\n",
       "      <th>median</th>\n",
       "      <th>mean</th>\n",
       "      <th>median</th>\n",
       "      <th>mean</th>\n",
       "      <th>median</th>\n",
       "    </tr>\n",
       "    <tr>\n",
       "      <th>trained_on</th>\n",
       "      <th>version</th>\n",
       "      <th></th>\n",
       "      <th></th>\n",
       "      <th></th>\n",
       "      <th></th>\n",
       "      <th></th>\n",
       "      <th></th>\n",
       "      <th></th>\n",
       "      <th></th>\n",
       "      <th></th>\n",
       "      <th></th>\n",
       "    </tr>\n",
       "  </thead>\n",
       "  <tbody>\n",
       "    <tr>\n",
       "      <th rowspan=\"7\" valign=\"top\">all</th>\n",
       "      <th>v10</th>\n",
       "      <td>0.190112</td>\n",
       "      <td>0.149701</td>\n",
       "      <td>0.096196</td>\n",
       "      <td>0.051136</td>\n",
       "      <td>0.169471</td>\n",
       "      <td>0.130208</td>\n",
       "      <td>0.155948</td>\n",
       "      <td>0.110131</td>\n",
       "      <td>2.602648</td>\n",
       "      <td>2.542274</td>\n",
       "    </tr>\n",
       "    <tr>\n",
       "      <th>v13</th>\n",
       "      <td>0.000000</td>\n",
       "      <td>0.000000</td>\n",
       "      <td>0.000000</td>\n",
       "      <td>0.000000</td>\n",
       "      <td>0.000000</td>\n",
       "      <td>0.000000</td>\n",
       "      <td>0.000000</td>\n",
       "      <td>0.000000</td>\n",
       "      <td>0.000000</td>\n",
       "      <td>0.000000</td>\n",
       "    </tr>\n",
       "    <tr>\n",
       "      <th>v14</th>\n",
       "      <td>0.375362</td>\n",
       "      <td>0.401198</td>\n",
       "      <td>0.306308</td>\n",
       "      <td>0.320455</td>\n",
       "      <td>0.362108</td>\n",
       "      <td>0.377083</td>\n",
       "      <td>0.349214</td>\n",
       "      <td>0.364872</td>\n",
       "      <td>1.580415</td>\n",
       "      <td>1.682635</td>\n",
       "    </tr>\n",
       "    <tr>\n",
       "      <th>v15</th>\n",
       "      <td>0.373024</td>\n",
       "      <td>0.395210</td>\n",
       "      <td>0.300011</td>\n",
       "      <td>0.319192</td>\n",
       "      <td>0.356363</td>\n",
       "      <td>0.375926</td>\n",
       "      <td>0.351563</td>\n",
       "      <td>0.362222</td>\n",
       "      <td>1.509923</td>\n",
       "      <td>1.520958</td>\n",
       "    </tr>\n",
       "    <tr>\n",
       "      <th>v16</th>\n",
       "      <td>0.385132</td>\n",
       "      <td>0.437126</td>\n",
       "      <td>0.309785</td>\n",
       "      <td>0.354545</td>\n",
       "      <td>0.365278</td>\n",
       "      <td>0.408333</td>\n",
       "      <td>0.364212</td>\n",
       "      <td>0.416666</td>\n",
       "      <td>1.493271</td>\n",
       "      <td>1.461078</td>\n",
       "    </tr>\n",
       "    <tr>\n",
       "      <th>v2</th>\n",
       "      <td>0.000000</td>\n",
       "      <td>0.000000</td>\n",
       "      <td>0.000000</td>\n",
       "      <td>0.000000</td>\n",
       "      <td>0.000000</td>\n",
       "      <td>0.000000</td>\n",
       "      <td>0.000000</td>\n",
       "      <td>0.000000</td>\n",
       "      <td>0.000000</td>\n",
       "      <td>0.000000</td>\n",
       "    </tr>\n",
       "    <tr>\n",
       "      <th>v7</th>\n",
       "      <td>0.185226</td>\n",
       "      <td>0.174927</td>\n",
       "      <td>0.089962</td>\n",
       "      <td>0.072917</td>\n",
       "      <td>0.163818</td>\n",
       "      <td>0.144231</td>\n",
       "      <td>0.156776</td>\n",
       "      <td>0.138878</td>\n",
       "      <td>2.318888</td>\n",
       "      <td>2.381924</td>\n",
       "    </tr>\n",
       "    <tr>\n",
       "      <th rowspan=\"7\" valign=\"top\">aug</th>\n",
       "      <th>v10</th>\n",
       "      <td>0.000000</td>\n",
       "      <td>0.000000</td>\n",
       "      <td>0.000000</td>\n",
       "      <td>0.000000</td>\n",
       "      <td>0.000000</td>\n",
       "      <td>0.000000</td>\n",
       "      <td>0.000000</td>\n",
       "      <td>0.000000</td>\n",
       "      <td>0.000000</td>\n",
       "      <td>0.000000</td>\n",
       "    </tr>\n",
       "    <tr>\n",
       "      <th>v13</th>\n",
       "      <td>0.000000</td>\n",
       "      <td>0.000000</td>\n",
       "      <td>0.000000</td>\n",
       "      <td>0.000000</td>\n",
       "      <td>0.000000</td>\n",
       "      <td>0.000000</td>\n",
       "      <td>0.000000</td>\n",
       "      <td>0.000000</td>\n",
       "      <td>0.000000</td>\n",
       "      <td>0.000000</td>\n",
       "    </tr>\n",
       "    <tr>\n",
       "      <th>v14</th>\n",
       "      <td>0.296802</td>\n",
       "      <td>0.287425</td>\n",
       "      <td>0.223238</td>\n",
       "      <td>0.202273</td>\n",
       "      <td>0.286004</td>\n",
       "      <td>0.268750</td>\n",
       "      <td>0.265853</td>\n",
       "      <td>0.249924</td>\n",
       "      <td>1.544832</td>\n",
       "      <td>1.682635</td>\n",
       "    </tr>\n",
       "    <tr>\n",
       "      <th>v15</th>\n",
       "      <td>0.000000</td>\n",
       "      <td>0.000000</td>\n",
       "      <td>0.000000</td>\n",
       "      <td>0.000000</td>\n",
       "      <td>0.000000</td>\n",
       "      <td>0.000000</td>\n",
       "      <td>0.000000</td>\n",
       "      <td>0.000000</td>\n",
       "      <td>0.000000</td>\n",
       "      <td>0.000000</td>\n",
       "    </tr>\n",
       "    <tr>\n",
       "      <th>v16</th>\n",
       "      <td>0.349465</td>\n",
       "      <td>0.347305</td>\n",
       "      <td>0.277599</td>\n",
       "      <td>0.273737</td>\n",
       "      <td>0.335797</td>\n",
       "      <td>0.334259</td>\n",
       "      <td>0.331092</td>\n",
       "      <td>0.333732</td>\n",
       "      <td>1.439061</td>\n",
       "      <td>1.514970</td>\n",
       "    </tr>\n",
       "    <tr>\n",
       "      <th>v2</th>\n",
       "      <td>0.000000</td>\n",
       "      <td>0.000000</td>\n",
       "      <td>0.000000</td>\n",
       "      <td>0.000000</td>\n",
       "      <td>0.000000</td>\n",
       "      <td>0.000000</td>\n",
       "      <td>0.000000</td>\n",
       "      <td>0.000000</td>\n",
       "      <td>0.000000</td>\n",
       "      <td>0.000000</td>\n",
       "    </tr>\n",
       "    <tr>\n",
       "      <th>v7</th>\n",
       "      <td>0.000000</td>\n",
       "      <td>0.000000</td>\n",
       "      <td>0.000000</td>\n",
       "      <td>0.000000</td>\n",
       "      <td>0.000000</td>\n",
       "      <td>0.000000</td>\n",
       "      <td>0.000000</td>\n",
       "      <td>0.000000</td>\n",
       "      <td>0.000000</td>\n",
       "      <td>0.000000</td>\n",
       "    </tr>\n",
       "    <tr>\n",
       "      <th rowspan=\"7\" valign=\"top\">tpch</th>\n",
       "      <th>v10</th>\n",
       "      <td>0.190928</td>\n",
       "      <td>0.151603</td>\n",
       "      <td>0.101326</td>\n",
       "      <td>0.052083</td>\n",
       "      <td>0.174190</td>\n",
       "      <td>0.125000</td>\n",
       "      <td>0.175145</td>\n",
       "      <td>0.118014</td>\n",
       "      <td>2.494675</td>\n",
       "      <td>2.571429</td>\n",
       "    </tr>\n",
       "    <tr>\n",
       "      <th>v13</th>\n",
       "      <td>0.318927</td>\n",
       "      <td>0.186589</td>\n",
       "      <td>0.238989</td>\n",
       "      <td>0.086285</td>\n",
       "      <td>0.300454</td>\n",
       "      <td>0.156571</td>\n",
       "      <td>0.299971</td>\n",
       "      <td>0.150609</td>\n",
       "      <td>1.872451</td>\n",
       "      <td>2.206997</td>\n",
       "    </tr>\n",
       "    <tr>\n",
       "      <th>v14</th>\n",
       "      <td>0.296995</td>\n",
       "      <td>0.174927</td>\n",
       "      <td>0.216225</td>\n",
       "      <td>0.072917</td>\n",
       "      <td>0.279558</td>\n",
       "      <td>0.144231</td>\n",
       "      <td>0.276338</td>\n",
       "      <td>0.145194</td>\n",
       "      <td>1.985231</td>\n",
       "      <td>2.192420</td>\n",
       "    </tr>\n",
       "    <tr>\n",
       "      <th>v15</th>\n",
       "      <td>0.315644</td>\n",
       "      <td>0.192420</td>\n",
       "      <td>0.235674</td>\n",
       "      <td>0.091493</td>\n",
       "      <td>0.297427</td>\n",
       "      <td>0.161378</td>\n",
       "      <td>0.300767</td>\n",
       "      <td>0.169491</td>\n",
       "      <td>1.879253</td>\n",
       "      <td>2.137026</td>\n",
       "    </tr>\n",
       "    <tr>\n",
       "      <th>v16</th>\n",
       "      <td>0.310813</td>\n",
       "      <td>0.157434</td>\n",
       "      <td>0.235638</td>\n",
       "      <td>0.057292</td>\n",
       "      <td>0.297320</td>\n",
       "      <td>0.129808</td>\n",
       "      <td>0.298912</td>\n",
       "      <td>0.131453</td>\n",
       "      <td>2.001557</td>\n",
       "      <td>2.169096</td>\n",
       "    </tr>\n",
       "    <tr>\n",
       "      <th>v2</th>\n",
       "      <td>0.119352</td>\n",
       "      <td>0.119534</td>\n",
       "      <td>0.026752</td>\n",
       "      <td>0.023437</td>\n",
       "      <td>0.105769</td>\n",
       "      <td>0.098558</td>\n",
       "      <td>0.083319</td>\n",
       "      <td>0.070719</td>\n",
       "      <td>2.723931</td>\n",
       "      <td>2.644315</td>\n",
       "    </tr>\n",
       "    <tr>\n",
       "      <th>v7</th>\n",
       "      <td>0.178214</td>\n",
       "      <td>0.139942</td>\n",
       "      <td>0.088384</td>\n",
       "      <td>0.041667</td>\n",
       "      <td>0.162304</td>\n",
       "      <td>0.115385</td>\n",
       "      <td>0.133531</td>\n",
       "      <td>0.094756</td>\n",
       "      <td>2.510412</td>\n",
       "      <td>2.352770</td>\n",
       "    </tr>\n",
       "  </tbody>\n",
       "</table>\n",
       "</div>"
      ],
      "text/plain": [
       "                    accuracy           balanced accuracy              recall  \\\n",
       "                        mean    median              mean    median      mean   \n",
       "trained_on version                                                             \n",
       "all        v10      0.190112  0.149701          0.096196  0.051136  0.169471   \n",
       "           v13      0.000000  0.000000          0.000000  0.000000  0.000000   \n",
       "           v14      0.375362  0.401198          0.306308  0.320455  0.362108   \n",
       "           v15      0.373024  0.395210          0.300011  0.319192  0.356363   \n",
       "           v16      0.385132  0.437126          0.309785  0.354545  0.365278   \n",
       "           v2       0.000000  0.000000          0.000000  0.000000  0.000000   \n",
       "           v7       0.185226  0.174927          0.089962  0.072917  0.163818   \n",
       "aug        v10      0.000000  0.000000          0.000000  0.000000  0.000000   \n",
       "           v13      0.000000  0.000000          0.000000  0.000000  0.000000   \n",
       "           v14      0.296802  0.287425          0.223238  0.202273  0.286004   \n",
       "           v15      0.000000  0.000000          0.000000  0.000000  0.000000   \n",
       "           v16      0.349465  0.347305          0.277599  0.273737  0.335797   \n",
       "           v2       0.000000  0.000000          0.000000  0.000000  0.000000   \n",
       "           v7       0.000000  0.000000          0.000000  0.000000  0.000000   \n",
       "tpch       v10      0.190928  0.151603          0.101326  0.052083  0.174190   \n",
       "           v13      0.318927  0.186589          0.238989  0.086285  0.300454   \n",
       "           v14      0.296995  0.174927          0.216225  0.072917  0.279558   \n",
       "           v15      0.315644  0.192420          0.235674  0.091493  0.297427   \n",
       "           v16      0.310813  0.157434          0.235638  0.057292  0.297320   \n",
       "           v2       0.119352  0.119534          0.026752  0.023437  0.105769   \n",
       "           v7       0.178214  0.139942          0.088384  0.041667  0.162304   \n",
       "\n",
       "                             f1 weighted                 mae            \n",
       "                      median        mean    median      mean    median  \n",
       "trained_on version                                                      \n",
       "all        v10      0.130208    0.155948  0.110131  2.602648  2.542274  \n",
       "           v13      0.000000    0.000000  0.000000  0.000000  0.000000  \n",
       "           v14      0.377083    0.349214  0.364872  1.580415  1.682635  \n",
       "           v15      0.375926    0.351563  0.362222  1.509923  1.520958  \n",
       "           v16      0.408333    0.364212  0.416666  1.493271  1.461078  \n",
       "           v2       0.000000    0.000000  0.000000  0.000000  0.000000  \n",
       "           v7       0.144231    0.156776  0.138878  2.318888  2.381924  \n",
       "aug        v10      0.000000    0.000000  0.000000  0.000000  0.000000  \n",
       "           v13      0.000000    0.000000  0.000000  0.000000  0.000000  \n",
       "           v14      0.268750    0.265853  0.249924  1.544832  1.682635  \n",
       "           v15      0.000000    0.000000  0.000000  0.000000  0.000000  \n",
       "           v16      0.334259    0.331092  0.333732  1.439061  1.514970  \n",
       "           v2       0.000000    0.000000  0.000000  0.000000  0.000000  \n",
       "           v7       0.000000    0.000000  0.000000  0.000000  0.000000  \n",
       "tpch       v10      0.125000    0.175145  0.118014  2.494675  2.571429  \n",
       "           v13      0.156571    0.299971  0.150609  1.872451  2.206997  \n",
       "           v14      0.144231    0.276338  0.145194  1.985231  2.192420  \n",
       "           v15      0.161378    0.300767  0.169491  1.879253  2.137026  \n",
       "           v16      0.129808    0.298912  0.131453  2.001557  2.169096  \n",
       "           v2       0.098558    0.083319  0.070719  2.723931  2.644315  \n",
       "           v7       0.115385    0.133531  0.094756  2.510412  2.352770  "
      ]
     },
     "execution_count": 11,
     "metadata": {},
     "output_type": "execute_result"
    }
   ],
   "source": [
    "asummary_df.groupby(['trained_on', 'version']).aggregate(['mean', 'median']).head(63)"
   ]
  },
  {
   "cell_type": "code",
   "execution_count": 12,
   "metadata": {},
   "outputs": [],
   "source": [
    "asummary_df.to_csv('all_summary_10_02_21.csv', index=False)"
   ]
  },
  {
   "cell_type": "markdown",
   "metadata": {},
   "source": [
    "## stratified"
   ]
  },
  {
   "cell_type": "code",
   "execution_count": null,
   "metadata": {},
   "outputs": [],
   "source": [
    "ge.compare_versions(versions=[v2, v3, v7, v10, v11, v12, v13, v14, v15, v16], trained_on=['tpch','all'], test_on=['tpcd', 'tpch', 'imdb'], bucketed=False)"
   ]
  },
  {
   "cell_type": "markdown",
   "metadata": {},
   "source": [
    "## NUMBERS VS STRINGS"
   ]
  },
  {
   "cell_type": "code",
   "execution_count": null,
   "metadata": {},
   "outputs": [],
   "source": [
    "qe = ge.QueryEstimater(\n",
    "    os.path.join(os.getcwd(), 'v7/logs/three/version_1/checkpoints/epoch=67-step=3480218.ckpt'), \n",
    "    dataset='imdb:optimized', \n",
    "    encoder=v7.encoder, \n",
    "    model_cls=v7.model.GereltRegressor\n",
    ")\n",
    "r = qe.evaluate(df=datasets.QueriesDataset('imdb:only_strings').load())\n",
    "json.dumps(ge.evaluate_metrics(r))"
   ]
  },
  {
   "cell_type": "code",
   "execution_count": null,
   "metadata": {},
   "outputs": [],
   "source": [
    "qe = ge.QueryEstimater(\n",
    "    os.path.join(os.getcwd(), 'v7/logs/three/version_1/checkpoints/epoch=67-step=3480218.ckpt'), \n",
    "    dataset='imdb:optimized', \n",
    "    encoder=v7.encoder, \n",
    "    model_cls=v7.model.GereltRegressor\n",
    ")\n",
    "r = qe.evaluate(df=datasets.QueriesDataset('imdb:only_numbers').load())\n",
    "json.dumps(ge.evaluate_metrics(r))"
   ]
  },
  {
   "cell_type": "markdown",
   "metadata": {},
   "source": [
    "## RANDOM QUERIES"
   ]
  },
  {
   "cell_type": "code",
   "execution_count": null,
   "metadata": {},
   "outputs": [],
   "source": [
    "qe.predict_query('select MIN(id) from aka_title')"
   ]
  },
  {
   "cell_type": "code",
   "execution_count": null,
   "metadata": {},
   "outputs": [],
   "source": [
    "qe.predict_query('select MIN(id) from aka_title, cast_info where aka_title.movie_id = cast_info.movie_id and aka_title.movie_id > 10')"
   ]
  },
  {
   "cell_type": "code",
   "execution_count": null,
   "metadata": {},
   "outputs": [],
   "source": [
    "qe.predict_query('select MIN(id) from aka_title, cast_info where aka_title.movie_id = cast_info.movie_id')"
   ]
  },
  {
   "cell_type": "code",
   "execution_count": null,
   "metadata": {},
   "outputs": [],
   "source": [
    "qe.predict_query('select MIN(id) from cast_info')"
   ]
  },
  {
   "cell_type": "markdown",
   "metadata": {},
   "source": [
    "# overfitting"
   ]
  },
  {
   "cell_type": "markdown",
   "metadata": {},
   "source": [
    "### bucketed"
   ]
  },
  {
   "cell_type": "code",
   "execution_count": null,
   "metadata": {},
   "outputs": [],
   "source": [
    "version_results, _ = ge.inspect_version(v16, 'all', ['tpcd','tpch','imdb', 'tpcds'])"
   ]
  },
  {
   "cell_type": "code",
   "execution_count": null,
   "metadata": {},
   "outputs": [],
   "source": [
    "version_results"
   ]
  },
  {
   "cell_type": "code",
   "execution_count": null,
   "metadata": {},
   "outputs": [],
   "source": [
    "version_results.pivot(index='epoch', columns='tested_on', values='accuracy').plot()"
   ]
  },
  {
   "cell_type": "markdown",
   "metadata": {},
   "source": [
    "### stratified"
   ]
  },
  {
   "cell_type": "code",
   "execution_count": null,
   "metadata": {},
   "outputs": [],
   "source": [
    "version_results, _ = ge.inspect_version(v16, 'all', ['tpcd','tpch','imdb', 'tpcds'], bucketed=False)"
   ]
  },
  {
   "cell_type": "code",
   "execution_count": null,
   "metadata": {},
   "outputs": [],
   "source": [
    "fig, (ax, ax2) = plt.subplots(ncols=2, sharey=True)\n",
    "\n",
    "version_results.pivot(index='epoch', columns='tested_on', values='accuracy').plot(ax=ax)\n",
    "version_results.pivot(index='epoch', columns='tested_on', values='mae').plot(ax=ax)\n",
    "\n",
    "plt.show()"
   ]
  },
  {
   "cell_type": "markdown",
   "metadata": {},
   "source": [
    "---"
   ]
  },
  {
   "cell_type": "code",
   "execution_count": null,
   "metadata": {},
   "outputs": [],
   "source": [
    "r, _ = ge.inspect_version(v14, ['tpch', 'aug','all'], ['tpcd','tpch','imdb', 'tpcds'])"
   ]
  },
  {
   "cell_type": "code",
   "execution_count": null,
   "metadata": {},
   "outputs": [],
   "source": [
    "fig, (ax, ax2) = plt.subplots(ncols=2, sharey=True)\n",
    "\n",
    "r.query('trained_on == \"tpch\"').pivot(index='epoch', columns='tested_on', values='accuracy').plot(ax=ax)\n",
    "r.query('trained_on == \"all\"').pivot(index='epoch', columns='tested_on', values='accuracy').plot(ax=ax2)\n",
    "\n",
    "plt.show()"
   ]
  },
  {
   "cell_type": "code",
   "execution_count": null,
   "metadata": {},
   "outputs": [],
   "source": [
    "r['trained_on'].count_values()"
   ]
  },
  {
   "cell_type": "code",
   "execution_count": null,
   "metadata": {},
   "outputs": [],
   "source": []
  }
 ],
 "metadata": {
  "kernelspec": {
   "display_name": "py37",
   "language": "python",
   "name": "py37"
  },
  "language_info": {
   "codemirror_mode": {
    "name": "ipython",
    "version": 3
   },
   "file_extension": ".py",
   "mimetype": "text/x-python",
   "name": "python",
   "nbconvert_exporter": "python",
   "pygments_lexer": "ipython3",
   "version": "3.7.7"
  }
 },
 "nbformat": 4,
 "nbformat_minor": 4
}
